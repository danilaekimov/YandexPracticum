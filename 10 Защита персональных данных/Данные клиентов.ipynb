{
 "cells": [
  {
   "cell_type": "markdown",
   "metadata": {
    "toc": true
   },
   "source": [
    "<h1>Содержание<span class=\"tocSkip\"></span></h1>\n",
    "<div class=\"toc\"><ul class=\"toc-item\"><li><span><a href=\"#Загрузка-данных\" data-toc-modified-id=\"Загрузка-данных-1\"><span class=\"toc-item-num\">1&nbsp;&nbsp;</span>Загрузка данных</a></span></li><li><span><a href=\"#Вывод-1\" data-toc-modified-id=\"Вывод-1-2\"><span class=\"toc-item-num\">2&nbsp;&nbsp;</span>Вывод 1</a></span></li><li><span><a href=\"#Умножение-матриц\" data-toc-modified-id=\"Умножение-матриц-3\"><span class=\"toc-item-num\">3&nbsp;&nbsp;</span>Умножение матриц</a></span></li><li><span><a href=\"#Вывод-2\" data-toc-modified-id=\"Вывод-2-4\"><span class=\"toc-item-num\">4&nbsp;&nbsp;</span>Вывод 2</a></span></li><li><span><a href=\"#Алгоритм-преобразования\" data-toc-modified-id=\"Алгоритм-преобразования-5\"><span class=\"toc-item-num\">5&nbsp;&nbsp;</span>Алгоритм преобразования</a></span></li><li><span><a href=\"#Проверка-алгоритма\" data-toc-modified-id=\"Проверка-алгоритма-6\"><span class=\"toc-item-num\">6&nbsp;&nbsp;</span>Проверка алгоритма</a></span></li><li><span><a href=\"#Общий-вывод\" data-toc-modified-id=\"Общий-вывод-7\"><span class=\"toc-item-num\">7&nbsp;&nbsp;</span>Общий вывод</a></span></li><li><span><a href=\"#Чек-лист-проверки\" data-toc-modified-id=\"Чек-лист-проверки-8\"><span class=\"toc-item-num\">8&nbsp;&nbsp;</span>Чек-лист проверки</a></span></li></ul></div>"
   ]
  },
  {
   "cell_type": "markdown",
   "metadata": {},
   "source": [
    "# Защита персональных данных клиентов"
   ]
  },
  {
   "cell_type": "markdown",
   "metadata": {},
   "source": [
    "Вам нужно защитить данные клиентов страховой компании «Хоть потоп». Разработайте такой метод преобразования данных, чтобы по ним было сложно восстановить персональную информацию. Обоснуйте корректность его работы.\n",
    "\n",
    "Нужно защитить данные, чтобы при преобразовании качество моделей машинного обучения не ухудшилось. Подбирать наилучшую модель не требуется."
   ]
  },
  {
   "cell_type": "markdown",
   "metadata": {},
   "source": [
    "# Описание данных"
   ]
  },
  {
   "cell_type": "markdown",
   "metadata": {},
   "source": [
    "Датасет с признаками: пол, возраст и зарплата застрахованного, количество членов его семьи. Целевой признак: количество страховых выплат клиенту за последние 5 лет.\n",
    "\n",
    "Задача: защитить данные клиентов страховой компании «Хоть потоп». Разработать такой метод преобразования данных, чтобы по ним было сложно восстановить персональную информацию, и при преобразовании качество моделей машинного обучения не ухудшилось.\n",
    "\n",
    "План:\n",
    "\n",
    "- Загрузка, обзор данных.\n",
    "- Проверка изменения качества линейной регрессии\n",
    "- Алгоритм преобразования данных для решения задачи"
   ]
  },
  {
   "cell_type": "markdown",
   "metadata": {},
   "source": [
    "## Загрузка данных"
   ]
  },
  {
   "cell_type": "markdown",
   "metadata": {},
   "source": [
    "Загружаю необходимые библитотеки"
   ]
  },
  {
   "cell_type": "code",
   "execution_count": 1,
   "metadata": {},
   "outputs": [],
   "source": [
    "import pandas as pd\n",
    "import numpy as np\n",
    "import seaborn as sns\n",
    "\n",
    "import warnings\n",
    "warnings.filterwarnings(\"ignore\")\n",
    "\n",
    "from sklearn.metrics import r2_score\n",
    "\n",
    "from sklearn.linear_model import LinearRegression"
   ]
  },
  {
   "cell_type": "code",
   "execution_count": 2,
   "metadata": {},
   "outputs": [],
   "source": [
    "data = pd.read_csv('/datasets/insurance.csv')"
   ]
  },
  {
   "cell_type": "code",
   "execution_count": 3,
   "metadata": {},
   "outputs": [
    {
     "data": {
      "text/html": [
       "<div>\n",
       "<style scoped>\n",
       "    .dataframe tbody tr th:only-of-type {\n",
       "        vertical-align: middle;\n",
       "    }\n",
       "\n",
       "    .dataframe tbody tr th {\n",
       "        vertical-align: top;\n",
       "    }\n",
       "\n",
       "    .dataframe thead th {\n",
       "        text-align: right;\n",
       "    }\n",
       "</style>\n",
       "<table border=\"1\" class=\"dataframe\">\n",
       "  <thead>\n",
       "    <tr style=\"text-align: right;\">\n",
       "      <th></th>\n",
       "      <th>Пол</th>\n",
       "      <th>Возраст</th>\n",
       "      <th>Зарплата</th>\n",
       "      <th>Члены семьи</th>\n",
       "      <th>Страховые выплаты</th>\n",
       "    </tr>\n",
       "  </thead>\n",
       "  <tbody>\n",
       "    <tr>\n",
       "      <th>0</th>\n",
       "      <td>1</td>\n",
       "      <td>41.0</td>\n",
       "      <td>49600.0</td>\n",
       "      <td>1</td>\n",
       "      <td>0</td>\n",
       "    </tr>\n",
       "    <tr>\n",
       "      <th>1</th>\n",
       "      <td>0</td>\n",
       "      <td>46.0</td>\n",
       "      <td>38000.0</td>\n",
       "      <td>1</td>\n",
       "      <td>1</td>\n",
       "    </tr>\n",
       "    <tr>\n",
       "      <th>2</th>\n",
       "      <td>0</td>\n",
       "      <td>29.0</td>\n",
       "      <td>21000.0</td>\n",
       "      <td>0</td>\n",
       "      <td>0</td>\n",
       "    </tr>\n",
       "    <tr>\n",
       "      <th>3</th>\n",
       "      <td>0</td>\n",
       "      <td>21.0</td>\n",
       "      <td>41700.0</td>\n",
       "      <td>2</td>\n",
       "      <td>0</td>\n",
       "    </tr>\n",
       "    <tr>\n",
       "      <th>4</th>\n",
       "      <td>1</td>\n",
       "      <td>28.0</td>\n",
       "      <td>26100.0</td>\n",
       "      <td>0</td>\n",
       "      <td>0</td>\n",
       "    </tr>\n",
       "  </tbody>\n",
       "</table>\n",
       "</div>"
      ],
      "text/plain": [
       "   Пол  Возраст  Зарплата  Члены семьи  Страховые выплаты\n",
       "0    1     41.0   49600.0            1                  0\n",
       "1    0     46.0   38000.0            1                  1\n",
       "2    0     29.0   21000.0            0                  0\n",
       "3    0     21.0   41700.0            2                  0\n",
       "4    1     28.0   26100.0            0                  0"
      ]
     },
     "execution_count": 3,
     "metadata": {},
     "output_type": "execute_result"
    }
   ],
   "source": [
    "data[:5]"
   ]
  },
  {
   "cell_type": "markdown",
   "metadata": {},
   "source": [
    "Информация о данных"
   ]
  },
  {
   "cell_type": "code",
   "execution_count": 4,
   "metadata": {},
   "outputs": [
    {
     "name": "stdout",
     "output_type": "stream",
     "text": [
      "<class 'pandas.core.frame.DataFrame'>\n",
      "RangeIndex: 5000 entries, 0 to 4999\n",
      "Data columns (total 5 columns):\n",
      " #   Column             Non-Null Count  Dtype  \n",
      "---  ------             --------------  -----  \n",
      " 0   Пол                5000 non-null   int64  \n",
      " 1   Возраст            5000 non-null   float64\n",
      " 2   Зарплата           5000 non-null   float64\n",
      " 3   Члены семьи        5000 non-null   int64  \n",
      " 4   Страховые выплаты  5000 non-null   int64  \n",
      "dtypes: float64(2), int64(3)\n",
      "memory usage: 195.4 KB\n"
     ]
    }
   ],
   "source": [
    "data.info()"
   ]
  },
  {
   "cell_type": "markdown",
   "metadata": {},
   "source": [
    "Пропуски"
   ]
  },
  {
   "cell_type": "code",
   "execution_count": 5,
   "metadata": {},
   "outputs": [
    {
     "data": {
      "text/plain": [
       "Пол                  0\n",
       "Возраст              0\n",
       "Зарплата             0\n",
       "Члены семьи          0\n",
       "Страховые выплаты    0\n",
       "dtype: int64"
      ]
     },
     "execution_count": 5,
     "metadata": {},
     "output_type": "execute_result"
    }
   ],
   "source": [
    "data.isna().sum()"
   ]
  },
  {
   "cell_type": "markdown",
   "metadata": {},
   "source": [
    "Дубликаты"
   ]
  },
  {
   "cell_type": "code",
   "execution_count": 6,
   "metadata": {},
   "outputs": [
    {
     "data": {
      "text/plain": [
       "153"
      ]
     },
     "execution_count": 6,
     "metadata": {},
     "output_type": "execute_result"
    }
   ],
   "source": [
    "data.duplicated().sum()"
   ]
  },
  {
   "cell_type": "code",
   "execution_count": 7,
   "metadata": {},
   "outputs": [
    {
     "data": {
      "text/html": [
       "<div>\n",
       "<style scoped>\n",
       "    .dataframe tbody tr th:only-of-type {\n",
       "        vertical-align: middle;\n",
       "    }\n",
       "\n",
       "    .dataframe tbody tr th {\n",
       "        vertical-align: top;\n",
       "    }\n",
       "\n",
       "    .dataframe thead th {\n",
       "        text-align: right;\n",
       "    }\n",
       "</style>\n",
       "<table border=\"1\" class=\"dataframe\">\n",
       "  <thead>\n",
       "    <tr style=\"text-align: right;\">\n",
       "      <th></th>\n",
       "      <th>Пол</th>\n",
       "      <th>Возраст</th>\n",
       "      <th>Зарплата</th>\n",
       "      <th>Члены семьи</th>\n",
       "      <th>Страховые выплаты</th>\n",
       "    </tr>\n",
       "  </thead>\n",
       "  <tbody>\n",
       "    <tr>\n",
       "      <th>count</th>\n",
       "      <td>5000.000000</td>\n",
       "      <td>5000.000000</td>\n",
       "      <td>5000.000000</td>\n",
       "      <td>5000.000000</td>\n",
       "      <td>5000.000000</td>\n",
       "    </tr>\n",
       "    <tr>\n",
       "      <th>mean</th>\n",
       "      <td>0.499000</td>\n",
       "      <td>30.952800</td>\n",
       "      <td>39916.360000</td>\n",
       "      <td>1.194200</td>\n",
       "      <td>0.148000</td>\n",
       "    </tr>\n",
       "    <tr>\n",
       "      <th>std</th>\n",
       "      <td>0.500049</td>\n",
       "      <td>8.440807</td>\n",
       "      <td>9900.083569</td>\n",
       "      <td>1.091387</td>\n",
       "      <td>0.463183</td>\n",
       "    </tr>\n",
       "    <tr>\n",
       "      <th>min</th>\n",
       "      <td>0.000000</td>\n",
       "      <td>18.000000</td>\n",
       "      <td>5300.000000</td>\n",
       "      <td>0.000000</td>\n",
       "      <td>0.000000</td>\n",
       "    </tr>\n",
       "    <tr>\n",
       "      <th>25%</th>\n",
       "      <td>0.000000</td>\n",
       "      <td>24.000000</td>\n",
       "      <td>33300.000000</td>\n",
       "      <td>0.000000</td>\n",
       "      <td>0.000000</td>\n",
       "    </tr>\n",
       "    <tr>\n",
       "      <th>50%</th>\n",
       "      <td>0.000000</td>\n",
       "      <td>30.000000</td>\n",
       "      <td>40200.000000</td>\n",
       "      <td>1.000000</td>\n",
       "      <td>0.000000</td>\n",
       "    </tr>\n",
       "    <tr>\n",
       "      <th>75%</th>\n",
       "      <td>1.000000</td>\n",
       "      <td>37.000000</td>\n",
       "      <td>46600.000000</td>\n",
       "      <td>2.000000</td>\n",
       "      <td>0.000000</td>\n",
       "    </tr>\n",
       "    <tr>\n",
       "      <th>max</th>\n",
       "      <td>1.000000</td>\n",
       "      <td>65.000000</td>\n",
       "      <td>79000.000000</td>\n",
       "      <td>6.000000</td>\n",
       "      <td>5.000000</td>\n",
       "    </tr>\n",
       "  </tbody>\n",
       "</table>\n",
       "</div>"
      ],
      "text/plain": [
       "               Пол      Возраст      Зарплата  Члены семьи  Страховые выплаты\n",
       "count  5000.000000  5000.000000   5000.000000  5000.000000        5000.000000\n",
       "mean      0.499000    30.952800  39916.360000     1.194200           0.148000\n",
       "std       0.500049     8.440807   9900.083569     1.091387           0.463183\n",
       "min       0.000000    18.000000   5300.000000     0.000000           0.000000\n",
       "25%       0.000000    24.000000  33300.000000     0.000000           0.000000\n",
       "50%       0.000000    30.000000  40200.000000     1.000000           0.000000\n",
       "75%       1.000000    37.000000  46600.000000     2.000000           0.000000\n",
       "max       1.000000    65.000000  79000.000000     6.000000           5.000000"
      ]
     },
     "execution_count": 7,
     "metadata": {},
     "output_type": "execute_result"
    }
   ],
   "source": [
    "data.describe()"
   ]
  },
  {
   "cell_type": "markdown",
   "metadata": {},
   "source": [
    "Меняю тип данных столбцов Возраст и Зарплата"
   ]
  },
  {
   "cell_type": "code",
   "execution_count": 8,
   "metadata": {},
   "outputs": [],
   "source": [
    "data['Возраст'] = data['Возраст'].astype('int')\n",
    "data['Зарплата'] = data['Зарплата'].astype('int')"
   ]
  },
  {
   "cell_type": "code",
   "execution_count": 9,
   "metadata": {},
   "outputs": [
    {
     "data": {
      "image/png": "[encoded data removed]",
      "text/plain": [
       "<Figure size 432x288 with 1 Axes>"
      ]
     },
     "metadata": {
      "needs_background": "light"
     },
     "output_type": "display_data"
    }
   ],
   "source": [
    "data['Возраст'].value_counts().plot.bar();"
   ]
  },
  {
   "cell_type": "code",
   "execution_count": 10,
   "metadata": {
    "scrolled": true
   },
   "outputs": [
    {
     "data": {
      "text/plain": [
       "45800    29\n",
       "37100    28\n",
       "41500    27\n",
       "43200    27\n",
       "38800    26\n",
       "         ..\n",
       "61200     1\n",
       "15200     1\n",
       "71600     1\n",
       "14300     1\n",
       "63200     1\n",
       "Name: Зарплата, Length: 524, dtype: int64"
      ]
     },
     "execution_count": 10,
     "metadata": {},
     "output_type": "execute_result"
    }
   ],
   "source": [
    "data['Зарплата'].value_counts()"
   ]
  },
  {
   "cell_type": "code",
   "execution_count": 11,
   "metadata": {},
   "outputs": [
    {
     "data": {
      "image/png": "[encoded data removed]",
      "text/plain": [
       "<Figure size 432x288 with 1 Axes>"
      ]
     },
     "metadata": {
      "needs_background": "light"
     },
     "output_type": "display_data"
    }
   ],
   "source": [
    "data['Страховые выплаты'].value_counts().plot.bar();"
   ]
  },
  {
   "cell_type": "markdown",
   "metadata": {},
   "source": [
    "## Вывод 1"
   ]
  },
  {
   "cell_type": "markdown",
   "metadata": {},
   "source": [
    "Пропуски отсутсвуют, дубликаты удалять не стал, так как могут быть совпадающие значения у разных клиентов\n",
    "Заменил 2 типа данных на int\n",
    "Очень хорошие данные, мужчин и женщин поровну, средний возраст 30 лет, средняя з\\п 40000, в среднем 1 ребенок в семье. Границы страхования от 18 до 65. Скорее всего представлен средний класс"
   ]
  },
  {
   "cell_type": "markdown",
   "metadata": {},
   "source": [
    "## Умножение матриц"
   ]
  },
  {
   "cell_type": "markdown",
   "metadata": {},
   "source": [
    "Обозначения:\n",
    "\n",
    "- $X$ — матрица признаков (нулевой столбец состоит из единиц)\n",
    "\n",
    "- $y$ — вектор целевого признака\n",
    "\n",
    "- $P$ — матрица, на которую умножаются признаки\n",
    "\n",
    "- $w$ — вектор весов линейной регрессии (нулевой элемент равен сдвигу)"
   ]
  },
  {
   "cell_type": "markdown",
   "metadata": {},
   "source": [
    "Предсказания:\n",
    "\n",
    "$$\n",
    "a = Xw\n",
    "$$\n",
    "\n",
    "Задача обучения:\n",
    "\n",
    "$$\n",
    "w = \\arg\\min_w MSE(Xw, y)\n",
    "$$\n",
    "\n",
    "Формула обучения:\n",
    "\n",
    "$$\n",
    "w = (X^T X)^{-1} X^T y\n",
    "$$"
   ]
  },
  {
   "cell_type": "markdown",
   "metadata": {},
   "source": [
    "**Вопрос:** Признаки умножают на обратимую матрицу. Изменится ли качество линейной регрессии?"
   ]
  },
  {
   "cell_type": "markdown",
   "metadata": {},
   "source": [
    "**Ответ:** Не изменится"
   ]
  },
  {
   "cell_type": "markdown",
   "metadata": {},
   "source": [
    "Заменим матрицу $X$ на матрицу $Z$:\n",
    "$$\n",
    "Z = XP\n",
    "$$"
   ]
  },
  {
   "cell_type": "markdown",
   "metadata": {},
   "source": [
    "где $P$ - обратимая матрица с некими значениями, на которую может быть умножена матрица $X$."
   ]
  },
  {
   "cell_type": "markdown",
   "metadata": {},
   "source": [
    "**Обоснование:**\n",
    "Заменим $X$ на $Z$ и вычислим, чему будет равено предсказание и вектор весов.\n",
    "$$\n",
    "a_1 = Zw_1\n",
    "$$\n",
    "$$\n",
    "w_1 = (Z^T Z)^{-1} Z^T y\n",
    "$$"
   ]
  },
  {
   "cell_type": "markdown",
   "metadata": {},
   "source": [
    "Подставим уравнение правую часть уравнения и получим следущее:\n",
    "$$\n",
    "a_1 = Z (Z^T Z)^{-1} Z^T y\n",
    "$$"
   ]
  },
  {
   "cell_type": "markdown",
   "metadata": {},
   "source": [
    "Заменим все $Z$ правой частью уравнения:\n",
    "$$\n",
    "a_1 = XP ((XP)^T (XP))^{-1} (XP)^T y\n",
    "$$"
   ]
  },
  {
   "cell_type": "markdown",
   "metadata": {},
   "source": [
    "Для следующего шага понадобится следующее свойсво обратной матрицы:\n",
    "$$\n",
    "(AB)^{-1} = B^{-1} A^{-1}\n",
    "$$"
   ]
  },
  {
   "cell_type": "markdown",
   "metadata": {},
   "source": [
    "Раскроем $((XP)^T (XP))^{-1}$:\n",
    "$$\n",
    "a_1 = XP ((XP)^T (XP))^{-1} (XP)^T y = XP(P^T X^T XP)^{-1} P^T X^T y\n",
    "$$"
   ]
  },
  {
   "cell_type": "markdown",
   "metadata": {},
   "source": [
    "Умножение на единичную матрицу ничего не меняет. Раскроем $(X^T P^T XP)^{-1}$:\n",
    "$$\n",
    "a_1 = XP((X^T X) P)^{-1} (P^T)^{-1} P^T X^T y\n",
    "$$\n",
    "$$\n",
    "a_1 = XP P^{-1} (X^T X)^{-1} (P^T)^{-1} P^T X^T y\n",
    "$$"
   ]
  },
  {
   "cell_type": "markdown",
   "metadata": {},
   "source": [
    "Умножение приведет к $(P^T)^{-1}  P^T = E$. Посмотрим, что осталось от уравнения\n",
    "$$\n",
    "a_1 = XP P^{-1} (X^T X)^{-1} E X^T y\n",
    "$$\n",
    "$$\n",
    "a_1 = XP P^{-1} (X^T X)^{-1} X^T y\n",
    "$$"
   ]
  },
  {
   "cell_type": "markdown",
   "metadata": {},
   "source": [
    "Полученную выше формулу можно представить ввиде $p^{-1}w $ так как w по условию $w=(X^T X)^{-1} X^T y$"
   ]
  },
  {
   "cell_type": "markdown",
   "metadata": {},
   "source": [
    "$$\n",
    "a_1 = XP(P^{-1} w)\n",
    "$$"
   ]
  },
  {
   "cell_type": "markdown",
   "metadata": {},
   "source": [
    "$$\n",
    "a_1 = Xw\n",
    "$$"
   ]
  },
  {
   "cell_type": "markdown",
   "metadata": {},
   "source": [
    "Как видно, значение предсказания $a$ не меняется, если умножать матрицу признаков на обратимую матрицу."
   ]
  },
  {
   "cell_type": "markdown",
   "metadata": {},
   "source": [
    "Выделяю признак и целевой признак"
   ]
  },
  {
   "cell_type": "code",
   "execution_count": 12,
   "metadata": {},
   "outputs": [],
   "source": [
    "features = data.drop('Страховые выплаты', axis = 1)\n",
    "target = data['Страховые выплаты']"
   ]
  },
  {
   "cell_type": "code",
   "execution_count": 13,
   "metadata": {},
   "outputs": [
    {
     "name": "stdout",
     "output_type": "stream",
     "text": [
      "            параметр w: [ 7.92580563e-03  3.57083050e-02 -1.70081903e-07 -1.35676627e-02]\n",
      "оценочные коэффициенты: [ 7.92580563e-03  3.57083050e-02 -1.70081903e-07 -1.35676627e-02]\n"
     ]
    }
   ],
   "source": [
    "#записываю формулу линейной регрессии с единичным столбцом:\n",
    "X = np.concatenate((np.ones((features.shape[0], 1)), features), axis=1) \n",
    "y = target\n",
    "w = np.linalg.inv(X.T @ X) @ X.T @ y          #вычисляю параметр w по формуле минимизации MSE\n",
    "print('            параметр w:', w[1:])\n",
    "\n",
    "model = LinearRegression()                    #назначаю модель\n",
    "model.fit(features, target)                   #обучаю модель\n",
    "print('оценочные коэффициенты:', model.coef_) #вывожу оценочные коэффициенты для линейной регрессии"
   ]
  },
  {
   "cell_type": "markdown",
   "metadata": {},
   "source": [
    "Параметр w и оценочный коэффициент полностью совпадают "
   ]
  },
  {
   "cell_type": "code",
   "execution_count": 14,
   "metadata": {},
   "outputs": [
    {
     "name": "stdout",
     "output_type": "stream",
     "text": [
      "r2 для исходных признаков: 0.42494550308169177\n",
      "r2 для измененных признаков: 0.4249455030816912\n"
     ]
    }
   ],
   "source": [
    "print('r2 для исходных признаков:', r2_score(y, model.predict(features))) #вычисляю r2 для модели\n",
    "\n",
    "random = np.random.normal(size=(4,4)) #генерирую случайную матрицу\n",
    "np.linalg.inv(random)                 #проверяю матрицу на обратимость\n",
    "features_inv = features @ random      #изменяю матрицу признаков \n",
    "lr = LinearRegression()               #назначаю модель\n",
    "lr.fit(features_inv, target)          #обучаю модель\n",
    "print('r2 для измененных признаков:', r2_score(target, lr.predict(features_inv))) #вычисляю r2 для измененных признаков"
   ]
  },
  {
   "cell_type": "markdown",
   "metadata": {},
   "source": [
    "Значение r2 совпадает с точностью до 13 знаков, так же 1<r2<0"
   ]
  },
  {
   "cell_type": "markdown",
   "metadata": {},
   "source": [
    "## Вывод 2"
   ]
  },
  {
   "cell_type": "markdown",
   "metadata": {},
   "source": [
    "Параметр w и оценочные коэффициенты, оценки r2 в исходной задаче и в преобразованной совпадают, следовательно, качество линейной регрессии не изменяется."
   ]
  },
  {
   "cell_type": "markdown",
   "metadata": {},
   "source": [
    "## Алгоритм преобразования"
   ]
  },
  {
   "cell_type": "markdown",
   "metadata": {},
   "source": [
    "**Алгоритм**\n",
    "\n",
    "Генерирую случайную квадратную матрицу random\n",
    "Умножаю матрицу признаков на случайную квадратную матрицу random и на константу PI = 3.14"
   ]
  },
  {
   "cell_type": "markdown",
   "metadata": {},
   "source": [
    "**Обоснование**\n",
    "\n",
    "Поскольку выше я изменял признаки с помощью случайной матрицы, алгоритм преобразования данных для защиты информации будет с использованием случайной матрицы и константы PI"
   ]
  },
  {
   "cell_type": "code",
   "execution_count": 15,
   "metadata": {},
   "outputs": [
    {
     "data": {
      "text/html": [
       "<div>\n",
       "<style scoped>\n",
       "    .dataframe tbody tr th:only-of-type {\n",
       "        vertical-align: middle;\n",
       "    }\n",
       "\n",
       "    .dataframe tbody tr th {\n",
       "        vertical-align: top;\n",
       "    }\n",
       "\n",
       "    .dataframe thead th {\n",
       "        text-align: right;\n",
       "    }\n",
       "</style>\n",
       "<table border=\"1\" class=\"dataframe\">\n",
       "  <thead>\n",
       "    <tr style=\"text-align: right;\">\n",
       "      <th></th>\n",
       "      <th>0</th>\n",
       "      <th>1</th>\n",
       "      <th>2</th>\n",
       "      <th>3</th>\n",
       "    </tr>\n",
       "  </thead>\n",
       "  <tbody>\n",
       "    <tr>\n",
       "      <th>0</th>\n",
       "      <td>67513.794516</td>\n",
       "      <td>102216.330882</td>\n",
       "      <td>-433861.995837</td>\n",
       "      <td>76590.928672</td>\n",
       "    </tr>\n",
       "    <tr>\n",
       "      <th>1</th>\n",
       "      <td>51659.856886</td>\n",
       "      <td>78282.950116</td>\n",
       "      <td>-332390.307065</td>\n",
       "      <td>58693.749651</td>\n",
       "    </tr>\n",
       "    <tr>\n",
       "      <th>2</th>\n",
       "      <td>28531.340744</td>\n",
       "      <td>43255.516872</td>\n",
       "      <td>-183685.858286</td>\n",
       "      <td>32440.214916</td>\n",
       "    </tr>\n",
       "    <tr>\n",
       "      <th>3</th>\n",
       "      <td>56822.655085</td>\n",
       "      <td>85960.035763</td>\n",
       "      <td>-364764.618658</td>\n",
       "      <td>64375.561620</td>\n",
       "    </tr>\n",
       "    <tr>\n",
       "      <th>4</th>\n",
       "      <td>35496.974503</td>\n",
       "      <td>53775.680061</td>\n",
       "      <td>-228300.072568</td>\n",
       "      <td>40310.789762</td>\n",
       "    </tr>\n",
       "  </tbody>\n",
       "</table>\n",
       "</div>"
      ],
      "text/plain": [
       "              0              1              2             3\n",
       "0  67513.794516  102216.330882 -433861.995837  76590.928672\n",
       "1  51659.856886   78282.950116 -332390.307065  58693.749651\n",
       "2  28531.340744   43255.516872 -183685.858286  32440.214916\n",
       "3  56822.655085   85960.035763 -364764.618658  64375.561620\n",
       "4  35496.974503   53775.680061 -228300.072568  40310.789762"
      ]
     },
     "execution_count": 15,
     "metadata": {},
     "output_type": "execute_result"
    }
   ],
   "source": [
    "PI = 3.14\n",
    "\n",
    "random = np.random.normal(size=(4,4))   #генерирую случайную матрицу\n",
    "np.linalg.inv(random)                   #проверяю матрицу на обратимость\n",
    "features_inv = features @ random * PI   #умножаю матрицу признаков на случайную  матрицу и на PI \n",
    "features_inv.head(5)"
   ]
  },
  {
   "cell_type": "code",
   "execution_count": 16,
   "metadata": {},
   "outputs": [
    {
     "name": "stdout",
     "output_type": "stream",
     "text": [
      "r2: 0.424945503081688\n"
     ]
    }
   ],
   "source": [
    "lr = LinearRegression()               #назначаю модель\n",
    "lr.fit(features_inv, target)          #обучаю модель\n",
    "print('r2:',\n",
    "      r2_score(target,\n",
    "               lr.predict(features_inv))) #вычисляю r2 для измененных признаков"
   ]
  },
  {
   "cell_type": "markdown",
   "metadata": {},
   "source": [
    "r2 на защищенных данных совпадает с r2 исходных данных, следовательно, алгоритм справляется с защитой данных"
   ]
  },
  {
   "cell_type": "markdown",
   "metadata": {},
   "source": [
    "## Проверка алгоритма"
   ]
  },
  {
   "cell_type": "code",
   "execution_count": 17,
   "metadata": {},
   "outputs": [
    {
     "name": "stdout",
     "output_type": "stream",
     "text": [
      "Исходные признаки:\n"
     ]
    },
    {
     "data": {
      "text/html": [
       "<div>\n",
       "<style scoped>\n",
       "    .dataframe tbody tr th:only-of-type {\n",
       "        vertical-align: middle;\n",
       "    }\n",
       "\n",
       "    .dataframe tbody tr th {\n",
       "        vertical-align: top;\n",
       "    }\n",
       "\n",
       "    .dataframe thead th {\n",
       "        text-align: right;\n",
       "    }\n",
       "</style>\n",
       "<table border=\"1\" class=\"dataframe\">\n",
       "  <thead>\n",
       "    <tr style=\"text-align: right;\">\n",
       "      <th></th>\n",
       "      <th>Пол</th>\n",
       "      <th>Возраст</th>\n",
       "      <th>Зарплата</th>\n",
       "      <th>Члены семьи</th>\n",
       "    </tr>\n",
       "  </thead>\n",
       "  <tbody>\n",
       "    <tr>\n",
       "      <th>0</th>\n",
       "      <td>1</td>\n",
       "      <td>41</td>\n",
       "      <td>49600</td>\n",
       "      <td>1</td>\n",
       "    </tr>\n",
       "    <tr>\n",
       "      <th>1</th>\n",
       "      <td>0</td>\n",
       "      <td>46</td>\n",
       "      <td>38000</td>\n",
       "      <td>1</td>\n",
       "    </tr>\n",
       "    <tr>\n",
       "      <th>2</th>\n",
       "      <td>0</td>\n",
       "      <td>29</td>\n",
       "      <td>21000</td>\n",
       "      <td>0</td>\n",
       "    </tr>\n",
       "    <tr>\n",
       "      <th>3</th>\n",
       "      <td>0</td>\n",
       "      <td>21</td>\n",
       "      <td>41700</td>\n",
       "      <td>2</td>\n",
       "    </tr>\n",
       "    <tr>\n",
       "      <th>4</th>\n",
       "      <td>1</td>\n",
       "      <td>28</td>\n",
       "      <td>26100</td>\n",
       "      <td>0</td>\n",
       "    </tr>\n",
       "  </tbody>\n",
       "</table>\n",
       "</div>"
      ],
      "text/plain": [
       "   Пол  Возраст  Зарплата  Члены семьи\n",
       "0    1       41     49600            1\n",
       "1    0       46     38000            1\n",
       "2    0       29     21000            0\n",
       "3    0       21     41700            2\n",
       "4    1       28     26100            0"
      ]
     },
     "metadata": {},
     "output_type": "display_data"
    },
    {
     "name": "stdout",
     "output_type": "stream",
     "text": [
      "\n",
      "Декодированные признаки:\n"
     ]
    },
    {
     "data": {
      "text/html": [
       "<div>\n",
       "<style scoped>\n",
       "    .dataframe tbody tr th:only-of-type {\n",
       "        vertical-align: middle;\n",
       "    }\n",
       "\n",
       "    .dataframe tbody tr th {\n",
       "        vertical-align: top;\n",
       "    }\n",
       "\n",
       "    .dataframe thead th {\n",
       "        text-align: right;\n",
       "    }\n",
       "</style>\n",
       "<table border=\"1\" class=\"dataframe\">\n",
       "  <thead>\n",
       "    <tr style=\"text-align: right;\">\n",
       "      <th></th>\n",
       "      <th>Пол</th>\n",
       "      <th>Возраст</th>\n",
       "      <th>Зарплата</th>\n",
       "      <th>Члены семьи</th>\n",
       "    </tr>\n",
       "  </thead>\n",
       "  <tbody>\n",
       "    <tr>\n",
       "      <th>0</th>\n",
       "      <td>1.000000e+00</td>\n",
       "      <td>41.0</td>\n",
       "      <td>49600.0</td>\n",
       "      <td>1.000000e+00</td>\n",
       "    </tr>\n",
       "    <tr>\n",
       "      <th>1</th>\n",
       "      <td>-9.788805e-12</td>\n",
       "      <td>46.0</td>\n",
       "      <td>38000.0</td>\n",
       "      <td>1.000000e+00</td>\n",
       "    </tr>\n",
       "    <tr>\n",
       "      <th>2</th>\n",
       "      <td>-1.267213e-11</td>\n",
       "      <td>29.0</td>\n",
       "      <td>21000.0</td>\n",
       "      <td>5.197295e-13</td>\n",
       "    </tr>\n",
       "    <tr>\n",
       "      <th>3</th>\n",
       "      <td>-1.203927e-11</td>\n",
       "      <td>21.0</td>\n",
       "      <td>41700.0</td>\n",
       "      <td>2.000000e+00</td>\n",
       "    </tr>\n",
       "    <tr>\n",
       "      <th>4</th>\n",
       "      <td>1.000000e+00</td>\n",
       "      <td>28.0</td>\n",
       "      <td>26100.0</td>\n",
       "      <td>2.268776e-12</td>\n",
       "    </tr>\n",
       "  </tbody>\n",
       "</table>\n",
       "</div>"
      ],
      "text/plain": [
       "            Пол  Возраст  Зарплата   Члены семьи\n",
       "0  1.000000e+00     41.0   49600.0  1.000000e+00\n",
       "1 -9.788805e-12     46.0   38000.0  1.000000e+00\n",
       "2 -1.267213e-11     29.0   21000.0  5.197295e-13\n",
       "3 -1.203927e-11     21.0   41700.0  2.000000e+00\n",
       "4  1.000000e+00     28.0   26100.0  2.268776e-12"
      ]
     },
     "metadata": {},
     "output_type": "display_data"
    }
   ],
   "source": [
    "print('Исходные признаки:')\n",
    "display(features.head(5)) #вывожу посмотреть исходные признаки\n",
    "\n",
    "print()\n",
    "\n",
    "decode = features_inv @ np.linalg.inv(random) * (1/PI)  #можно округлить и привести к целочисленному типу\n",
    "decode.columns = ['Пол', 'Возраст', 'Зарплата', 'Члены семьи'] #можно и без замены названия признаков, так как это снижает защиту данных\n",
    "print('Декодированные признаки:')\n",
    "display(decode.head(5)) #вывожу посмотреть декодированные признаки"
   ]
  },
  {
   "cell_type": "markdown",
   "metadata": {},
   "source": [
    "## Общий вывод"
   ]
  },
  {
   "cell_type": "markdown",
   "metadata": {},
   "source": [
    "От нас требовалось защитить данные клиентов страховой компании «Хоть потоп» и разработать такой метод преобразования данных, чтобы по ним было сложно восстановить персональную информацию.\n",
    "\n",
    "Для защиты информации будет с использоваться случайная матрица и константа PI. После преобразований метрики машинного обучения не изменились.\n",
    "\n",
    "Таким образом мы выполнили требования поставелнной задачи."
   ]
  }
 ],
 "metadata": {
  "ExecuteTimeLog": [
   {
    "duration": 133,
    "start_time": "2023-05-11T11:01:16.602Z"
   },
   {
    "duration": 1318,
    "start_time": "2023-05-11T11:06:14.508Z"
   },
   {
    "duration": 86,
    "start_time": "2023-05-11T11:06:16.566Z"
   },
   {
    "duration": 74,
    "start_time": "2023-05-11T11:06:17.536Z"
   },
   {
    "duration": 15,
    "start_time": "2023-05-11T11:06:26.460Z"
   },
   {
    "duration": 12,
    "start_time": "2023-05-11T11:07:31.009Z"
   },
   {
    "duration": 12,
    "start_time": "2023-05-11T11:07:35.071Z"
   },
   {
    "duration": 7,
    "start_time": "2023-05-11T11:08:11.116Z"
   },
   {
    "duration": 6,
    "start_time": "2023-05-11T11:09:09.999Z"
   },
   {
    "duration": 134,
    "start_time": "2023-05-11T11:13:54.827Z"
   },
   {
    "duration": 10,
    "start_time": "2023-05-11T11:14:27.077Z"
   },
   {
    "duration": 23,
    "start_time": "2023-05-11T11:14:37.795Z"
   },
   {
    "duration": 5,
    "start_time": "2023-05-11T11:17:18.312Z"
   },
   {
    "duration": 8,
    "start_time": "2023-05-11T11:22:40.381Z"
   },
   {
    "duration": 1054,
    "start_time": "2023-05-11T11:22:47.603Z"
   },
   {
    "duration": 447,
    "start_time": "2023-05-11T11:22:54.480Z"
   },
   {
    "duration": 6415,
    "start_time": "2023-05-11T11:23:17.111Z"
   },
   {
    "duration": 107,
    "start_time": "2023-05-11T11:23:49.434Z"
   },
   {
    "duration": 6,
    "start_time": "2023-05-11T11:30:34.931Z"
   },
   {
    "duration": 48,
    "start_time": "2023-05-11T11:31:12.570Z"
   },
   {
    "duration": 49,
    "start_time": "2023-05-11T11:53:13.585Z"
   },
   {
    "duration": 32,
    "start_time": "2023-05-11T11:53:20.966Z"
   },
   {
    "duration": 15,
    "start_time": "2023-05-11T12:02:12.446Z"
   },
   {
    "duration": 15,
    "start_time": "2023-05-11T12:02:27.137Z"
   },
   {
    "duration": 17,
    "start_time": "2023-05-11T12:08:08.160Z"
   },
   {
    "duration": 1162,
    "start_time": "2023-05-11T12:10:20.344Z"
   },
   {
    "duration": 29,
    "start_time": "2023-05-11T12:10:21.507Z"
   },
   {
    "duration": 14,
    "start_time": "2023-05-11T12:10:21.538Z"
   },
   {
    "duration": 10,
    "start_time": "2023-05-11T12:10:21.554Z"
   },
   {
    "duration": 7,
    "start_time": "2023-05-11T12:10:21.566Z"
   },
   {
    "duration": 7,
    "start_time": "2023-05-11T12:10:21.574Z"
   },
   {
    "duration": 38,
    "start_time": "2023-05-11T12:10:21.582Z"
   },
   {
    "duration": 5,
    "start_time": "2023-05-11T12:10:21.622Z"
   },
   {
    "duration": 1570,
    "start_time": "2023-05-11T12:10:21.629Z"
   },
   {
    "duration": 5698,
    "start_time": "2023-05-11T12:10:23.203Z"
   },
   {
    "duration": 101,
    "start_time": "2023-05-11T12:10:28.903Z"
   },
   {
    "duration": 12,
    "start_time": "2023-05-11T12:10:29.006Z"
   },
   {
    "duration": 21,
    "start_time": "2023-05-11T12:10:29.020Z"
   },
   {
    "duration": 279,
    "start_time": "2023-05-11T12:10:29.042Z"
   },
   {
    "duration": 260,
    "start_time": "2023-05-11T12:10:29.323Z"
   },
   {
    "duration": 35,
    "start_time": "2023-05-11T12:10:29.584Z"
   },
   {
    "duration": 126,
    "start_time": "2023-05-11T12:10:29.621Z"
   },
   {
    "duration": 1185,
    "start_time": "2023-05-11T12:14:15.687Z"
   },
   {
    "duration": 29,
    "start_time": "2023-05-11T12:14:16.874Z"
   },
   {
    "duration": 15,
    "start_time": "2023-05-11T12:14:16.904Z"
   },
   {
    "duration": 15,
    "start_time": "2023-05-11T12:14:16.921Z"
   },
   {
    "duration": 6,
    "start_time": "2023-05-11T12:14:16.939Z"
   },
   {
    "duration": 5,
    "start_time": "2023-05-11T12:14:16.946Z"
   },
   {
    "duration": 23,
    "start_time": "2023-05-11T12:14:16.953Z"
   },
   {
    "duration": 5,
    "start_time": "2023-05-11T12:14:16.977Z"
   },
   {
    "duration": 808,
    "start_time": "2023-05-11T12:14:16.983Z"
   },
   {
    "duration": 5840,
    "start_time": "2023-05-11T12:14:17.793Z"
   },
   {
    "duration": 108,
    "start_time": "2023-05-11T12:14:23.634Z"
   },
   {
    "duration": 5,
    "start_time": "2023-05-11T12:14:23.744Z"
   },
   {
    "duration": 13,
    "start_time": "2023-05-11T12:14:23.750Z"
   },
   {
    "duration": 107,
    "start_time": "2023-05-11T12:14:23.819Z"
   },
   {
    "duration": 209,
    "start_time": "2023-05-11T12:14:23.930Z"
   },
   {
    "duration": 92,
    "start_time": "2023-05-11T12:14:24.142Z"
   },
   {
    "duration": 191,
    "start_time": "2023-05-11T12:14:24.236Z"
   },
   {
    "duration": 61,
    "start_time": "2023-05-12T19:29:37.195Z"
   },
   {
    "duration": 1616,
    "start_time": "2023-05-12T19:29:59.504Z"
   },
   {
    "duration": 1639,
    "start_time": "2023-05-12T19:30:12.494Z"
   },
   {
    "duration": 97,
    "start_time": "2023-05-12T19:30:14.135Z"
   },
   {
    "duration": 13,
    "start_time": "2023-05-12T19:30:14.234Z"
   },
   {
    "duration": 11,
    "start_time": "2023-05-12T19:30:14.249Z"
   },
   {
    "duration": 7,
    "start_time": "2023-05-12T19:30:14.262Z"
   },
   {
    "duration": 7,
    "start_time": "2023-05-12T19:30:14.271Z"
   },
   {
    "duration": 33,
    "start_time": "2023-05-12T19:30:14.280Z"
   },
   {
    "duration": 5,
    "start_time": "2023-05-12T19:30:14.315Z"
   },
   {
    "duration": 442,
    "start_time": "2023-05-12T19:30:14.322Z"
   },
   {
    "duration": 163,
    "start_time": "2023-05-12T19:30:14.768Z"
   },
   {
    "duration": 0,
    "start_time": "2023-05-12T19:30:14.932Z"
   },
   {
    "duration": 0,
    "start_time": "2023-05-12T19:30:14.934Z"
   },
   {
    "duration": 0,
    "start_time": "2023-05-12T19:30:14.935Z"
   },
   {
    "duration": 0,
    "start_time": "2023-05-12T19:30:14.935Z"
   },
   {
    "duration": 0,
    "start_time": "2023-05-12T19:30:14.937Z"
   },
   {
    "duration": 0,
    "start_time": "2023-05-12T19:30:14.938Z"
   },
   {
    "duration": 0,
    "start_time": "2023-05-12T19:30:14.940Z"
   },
   {
    "duration": 24,
    "start_time": "2023-05-12T19:30:33.518Z"
   },
   {
    "duration": 422,
    "start_time": "2023-05-12T19:30:49.890Z"
   },
   {
    "duration": 8,
    "start_time": "2023-05-12T19:33:19.888Z"
   },
   {
    "duration": 8,
    "start_time": "2023-05-12T19:33:36.604Z"
   },
   {
    "duration": 6,
    "start_time": "2023-05-12T19:33:45.090Z"
   },
   {
    "duration": 8,
    "start_time": "2023-05-12T19:33:57.186Z"
   },
   {
    "duration": 1432,
    "start_time": "2023-05-12T20:03:26.139Z"
   },
   {
    "duration": 41,
    "start_time": "2023-05-12T20:03:27.573Z"
   },
   {
    "duration": 13,
    "start_time": "2023-05-12T20:03:27.616Z"
   },
   {
    "duration": 23,
    "start_time": "2023-05-12T20:03:27.630Z"
   },
   {
    "duration": 16,
    "start_time": "2023-05-12T20:03:27.656Z"
   },
   {
    "duration": 24,
    "start_time": "2023-05-12T20:03:27.674Z"
   },
   {
    "duration": 51,
    "start_time": "2023-05-12T20:03:27.699Z"
   },
   {
    "duration": 18,
    "start_time": "2023-05-12T20:03:27.751Z"
   },
   {
    "duration": 474,
    "start_time": "2023-05-12T20:03:27.772Z"
   },
   {
    "duration": 6,
    "start_time": "2023-05-12T20:03:28.249Z"
   },
   {
    "duration": 155,
    "start_time": "2023-05-12T20:03:28.257Z"
   },
   {
    "duration": 4,
    "start_time": "2023-05-12T20:03:28.414Z"
   },
   {
    "duration": 28,
    "start_time": "2023-05-12T20:03:28.419Z"
   },
   {
    "duration": 293,
    "start_time": "2023-05-12T20:03:28.506Z"
   },
   {
    "duration": 109,
    "start_time": "2023-05-12T20:03:28.807Z"
   },
   {
    "duration": 101,
    "start_time": "2023-05-12T20:03:28.923Z"
   },
   {
    "duration": 206,
    "start_time": "2023-05-12T20:03:29.027Z"
   },
   {
    "duration": 90,
    "start_time": "2023-05-14T10:18:55.992Z"
   }
  ],
  "kernelspec": {
   "display_name": "Python 3 (ipykernel)",
   "language": "python",
   "name": "python3"
  },
  "language_info": {
   "codemirror_mode": {
    "name": "ipython",
    "version": 3
   },
   "file_extension": ".py",
   "mimetype": "text/x-python",
   "name": "python",
   "nbconvert_exporter": "python",
   "pygments_lexer": "ipython3",
   "version": "3.9.12"
  },
  "toc": {
   "base_numbering": 1,
   "nav_menu": {},
   "number_sections": true,
   "sideBar": true,
   "skip_h1_title": true,
   "title_cell": "Содержание",
   "title_sidebar": "Contents",
   "toc_cell": true,
   "toc_position": {
    "height": "calc(100% - 180px)",
    "left": "10px",
    "top": "150px",
    "width": "165px"
   },
   "toc_section_display": true,
   "toc_window_display": true
  }
 },
 "nbformat": 4,
 "nbformat_minor": 2
}
