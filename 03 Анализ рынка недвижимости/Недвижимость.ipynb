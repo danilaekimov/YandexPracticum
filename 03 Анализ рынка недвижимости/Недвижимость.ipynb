{
 "cells": [
  {
   "cell_type": "markdown",
   "metadata": {
    "toc": true
   },
   "source": [
    "<h1>Содержание<span class=\"tocSkip\"></span></h1>\n",
    "<div class=\"toc\"><ul class=\"toc-item\"><li><span><a href=\"#Получение-общей-информации.\" data-toc-modified-id=\"Получение-общей-информации.-1\"><span class=\"toc-item-num\">1&nbsp;&nbsp;</span>Получение общей информации.</a></span></li><li><span><a href=\"#Предобработка-данных\" data-toc-modified-id=\"Предобработка-данных-2\"><span class=\"toc-item-num\">2&nbsp;&nbsp;</span>Предобработка данных</a></span></li><li><span><a href=\"#Замена-типа-данных\" data-toc-modified-id=\"Замена-типа-данных-3\"><span class=\"toc-item-num\">3&nbsp;&nbsp;</span>Замена типа данных</a></span></li><li><span><a href=\"#Расчеты-и-добавление-данных-в-таблицу\" data-toc-modified-id=\"Расчеты-и-добавление-данных-в-таблицу-4\"><span class=\"toc-item-num\">4&nbsp;&nbsp;</span>Расчеты и добавление данных в таблицу</a></span></li><li><span><a href=\"#Изучение-и-описание-параметров\" data-toc-modified-id=\"Изучение-и-описание-параметров-5\"><span class=\"toc-item-num\">5&nbsp;&nbsp;</span>Изучение и описание параметров</a></span></li><li><span><a href=\"#Как-быстро-продавались-квартиры\" data-toc-modified-id=\"Как-быстро-продавались-квартиры-6\"><span class=\"toc-item-num\">6&nbsp;&nbsp;</span>Как быстро продавались квартиры</a></span></li><li><span><a href=\"#Какие-факторы-влияют-на-цену\" data-toc-modified-id=\"Какие-факторы-влияют-на-цену-7\"><span class=\"toc-item-num\">7&nbsp;&nbsp;</span>Какие факторы влияют на цену</a></span></li><li><span><a href=\"#Средняя-цена-в-10-населенных-пунктах\" data-toc-modified-id=\"Средняя-цена-в-10-населенных-пунктах-8\"><span class=\"toc-item-num\">8&nbsp;&nbsp;</span>Средняя цена в 10 населенных пунктах</a></span></li><li><span><a href=\"#Цена-и-расстояние-до-центра\" data-toc-modified-id=\"Цена-и-расстояние-до-центра-9\"><span class=\"toc-item-num\">9&nbsp;&nbsp;</span>Цена и расстояние до центра</a></span></li><li><span><a href=\"#Общий-вывод\" data-toc-modified-id=\"Общий-вывод-10\"><span class=\"toc-item-num\">10&nbsp;&nbsp;</span>Общий вывод</a></span></li></ul></div>"
   ]
  },
  {
   "cell_type": "markdown",
   "metadata": {},
   "source": [
    "# Исследование объявлений о продаже квартир\n",
    "\n",
    "В вашем распоряжении данные сервиса Яндекс.Недвижимость — архив объявлений о продаже квартир в Санкт-Петербурге и соседних населённых пунктов за несколько лет. Нужно научиться определять рыночную стоимость объектов недвижимости. Ваша задача — установить параметры. Это позволит построить автоматизированную систему: она отследит аномалии и мошенническую деятельность. \n",
    "\n",
    "По каждой квартире на продажу доступны два вида данных. Первые вписаны пользователем, вторые — получены автоматически на основе картографических данных. Например, расстояние до центра, аэропорта, ближайшего парка и водоёма. "
   ]
  },
  {
   "cell_type": "markdown",
   "metadata": {},
   "source": [
    "Конечная цель моего исследования: узнать, какие параметры квартиры влияют на ее конечную цену"
   ]
  },
  {
   "cell_type": "markdown",
   "metadata": {},
   "source": [
    "Таким образом, исследование пройдёт в три этапа:\n",
    "\n",
    "Обзор данных.\n",
    "\n",
    "Предобработка данных.\n",
    "\n",
    "Расчет дополнительных параметров, необходимых для исследования\n",
    "\n",
    "• цены квадратного метра;\n",
    "\n",
    "• день недели, месяц и год публикации объявления;\n",
    "\n",
    "• этаж квартиры: варианты — первый, последний, другой;\n",
    "\n",
    "Исследовательский анализ данных. Зависимость цены квартиры :\n",
    "\n",
    "• от площади, числа комнат, удалённости от центра\n",
    "\n",
    "• от того, каком этаже расположена квартира: первом, последнем или другом.\n",
    "\n",
    "• от даты размещения: дня недели, месяца и года."
   ]
  },
  {
   "cell_type": "markdown",
   "metadata": {},
   "source": []
  },
  {
   "cell_type": "markdown",
   "metadata": {},
   "source": [
    "### Получение общей информации. "
   ]
  },
  {
   "cell_type": "markdown",
   "metadata": {},
   "source": [
    "Открываю файл"
   ]
  },
  {
   "cell_type": "code",
   "execution_count": 1,
   "metadata": {},
   "outputs": [],
   "source": [
    "import pandas as pd\n",
    "import matplotlib.pyplot as plt\n",
    "import warnings\n",
    "warnings.filterwarnings('ignore')\n",
    "\n",
    "data = pd.read_csv('/datasets/real_estate_data.csv', sep='\\t')"
   ]
  },
  {
   "cell_type": "markdown",
   "metadata": {},
   "source": [
    "Общая информация"
   ]
  },
  {
   "cell_type": "code",
   "execution_count": 2,
   "metadata": {},
   "outputs": [
    {
     "name": "stdout",
     "output_type": "stream",
     "text": [
      "<class 'pandas.core.frame.DataFrame'>\n",
      "RangeIndex: 23699 entries, 0 to 23698\n",
      "Data columns (total 22 columns):\n",
      " #   Column                Non-Null Count  Dtype  \n",
      "---  ------                --------------  -----  \n",
      " 0   total_images          23699 non-null  int64  \n",
      " 1   last_price            23699 non-null  float64\n",
      " 2   total_area            23699 non-null  float64\n",
      " 3   first_day_exposition  23699 non-null  object \n",
      " 4   rooms                 23699 non-null  int64  \n",
      " 5   ceiling_height        14504 non-null  float64\n",
      " 6   floors_total          23613 non-null  float64\n",
      " 7   living_area           21796 non-null  float64\n",
      " 8   floor                 23699 non-null  int64  \n",
      " 9   is_apartment          2775 non-null   object \n",
      " 10  studio                23699 non-null  bool   \n",
      " 11  open_plan             23699 non-null  bool   \n",
      " 12  kitchen_area          21421 non-null  float64\n",
      " 13  balcony               12180 non-null  float64\n",
      " 14  locality_name         23650 non-null  object \n",
      " 15  airports_nearest      18157 non-null  float64\n",
      " 16  cityCenters_nearest   18180 non-null  float64\n",
      " 17  parks_around3000      18181 non-null  float64\n",
      " 18  parks_nearest         8079 non-null   float64\n",
      " 19  ponds_around3000      18181 non-null  float64\n",
      " 20  ponds_nearest         9110 non-null   float64\n",
      " 21  days_exposition       20518 non-null  float64\n",
      "dtypes: bool(2), float64(14), int64(3), object(3)\n",
      "memory usage: 3.7+ MB\n"
     ]
    }
   ],
   "source": [
    "data.info()"
   ]
  },
  {
   "cell_type": "code",
   "execution_count": 3,
   "metadata": {},
   "outputs": [
    {
     "data": {
      "text/html": [
       "<div>\n",
       "<style scoped>\n",
       "    .dataframe tbody tr th:only-of-type {\n",
       "        vertical-align: middle;\n",
       "    }\n",
       "\n",
       "    .dataframe tbody tr th {\n",
       "        vertical-align: top;\n",
       "    }\n",
       "\n",
       "    .dataframe thead th {\n",
       "        text-align: right;\n",
       "    }\n",
       "</style>\n",
       "<table border=\"1\" class=\"dataframe\">\n",
       "  <thead>\n",
       "    <tr style=\"text-align: right;\">\n",
       "      <th></th>\n",
       "      <th>total_images</th>\n",
       "      <th>last_price</th>\n",
       "      <th>total_area</th>\n",
       "      <th>first_day_exposition</th>\n",
       "      <th>rooms</th>\n",
       "      <th>ceiling_height</th>\n",
       "      <th>floors_total</th>\n",
       "      <th>living_area</th>\n",
       "      <th>floor</th>\n",
       "      <th>is_apartment</th>\n",
       "      <th>...</th>\n",
       "      <th>kitchen_area</th>\n",
       "      <th>balcony</th>\n",
       "      <th>locality_name</th>\n",
       "      <th>airports_nearest</th>\n",
       "      <th>cityCenters_nearest</th>\n",
       "      <th>parks_around3000</th>\n",
       "      <th>parks_nearest</th>\n",
       "      <th>ponds_around3000</th>\n",
       "      <th>ponds_nearest</th>\n",
       "      <th>days_exposition</th>\n",
       "    </tr>\n",
       "  </thead>\n",
       "  <tbody>\n",
       "    <tr>\n",
       "      <th>0</th>\n",
       "      <td>20</td>\n",
       "      <td>13000000.0</td>\n",
       "      <td>108.0</td>\n",
       "      <td>2019-03-07T00:00:00</td>\n",
       "      <td>3</td>\n",
       "      <td>2.70</td>\n",
       "      <td>16.0</td>\n",
       "      <td>51.0</td>\n",
       "      <td>8</td>\n",
       "      <td>NaN</td>\n",
       "      <td>...</td>\n",
       "      <td>25.0</td>\n",
       "      <td>NaN</td>\n",
       "      <td>Санкт-Петербург</td>\n",
       "      <td>18863.0</td>\n",
       "      <td>16028.0</td>\n",
       "      <td>1.0</td>\n",
       "      <td>482.0</td>\n",
       "      <td>2.0</td>\n",
       "      <td>755.0</td>\n",
       "      <td>NaN</td>\n",
       "    </tr>\n",
       "    <tr>\n",
       "      <th>1</th>\n",
       "      <td>7</td>\n",
       "      <td>3350000.0</td>\n",
       "      <td>40.4</td>\n",
       "      <td>2018-12-04T00:00:00</td>\n",
       "      <td>1</td>\n",
       "      <td>NaN</td>\n",
       "      <td>11.0</td>\n",
       "      <td>18.6</td>\n",
       "      <td>1</td>\n",
       "      <td>NaN</td>\n",
       "      <td>...</td>\n",
       "      <td>11.0</td>\n",
       "      <td>2.0</td>\n",
       "      <td>посёлок Шушары</td>\n",
       "      <td>12817.0</td>\n",
       "      <td>18603.0</td>\n",
       "      <td>0.0</td>\n",
       "      <td>NaN</td>\n",
       "      <td>0.0</td>\n",
       "      <td>NaN</td>\n",
       "      <td>81.0</td>\n",
       "    </tr>\n",
       "    <tr>\n",
       "      <th>2</th>\n",
       "      <td>10</td>\n",
       "      <td>5196000.0</td>\n",
       "      <td>56.0</td>\n",
       "      <td>2015-08-20T00:00:00</td>\n",
       "      <td>2</td>\n",
       "      <td>NaN</td>\n",
       "      <td>5.0</td>\n",
       "      <td>34.3</td>\n",
       "      <td>4</td>\n",
       "      <td>NaN</td>\n",
       "      <td>...</td>\n",
       "      <td>8.3</td>\n",
       "      <td>0.0</td>\n",
       "      <td>Санкт-Петербург</td>\n",
       "      <td>21741.0</td>\n",
       "      <td>13933.0</td>\n",
       "      <td>1.0</td>\n",
       "      <td>90.0</td>\n",
       "      <td>2.0</td>\n",
       "      <td>574.0</td>\n",
       "      <td>558.0</td>\n",
       "    </tr>\n",
       "    <tr>\n",
       "      <th>3</th>\n",
       "      <td>0</td>\n",
       "      <td>64900000.0</td>\n",
       "      <td>159.0</td>\n",
       "      <td>2015-07-24T00:00:00</td>\n",
       "      <td>3</td>\n",
       "      <td>NaN</td>\n",
       "      <td>14.0</td>\n",
       "      <td>NaN</td>\n",
       "      <td>9</td>\n",
       "      <td>NaN</td>\n",
       "      <td>...</td>\n",
       "      <td>NaN</td>\n",
       "      <td>0.0</td>\n",
       "      <td>Санкт-Петербург</td>\n",
       "      <td>28098.0</td>\n",
       "      <td>6800.0</td>\n",
       "      <td>2.0</td>\n",
       "      <td>84.0</td>\n",
       "      <td>3.0</td>\n",
       "      <td>234.0</td>\n",
       "      <td>424.0</td>\n",
       "    </tr>\n",
       "    <tr>\n",
       "      <th>4</th>\n",
       "      <td>2</td>\n",
       "      <td>10000000.0</td>\n",
       "      <td>100.0</td>\n",
       "      <td>2018-06-19T00:00:00</td>\n",
       "      <td>2</td>\n",
       "      <td>3.03</td>\n",
       "      <td>14.0</td>\n",
       "      <td>32.0</td>\n",
       "      <td>13</td>\n",
       "      <td>NaN</td>\n",
       "      <td>...</td>\n",
       "      <td>41.0</td>\n",
       "      <td>NaN</td>\n",
       "      <td>Санкт-Петербург</td>\n",
       "      <td>31856.0</td>\n",
       "      <td>8098.0</td>\n",
       "      <td>2.0</td>\n",
       "      <td>112.0</td>\n",
       "      <td>1.0</td>\n",
       "      <td>48.0</td>\n",
       "      <td>121.0</td>\n",
       "    </tr>\n",
       "  </tbody>\n",
       "</table>\n",
       "<p>5 rows × 22 columns</p>\n",
       "</div>"
      ],
      "text/plain": [
       "   total_images  last_price  total_area first_day_exposition  rooms  \\\n",
       "0            20  13000000.0       108.0  2019-03-07T00:00:00      3   \n",
       "1             7   3350000.0        40.4  2018-12-04T00:00:00      1   \n",
       "2            10   5196000.0        56.0  2015-08-20T00:00:00      2   \n",
       "3             0  64900000.0       159.0  2015-07-24T00:00:00      3   \n",
       "4             2  10000000.0       100.0  2018-06-19T00:00:00      2   \n",
       "\n",
       "   ceiling_height  floors_total  living_area  floor is_apartment  ...  \\\n",
       "0            2.70          16.0         51.0      8          NaN  ...   \n",
       "1             NaN          11.0         18.6      1          NaN  ...   \n",
       "2             NaN           5.0         34.3      4          NaN  ...   \n",
       "3             NaN          14.0          NaN      9          NaN  ...   \n",
       "4            3.03          14.0         32.0     13          NaN  ...   \n",
       "\n",
       "   kitchen_area  balcony    locality_name  airports_nearest  \\\n",
       "0          25.0      NaN  Санкт-Петербург           18863.0   \n",
       "1          11.0      2.0   посёлок Шушары           12817.0   \n",
       "2           8.3      0.0  Санкт-Петербург           21741.0   \n",
       "3           NaN      0.0  Санкт-Петербург           28098.0   \n",
       "4          41.0      NaN  Санкт-Петербург           31856.0   \n",
       "\n",
       "  cityCenters_nearest  parks_around3000  parks_nearest  ponds_around3000  \\\n",
       "0             16028.0               1.0          482.0               2.0   \n",
       "1             18603.0               0.0            NaN               0.0   \n",
       "2             13933.0               1.0           90.0               2.0   \n",
       "3              6800.0               2.0           84.0               3.0   \n",
       "4              8098.0               2.0          112.0               1.0   \n",
       "\n",
       "   ponds_nearest  days_exposition  \n",
       "0          755.0              NaN  \n",
       "1            NaN             81.0  \n",
       "2          574.0            558.0  \n",
       "3          234.0            424.0  \n",
       "4           48.0            121.0  \n",
       "\n",
       "[5 rows x 22 columns]"
      ]
     },
     "execution_count": 3,
     "metadata": {},
     "output_type": "execute_result"
    }
   ],
   "source": [
    "data.head()"
   ]
  },
  {
   "cell_type": "markdown",
   "metadata": {},
   "source": [
    "При первичном осмотре видно:\n",
    "\n",
    "в формат int из формата float:\n",
    "\n",
    "- last_price\n",
    "- floors_total\n",
    "- balcony\n",
    "- parks_around3000\n",
    "- parks_nearest\n",
    "- ponds_around3000\n",
    "- ponds_nearest\n",
    "- airports_nearest\n",
    "- cityCenters_nearest\n",
    "- days_exposition\n",
    "\n",
    "в формат bool из формата object:\n",
    "\n",
    "- is_apartment\n",
    "\n",
    "в формат даты\n",
    "\n",
    "- first_day_exposition object\n",
    "\n",
    "в названии колонок 'parks_around3000, 'ponds_around3000', 'cityCenters_nearest' присутствует нарушение стиля:\n",
    "\n",
    "не соблюден snake case,\n",
    "присутствуют прописные буквы."
   ]
  },
  {
   "cell_type": "code",
   "execution_count": 4,
   "metadata": {},
   "outputs": [
    {
     "data": {
      "image/png": "[encoded data removed]",
      "text/plain": [
       "<Figure size 1080x1440 with 20 Axes>"
      ]
     },
     "metadata": {
      "needs_background": "light"
     },
     "output_type": "display_data"
    }
   ],
   "source": [
    "data.hist(figsize=(15, 20));"
   ]
  },
  {
   "cell_type": "markdown",
   "metadata": {},
   "source": [
    "В каждой строке таблицы — данные о конкретной квартире, выставленной на продажу. По каждой квартире доступны два вида данных. Первые вписаны пользователем, вторые — получены автоматически на основе картографических данных. Например, расстояние до центра, аэропорта, ближайшего парка и водоёма.\n",
    "\n",
    "Предварительно можно утверждать, что, данных достаточно для проверки гипотез. Но данные, скорее всего, взяты из разных источников, что является результатом пропусков значений в некоторых столбцах, а также предположительны ошибки при выгрузке и из-за некорректного заполнения первоисточников исполнителем.\n",
    "\n",
    "Для корректного анализа попытаемся устранить выявленные ошибки, для чего проведем более подробную проверку каждого столбца в следующем разделе."
   ]
  },
  {
   "cell_type": "markdown",
   "metadata": {},
   "source": []
  },
  {
   "cell_type": "markdown",
   "metadata": {},
   "source": [
    "### Предобработка данных"
   ]
  },
  {
   "cell_type": "code",
   "execution_count": 5,
   "metadata": {},
   "outputs": [
    {
     "data": {
      "text/plain": [
       "Index(['total_images', 'last_price', 'total_area', 'first_day_exposition',\n",
       "       'rooms', 'ceiling_height', 'floors_total', 'living_area', 'floor',\n",
       "       'is_apartment', 'studio', 'open_plan', 'kitchen_area', 'balcony',\n",
       "       'locality_name', 'airports_nearest', 'city_centers_nearest',\n",
       "       'parks_around_3000', 'parks_nearest', 'ponds_around_3000',\n",
       "       'ponds_nearest', 'days_exposition'],\n",
       "      dtype='object')"
      ]
     },
     "execution_count": 5,
     "metadata": {},
     "output_type": "execute_result"
    }
   ],
   "source": [
    "#переименование колонок (исправление стиля)\n",
    "data = data.rename(\n",
    "    columns={'parks_around3000':'parks_around_3000', \n",
    "             'ponds_around3000':'ponds_around_3000', \n",
    "             'cityCenters_nearest':'city_centers_nearest'}\n",
    ")\n",
    "\n",
    "#проверяем внесение изменений:\n",
    "data.columns"
   ]
  },
  {
   "cell_type": "markdown",
   "metadata": {},
   "source": [
    "Для наглядности создаю словарь словарь с наименованием и описанием столбцов датафрейма и функцию с вызовом основных характеристик столбца:"
   ]
  },
  {
   "cell_type": "code",
   "execution_count": 6,
   "metadata": {},
   "outputs": [],
   "source": [
    "# словарь с описанием столбцов\n",
    "dict_data ={\n",
    "    'airports_nearest':'расстояние до ближайшего аэропорта в метрах (м)',\n",
    "    'balcony': 'число балконов',\n",
    "    'ceiling_height': 'высота потолков (м)',\n",
    "    'city_centers_nearest': 'расстояние до центра города (м)',\n",
    "    'days_exposition': 'сколько дней было размещено объявление (от публикации до снятия)',\n",
    "    'first_day_exposition': 'дата публикации',\n",
    "    'floor': 'этаж',\n",
    "    'floors_total': 'всего этажей в доме',\n",
    "    'is_apartment': 'апартаменты (булев тип)',\n",
    "    'kitchen_area': 'площадь кухни в квадратных метрах (м²)',\n",
    "    'last_price': 'цена на момент снятия с публикации',\n",
    "    'living_area': 'жилая площадь в квадратных метрах (м²)',\n",
    "    'locality_name': 'название населённого пункта',\n",
    "    'parks_around_3000':'число парков в радиусе 3 км',\n",
    "    'parks_nearest': 'расстояние до ближайшего парка (м)',\n",
    "    'ponds_around_3000': 'число водоёмов в радиусе 3 км',\n",
    "    'ponds_nearest': 'расстояние до ближайшего водоёма (м)',\n",
    "    'rooms': 'число комнат',\n",
    "    'studio': 'квартира-студия (булев тип)',\n",
    "    'total_area': 'площадь квартиры в квадратных метрах (м²)',\n",
    "    'total_images': 'число фотографий квартиры в объявлении'\n",
    "}\n",
    "\n",
    "#словарь со значениями \n",
    "dict_name = pd.Series(dict_data)"
   ]
  },
  {
   "cell_type": "code",
   "execution_count": 7,
   "metadata": {},
   "outputs": [],
   "source": [
    "#просмотр данных столбца: уникальные значения, тип данных, кол-во пропусков\n",
    "def cheking(column):\n",
    "    print(column, '-', dict_name[column])\n",
    "    print('тип данных', data[column].dtypes)\n",
    "    print('количество пропусков',data[column].isna().sum())\n",
    "    if data[column].dtypes != 'object':\n",
    "        print('минимальное значение:',data[column].min(), 'максимальное значение:', data[column].max() )\n",
    "    print('уникальные значения:', '\\n', data[column].value_counts())"
   ]
  },
  {
   "cell_type": "markdown",
   "metadata": {},
   "source": [
    "Так же для удобства, прописываю еще 1 функцию, которая заполняет:\n",
    "- медианой, сгруппированной по другому столбцу"
   ]
  },
  {
   "cell_type": "code",
   "execution_count": 8,
   "metadata": {},
   "outputs": [],
   "source": [
    "# Функция для заполнения пропусков столбца датафрейма медианой, сгруппированной по столбцу: \n",
    "#col_na -столбец с пропусками, col_group - столбец для группировки.\n",
    "def filling_median_group (col_na, col_group):\n",
    "    print('1.пропуски до изменений: ', data[col_na].isna().sum())\n",
    "    for value in data[col_group].unique():\n",
    "        median_col_group = data.loc[data[col_group]==value, col_na].median()\n",
    "        data.loc[(data[col_na].isna()) & (data[col_group]==value), col_na] = median_col_group\n",
    "    print('2.пропуски после изменений: ', data[col_na].isna().sum())"
   ]
  },
  {
   "cell_type": "markdown",
   "metadata": {},
   "source": [
    "Столбец **Last_price**"
   ]
  },
  {
   "cell_type": "code",
   "execution_count": 9,
   "metadata": {
    "scrolled": false
   },
   "outputs": [
    {
     "name": "stdout",
     "output_type": "stream",
     "text": [
      "last_price - цена на момент снятия с публикации\n",
      "тип данных float64\n",
      "количество пропусков 0\n",
      "минимальное значение: 12190.0 максимальное значение: 763000000.0\n",
      "уникальные значения: \n",
      " 4500000.0     342\n",
      "3500000.0     291\n",
      "4000000.0     260\n",
      "4300000.0     260\n",
      "4200000.0     259\n",
      "             ... \n",
      "10430000.0      1\n",
      "9917600.0       1\n",
      "3180500.0       1\n",
      "7297000.0       1\n",
      "4386000.0       1\n",
      "Name: last_price, Length: 2978, dtype: int64\n"
     ]
    },
    {
     "data": {
      "text/html": [
       "<div>\n",
       "<style scoped>\n",
       "    .dataframe tbody tr th:only-of-type {\n",
       "        vertical-align: middle;\n",
       "    }\n",
       "\n",
       "    .dataframe tbody tr th {\n",
       "        vertical-align: top;\n",
       "    }\n",
       "\n",
       "    .dataframe thead th {\n",
       "        text-align: right;\n",
       "    }\n",
       "</style>\n",
       "<table border=\"1\" class=\"dataframe\">\n",
       "  <thead>\n",
       "    <tr style=\"text-align: right;\">\n",
       "      <th></th>\n",
       "      <th>total_images</th>\n",
       "      <th>last_price</th>\n",
       "      <th>total_area</th>\n",
       "      <th>first_day_exposition</th>\n",
       "      <th>rooms</th>\n",
       "      <th>ceiling_height</th>\n",
       "      <th>floors_total</th>\n",
       "      <th>living_area</th>\n",
       "      <th>floor</th>\n",
       "      <th>is_apartment</th>\n",
       "      <th>...</th>\n",
       "      <th>kitchen_area</th>\n",
       "      <th>balcony</th>\n",
       "      <th>locality_name</th>\n",
       "      <th>airports_nearest</th>\n",
       "      <th>city_centers_nearest</th>\n",
       "      <th>parks_around_3000</th>\n",
       "      <th>parks_nearest</th>\n",
       "      <th>ponds_around_3000</th>\n",
       "      <th>ponds_nearest</th>\n",
       "      <th>days_exposition</th>\n",
       "    </tr>\n",
       "  </thead>\n",
       "  <tbody>\n",
       "    <tr>\n",
       "      <th>8793</th>\n",
       "      <td>7</td>\n",
       "      <td>12190.0</td>\n",
       "      <td>109.0</td>\n",
       "      <td>2019-03-20T00:00:00</td>\n",
       "      <td>2</td>\n",
       "      <td>2.75</td>\n",
       "      <td>25.0</td>\n",
       "      <td>32.0</td>\n",
       "      <td>25</td>\n",
       "      <td>NaN</td>\n",
       "      <td>...</td>\n",
       "      <td>40.5</td>\n",
       "      <td>NaN</td>\n",
       "      <td>Санкт-Петербург</td>\n",
       "      <td>36421.0</td>\n",
       "      <td>9176.0</td>\n",
       "      <td>1.0</td>\n",
       "      <td>805.0</td>\n",
       "      <td>0.0</td>\n",
       "      <td>NaN</td>\n",
       "      <td>8.0</td>\n",
       "    </tr>\n",
       "  </tbody>\n",
       "</table>\n",
       "<p>1 rows × 22 columns</p>\n",
       "</div>"
      ],
      "text/plain": [
       "      total_images  last_price  total_area first_day_exposition  rooms  \\\n",
       "8793             7     12190.0       109.0  2019-03-20T00:00:00      2   \n",
       "\n",
       "      ceiling_height  floors_total  living_area  floor is_apartment  ...  \\\n",
       "8793            2.75          25.0         32.0     25          NaN  ...   \n",
       "\n",
       "      kitchen_area  balcony    locality_name  airports_nearest  \\\n",
       "8793          40.5      NaN  Санкт-Петербург           36421.0   \n",
       "\n",
       "     city_centers_nearest  parks_around_3000  parks_nearest  \\\n",
       "8793               9176.0                1.0          805.0   \n",
       "\n",
       "      ponds_around_3000  ponds_nearest  days_exposition  \n",
       "8793                0.0            NaN              8.0  \n",
       "\n",
       "[1 rows x 22 columns]"
      ]
     },
     "execution_count": 9,
     "metadata": {},
     "output_type": "execute_result"
    }
   ],
   "source": [
    "cheking('last_price') \n",
    "# Проверим на цену менее 500000\n",
    "data.loc[(data['last_price']<1000000) & (data['locality_name']=='Санкт-Петербург' )]"
   ]
  },
  {
   "cell_type": "markdown",
   "metadata": {},
   "source": [
    "Поменяю это значение вручную"
   ]
  },
  {
   "cell_type": "code",
   "execution_count": 10,
   "metadata": {},
   "outputs": [
    {
     "data": {
      "text/html": [
       "<div>\n",
       "<style scoped>\n",
       "    .dataframe tbody tr th:only-of-type {\n",
       "        vertical-align: middle;\n",
       "    }\n",
       "\n",
       "    .dataframe tbody tr th {\n",
       "        vertical-align: top;\n",
       "    }\n",
       "\n",
       "    .dataframe thead th {\n",
       "        text-align: right;\n",
       "    }\n",
       "</style>\n",
       "<table border=\"1\" class=\"dataframe\">\n",
       "  <thead>\n",
       "    <tr style=\"text-align: right;\">\n",
       "      <th></th>\n",
       "      <th>total_images</th>\n",
       "      <th>last_price</th>\n",
       "      <th>total_area</th>\n",
       "      <th>first_day_exposition</th>\n",
       "      <th>rooms</th>\n",
       "      <th>ceiling_height</th>\n",
       "      <th>floors_total</th>\n",
       "      <th>living_area</th>\n",
       "      <th>floor</th>\n",
       "      <th>is_apartment</th>\n",
       "      <th>...</th>\n",
       "      <th>kitchen_area</th>\n",
       "      <th>balcony</th>\n",
       "      <th>locality_name</th>\n",
       "      <th>airports_nearest</th>\n",
       "      <th>city_centers_nearest</th>\n",
       "      <th>parks_around_3000</th>\n",
       "      <th>parks_nearest</th>\n",
       "      <th>ponds_around_3000</th>\n",
       "      <th>ponds_nearest</th>\n",
       "      <th>days_exposition</th>\n",
       "    </tr>\n",
       "  </thead>\n",
       "  <tbody>\n",
       "  </tbody>\n",
       "</table>\n",
       "<p>0 rows × 22 columns</p>\n",
       "</div>"
      ],
      "text/plain": [
       "Empty DataFrame\n",
       "Columns: [total_images, last_price, total_area, first_day_exposition, rooms, ceiling_height, floors_total, living_area, floor, is_apartment, studio, open_plan, kitchen_area, balcony, locality_name, airports_nearest, city_centers_nearest, parks_around_3000, parks_nearest, ponds_around_3000, ponds_nearest, days_exposition]\n",
       "Index: []\n",
       "\n",
       "[0 rows x 22 columns]"
      ]
     },
     "execution_count": 10,
     "metadata": {},
     "output_type": "execute_result"
    }
   ],
   "source": [
    "data.loc[8793, 'last_price'] = 12190000\n",
    "data.loc[(data['last_price']<1000000)& (data['locality_name']=='Санкт-Петербург' )]"
   ]
  },
  {
   "cell_type": "markdown",
   "metadata": {},
   "source": [
    "Вывод: данное значение могло быть в тыс. рублей"
   ]
  },
  {
   "cell_type": "markdown",
   "metadata": {},
   "source": [
    "Столбец **total_area**"
   ]
  },
  {
   "cell_type": "code",
   "execution_count": 11,
   "metadata": {
    "scrolled": true
   },
   "outputs": [
    {
     "name": "stdout",
     "output_type": "stream",
     "text": [
      "total_area - площадь квартиры в квадратных метрах (м²)\n",
      "тип данных float64\n",
      "количество пропусков 0\n",
      "минимальное значение: 12.0 максимальное значение: 900.0\n",
      "уникальные значения: \n",
      " 45.00     419\n",
      "42.00     383\n",
      "60.00     347\n",
      "31.00     346\n",
      "44.00     345\n",
      "         ... \n",
      "44.24       1\n",
      "56.85       1\n",
      "37.92       1\n",
      "115.60      1\n",
      "55.06       1\n",
      "Name: total_area, Length: 2182, dtype: int64\n"
     ]
    },
    {
     "data": {
      "text/plain": [
       "count    23699.000000\n",
       "mean        60.348651\n",
       "std         35.654083\n",
       "min         12.000000\n",
       "25%         40.000000\n",
       "50%         52.000000\n",
       "75%         69.900000\n",
       "max        900.000000\n",
       "Name: total_area, dtype: float64"
      ]
     },
     "execution_count": 11,
     "metadata": {},
     "output_type": "execute_result"
    }
   ],
   "source": [
    "cheking('total_area')\n",
    "data['total_area'].describe()"
   ]
  },
  {
   "cell_type": "markdown",
   "metadata": {},
   "source": [
    "Вывод: в данном столбце все хорошо"
   ]
  },
  {
   "cell_type": "markdown",
   "metadata": {},
   "source": [
    "Столбец **first_day_exposition**"
   ]
  },
  {
   "cell_type": "code",
   "execution_count": 12,
   "metadata": {},
   "outputs": [
    {
     "name": "stdout",
     "output_type": "stream",
     "text": [
      "first_day_exposition - дата публикации\n",
      "тип данных object\n",
      "количество пропусков 0\n",
      "уникальные значения: \n",
      " 2018-02-01T00:00:00    368\n",
      "2017-11-10T00:00:00    240\n",
      "2017-10-13T00:00:00    124\n",
      "2017-09-27T00:00:00    111\n",
      "2018-03-26T00:00:00     97\n",
      "                      ... \n",
      "2015-09-04T00:00:00      1\n",
      "2015-07-19T00:00:00      1\n",
      "2017-01-28T00:00:00      1\n",
      "2015-07-26T00:00:00      1\n",
      "2014-12-17T00:00:00      1\n",
      "Name: first_day_exposition, Length: 1491, dtype: int64\n"
     ]
    }
   ],
   "source": [
    "cheking('first_day_exposition')"
   ]
  },
  {
   "cell_type": "code",
   "execution_count": 13,
   "metadata": {},
   "outputs": [
    {
     "data": {
      "text/plain": [
       "total_images                     int64\n",
       "last_price                     float64\n",
       "total_area                     float64\n",
       "first_day_exposition    datetime64[ns]\n",
       "rooms                            int64\n",
       "ceiling_height                 float64\n",
       "floors_total                   float64\n",
       "living_area                    float64\n",
       "floor                            int64\n",
       "is_apartment                    object\n",
       "studio                            bool\n",
       "open_plan                         bool\n",
       "kitchen_area                   float64\n",
       "balcony                        float64\n",
       "locality_name                   object\n",
       "airports_nearest               float64\n",
       "city_centers_nearest           float64\n",
       "parks_around_3000              float64\n",
       "parks_nearest                  float64\n",
       "ponds_around_3000              float64\n",
       "ponds_nearest                  float64\n",
       "days_exposition                float64\n",
       "dtype: object"
      ]
     },
     "execution_count": 13,
     "metadata": {},
     "output_type": "execute_result"
    }
   ],
   "source": [
    "# Перевожу в datetime\n",
    "data['first_day_exposition'] = pd.to_datetime(data['first_day_exposition'], format='%Y-%m-%d')\n",
    "data.dtypes"
   ]
  },
  {
   "cell_type": "markdown",
   "metadata": {},
   "source": [
    "Вывод: данные переведены в формат datetime64"
   ]
  },
  {
   "cell_type": "markdown",
   "metadata": {},
   "source": [
    "Столбец **studio**"
   ]
  },
  {
   "cell_type": "code",
   "execution_count": 14,
   "metadata": {},
   "outputs": [
    {
     "name": "stdout",
     "output_type": "stream",
     "text": [
      "studio - квартира-студия (булев тип)\n",
      "тип данных bool\n",
      "количество пропусков 0\n",
      "минимальное значение: False максимальное значение: True\n",
      "уникальные значения: \n",
      " False    23550\n",
      "True       149\n",
      "Name: studio, dtype: int64\n"
     ]
    },
    {
     "data": {
      "text/plain": [
       "count     23699\n",
       "unique        2\n",
       "top       False\n",
       "freq      23550\n",
       "Name: studio, dtype: object"
      ]
     },
     "execution_count": 14,
     "metadata": {},
     "output_type": "execute_result"
    }
   ],
   "source": [
    "cheking('studio') \n",
    "(data['studio']).describe()"
   ]
  },
  {
   "cell_type": "markdown",
   "metadata": {},
   "source": [
    "Вывод: Не выявлено проблем, связанных со значениями столбца"
   ]
  },
  {
   "cell_type": "markdown",
   "metadata": {},
   "source": [
    "Столбец **rooms**"
   ]
  },
  {
   "cell_type": "code",
   "execution_count": 15,
   "metadata": {},
   "outputs": [
    {
     "name": "stdout",
     "output_type": "stream",
     "text": [
      "rooms - число комнат\n",
      "тип данных int64\n",
      "количество пропусков 0\n",
      "минимальное значение: 0 максимальное значение: 19\n",
      "уникальные значения: \n",
      " 1     8047\n",
      "2     7940\n",
      "3     5814\n",
      "4     1180\n",
      "5      326\n",
      "0      197\n",
      "6      105\n",
      "7       59\n",
      "8       12\n",
      "9        8\n",
      "10       3\n",
      "11       2\n",
      "14       2\n",
      "19       1\n",
      "16       1\n",
      "12       1\n",
      "15       1\n",
      "Name: rooms, dtype: int64\n"
     ]
    }
   ],
   "source": [
    "cheking('rooms')"
   ]
  },
  {
   "cell_type": "markdown",
   "metadata": {},
   "source": [
    "Проверю данные со значением 0"
   ]
  },
  {
   "cell_type": "code",
   "execution_count": 16,
   "metadata": {
    "scrolled": false
   },
   "outputs": [
    {
     "data": {
      "text/html": [
       "<div>\n",
       "<style scoped>\n",
       "    .dataframe tbody tr th:only-of-type {\n",
       "        vertical-align: middle;\n",
       "    }\n",
       "\n",
       "    .dataframe tbody tr th {\n",
       "        vertical-align: top;\n",
       "    }\n",
       "\n",
       "    .dataframe thead th {\n",
       "        text-align: right;\n",
       "    }\n",
       "</style>\n",
       "<table border=\"1\" class=\"dataframe\">\n",
       "  <thead>\n",
       "    <tr style=\"text-align: right;\">\n",
       "      <th></th>\n",
       "      <th>total_images</th>\n",
       "      <th>last_price</th>\n",
       "      <th>total_area</th>\n",
       "      <th>first_day_exposition</th>\n",
       "      <th>rooms</th>\n",
       "      <th>ceiling_height</th>\n",
       "      <th>floors_total</th>\n",
       "      <th>living_area</th>\n",
       "      <th>floor</th>\n",
       "      <th>is_apartment</th>\n",
       "      <th>...</th>\n",
       "      <th>kitchen_area</th>\n",
       "      <th>balcony</th>\n",
       "      <th>locality_name</th>\n",
       "      <th>airports_nearest</th>\n",
       "      <th>city_centers_nearest</th>\n",
       "      <th>parks_around_3000</th>\n",
       "      <th>parks_nearest</th>\n",
       "      <th>ponds_around_3000</th>\n",
       "      <th>ponds_nearest</th>\n",
       "      <th>days_exposition</th>\n",
       "    </tr>\n",
       "  </thead>\n",
       "  <tbody>\n",
       "    <tr>\n",
       "      <th>144</th>\n",
       "      <td>1</td>\n",
       "      <td>2450000.0</td>\n",
       "      <td>27.00</td>\n",
       "      <td>2017-03-30</td>\n",
       "      <td>0</td>\n",
       "      <td>NaN</td>\n",
       "      <td>24.0</td>\n",
       "      <td>15.50</td>\n",
       "      <td>2</td>\n",
       "      <td>NaN</td>\n",
       "      <td>...</td>\n",
       "      <td>NaN</td>\n",
       "      <td>2.0</td>\n",
       "      <td>посёлок Мурино</td>\n",
       "      <td>NaN</td>\n",
       "      <td>NaN</td>\n",
       "      <td>NaN</td>\n",
       "      <td>NaN</td>\n",
       "      <td>NaN</td>\n",
       "      <td>NaN</td>\n",
       "      <td>181.0</td>\n",
       "    </tr>\n",
       "    <tr>\n",
       "      <th>440</th>\n",
       "      <td>8</td>\n",
       "      <td>2480000.0</td>\n",
       "      <td>27.11</td>\n",
       "      <td>2018-03-12</td>\n",
       "      <td>0</td>\n",
       "      <td>NaN</td>\n",
       "      <td>17.0</td>\n",
       "      <td>24.75</td>\n",
       "      <td>4</td>\n",
       "      <td>NaN</td>\n",
       "      <td>...</td>\n",
       "      <td>NaN</td>\n",
       "      <td>2.0</td>\n",
       "      <td>Санкт-Петербург</td>\n",
       "      <td>38171.0</td>\n",
       "      <td>15015.0</td>\n",
       "      <td>0.0</td>\n",
       "      <td>NaN</td>\n",
       "      <td>2.0</td>\n",
       "      <td>982.0</td>\n",
       "      <td>64.0</td>\n",
       "    </tr>\n",
       "    <tr>\n",
       "      <th>608</th>\n",
       "      <td>2</td>\n",
       "      <td>1850000.0</td>\n",
       "      <td>25.00</td>\n",
       "      <td>2019-02-20</td>\n",
       "      <td>0</td>\n",
       "      <td>NaN</td>\n",
       "      <td>10.0</td>\n",
       "      <td>NaN</td>\n",
       "      <td>7</td>\n",
       "      <td>NaN</td>\n",
       "      <td>...</td>\n",
       "      <td>NaN</td>\n",
       "      <td>NaN</td>\n",
       "      <td>посёлок Шушары</td>\n",
       "      <td>NaN</td>\n",
       "      <td>NaN</td>\n",
       "      <td>NaN</td>\n",
       "      <td>NaN</td>\n",
       "      <td>NaN</td>\n",
       "      <td>NaN</td>\n",
       "      <td>29.0</td>\n",
       "    </tr>\n",
       "    <tr>\n",
       "      <th>697</th>\n",
       "      <td>12</td>\n",
       "      <td>2500000.0</td>\n",
       "      <td>24.10</td>\n",
       "      <td>2017-12-01</td>\n",
       "      <td>0</td>\n",
       "      <td>2.75</td>\n",
       "      <td>25.0</td>\n",
       "      <td>17.50</td>\n",
       "      <td>21</td>\n",
       "      <td>NaN</td>\n",
       "      <td>...</td>\n",
       "      <td>NaN</td>\n",
       "      <td>NaN</td>\n",
       "      <td>деревня Кудрово</td>\n",
       "      <td>NaN</td>\n",
       "      <td>NaN</td>\n",
       "      <td>NaN</td>\n",
       "      <td>NaN</td>\n",
       "      <td>NaN</td>\n",
       "      <td>NaN</td>\n",
       "      <td>201.0</td>\n",
       "    </tr>\n",
       "    <tr>\n",
       "      <th>716</th>\n",
       "      <td>5</td>\n",
       "      <td>1500000.0</td>\n",
       "      <td>17.00</td>\n",
       "      <td>2017-06-07</td>\n",
       "      <td>0</td>\n",
       "      <td>2.70</td>\n",
       "      <td>9.0</td>\n",
       "      <td>12.00</td>\n",
       "      <td>1</td>\n",
       "      <td>NaN</td>\n",
       "      <td>...</td>\n",
       "      <td>NaN</td>\n",
       "      <td>0.0</td>\n",
       "      <td>посёлок Шушары</td>\n",
       "      <td>18654.0</td>\n",
       "      <td>29846.0</td>\n",
       "      <td>0.0</td>\n",
       "      <td>NaN</td>\n",
       "      <td>0.0</td>\n",
       "      <td>NaN</td>\n",
       "      <td>40.0</td>\n",
       "    </tr>\n",
       "    <tr>\n",
       "      <th>...</th>\n",
       "      <td>...</td>\n",
       "      <td>...</td>\n",
       "      <td>...</td>\n",
       "      <td>...</td>\n",
       "      <td>...</td>\n",
       "      <td>...</td>\n",
       "      <td>...</td>\n",
       "      <td>...</td>\n",
       "      <td>...</td>\n",
       "      <td>...</td>\n",
       "      <td>...</td>\n",
       "      <td>...</td>\n",
       "      <td>...</td>\n",
       "      <td>...</td>\n",
       "      <td>...</td>\n",
       "      <td>...</td>\n",
       "      <td>...</td>\n",
       "      <td>...</td>\n",
       "      <td>...</td>\n",
       "      <td>...</td>\n",
       "      <td>...</td>\n",
       "    </tr>\n",
       "    <tr>\n",
       "      <th>22867</th>\n",
       "      <td>8</td>\n",
       "      <td>3090000.0</td>\n",
       "      <td>30.00</td>\n",
       "      <td>2017-12-17</td>\n",
       "      <td>0</td>\n",
       "      <td>NaN</td>\n",
       "      <td>25.0</td>\n",
       "      <td>18.20</td>\n",
       "      <td>5</td>\n",
       "      <td>NaN</td>\n",
       "      <td>...</td>\n",
       "      <td>NaN</td>\n",
       "      <td>NaN</td>\n",
       "      <td>Санкт-Петербург</td>\n",
       "      <td>35250.0</td>\n",
       "      <td>16414.0</td>\n",
       "      <td>0.0</td>\n",
       "      <td>NaN</td>\n",
       "      <td>1.0</td>\n",
       "      <td>400.0</td>\n",
       "      <td>211.0</td>\n",
       "    </tr>\n",
       "    <tr>\n",
       "      <th>22877</th>\n",
       "      <td>2</td>\n",
       "      <td>4280000.0</td>\n",
       "      <td>28.00</td>\n",
       "      <td>2017-10-26</td>\n",
       "      <td>0</td>\n",
       "      <td>2.70</td>\n",
       "      <td>19.0</td>\n",
       "      <td>18.00</td>\n",
       "      <td>10</td>\n",
       "      <td>NaN</td>\n",
       "      <td>...</td>\n",
       "      <td>NaN</td>\n",
       "      <td>NaN</td>\n",
       "      <td>Санкт-Петербург</td>\n",
       "      <td>18982.0</td>\n",
       "      <td>7206.0</td>\n",
       "      <td>0.0</td>\n",
       "      <td>NaN</td>\n",
       "      <td>1.0</td>\n",
       "      <td>415.0</td>\n",
       "      <td>151.0</td>\n",
       "    </tr>\n",
       "    <tr>\n",
       "      <th>23210</th>\n",
       "      <td>7</td>\n",
       "      <td>3200000.0</td>\n",
       "      <td>26.00</td>\n",
       "      <td>2017-09-01</td>\n",
       "      <td>0</td>\n",
       "      <td>NaN</td>\n",
       "      <td>25.0</td>\n",
       "      <td>18.00</td>\n",
       "      <td>16</td>\n",
       "      <td>NaN</td>\n",
       "      <td>...</td>\n",
       "      <td>NaN</td>\n",
       "      <td>0.0</td>\n",
       "      <td>Санкт-Петербург</td>\n",
       "      <td>11405.0</td>\n",
       "      <td>13222.0</td>\n",
       "      <td>0.0</td>\n",
       "      <td>NaN</td>\n",
       "      <td>1.0</td>\n",
       "      <td>623.0</td>\n",
       "      <td>14.0</td>\n",
       "    </tr>\n",
       "    <tr>\n",
       "      <th>23554</th>\n",
       "      <td>15</td>\n",
       "      <td>3350000.0</td>\n",
       "      <td>26.00</td>\n",
       "      <td>2018-09-07</td>\n",
       "      <td>0</td>\n",
       "      <td>NaN</td>\n",
       "      <td>19.0</td>\n",
       "      <td>NaN</td>\n",
       "      <td>8</td>\n",
       "      <td>NaN</td>\n",
       "      <td>...</td>\n",
       "      <td>NaN</td>\n",
       "      <td>NaN</td>\n",
       "      <td>Санкт-Петербург</td>\n",
       "      <td>18090.0</td>\n",
       "      <td>17092.0</td>\n",
       "      <td>0.0</td>\n",
       "      <td>NaN</td>\n",
       "      <td>2.0</td>\n",
       "      <td>112.0</td>\n",
       "      <td>31.0</td>\n",
       "    </tr>\n",
       "    <tr>\n",
       "      <th>23637</th>\n",
       "      <td>8</td>\n",
       "      <td>2350000.0</td>\n",
       "      <td>26.00</td>\n",
       "      <td>2018-06-26</td>\n",
       "      <td>0</td>\n",
       "      <td>NaN</td>\n",
       "      <td>25.0</td>\n",
       "      <td>17.00</td>\n",
       "      <td>4</td>\n",
       "      <td>NaN</td>\n",
       "      <td>...</td>\n",
       "      <td>NaN</td>\n",
       "      <td>2.0</td>\n",
       "      <td>посёлок Бугры</td>\n",
       "      <td>NaN</td>\n",
       "      <td>NaN</td>\n",
       "      <td>NaN</td>\n",
       "      <td>NaN</td>\n",
       "      <td>NaN</td>\n",
       "      <td>NaN</td>\n",
       "      <td>207.0</td>\n",
       "    </tr>\n",
       "  </tbody>\n",
       "</table>\n",
       "<p>138 rows × 22 columns</p>\n",
       "</div>"
      ],
      "text/plain": [
       "       total_images  last_price  total_area first_day_exposition  rooms  \\\n",
       "144               1   2450000.0       27.00           2017-03-30      0   \n",
       "440               8   2480000.0       27.11           2018-03-12      0   \n",
       "608               2   1850000.0       25.00           2019-02-20      0   \n",
       "697              12   2500000.0       24.10           2017-12-01      0   \n",
       "716               5   1500000.0       17.00           2017-06-07      0   \n",
       "...             ...         ...         ...                  ...    ...   \n",
       "22867             8   3090000.0       30.00           2017-12-17      0   \n",
       "22877             2   4280000.0       28.00           2017-10-26      0   \n",
       "23210             7   3200000.0       26.00           2017-09-01      0   \n",
       "23554            15   3350000.0       26.00           2018-09-07      0   \n",
       "23637             8   2350000.0       26.00           2018-06-26      0   \n",
       "\n",
       "       ceiling_height  floors_total  living_area  floor is_apartment  ...  \\\n",
       "144               NaN          24.0        15.50      2          NaN  ...   \n",
       "440               NaN          17.0        24.75      4          NaN  ...   \n",
       "608               NaN          10.0          NaN      7          NaN  ...   \n",
       "697              2.75          25.0        17.50     21          NaN  ...   \n",
       "716              2.70           9.0        12.00      1          NaN  ...   \n",
       "...               ...           ...          ...    ...          ...  ...   \n",
       "22867             NaN          25.0        18.20      5          NaN  ...   \n",
       "22877            2.70          19.0        18.00     10          NaN  ...   \n",
       "23210             NaN          25.0        18.00     16          NaN  ...   \n",
       "23554             NaN          19.0          NaN      8          NaN  ...   \n",
       "23637             NaN          25.0        17.00      4          NaN  ...   \n",
       "\n",
       "       kitchen_area  balcony    locality_name  airports_nearest  \\\n",
       "144             NaN      2.0   посёлок Мурино               NaN   \n",
       "440             NaN      2.0  Санкт-Петербург           38171.0   \n",
       "608             NaN      NaN   посёлок Шушары               NaN   \n",
       "697             NaN      NaN  деревня Кудрово               NaN   \n",
       "716             NaN      0.0   посёлок Шушары           18654.0   \n",
       "...             ...      ...              ...               ...   \n",
       "22867           NaN      NaN  Санкт-Петербург           35250.0   \n",
       "22877           NaN      NaN  Санкт-Петербург           18982.0   \n",
       "23210           NaN      0.0  Санкт-Петербург           11405.0   \n",
       "23554           NaN      NaN  Санкт-Петербург           18090.0   \n",
       "23637           NaN      2.0    посёлок Бугры               NaN   \n",
       "\n",
       "      city_centers_nearest  parks_around_3000  parks_nearest  \\\n",
       "144                    NaN                NaN            NaN   \n",
       "440                15015.0                0.0            NaN   \n",
       "608                    NaN                NaN            NaN   \n",
       "697                    NaN                NaN            NaN   \n",
       "716                29846.0                0.0            NaN   \n",
       "...                    ...                ...            ...   \n",
       "22867              16414.0                0.0            NaN   \n",
       "22877               7206.0                0.0            NaN   \n",
       "23210              13222.0                0.0            NaN   \n",
       "23554              17092.0                0.0            NaN   \n",
       "23637                  NaN                NaN            NaN   \n",
       "\n",
       "       ponds_around_3000  ponds_nearest  days_exposition  \n",
       "144                  NaN            NaN            181.0  \n",
       "440                  2.0          982.0             64.0  \n",
       "608                  NaN            NaN             29.0  \n",
       "697                  NaN            NaN            201.0  \n",
       "716                  0.0            NaN             40.0  \n",
       "...                  ...            ...              ...  \n",
       "22867                1.0          400.0            211.0  \n",
       "22877                1.0          415.0            151.0  \n",
       "23210                1.0          623.0             14.0  \n",
       "23554                2.0          112.0             31.0  \n",
       "23637                NaN            NaN            207.0  \n",
       "\n",
       "[138 rows x 22 columns]"
      ]
     },
     "execution_count": 16,
     "metadata": {},
     "output_type": "execute_result"
    }
   ],
   "source": [
    "data.query('rooms == 0 and studio == True')"
   ]
  },
  {
   "cell_type": "markdown",
   "metadata": {},
   "source": [
    "Все они- либо с признаком квартиры-студии, либо со свободной планировкой.\n",
    "Тем не менее, для единообразия проверим количество комнат во всех студиях"
   ]
  },
  {
   "cell_type": "code",
   "execution_count": 17,
   "metadata": {},
   "outputs": [
    {
     "name": "stdout",
     "output_type": "stream",
     "text": [
      "149\n"
     ]
    },
    {
     "data": {
      "text/plain": [
       "0    138\n",
       "1     11\n",
       "Name: rooms, dtype: int64"
      ]
     },
     "execution_count": 17,
     "metadata": {},
     "output_type": "execute_result"
    }
   ],
   "source": [
    "# выборка объектов с признаком \"студия\"\n",
    "#их количество:\n",
    "print(len(data.query('studio == True')))\n",
    "\n",
    "#уникальные значения кол-ва комнат:\n",
    "data.query('studio == True')['rooms'] .value_counts()"
   ]
  },
  {
   "cell_type": "markdown",
   "metadata": {},
   "source": [
    "Для единообразия заменим 1 (11 значений) на 0:"
   ]
  },
  {
   "cell_type": "code",
   "execution_count": 18,
   "metadata": {},
   "outputs": [
    {
     "data": {
      "text/plain": [
       "0    149\n",
       "Name: rooms, dtype: int64"
      ]
     },
     "execution_count": 18,
     "metadata": {},
     "output_type": "execute_result"
    }
   ],
   "source": [
    "#присваиваем значение '0' в ячейках со значением '1':\n",
    "data.loc[(data['rooms'] == 1) & (data['studio']==True),'rooms'] = 0\n",
    "\n",
    "#проверим внесение изменений\n",
    "data.query('studio == True')['rooms'] .value_counts()"
   ]
  },
  {
   "cell_type": "markdown",
   "metadata": {},
   "source": [
    "Вывод: в целом проблем не выявлено, но я заменил 11 значений"
   ]
  },
  {
   "cell_type": "markdown",
   "metadata": {},
   "source": [
    "Проверка значений столбца **ceiling_height**"
   ]
  },
  {
   "cell_type": "code",
   "execution_count": 19,
   "metadata": {},
   "outputs": [
    {
     "name": "stdout",
     "output_type": "stream",
     "text": [
      "ceiling_height - высота потолков (м)\n",
      "тип данных float64\n",
      "количество пропусков 9195\n",
      "минимальное значение: 1.0 максимальное значение: 100.0\n",
      "уникальные значения: \n",
      " 2.50     3515\n",
      "2.60     1646\n",
      "2.70     1574\n",
      "3.00     1112\n",
      "2.80      993\n",
      "         ... \n",
      "4.25        1\n",
      "3.39        1\n",
      "3.93        1\n",
      "10.30       1\n",
      "4.65        1\n",
      "Name: ceiling_height, Length: 183, dtype: int64\n"
     ]
    },
    {
     "data": {
      "text/plain": [
       "count    14504.000000\n",
       "mean         2.771499\n",
       "std          1.261056\n",
       "min          1.000000\n",
       "25%          2.520000\n",
       "50%          2.650000\n",
       "75%          2.800000\n",
       "max        100.000000\n",
       "Name: ceiling_height, dtype: float64"
      ]
     },
     "execution_count": 19,
     "metadata": {},
     "output_type": "execute_result"
    }
   ],
   "source": [
    "cheking('ceiling_height') #  заполнить пустые поля, изменить высоту потолка здесь\n",
    "(data['ceiling_height']).describe()"
   ]
  },
  {
   "cell_type": "markdown",
   "metadata": {},
   "source": [
    "Заполним пропуски медианой, сгруппированной по количеству комнат:"
   ]
  },
  {
   "cell_type": "code",
   "execution_count": 20,
   "metadata": {},
   "outputs": [
    {
     "name": "stdout",
     "output_type": "stream",
     "text": [
      "1.пропуски до изменений:  9195\n",
      "2.пропуски после изменений:  1\n"
     ]
    }
   ],
   "source": [
    "#заполняем значения ceiling_height , равные Nan,\n",
    "#на медиану, рассчитанную по каждой группировке rooms\n",
    "\n",
    "filling_median_group('ceiling_height', 'rooms')"
   ]
  },
  {
   "cell_type": "code",
   "execution_count": 21,
   "metadata": {},
   "outputs": [
    {
     "data": {
      "text/html": [
       "<div>\n",
       "<style scoped>\n",
       "    .dataframe tbody tr th:only-of-type {\n",
       "        vertical-align: middle;\n",
       "    }\n",
       "\n",
       "    .dataframe tbody tr th {\n",
       "        vertical-align: top;\n",
       "    }\n",
       "\n",
       "    .dataframe thead th {\n",
       "        text-align: right;\n",
       "    }\n",
       "</style>\n",
       "<table border=\"1\" class=\"dataframe\">\n",
       "  <thead>\n",
       "    <tr style=\"text-align: right;\">\n",
       "      <th></th>\n",
       "      <th>total_images</th>\n",
       "      <th>last_price</th>\n",
       "      <th>total_area</th>\n",
       "      <th>first_day_exposition</th>\n",
       "      <th>rooms</th>\n",
       "      <th>ceiling_height</th>\n",
       "      <th>floors_total</th>\n",
       "      <th>living_area</th>\n",
       "      <th>floor</th>\n",
       "      <th>is_apartment</th>\n",
       "      <th>...</th>\n",
       "      <th>kitchen_area</th>\n",
       "      <th>balcony</th>\n",
       "      <th>locality_name</th>\n",
       "      <th>airports_nearest</th>\n",
       "      <th>city_centers_nearest</th>\n",
       "      <th>parks_around_3000</th>\n",
       "      <th>parks_nearest</th>\n",
       "      <th>ponds_around_3000</th>\n",
       "      <th>ponds_nearest</th>\n",
       "      <th>days_exposition</th>\n",
       "    </tr>\n",
       "  </thead>\n",
       "  <tbody>\n",
       "    <tr>\n",
       "      <th>14498</th>\n",
       "      <td>6</td>\n",
       "      <td>32250000.0</td>\n",
       "      <td>374.6</td>\n",
       "      <td>2018-06-09</td>\n",
       "      <td>19</td>\n",
       "      <td>NaN</td>\n",
       "      <td>5.0</td>\n",
       "      <td>264.5</td>\n",
       "      <td>2</td>\n",
       "      <td>NaN</td>\n",
       "      <td>...</td>\n",
       "      <td>27.6</td>\n",
       "      <td>NaN</td>\n",
       "      <td>Санкт-Петербург</td>\n",
       "      <td>19497.0</td>\n",
       "      <td>3574.0</td>\n",
       "      <td>0.0</td>\n",
       "      <td>NaN</td>\n",
       "      <td>2.0</td>\n",
       "      <td>548.0</td>\n",
       "      <td>114.0</td>\n",
       "    </tr>\n",
       "  </tbody>\n",
       "</table>\n",
       "<p>1 rows × 22 columns</p>\n",
       "</div>"
      ],
      "text/plain": [
       "       total_images  last_price  total_area first_day_exposition  rooms  \\\n",
       "14498             6  32250000.0       374.6           2018-06-09     19   \n",
       "\n",
       "       ceiling_height  floors_total  living_area  floor is_apartment  ...  \\\n",
       "14498             NaN           5.0        264.5      2          NaN  ...   \n",
       "\n",
       "       kitchen_area  balcony    locality_name  airports_nearest  \\\n",
       "14498          27.6      NaN  Санкт-Петербург           19497.0   \n",
       "\n",
       "      city_centers_nearest  parks_around_3000  parks_nearest  \\\n",
       "14498               3574.0                0.0            NaN   \n",
       "\n",
       "       ponds_around_3000  ponds_nearest  days_exposition  \n",
       "14498                2.0          548.0            114.0  \n",
       "\n",
       "[1 rows x 22 columns]"
      ]
     },
     "execution_count": 21,
     "metadata": {},
     "output_type": "execute_result"
    }
   ],
   "source": [
    "data.query('ceiling_height.isna()')"
   ]
  },
  {
   "cell_type": "markdown",
   "metadata": {},
   "source": [
    "Заменю это значние вручную на основе 16 комнат"
   ]
  },
  {
   "cell_type": "code",
   "execution_count": 22,
   "metadata": {},
   "outputs": [
    {
     "name": "stdout",
     "output_type": "stream",
     "text": [
      "Пропуски после внесения изменений: 0\n"
     ]
    }
   ],
   "source": [
    "#заполнение значения высоты потолка строки 14498 медианой:\n",
    "data.loc[14498, 'ceiling_height'] = data.loc[data['rooms']==16, 'ceiling_height'].median()\n",
    "print('Пропуски после внесения изменений:', data['ceiling_height'].isna().sum())"
   ]
  },
  {
   "cell_type": "markdown",
   "metadata": {},
   "source": [
    "Вывод: Пропуски в столбце ceiling_height заполнены пустые значения из расчета медиан в каждой группе объектов, поделенных на число комнат. Причина пропусков- скорее всего незаполнение полей пользователями."
   ]
  },
  {
   "cell_type": "markdown",
   "metadata": {},
   "source": [
    "Столбец **floors_total**"
   ]
  },
  {
   "cell_type": "code",
   "execution_count": 23,
   "metadata": {},
   "outputs": [
    {
     "name": "stdout",
     "output_type": "stream",
     "text": [
      "floors_total - всего этажей в доме\n",
      "тип данных float64\n",
      "количество пропусков 86\n",
      "минимальное значение: 1.0 максимальное значение: 60.0\n",
      "уникальные значения: \n",
      " 5.0     5788\n",
      "9.0     3761\n",
      "16.0    1376\n",
      "12.0    1362\n",
      "4.0     1200\n",
      "10.0    1174\n",
      "25.0    1075\n",
      "6.0      914\n",
      "17.0     833\n",
      "3.0      668\n",
      "7.0      592\n",
      "14.0     553\n",
      "18.0     505\n",
      "24.0     469\n",
      "8.0      390\n",
      "2.0      383\n",
      "15.0     365\n",
      "23.0     352\n",
      "19.0     339\n",
      "22.0     286\n",
      "20.0     271\n",
      "13.0     229\n",
      "11.0     203\n",
      "27.0     164\n",
      "21.0     158\n",
      "26.0     124\n",
      "1.0       25\n",
      "35.0      24\n",
      "28.0      21\n",
      "36.0       3\n",
      "37.0       1\n",
      "34.0       1\n",
      "33.0       1\n",
      "60.0       1\n",
      "29.0       1\n",
      "52.0       1\n",
      "Name: floors_total, dtype: int64\n"
     ]
    }
   ],
   "source": [
    "cheking('floors_total')"
   ]
  },
  {
   "cell_type": "markdown",
   "metadata": {},
   "source": [
    "Значени не много, можно удалить. Так как нет возможности их узнать"
   ]
  },
  {
   "cell_type": "code",
   "execution_count": 24,
   "metadata": {},
   "outputs": [
    {
     "name": "stdout",
     "output_type": "stream",
     "text": [
      "Пропуски до внеcения изменений: 86\n",
      "Пропуски после внесения изменений: 0\n"
     ]
    }
   ],
   "source": [
    "print('Пропуски до внеcения изменений:', data['floors_total'].isna().sum() )\n",
    "data = data.dropna( subset=['floors_total'])\n",
    "print('Пропуски после внесения изменений:', data['floors_total'].isna().sum() )"
   ]
  },
  {
   "cell_type": "markdown",
   "metadata": {},
   "source": [
    "Вывод: Пропуски были удалены"
   ]
  },
  {
   "cell_type": "markdown",
   "metadata": {},
   "source": [
    "Столбец **living_area**"
   ]
  },
  {
   "cell_type": "code",
   "execution_count": 25,
   "metadata": {},
   "outputs": [
    {
     "name": "stdout",
     "output_type": "stream",
     "text": [
      "living_area - жилая площадь в квадратных метрах (м²)\n",
      "тип данных float64\n",
      "количество пропусков 1870\n",
      "минимальное значение: 2.0 максимальное значение: 409.7\n",
      "уникальные значения: \n",
      " 18.00    882\n",
      "17.00    674\n",
      "30.00    598\n",
      "16.00    484\n",
      "20.00    481\n",
      "        ... \n",
      "50.26      1\n",
      "43.81      1\n",
      "54.43      1\n",
      "86.10      1\n",
      "16.74      1\n",
      "Name: living_area, Length: 1769, dtype: int64\n"
     ]
    },
    {
     "data": {
      "text/plain": [
       "count    21743.000000\n",
       "mean        34.462781\n",
       "std         22.037433\n",
       "min          2.000000\n",
       "25%         18.600000\n",
       "50%         30.000000\n",
       "75%         42.300000\n",
       "max        409.700000\n",
       "Name: living_area, dtype: float64"
      ]
     },
     "execution_count": 25,
     "metadata": {},
     "output_type": "execute_result"
    }
   ],
   "source": [
    "cheking('living_area') \n",
    "(data['living_area']).describe()"
   ]
  },
  {
   "cell_type": "markdown",
   "metadata": {},
   "source": [
    "Необходимо заполнить пропуски значений. Используем для заполнения столбец rooms, по группировке уникальных значений которого рассчитаем медиану living_area."
   ]
  },
  {
   "cell_type": "code",
   "execution_count": 26,
   "metadata": {},
   "outputs": [
    {
     "name": "stdout",
     "output_type": "stream",
     "text": [
      "1.пропуски до изменений:  1870\n",
      "2.пропуски после изменений:  0\n"
     ]
    }
   ],
   "source": [
    "# заполняем значения living_area , равные Nan,\n",
    "#на медиану, рассчитанную по каждой группировке rooms\n",
    "filling_median_group('living_area', 'rooms')"
   ]
  },
  {
   "cell_type": "markdown",
   "metadata": {},
   "source": [
    "Необходимо проверить общуюю и жилую площадь"
   ]
  },
  {
   "cell_type": "code",
   "execution_count": 27,
   "metadata": {},
   "outputs": [
    {
     "name": "stdout",
     "output_type": "stream",
     "text": [
      "количество логических ошибок: 29\n"
     ]
    }
   ],
   "source": [
    "print('количество логических ошибок:', data.query('living_area > total_area')['living_area'].count())"
   ]
  },
  {
   "cell_type": "markdown",
   "metadata": {},
   "source": [
    "Заменяю в выявленных столбцах значение жилой площади на значение общей:"
   ]
  },
  {
   "cell_type": "code",
   "execution_count": 28,
   "metadata": {},
   "outputs": [
    {
     "name": "stdout",
     "output_type": "stream",
     "text": [
      "количество логических ошибок после внесения изменений: 0\n"
     ]
    }
   ],
   "source": [
    "#замена значений living_area на total_area методом loc\n",
    "data.loc[data['living_area'] > data['total_area'], 'living_area'] = data.loc[data['living_area'] > \n",
    "                                                              data['total_area'], 'total_area']\n",
    "\n",
    "#проверка внесения изменений:\n",
    "print('количество логических ошибок после внесения изменений:', data.query('living_area > total_area')['living_area'].count())"
   ]
  },
  {
   "cell_type": "markdown",
   "metadata": {},
   "source": [
    "Вывод: Пропуски столбца living_area заполнены медианными значениями, сгруппированными по количеству комнат"
   ]
  },
  {
   "cell_type": "markdown",
   "metadata": {},
   "source": [
    "Столбец **is_apartment**"
   ]
  },
  {
   "cell_type": "code",
   "execution_count": 29,
   "metadata": {},
   "outputs": [
    {
     "name": "stdout",
     "output_type": "stream",
     "text": [
      "is_apartment - апартаменты (булев тип)\n",
      "тип данных object\n",
      "количество пропусков 20838\n",
      "уникальные значения: \n",
      " False    2725\n",
      "True       50\n",
      "Name: is_apartment, dtype: int64\n"
     ]
    },
    {
     "data": {
      "text/plain": [
       "count      2775\n",
       "unique        2\n",
       "top       False\n",
       "freq       2725\n",
       "Name: is_apartment, dtype: object"
      ]
     },
     "execution_count": 29,
     "metadata": {},
     "output_type": "execute_result"
    }
   ],
   "source": [
    "cheking('is_apartment') \n",
    "(data['is_apartment']).describe()"
   ]
  },
  {
   "cell_type": "markdown",
   "metadata": {},
   "source": [
    "Заменю пропуски на False"
   ]
  },
  {
   "cell_type": "code",
   "execution_count": 30,
   "metadata": {},
   "outputs": [
    {
     "name": "stdout",
     "output_type": "stream",
     "text": [
      "Пропусков до замены 20838\n",
      "Пропусков после замены 0\n"
     ]
    }
   ],
   "source": [
    "print('Пропусков до замены', data['is_apartment'].isna().sum())\n",
    "data['is_apartment'] = data['is_apartment'].fillna('False')\n",
    "print('Пропусков после замены', data['is_apartment'].isna().sum())"
   ]
  },
  {
   "cell_type": "markdown",
   "metadata": {},
   "source": [
    "Вывод: пустые значения столбца 'is_apartment' заполнены значением 'False'"
   ]
  },
  {
   "cell_type": "markdown",
   "metadata": {},
   "source": [
    "Столбец **kitchen_area**"
   ]
  },
  {
   "cell_type": "code",
   "execution_count": 31,
   "metadata": {},
   "outputs": [
    {
     "name": "stdout",
     "output_type": "stream",
     "text": [
      "kitchen_area - площадь кухни в квадратных метрах (м²)\n",
      "тип данных float64\n",
      "количество пропусков 2231\n",
      "минимальное значение: 1.3 максимальное значение: 112.0\n",
      "уникальные значения: \n",
      " 6.00     1300\n",
      "10.00    1262\n",
      "8.00     1110\n",
      "9.00     1100\n",
      "7.00     1062\n",
      "         ... \n",
      "7.78        1\n",
      "7.12        1\n",
      "13.73       1\n",
      "14.74       1\n",
      "16.74       1\n",
      "Name: kitchen_area, Length: 966, dtype: int64\n"
     ]
    },
    {
     "data": {
      "text/plain": [
       "count    21382.000000\n",
       "mean        10.564128\n",
       "std          5.904316\n",
       "min          1.300000\n",
       "25%          7.000000\n",
       "50%          9.100000\n",
       "75%         12.000000\n",
       "max        112.000000\n",
       "Name: kitchen_area, dtype: float64"
      ]
     },
     "execution_count": 31,
     "metadata": {},
     "output_type": "execute_result"
    }
   ],
   "source": [
    "cheking('kitchen_area') \n",
    "(data['kitchen_area']).describe()"
   ]
  },
  {
   "cell_type": "markdown",
   "metadata": {},
   "source": [
    "Заполним пустые значения также группировкой по rooms"
   ]
  },
  {
   "cell_type": "code",
   "execution_count": 32,
   "metadata": {},
   "outputs": [
    {
     "name": "stdout",
     "output_type": "stream",
     "text": [
      "1.пропуски до изменений:  2231\n",
      "2.пропуски после изменений:  205\n"
     ]
    }
   ],
   "source": [
    "filling_median_group('kitchen_area', 'rooms')"
   ]
  },
  {
   "cell_type": "markdown",
   "metadata": {},
   "source": [
    "Оставшиеся пропуски, это студии и свободные планировки"
   ]
  },
  {
   "cell_type": "code",
   "execution_count": 33,
   "metadata": {},
   "outputs": [
    {
     "name": "stdout",
     "output_type": "stream",
     "text": [
      "свободная планировка False    146\n",
      "True      59\n",
      "Name: open_plan, dtype: int64\n",
      "студия True     146\n",
      "False     59\n",
      "Name: studio, dtype: int64\n"
     ]
    }
   ],
   "source": [
    "print('свободная планировка', data.query('kitchen_area.isna()')['open_plan'].value_counts())\n",
    "print('студия', data.query('kitchen_area.isna()')['studio'].value_counts())"
   ]
  },
  {
   "cell_type": "markdown",
   "metadata": {},
   "source": [
    "Заполню эти пропуски общей медианой"
   ]
  },
  {
   "cell_type": "code",
   "execution_count": 34,
   "metadata": {},
   "outputs": [
    {
     "name": "stdout",
     "output_type": "stream",
     "text": [
      "Количество пропусков: 0\n"
     ]
    }
   ],
   "source": [
    "data['kitchen_area'] = data['kitchen_area'].fillna(data['kitchen_area'].median())\n",
    "print('Количество пропусков:', data['kitchen_area'].isna().sum())"
   ]
  },
  {
   "cell_type": "markdown",
   "metadata": {},
   "source": [
    "Вывод: Пропуски столбца kitchen_area заполнены медианными значениями, сгруппированными по количеству комнат (столбец rooms)"
   ]
  },
  {
   "cell_type": "markdown",
   "metadata": {},
   "source": [
    "Столбец **balcony**"
   ]
  },
  {
   "cell_type": "code",
   "execution_count": 35,
   "metadata": {},
   "outputs": [
    {
     "name": "stdout",
     "output_type": "stream",
     "text": [
      "balcony - число балконов\n",
      "тип данных float64\n",
      "количество пропусков 11480\n",
      "минимальное значение: 0.0 максимальное значение: 5.0\n",
      "уникальные значения: \n",
      " 1.0    4195\n",
      "0.0    3713\n",
      "2.0    3657\n",
      "5.0     304\n",
      "4.0     183\n",
      "3.0      81\n",
      "Name: balcony, dtype: int64\n"
     ]
    },
    {
     "data": {
      "text/plain": [
       "count    12133.000000\n",
       "mean         1.154208\n",
       "std          1.071022\n",
       "min          0.000000\n",
       "25%          0.000000\n",
       "50%          1.000000\n",
       "75%          2.000000\n",
       "max          5.000000\n",
       "Name: balcony, dtype: float64"
      ]
     },
     "execution_count": 35,
     "metadata": {},
     "output_type": "execute_result"
    }
   ],
   "source": [
    "cheking('balcony') \n",
    "(data['balcony']).describe()"
   ]
  },
  {
   "cell_type": "markdown",
   "metadata": {},
   "source": [
    "Пустые значения заполню 0"
   ]
  },
  {
   "cell_type": "code",
   "execution_count": 36,
   "metadata": {},
   "outputs": [
    {
     "name": "stdout",
     "output_type": "stream",
     "text": [
      "Пропусков до замены 11480\n",
      "Пропусков после замены 0\n"
     ]
    }
   ],
   "source": [
    "print('Пропусков до замены', data['balcony'].isna().sum())\n",
    "data['balcony'] = data['balcony'].fillna(0)\n",
    "print('Пропусков после замены', data['balcony'].isna().sum())"
   ]
  },
  {
   "cell_type": "markdown",
   "metadata": {},
   "source": [
    "Столбец **locality_name**"
   ]
  },
  {
   "cell_type": "code",
   "execution_count": 37,
   "metadata": {},
   "outputs": [
    {
     "name": "stdout",
     "output_type": "stream",
     "text": [
      "locality_name - название населённого пункта\n",
      "тип данных object\n",
      "количество пропусков 48\n",
      "уникальные значения: \n",
      " Санкт-Петербург                        15651\n",
      "посёлок Мурино                           520\n",
      "посёлок Шушары                           439\n",
      "Всеволожск                               398\n",
      "Пушкин                                   369\n",
      "                                       ...  \n",
      "деревня Нижняя                             1\n",
      "коттеджный поселок Счастье                 1\n",
      "поселок городского типа Кондратьево        1\n",
      "деревня Тихковицы                          1\n",
      "деревня Куровицы                           1\n",
      "Name: locality_name, Length: 364, dtype: int64\n"
     ]
    },
    {
     "data": {
      "text/plain": [
       "count               23565\n",
       "unique                364\n",
       "top       Санкт-Петербург\n",
       "freq                15651\n",
       "Name: locality_name, dtype: object"
      ]
     },
     "execution_count": 37,
     "metadata": {},
     "output_type": "execute_result"
    }
   ],
   "source": [
    "cheking('locality_name') \n",
    "data['locality_name'].describe()"
   ]
  },
  {
   "cell_type": "markdown",
   "metadata": {},
   "source": [
    "Удаляю пустые значения"
   ]
  },
  {
   "cell_type": "code",
   "execution_count": 38,
   "metadata": {},
   "outputs": [
    {
     "name": "stdout",
     "output_type": "stream",
     "text": [
      "Пропусков до замены 48\n",
      "Пропусков после замены 0\n"
     ]
    }
   ],
   "source": [
    "print('Пропусков до замены', data['locality_name'].isna().sum())\n",
    "data = data.dropna(subset=['locality_name'])\n",
    "print('Пропусков после замены', data['locality_name'].isna().sum())"
   ]
  },
  {
   "cell_type": "code",
   "execution_count": 39,
   "metadata": {},
   "outputs": [
    {
     "data": {
      "text/plain": [
       "array(['Санкт-Петербург', 'посёлок Шушары', 'городской посёлок Янино-1',\n",
       "       'посёлок Парголово', 'посёлок Мурино', 'Ломоносов', 'Сертолово',\n",
       "       'Петергоф', 'Пушкин', 'деревня Кудрово', 'Коммунар', 'Колпино',\n",
       "       'поселок городского типа Красный Бор', 'Гатчина', 'поселок Мурино',\n",
       "       'деревня Фёдоровское', 'Выборг', 'Кронштадт', 'Кировск',\n",
       "       'деревня Новое Девяткино', 'посёлок Металлострой',\n",
       "       'посёлок городского типа Лебяжье',\n",
       "       'посёлок городского типа Сиверский', 'поселок Молодцово',\n",
       "       'поселок городского типа Кузьмоловский',\n",
       "       'садовое товарищество Новая Ропша', 'Павловск',\n",
       "       'деревня Пикколово', 'Всеволожск', 'Волхов', 'Кингисепп',\n",
       "       'Приозерск', 'Сестрорецк', 'деревня Куттузи', 'посёлок Аннино',\n",
       "       'поселок городского типа Ефимовский', 'посёлок Плодовое',\n",
       "       'деревня Заклинье', 'поселок Торковичи', 'поселок Первомайское',\n",
       "       'Красное Село', 'посёлок Понтонный', 'Сясьстрой', 'деревня Старая',\n",
       "       'деревня Лесколово', 'посёлок Новый Свет', 'Сланцы',\n",
       "       'село Путилово', 'Ивангород', 'Мурино', 'Шлиссельбург',\n",
       "       'Никольское', 'Зеленогорск', 'Сосновый Бор', 'поселок Новый Свет',\n",
       "       'деревня Оржицы', 'деревня Кальтино', 'Кудрово',\n",
       "       'поселок Романовка', 'посёлок Бугры', 'поселок Бугры',\n",
       "       'поселок городского типа Рощино', 'Кириши', 'Луга', 'Волосово',\n",
       "       'Отрадное', 'село Павлово', 'поселок Оредеж', 'село Копорье',\n",
       "       'посёлок городского типа Красный Бор', 'посёлок Молодёжное',\n",
       "       'Тихвин', 'посёлок Победа', 'деревня Нурма',\n",
       "       'поселок городского типа Синявино', 'Тосно',\n",
       "       'посёлок городского типа Кузьмоловский', 'посёлок Стрельна',\n",
       "       'Бокситогорск', 'посёлок Александровская', 'деревня Лопухинка',\n",
       "       'Пикалёво', 'поселок Терволово',\n",
       "       'поселок городского типа Советский', 'Подпорожье',\n",
       "       'посёлок Петровское', 'посёлок городского типа Токсово',\n",
       "       'поселок Сельцо', 'посёлок городского типа Вырица',\n",
       "       'деревня Кипень', 'деревня Келози', 'деревня Вартемяги',\n",
       "       'посёлок Тельмана', 'поселок Севастьяново',\n",
       "       'городской поселок Большая Ижора', 'городской посёлок Павлово',\n",
       "       'деревня Агалатово', 'посёлок Новогорелово',\n",
       "       'городской посёлок Лесогорский', 'деревня Лаголово',\n",
       "       'поселок Цвелодубово', 'поселок городского типа Рахья',\n",
       "       'поселок городского типа Вырица', 'деревня Белогорка',\n",
       "       'поселок Заводской', 'городской посёлок Новоселье',\n",
       "       'деревня Большие Колпаны', 'деревня Горбунки', 'деревня Батово',\n",
       "       'деревня Заневка', 'деревня Иссад', 'Приморск',\n",
       "       'городской посёлок Фёдоровское', 'деревня Мистолово',\n",
       "       'Новая Ладога', 'поселок Зимитицы', 'поселок Барышево',\n",
       "       'деревня Разметелево', 'поселок городского типа имени Свердлова',\n",
       "       'деревня Пеники', 'поселок Рябово', 'деревня Пудомяги',\n",
       "       'поселок станции Корнево', 'деревня Низино', 'деревня Бегуницы',\n",
       "       'посёлок Поляны', 'городской посёлок Мга', 'поселок Елизаветино',\n",
       "       'посёлок городского типа Кузнечное', 'деревня Колтуши',\n",
       "       'поселок Запорожское', 'посёлок городского типа Рощино',\n",
       "       'деревня Гостилицы', 'деревня Малое Карлино',\n",
       "       'посёлок Мичуринское', 'посёлок городского типа имени Морозова',\n",
       "       'посёлок Песочный', 'посёлок Сосново', 'деревня Аро',\n",
       "       'поселок Ильичёво', 'посёлок городского типа Тайцы',\n",
       "       'деревня Малое Верево', 'деревня Извара', 'поселок станции Вещево',\n",
       "       'село Паша', 'деревня Калитино',\n",
       "       'посёлок городского типа Ульяновка', 'деревня Чудской Бор',\n",
       "       'поселок городского типа Дубровка', 'деревня Мины',\n",
       "       'поселок Войсковицы', 'посёлок городского типа имени Свердлова',\n",
       "       'деревня Коркино', 'посёлок Ропша',\n",
       "       'поселок городского типа Приладожский', 'посёлок Щеглово',\n",
       "       'посёлок Гаврилово', 'Лодейное Поле', 'деревня Рабитицы',\n",
       "       'поселок городского типа Никольский', 'деревня Кузьмолово',\n",
       "       'деревня Малые Колпаны', 'поселок Тельмана',\n",
       "       'посёлок Петро-Славянка', 'городской посёлок Назия',\n",
       "       'посёлок Репино', 'посёлок Ильичёво', 'поселок Углово',\n",
       "       'поселок Старая Малукса', 'садовое товарищество Рахья',\n",
       "       'поселок Аннино', 'поселок Победа', 'деревня Меньково',\n",
       "       'деревня Старые Бегуницы', 'посёлок Сапёрный', 'поселок Семрино',\n",
       "       'поселок Гаврилово', 'поселок Глажево', 'поселок Кобринское',\n",
       "       'деревня Гарболово', 'деревня Юкки',\n",
       "       'поселок станции Приветнинское', 'деревня Мануйлово',\n",
       "       'деревня Пчева', 'поселок Поляны', 'поселок Цвылёво',\n",
       "       'поселок Мельниково', 'посёлок Пудость', 'посёлок Усть-Луга',\n",
       "       'Светогорск', 'Любань', 'поселок Селезнёво',\n",
       "       'поселок городского типа Рябово', 'Каменногорск', 'деревня Кривко',\n",
       "       'поселок Глебычево', 'деревня Парицы', 'поселок Жилпосёлок',\n",
       "       'посёлок городского типа Мга', 'городской поселок Янино-1',\n",
       "       'посёлок Войскорово', 'село Никольское', 'посёлок Терволово',\n",
       "       'поселок Стеклянный', 'посёлок городского типа Важины',\n",
       "       'посёлок Мыза-Ивановка', 'село Русско-Высоцкое',\n",
       "       'поселок городского типа Лебяжье',\n",
       "       'поселок городского типа Форносово', 'село Старая Ладога',\n",
       "       'поселок Житково', 'городской посёлок Виллози', 'деревня Лампово',\n",
       "       'деревня Шпаньково', 'деревня Лаврики', 'посёлок Сумино',\n",
       "       'посёлок Возрождение', 'деревня Старосиверская',\n",
       "       'посёлок Кикерино', 'поселок Возрождение',\n",
       "       'деревня Старое Хинколово', 'посёлок Пригородный',\n",
       "       'посёлок Торфяное', 'городской посёлок Будогощь',\n",
       "       'поселок Суходолье', 'поселок Красная Долина', 'деревня Хапо-Ое',\n",
       "       'поселок городского типа Дружная Горка', 'поселок Лисий Нос',\n",
       "       'деревня Яльгелево', 'посёлок Стеклянный', 'село Рождествено',\n",
       "       'деревня Старополье', 'посёлок Левашово', 'деревня Сяськелево',\n",
       "       'деревня Камышовка',\n",
       "       'садоводческое некоммерческое товарищество Лесная Поляна',\n",
       "       'деревня Хязельки', 'поселок Жилгородок',\n",
       "       'посёлок городского типа Павлово', 'деревня Ялгино',\n",
       "       'поселок Новый Учхоз', 'городской посёлок Рощино',\n",
       "       'поселок Гончарово', 'поселок Почап', 'посёлок Сапёрное',\n",
       "       'посёлок Платформа 69-й километр', 'поселок Каложицы',\n",
       "       'деревня Фалилеево', 'деревня Пельгора',\n",
       "       'поселок городского типа Лесогорский', 'деревня Торошковичи',\n",
       "       'посёлок Белоостров', 'посёлок Алексеевка', 'поселок Серебрянский',\n",
       "       'поселок Лукаши', 'поселок Петровское', 'деревня Щеглово',\n",
       "       'поселок Мичуринское', 'деревня Тарасово', 'поселок Кингисеппский',\n",
       "       'посёлок при железнодорожной станции Вещево', 'поселок Ушаки',\n",
       "       'деревня Котлы', 'деревня Сижно', 'деревня Торосово',\n",
       "       'посёлок Форт Красная Горка', 'деревня Новолисино',\n",
       "       'посёлок станции Громово', 'деревня Глинка', 'посёлок Мельниково',\n",
       "       'поселок городского типа Назия', 'деревня Старая Пустошь',\n",
       "       'поселок Коммунары', 'поселок Починок',\n",
       "       'посёлок городского типа Вознесенье', 'деревня Разбегаево',\n",
       "       'посёлок городского типа Рябово', 'поселок Гладкое',\n",
       "       'посёлок при железнодорожной станции Приветнинское',\n",
       "       'поселок Тёсово-4', 'посёлок Жилгородок', 'деревня Бор',\n",
       "       'посёлок Коробицыно', 'деревня Большая Вруда', 'деревня Курковицы',\n",
       "       'посёлок Лисий Нос', 'городской посёлок Советский',\n",
       "       'посёлок Кобралово', 'деревня Суоранда', 'поселок Кобралово',\n",
       "       'поселок городского типа Кондратьево',\n",
       "       'коттеджный поселок Счастье', 'поселок Любань', 'деревня Реброво',\n",
       "       'деревня Зимитицы', 'деревня Тойворово', 'поселок Семиозерье',\n",
       "       'поселок Лесное', 'поселок Совхозный', 'поселок Усть-Луга',\n",
       "       'посёлок Ленинское', 'посёлок Суйда',\n",
       "       'посёлок городского типа Форносово', 'деревня Нижние Осельки',\n",
       "       'посёлок станции Свирь', 'поселок Перово', 'Высоцк',\n",
       "       'поселок Гарболово', 'село Шум', 'поселок Котельский',\n",
       "       'поселок станции Лужайка', 'деревня Большая Пустомержа',\n",
       "       'поселок Красносельское', 'деревня Вахнова Кара', 'деревня Пижма',\n",
       "       'коттеджный поселок Кивеннапа Север', 'поселок Коробицыно',\n",
       "       'поселок Ромашки', 'посёлок Перово', 'деревня Каськово',\n",
       "       'деревня Куровицы', 'посёлок Плоское', 'поселок Сумино',\n",
       "       'поселок городского типа Большая Ижора', 'поселок Кирпичное',\n",
       "       'деревня Ям-Тесово', 'деревня Раздолье', 'деревня Терпилицы',\n",
       "       'поселок городского типа Токсово', 'посёлок Шугозеро',\n",
       "       'деревня Ваганово', 'поселок Пушное', 'садовое товарищество Садко',\n",
       "       'посёлок Усть-Ижора', 'деревня Выскатка',\n",
       "       'городской посёлок Свирьстрой', 'поселок Громово',\n",
       "       'деревня Кисельня', 'посёлок Старая Малукса',\n",
       "       'деревня Трубников Бор', 'поселок Калитино',\n",
       "       'посёлок Высокоключевой', 'садовое товарищество Приладожский',\n",
       "       'посёлок Пансионат Зелёный Бор', 'деревня Ненимяки',\n",
       "       'поселок Пансионат Зелёный Бор', 'деревня Снегирёвка',\n",
       "       'деревня Рапполово', 'деревня Пустынка', 'поселок Рабитицы',\n",
       "       'деревня Большой Сабск', 'деревня Русско', 'деревня Лупполово',\n",
       "       'деревня Большое Рейзино', 'деревня Малая Романовка',\n",
       "       'поселок Дружноселье', 'поселок Пчевжа', 'поселок Володарское',\n",
       "       'деревня Нижняя', 'коттеджный посёлок Лесное', 'деревня Тихковицы',\n",
       "       'деревня Борисова Грива', 'посёлок Дзержинского'], dtype=object)"
      ]
     },
     "execution_count": 39,
     "metadata": {},
     "output_type": "execute_result"
    }
   ],
   "source": [
    "data['locality_name'].unique()"
   ]
  },
  {
   "cell_type": "markdown",
   "metadata": {},
   "source": [
    "Есть неявные дубликаты, поэтому решаю избавиться от типа населенного пункта"
   ]
  },
  {
   "cell_type": "code",
   "execution_count": 40,
   "metadata": {},
   "outputs": [
    {
     "name": "stdout",
     "output_type": "stream",
     "text": [
      "количество уникальных значений до категоризации: 364\n"
     ]
    }
   ],
   "source": [
    "#поиск в строковых переменных текстового фрагмента и его замена\n",
    "print('количество уникальных значений до категоризации:', len(data['locality_name'].unique()))\n",
    "\n",
    "#словарь для удаления значений\n",
    "replace_dict = ['поселок ', 'городского типа ', 'городской ',  'деревня ', \n",
    "                'коттеджный ', 'село ', 'посёлок ', 'при железнодорожной станции ',\n",
    "                'станции ', 'садоводческое некоммерческое товарищество ', 'садовое товарищество ']\n",
    "\n",
    "#функция , удаляющая значения из replace_dict в столбце locality_name:\n",
    "for value in replace_dict:\n",
    "    data['locality_name'] = data['locality_name'].str.replace(value, '')"
   ]
  },
  {
   "cell_type": "code",
   "execution_count": 41,
   "metadata": {},
   "outputs": [
    {
     "name": "stdout",
     "output_type": "stream",
     "text": [
      "количество уникальных значений после категоризации: 305\n"
     ]
    }
   ],
   "source": [
    "# Результат выполнения\n",
    "sorted(data['locality_name'].unique())\n",
    "\n",
    "print('количество уникальных значений после категоризации:', len(data['locality_name'].unique()))"
   ]
  },
  {
   "cell_type": "markdown",
   "metadata": {},
   "source": [
    "В столбце locality_name выявлены строки, в которых не был указан населенный пункт (удалены), а также неявные дубликаты: в наименованиях населенных пунктов использовался разный стиль написания, что затруднило бы дальнейший анализ данных.\n",
    "\n",
    "Причина пропусков и различного стиля написания населенных пунктов - либо в разных источниках данных, либо субъективный человеческий фактор при заполнении таблицы."
   ]
  },
  {
   "cell_type": "markdown",
   "metadata": {},
   "source": [
    "Столбец **airports_nearest**"
   ]
  },
  {
   "cell_type": "code",
   "execution_count": 42,
   "metadata": {},
   "outputs": [
    {
     "name": "stdout",
     "output_type": "stream",
     "text": [
      "airports_nearest - расстояние до ближайшего аэропорта в метрах (м)\n",
      "тип данных float64\n",
      "количество пропусков 5524\n",
      "минимальное значение: 0.0 максимальное значение: 84869.0\n",
      "уникальные значения: \n",
      " 37434.0    61\n",
      "21928.0    32\n",
      "39946.0    30\n",
      "44870.0    30\n",
      "37407.0    27\n",
      "           ..\n",
      "42695.0     1\n",
      "53478.0     1\n",
      "20335.0     1\n",
      "33699.0     1\n",
      "20875.0     1\n",
      "Name: airports_nearest, Length: 8251, dtype: int64\n"
     ]
    },
    {
     "data": {
      "text/plain": [
       "count    18041.000000\n",
       "mean     28797.082701\n",
       "std      12632.499735\n",
       "min          0.000000\n",
       "25%      18565.000000\n",
       "50%      26757.000000\n",
       "75%      37273.000000\n",
       "max      84869.000000\n",
       "Name: airports_nearest, dtype: float64"
      ]
     },
     "execution_count": 42,
     "metadata": {},
     "output_type": "execute_result"
    }
   ],
   "source": [
    "cheking('airports_nearest') \n",
    "(data['airports_nearest']).describe()"
   ]
  },
  {
   "cell_type": "markdown",
   "metadata": {},
   "source": [
    "Заполняю пропуски медианой по всем значениям"
   ]
  },
  {
   "cell_type": "code",
   "execution_count": 43,
   "metadata": {},
   "outputs": [],
   "source": [
    "data['airports_nearest'] = data['airports_nearest'].fillna(data['airports_nearest'].median())"
   ]
  },
  {
   "cell_type": "code",
   "execution_count": 44,
   "metadata": {},
   "outputs": [
    {
     "name": "stdout",
     "output_type": "stream",
     "text": [
      "Количество пропущенных значений: 0\n"
     ]
    }
   ],
   "source": [
    "# Результат\n",
    "print('Количество пропущенных значений:', data['airports_nearest'].isna().sum())"
   ]
  },
  {
   "cell_type": "markdown",
   "metadata": {},
   "source": [
    "Вывод: Пропуски столбца airports_nearest заполнены значениями по медиане, рассчитанной по всем значениям столбца airports_nearest."
   ]
  },
  {
   "cell_type": "markdown",
   "metadata": {},
   "source": [
    "Столбец **city_сenters_nearest**"
   ]
  },
  {
   "cell_type": "code",
   "execution_count": 45,
   "metadata": {},
   "outputs": [
    {
     "name": "stdout",
     "output_type": "stream",
     "text": [
      "city_centers_nearest - расстояние до центра города (м)\n",
      "тип данных float64\n",
      "количество пропусков 5501\n",
      "минимальное значение: 181.0 максимальное значение: 65968.0\n",
      "уникальные значения: \n",
      " 8460.0     61\n",
      "20802.0    32\n",
      "10720.0    30\n",
      "8434.0     27\n",
      "20444.0    27\n",
      "           ..\n",
      "8565.0      1\n",
      "5278.0      1\n",
      "11575.0     1\n",
      "3205.0      1\n",
      "4234.0      1\n",
      "Name: city_centers_nearest, Length: 7623, dtype: int64\n"
     ]
    },
    {
     "data": {
      "text/plain": [
       "count    18064.000000\n",
       "mean     14192.656056\n",
       "std       8613.348153\n",
       "min        181.000000\n",
       "25%       9238.000000\n",
       "50%      13096.500000\n",
       "75%      16285.000000\n",
       "max      65968.000000\n",
       "Name: city_centers_nearest, dtype: float64"
      ]
     },
     "execution_count": 45,
     "metadata": {},
     "output_type": "execute_result"
    }
   ],
   "source": [
    "cheking('city_centers_nearest') # заполнить пропуски 0 , int!\n",
    "(data['city_centers_nearest']).describe()"
   ]
  },
  {
   "cell_type": "markdown",
   "metadata": {},
   "source": [
    "Заполню пропуски значений медианой, рассчитанной по каждой группе locality_name"
   ]
  },
  {
   "cell_type": "code",
   "execution_count": 46,
   "metadata": {},
   "outputs": [
    {
     "name": "stdout",
     "output_type": "stream",
     "text": [
      "1.пропуски до изменений:  5501\n",
      "2.пропуски после изменений:  5432\n"
     ]
    }
   ],
   "source": [
    "filling_median_group('city_centers_nearest', 'locality_name')"
   ]
  },
  {
   "cell_type": "markdown",
   "metadata": {},
   "source": [
    "Далее заполняю медианой по всем значениям"
   ]
  },
  {
   "cell_type": "code",
   "execution_count": 47,
   "metadata": {},
   "outputs": [],
   "source": [
    "data['city_centers_nearest'] = data['city_centers_nearest'].fillna(data['city_centers_nearest'].median())"
   ]
  },
  {
   "cell_type": "code",
   "execution_count": 48,
   "metadata": {},
   "outputs": [
    {
     "name": "stdout",
     "output_type": "stream",
     "text": [
      "Количество пропущенных значений: 0\n"
     ]
    }
   ],
   "source": [
    "# Результат\n",
    "print('Количество пропущенных значений:', data['city_centers_nearest'].isna().sum())"
   ]
  },
  {
   "cell_type": "markdown",
   "metadata": {},
   "source": [
    "Вывод: Пропуски столбца city_centers_nearest частично заполнены медианными значениями, сгруппированными по столбцу locality_name, частично -по медиане, рассчитанной по всем значениям столбца city_centers_nearest Пропуски столбца airports_nearest заполнены значениями по медиане, рассчитанной по всем значениям столбца airports_nearest."
   ]
  },
  {
   "cell_type": "markdown",
   "metadata": {},
   "source": [
    "Столбец **parks_around_3000**"
   ]
  },
  {
   "cell_type": "code",
   "execution_count": 49,
   "metadata": {},
   "outputs": [
    {
     "name": "stdout",
     "output_type": "stream",
     "text": [
      "parks_around_3000 - число парков в радиусе 3 км\n",
      "тип данных float64\n",
      "количество пропусков 5500\n",
      "минимальное значение: 0.0 максимальное значение: 3.0\n",
      "уникальные значения: \n",
      " 0.0    10039\n",
      "1.0     5647\n",
      "2.0     1736\n",
      "3.0      643\n",
      "Name: parks_around_3000, dtype: int64\n"
     ]
    },
    {
     "data": {
      "text/plain": [
       "count    18065.000000\n",
       "mean         0.611569\n",
       "std          0.802088\n",
       "min          0.000000\n",
       "25%          0.000000\n",
       "50%          0.000000\n",
       "75%          1.000000\n",
       "max          3.000000\n",
       "Name: parks_around_3000, dtype: float64"
      ]
     },
     "execution_count": 49,
     "metadata": {},
     "output_type": "execute_result"
    }
   ],
   "source": [
    "cheking('parks_around_3000') \n",
    "(data['parks_around_3000']).describe()"
   ]
  },
  {
   "cell_type": "markdown",
   "metadata": {},
   "source": [
    "Пустые значения заполню 0"
   ]
  },
  {
   "cell_type": "code",
   "execution_count": 50,
   "metadata": {},
   "outputs": [
    {
     "name": "stdout",
     "output_type": "stream",
     "text": [
      "1.пропуски до изменений:  5500\n",
      "2.пропуски после изменений:  0\n"
     ]
    }
   ],
   "source": [
    "print('1.пропуски до изменений: ', data['parks_around_3000'].isna().sum())\n",
    "\n",
    "data.loc[data['parks_around_3000'].isna(), 'parks_around_3000'] = 0\n",
    "\n",
    "print('2.пропуски после изменений: ', data['parks_around_3000'].isna().sum()) "
   ]
  },
  {
   "cell_type": "markdown",
   "metadata": {},
   "source": [
    "Пропуски значений столбца parks_around_3000 заполнены значением \"0\". Причина пропусков- скорее всего незаполнение поля клиентом ввиду отсутствия парков рядом с объектом недвижимости."
   ]
  },
  {
   "cell_type": "markdown",
   "metadata": {},
   "source": [
    "Столбец **parks_nearest**"
   ]
  },
  {
   "cell_type": "code",
   "execution_count": 51,
   "metadata": {},
   "outputs": [
    {
     "name": "stdout",
     "output_type": "stream",
     "text": [
      "parks_nearest - расстояние до ближайшего парка (м)\n",
      "тип данных float64\n",
      "количество пропусков 15535\n",
      "минимальное значение: 1.0 максимальное значение: 3190.0\n",
      "уникальные значения: \n",
      " 441.0     67\n",
      "392.0     41\n",
      "173.0     41\n",
      "456.0     40\n",
      "471.0     31\n",
      "          ..\n",
      "863.0      1\n",
      "828.0      1\n",
      "1909.0     1\n",
      "1049.0     1\n",
      "929.0      1\n",
      "Name: parks_nearest, Length: 994, dtype: int64\n"
     ]
    },
    {
     "data": {
      "text/plain": [
       "count    8030.000000\n",
       "mean      490.580448\n",
       "std       341.572956\n",
       "min         1.000000\n",
       "25%       288.000000\n",
       "50%       455.000000\n",
       "75%       612.000000\n",
       "max      3190.000000\n",
       "Name: parks_nearest, dtype: float64"
      ]
     },
     "execution_count": 51,
     "metadata": {},
     "output_type": "execute_result"
    }
   ],
   "source": [
    "cheking('parks_nearest') \n",
    "(data['parks_nearest']).describe()"
   ]
  },
  {
   "cell_type": "markdown",
   "metadata": {},
   "source": [
    "Заполняю медианой по parks_around_3000"
   ]
  },
  {
   "cell_type": "code",
   "execution_count": 52,
   "metadata": {},
   "outputs": [
    {
     "name": "stdout",
     "output_type": "stream",
     "text": [
      "1.пропуски до изменений:  15535\n",
      "2.пропуски после изменений:  0\n"
     ]
    }
   ],
   "source": [
    "filling_median_group('parks_nearest', 'parks_around_3000')"
   ]
  },
  {
   "cell_type": "markdown",
   "metadata": {},
   "source": [
    "Вывод: Пропуски значений столбца parks_nearest заполнены медианой по группам значений столбца parks_around_3000. Причина пропусков- т.к. данный столбец заполняется автоматически, то отсутствие значения в столбце parks_around_3000 влечет за собой пропуски и здесь."
   ]
  },
  {
   "cell_type": "markdown",
   "metadata": {},
   "source": [
    "Столбец **ponds_around_3000**"
   ]
  },
  {
   "cell_type": "code",
   "execution_count": 53,
   "metadata": {},
   "outputs": [
    {
     "name": "stdout",
     "output_type": "stream",
     "text": [
      "ponds_around_3000 - число водоёмов в радиусе 3 км\n",
      "тип данных float64\n",
      "количество пропусков 5500\n",
      "минимальное значение: 0.0 максимальное значение: 3.0\n",
      "уникальные значения: \n",
      " 0.0    9029\n",
      "1.0    5662\n",
      "2.0    1883\n",
      "3.0    1491\n",
      "Name: ponds_around_3000, dtype: int64\n"
     ]
    },
    {
     "data": {
      "text/plain": [
       "count    18065.000000\n",
       "mean         0.769499\n",
       "std          0.938669\n",
       "min          0.000000\n",
       "25%          0.000000\n",
       "50%          1.000000\n",
       "75%          1.000000\n",
       "max          3.000000\n",
       "Name: ponds_around_3000, dtype: float64"
      ]
     },
     "execution_count": 53,
     "metadata": {},
     "output_type": "execute_result"
    }
   ],
   "source": [
    "cheking('ponds_around_3000') \n",
    "(data['ponds_around_3000']).describe()"
   ]
  },
  {
   "cell_type": "markdown",
   "metadata": {},
   "source": [
    "Заполню эти значения 0"
   ]
  },
  {
   "cell_type": "code",
   "execution_count": 54,
   "metadata": {},
   "outputs": [
    {
     "name": "stdout",
     "output_type": "stream",
     "text": [
      "1.пропуски до изменений:  5500\n",
      "2.пропуски после изменений:  0\n"
     ]
    }
   ],
   "source": [
    "print('1.пропуски до изменений: ', data['ponds_around_3000'].isna().sum())\n",
    "\n",
    "data.loc[data['ponds_around_3000'].isna(), 'ponds_around_3000'] = 0\n",
    "\n",
    "print('2.пропуски после изменений: ', data['ponds_around_3000'].isna().sum()) "
   ]
  },
  {
   "cell_type": "markdown",
   "metadata": {},
   "source": [
    "Пропуски значений столбца ponds_around_3000 заполнены значением \"0\". Пропуски из-за отсутсвия парков"
   ]
  },
  {
   "cell_type": "markdown",
   "metadata": {},
   "source": [
    "Столбец **ponds_nearest**"
   ]
  },
  {
   "cell_type": "code",
   "execution_count": 55,
   "metadata": {},
   "outputs": [
    {
     "name": "stdout",
     "output_type": "stream",
     "text": [
      "ponds_nearest - расстояние до ближайшего водоёма (м)\n",
      "тип данных float64\n",
      "количество пропусков 14529\n",
      "минимальное значение: 13.0 максимальное значение: 1344.0\n",
      "уникальные значения: \n",
      " 427.0     69\n",
      "454.0     41\n",
      "153.0     40\n",
      "433.0     39\n",
      "564.0     37\n",
      "          ..\n",
      "105.0      1\n",
      "59.0       1\n",
      "1069.0     1\n",
      "1270.0     1\n",
      "995.0      1\n",
      "Name: ponds_nearest, Length: 1096, dtype: int64\n"
     ]
    },
    {
     "data": {
      "text/plain": [
       "count    9036.000000\n",
       "mean      518.289509\n",
       "std       278.009558\n",
       "min        13.000000\n",
       "25%       293.000000\n",
       "50%       503.000000\n",
       "75%       730.000000\n",
       "max      1344.000000\n",
       "Name: ponds_nearest, dtype: float64"
      ]
     },
     "execution_count": 55,
     "metadata": {},
     "output_type": "execute_result"
    }
   ],
   "source": [
    "cheking('ponds_nearest') \n",
    "(data['ponds_nearest']).describe()"
   ]
  },
  {
   "cell_type": "code",
   "execution_count": 56,
   "metadata": {},
   "outputs": [
    {
     "name": "stdout",
     "output_type": "stream",
     "text": [
      "1.пропуски до изменений:  14529\n",
      "2.пропуски после изменений:  0\n"
     ]
    }
   ],
   "source": [
    "filling_median_group('ponds_nearest', 'parks_around_3000') "
   ]
  },
  {
   "cell_type": "markdown",
   "metadata": {},
   "source": [
    "Вывод: Пропуски значений столбца ponds_nearest заполнены медианой по группам значений столбца parks_around_3000"
   ]
  },
  {
   "cell_type": "markdown",
   "metadata": {},
   "source": [
    "Столбец **days_exposition**"
   ]
  },
  {
   "cell_type": "code",
   "execution_count": 57,
   "metadata": {},
   "outputs": [
    {
     "name": "stdout",
     "output_type": "stream",
     "text": [
      "days_exposition - сколько дней было размещено объявление (от публикации до снятия)\n",
      "тип данных float64\n",
      "количество пропусков 3171\n",
      "минимальное значение: 1.0 максимальное значение: 1580.0\n",
      "уникальные значения: \n",
      " 45.0      879\n",
      "60.0      538\n",
      "7.0       234\n",
      "30.0      208\n",
      "90.0      200\n",
      "         ... \n",
      "969.0       1\n",
      "1147.0      1\n",
      "1.0         1\n",
      "1148.0      1\n",
      "1174.0      1\n",
      "Name: days_exposition, Length: 1139, dtype: int64\n"
     ]
    },
    {
     "data": {
      "text/plain": [
       "count    20394.000000\n",
       "mean       180.741395\n",
       "std        219.732782\n",
       "min          1.000000\n",
       "25%         45.000000\n",
       "50%         95.000000\n",
       "75%        231.000000\n",
       "max       1580.000000\n",
       "Name: days_exposition, dtype: float64"
      ]
     },
     "execution_count": 57,
     "metadata": {},
     "output_type": "execute_result"
    }
   ],
   "source": [
    "cheking('days_exposition') \n",
    "(data['days_exposition']).describe()"
   ]
  },
  {
   "cell_type": "markdown",
   "metadata": {},
   "source": [
    "Выбераю строки, в которых отсутствует значение days_exposition и строю гистограмму"
   ]
  },
  {
   "cell_type": "code",
   "execution_count": 58,
   "metadata": {},
   "outputs": [
    {
     "data": {
      "image/png": "[encoded data removed]",
      "text/plain": [
       "<Figure size 432x288 with 1 Axes>"
      ]
     },
     "metadata": {
      "needs_background": "light"
     },
     "output_type": "display_data"
    }
   ],
   "source": [
    "# выборка объявлений с пропусками в days_exposition:\n",
    "day_na = data.query('days_exposition.isna()')\n",
    "\n",
    "#гистограмма по дате размещения объявлений:\n",
    "day_na['first_day_exposition'].hist(bins=30).set(xlabel='дата размещения объявления',\n",
    "                              ylabel=' количество объявлений', \n",
    "                             title='Распределение количества объявлений с пропусками в days_exposition по датам размещения');"
   ]
  },
  {
   "cell_type": "markdown",
   "metadata": {},
   "source": [
    "Из гистограммы видно, что чем больше дата, тем больше в базе данных объявлений с пропусками в days_exposition. Можно предположить, что эти объявления не были проданы. Поэтому заполню пропуски разницей между максимальной и first"
   ]
  },
  {
   "cell_type": "code",
   "execution_count": 59,
   "metadata": {},
   "outputs": [
    {
     "name": "stdout",
     "output_type": "stream",
     "text": [
      "1.пропуски до изменений:  3171\n",
      "2.пропуски после изменений:  0\n"
     ]
    }
   ],
   "source": [
    "print('1.пропуски до изменений: ', data['days_exposition'].isna().sum())\n",
    "\n",
    "#максимальная дата\n",
    "max_dt = data['first_day_exposition'].max()\n",
    "\n",
    "#заполняем пропуски разностью first_day_exposition и max_dt:\n",
    "data.loc[data['days_exposition'].isna(),\n",
    "       'days_exposition'] = (max_dt - data.loc[data['days_exposition'].isna(),\n",
    "       'first_day_exposition']).dt.days\n",
    "\n",
    "\n",
    "print('2.пропуски после изменений: ', data['days_exposition'].isna().sum()) "
   ]
  },
  {
   "cell_type": "markdown",
   "metadata": {},
   "source": [
    "Пропуски значений столбца days_exposition заполнены разностью между значением first_day_exposition и максимальной датой в днях поля first_day_exposition.\n",
    "\n",
    "Причина пропусков- квартира не продана."
   ]
  },
  {
   "cell_type": "markdown",
   "metadata": {},
   "source": [
    "### Замена типа данных"
   ]
  },
  {
   "cell_type": "code",
   "execution_count": 60,
   "metadata": {},
   "outputs": [],
   "source": [
    "#список наименований столбцов, в которых нужно изменить формат\n",
    "data_format = ['last_price', 'floors_total', 'balcony', \n",
    "             'parks_around_3000', 'parks_nearest', 'ponds_around_3000', \n",
    "            'ponds_nearest', 'airports_nearest', 'city_centers_nearest', 'days_exposition', 'airports_nearest']\n",
    "\n",
    "#применяем метод astype() для изменения формата столбцов из df_format\n",
    "data[data_format] = data[data_format].astype('int')"
   ]
  },
  {
   "cell_type": "code",
   "execution_count": 61,
   "metadata": {},
   "outputs": [],
   "source": [
    "# меняем формат из object в bool\n",
    "data['is_apartment'] = data['is_apartment'].astype('bool')"
   ]
  },
  {
   "cell_type": "code",
   "execution_count": 62,
   "metadata": {},
   "outputs": [
    {
     "name": "stdout",
     "output_type": "stream",
     "text": [
      "<class 'pandas.core.frame.DataFrame'>\n",
      "Int64Index: 23565 entries, 0 to 23698\n",
      "Data columns (total 22 columns):\n",
      " #   Column                Non-Null Count  Dtype         \n",
      "---  ------                --------------  -----         \n",
      " 0   total_images          23565 non-null  int64         \n",
      " 1   last_price            23565 non-null  int64         \n",
      " 2   total_area            23565 non-null  float64       \n",
      " 3   first_day_exposition  23565 non-null  datetime64[ns]\n",
      " 4   rooms                 23565 non-null  int64         \n",
      " 5   ceiling_height        23565 non-null  float64       \n",
      " 6   floors_total          23565 non-null  int64         \n",
      " 7   living_area           23565 non-null  float64       \n",
      " 8   floor                 23565 non-null  int64         \n",
      " 9   is_apartment          23565 non-null  bool          \n",
      " 10  studio                23565 non-null  bool          \n",
      " 11  open_plan             23565 non-null  bool          \n",
      " 12  kitchen_area          23565 non-null  float64       \n",
      " 13  balcony               23565 non-null  int64         \n",
      " 14  locality_name         23565 non-null  object        \n",
      " 15  airports_nearest      23565 non-null  int64         \n",
      " 16  city_centers_nearest  23565 non-null  int64         \n",
      " 17  parks_around_3000     23565 non-null  int64         \n",
      " 18  parks_nearest         23565 non-null  int64         \n",
      " 19  ponds_around_3000     23565 non-null  int64         \n",
      " 20  ponds_nearest         23565 non-null  int64         \n",
      " 21  days_exposition       23565 non-null  int64         \n",
      "dtypes: bool(3), datetime64[ns](1), float64(4), int64(13), object(1)\n",
      "memory usage: 3.7+ MB\n"
     ]
    }
   ],
   "source": [
    "#проверка внесения изменений \n",
    "data.info()"
   ]
  },
  {
   "cell_type": "markdown",
   "metadata": {},
   "source": [
    "Вывод: изменил формат данных"
   ]
  },
  {
   "cell_type": "code",
   "execution_count": 63,
   "metadata": {},
   "outputs": [
    {
     "data": {
      "text/plain": [
       "0"
      ]
     },
     "execution_count": 63,
     "metadata": {},
     "output_type": "execute_result"
    }
   ],
   "source": [
    "data.duplicated().sum()"
   ]
  },
  {
   "cell_type": "code",
   "execution_count": 64,
   "metadata": {
    "scrolled": true
   },
   "outputs": [
    {
     "data": {
      "text/html": [
       "<div>\n",
       "<style scoped>\n",
       "    .dataframe tbody tr th:only-of-type {\n",
       "        vertical-align: middle;\n",
       "    }\n",
       "\n",
       "    .dataframe tbody tr th {\n",
       "        vertical-align: top;\n",
       "    }\n",
       "\n",
       "    .dataframe thead th {\n",
       "        text-align: right;\n",
       "    }\n",
       "</style>\n",
       "<table border=\"1\" class=\"dataframe\">\n",
       "  <thead>\n",
       "    <tr style=\"text-align: right;\">\n",
       "      <th></th>\n",
       "      <th>total_images</th>\n",
       "      <th>last_price</th>\n",
       "      <th>total_area</th>\n",
       "      <th>first_day_exposition</th>\n",
       "      <th>rooms</th>\n",
       "      <th>ceiling_height</th>\n",
       "      <th>floors_total</th>\n",
       "      <th>living_area</th>\n",
       "      <th>floor</th>\n",
       "      <th>is_apartment</th>\n",
       "      <th>...</th>\n",
       "      <th>kitchen_area</th>\n",
       "      <th>balcony</th>\n",
       "      <th>locality_name</th>\n",
       "      <th>airports_nearest</th>\n",
       "      <th>city_centers_nearest</th>\n",
       "      <th>parks_around_3000</th>\n",
       "      <th>parks_nearest</th>\n",
       "      <th>ponds_around_3000</th>\n",
       "      <th>ponds_nearest</th>\n",
       "      <th>days_exposition</th>\n",
       "    </tr>\n",
       "  </thead>\n",
       "  <tbody>\n",
       "    <tr>\n",
       "      <th>355</th>\n",
       "      <td>17</td>\n",
       "      <td>3600000</td>\n",
       "      <td>55.2</td>\n",
       "      <td>2018-07-12</td>\n",
       "      <td>2</td>\n",
       "      <td>25.0</td>\n",
       "      <td>5</td>\n",
       "      <td>32.0</td>\n",
       "      <td>2</td>\n",
       "      <td>False</td>\n",
       "      <td>...</td>\n",
       "      <td>8.7</td>\n",
       "      <td>2</td>\n",
       "      <td>Гатчина</td>\n",
       "      <td>26757</td>\n",
       "      <td>13073</td>\n",
       "      <td>0</td>\n",
       "      <td>3127</td>\n",
       "      <td>0</td>\n",
       "      <td>549</td>\n",
       "      <td>259</td>\n",
       "    </tr>\n",
       "    <tr>\n",
       "      <th>3148</th>\n",
       "      <td>14</td>\n",
       "      <td>2900000</td>\n",
       "      <td>75.0</td>\n",
       "      <td>2018-11-12</td>\n",
       "      <td>3</td>\n",
       "      <td>32.0</td>\n",
       "      <td>3</td>\n",
       "      <td>53.0</td>\n",
       "      <td>2</td>\n",
       "      <td>True</td>\n",
       "      <td>...</td>\n",
       "      <td>8.0</td>\n",
       "      <td>0</td>\n",
       "      <td>Волхов</td>\n",
       "      <td>26757</td>\n",
       "      <td>13073</td>\n",
       "      <td>0</td>\n",
       "      <td>3127</td>\n",
       "      <td>0</td>\n",
       "      <td>549</td>\n",
       "      <td>172</td>\n",
       "    </tr>\n",
       "    <tr>\n",
       "      <th>4643</th>\n",
       "      <td>0</td>\n",
       "      <td>4300000</td>\n",
       "      <td>45.0</td>\n",
       "      <td>2018-02-01</td>\n",
       "      <td>2</td>\n",
       "      <td>25.0</td>\n",
       "      <td>9</td>\n",
       "      <td>30.0</td>\n",
       "      <td>2</td>\n",
       "      <td>True</td>\n",
       "      <td>...</td>\n",
       "      <td>7.0</td>\n",
       "      <td>1</td>\n",
       "      <td>Санкт-Петербург</td>\n",
       "      <td>12016</td>\n",
       "      <td>13256</td>\n",
       "      <td>1</td>\n",
       "      <td>658</td>\n",
       "      <td>1</td>\n",
       "      <td>331</td>\n",
       "      <td>181</td>\n",
       "    </tr>\n",
       "    <tr>\n",
       "      <th>4876</th>\n",
       "      <td>7</td>\n",
       "      <td>3000000</td>\n",
       "      <td>25.0</td>\n",
       "      <td>2017-09-27</td>\n",
       "      <td>0</td>\n",
       "      <td>27.0</td>\n",
       "      <td>25</td>\n",
       "      <td>17.0</td>\n",
       "      <td>17</td>\n",
       "      <td>True</td>\n",
       "      <td>...</td>\n",
       "      <td>9.0</td>\n",
       "      <td>2</td>\n",
       "      <td>Мурино</td>\n",
       "      <td>26757</td>\n",
       "      <td>13073</td>\n",
       "      <td>0</td>\n",
       "      <td>3127</td>\n",
       "      <td>0</td>\n",
       "      <td>549</td>\n",
       "      <td>28</td>\n",
       "    </tr>\n",
       "    <tr>\n",
       "      <th>5076</th>\n",
       "      <td>0</td>\n",
       "      <td>3850000</td>\n",
       "      <td>30.5</td>\n",
       "      <td>2018-10-03</td>\n",
       "      <td>1</td>\n",
       "      <td>24.0</td>\n",
       "      <td>5</td>\n",
       "      <td>19.5</td>\n",
       "      <td>1</td>\n",
       "      <td>True</td>\n",
       "      <td>...</td>\n",
       "      <td>5.5</td>\n",
       "      <td>0</td>\n",
       "      <td>Санкт-Петербург</td>\n",
       "      <td>29686</td>\n",
       "      <td>8389</td>\n",
       "      <td>3</td>\n",
       "      <td>397</td>\n",
       "      <td>1</td>\n",
       "      <td>578</td>\n",
       "      <td>7</td>\n",
       "    </tr>\n",
       "    <tr>\n",
       "      <th>5246</th>\n",
       "      <td>0</td>\n",
       "      <td>2500000</td>\n",
       "      <td>54.0</td>\n",
       "      <td>2017-10-13</td>\n",
       "      <td>2</td>\n",
       "      <td>27.0</td>\n",
       "      <td>5</td>\n",
       "      <td>30.0</td>\n",
       "      <td>3</td>\n",
       "      <td>True</td>\n",
       "      <td>...</td>\n",
       "      <td>9.0</td>\n",
       "      <td>2</td>\n",
       "      <td>Мины</td>\n",
       "      <td>26757</td>\n",
       "      <td>13073</td>\n",
       "      <td>0</td>\n",
       "      <td>3127</td>\n",
       "      <td>0</td>\n",
       "      <td>549</td>\n",
       "      <td>540</td>\n",
       "    </tr>\n",
       "    <tr>\n",
       "      <th>5669</th>\n",
       "      <td>4</td>\n",
       "      <td>4400000</td>\n",
       "      <td>50.0</td>\n",
       "      <td>2017-08-08</td>\n",
       "      <td>2</td>\n",
       "      <td>26.0</td>\n",
       "      <td>9</td>\n",
       "      <td>21.3</td>\n",
       "      <td>3</td>\n",
       "      <td>True</td>\n",
       "      <td>...</td>\n",
       "      <td>7.0</td>\n",
       "      <td>2</td>\n",
       "      <td>Санкт-Петербург</td>\n",
       "      <td>28981</td>\n",
       "      <td>10912</td>\n",
       "      <td>1</td>\n",
       "      <td>305</td>\n",
       "      <td>0</td>\n",
       "      <td>498</td>\n",
       "      <td>267</td>\n",
       "    </tr>\n",
       "    <tr>\n",
       "      <th>5807</th>\n",
       "      <td>17</td>\n",
       "      <td>8150000</td>\n",
       "      <td>80.0</td>\n",
       "      <td>2019-01-09</td>\n",
       "      <td>2</td>\n",
       "      <td>27.0</td>\n",
       "      <td>36</td>\n",
       "      <td>41.0</td>\n",
       "      <td>13</td>\n",
       "      <td>True</td>\n",
       "      <td>...</td>\n",
       "      <td>12.0</td>\n",
       "      <td>5</td>\n",
       "      <td>Санкт-Петербург</td>\n",
       "      <td>18732</td>\n",
       "      <td>20444</td>\n",
       "      <td>0</td>\n",
       "      <td>3127</td>\n",
       "      <td>3</td>\n",
       "      <td>80</td>\n",
       "      <td>38</td>\n",
       "    </tr>\n",
       "    <tr>\n",
       "      <th>6246</th>\n",
       "      <td>6</td>\n",
       "      <td>3300000</td>\n",
       "      <td>44.4</td>\n",
       "      <td>2019-03-25</td>\n",
       "      <td>2</td>\n",
       "      <td>25.0</td>\n",
       "      <td>5</td>\n",
       "      <td>31.3</td>\n",
       "      <td>5</td>\n",
       "      <td>True</td>\n",
       "      <td>...</td>\n",
       "      <td>5.7</td>\n",
       "      <td>0</td>\n",
       "      <td>Кронштадт</td>\n",
       "      <td>68923</td>\n",
       "      <td>50649</td>\n",
       "      <td>1</td>\n",
       "      <td>417</td>\n",
       "      <td>2</td>\n",
       "      <td>73</td>\n",
       "      <td>39</td>\n",
       "    </tr>\n",
       "    <tr>\n",
       "      <th>9379</th>\n",
       "      <td>5</td>\n",
       "      <td>3950000</td>\n",
       "      <td>42.0</td>\n",
       "      <td>2017-03-26</td>\n",
       "      <td>3</td>\n",
       "      <td>25.0</td>\n",
       "      <td>5</td>\n",
       "      <td>30.0</td>\n",
       "      <td>2</td>\n",
       "      <td>True</td>\n",
       "      <td>...</td>\n",
       "      <td>5.2</td>\n",
       "      <td>0</td>\n",
       "      <td>Санкт-Петербург</td>\n",
       "      <td>11647</td>\n",
       "      <td>13581</td>\n",
       "      <td>0</td>\n",
       "      <td>3127</td>\n",
       "      <td>0</td>\n",
       "      <td>549</td>\n",
       "      <td>768</td>\n",
       "    </tr>\n",
       "    <tr>\n",
       "      <th>10773</th>\n",
       "      <td>8</td>\n",
       "      <td>3800000</td>\n",
       "      <td>58.0</td>\n",
       "      <td>2017-10-13</td>\n",
       "      <td>2</td>\n",
       "      <td>27.0</td>\n",
       "      <td>10</td>\n",
       "      <td>30.1</td>\n",
       "      <td>3</td>\n",
       "      <td>False</td>\n",
       "      <td>...</td>\n",
       "      <td>8.1</td>\n",
       "      <td>2</td>\n",
       "      <td>Мурино</td>\n",
       "      <td>26757</td>\n",
       "      <td>13073</td>\n",
       "      <td>0</td>\n",
       "      <td>3127</td>\n",
       "      <td>0</td>\n",
       "      <td>549</td>\n",
       "      <td>71</td>\n",
       "    </tr>\n",
       "    <tr>\n",
       "      <th>11285</th>\n",
       "      <td>0</td>\n",
       "      <td>1950000</td>\n",
       "      <td>37.0</td>\n",
       "      <td>2019-03-20</td>\n",
       "      <td>1</td>\n",
       "      <td>25.0</td>\n",
       "      <td>5</td>\n",
       "      <td>17.0</td>\n",
       "      <td>4</td>\n",
       "      <td>False</td>\n",
       "      <td>...</td>\n",
       "      <td>9.0</td>\n",
       "      <td>2</td>\n",
       "      <td>Луга</td>\n",
       "      <td>26757</td>\n",
       "      <td>13073</td>\n",
       "      <td>0</td>\n",
       "      <td>3127</td>\n",
       "      <td>0</td>\n",
       "      <td>549</td>\n",
       "      <td>18</td>\n",
       "    </tr>\n",
       "    <tr>\n",
       "      <th>14382</th>\n",
       "      <td>9</td>\n",
       "      <td>1700000</td>\n",
       "      <td>35.0</td>\n",
       "      <td>2015-12-04</td>\n",
       "      <td>1</td>\n",
       "      <td>25.0</td>\n",
       "      <td>5</td>\n",
       "      <td>20.0</td>\n",
       "      <td>2</td>\n",
       "      <td>False</td>\n",
       "      <td>...</td>\n",
       "      <td>8.0</td>\n",
       "      <td>1</td>\n",
       "      <td>Новый Свет</td>\n",
       "      <td>26757</td>\n",
       "      <td>13073</td>\n",
       "      <td>0</td>\n",
       "      <td>3127</td>\n",
       "      <td>0</td>\n",
       "      <td>549</td>\n",
       "      <td>206</td>\n",
       "    </tr>\n",
       "    <tr>\n",
       "      <th>15061</th>\n",
       "      <td>19</td>\n",
       "      <td>5600000</td>\n",
       "      <td>56.4</td>\n",
       "      <td>2018-05-11</td>\n",
       "      <td>2</td>\n",
       "      <td>14.0</td>\n",
       "      <td>14</td>\n",
       "      <td>32.4</td>\n",
       "      <td>5</td>\n",
       "      <td>True</td>\n",
       "      <td>...</td>\n",
       "      <td>9.1</td>\n",
       "      <td>2</td>\n",
       "      <td>Санкт-Петербург</td>\n",
       "      <td>14814</td>\n",
       "      <td>13610</td>\n",
       "      <td>0</td>\n",
       "      <td>3127</td>\n",
       "      <td>0</td>\n",
       "      <td>549</td>\n",
       "      <td>315</td>\n",
       "    </tr>\n",
       "    <tr>\n",
       "      <th>17496</th>\n",
       "      <td>15</td>\n",
       "      <td>6700000</td>\n",
       "      <td>92.9</td>\n",
       "      <td>2019-02-19</td>\n",
       "      <td>3</td>\n",
       "      <td>20.0</td>\n",
       "      <td>17</td>\n",
       "      <td>53.2</td>\n",
       "      <td>14</td>\n",
       "      <td>True</td>\n",
       "      <td>...</td>\n",
       "      <td>12.0</td>\n",
       "      <td>5</td>\n",
       "      <td>Санкт-Петербург</td>\n",
       "      <td>16295</td>\n",
       "      <td>15092</td>\n",
       "      <td>1</td>\n",
       "      <td>967</td>\n",
       "      <td>0</td>\n",
       "      <td>498</td>\n",
       "      <td>73</td>\n",
       "    </tr>\n",
       "    <tr>\n",
       "      <th>17857</th>\n",
       "      <td>1</td>\n",
       "      <td>3900000</td>\n",
       "      <td>56.0</td>\n",
       "      <td>2017-12-22</td>\n",
       "      <td>3</td>\n",
       "      <td>27.0</td>\n",
       "      <td>5</td>\n",
       "      <td>33.0</td>\n",
       "      <td>4</td>\n",
       "      <td>False</td>\n",
       "      <td>...</td>\n",
       "      <td>9.5</td>\n",
       "      <td>0</td>\n",
       "      <td>Санкт-Петербург</td>\n",
       "      <td>41030</td>\n",
       "      <td>15543</td>\n",
       "      <td>0</td>\n",
       "      <td>3127</td>\n",
       "      <td>0</td>\n",
       "      <td>549</td>\n",
       "      <td>73</td>\n",
       "    </tr>\n",
       "    <tr>\n",
       "      <th>18545</th>\n",
       "      <td>6</td>\n",
       "      <td>3750000</td>\n",
       "      <td>43.0</td>\n",
       "      <td>2019-03-18</td>\n",
       "      <td>2</td>\n",
       "      <td>25.0</td>\n",
       "      <td>5</td>\n",
       "      <td>29.0</td>\n",
       "      <td>3</td>\n",
       "      <td>False</td>\n",
       "      <td>...</td>\n",
       "      <td>8.7</td>\n",
       "      <td>0</td>\n",
       "      <td>Санкт-Петербург</td>\n",
       "      <td>27054</td>\n",
       "      <td>8033</td>\n",
       "      <td>1</td>\n",
       "      <td>540</td>\n",
       "      <td>0</td>\n",
       "      <td>498</td>\n",
       "      <td>12</td>\n",
       "    </tr>\n",
       "    <tr>\n",
       "      <th>20478</th>\n",
       "      <td>11</td>\n",
       "      <td>8000000</td>\n",
       "      <td>45.0</td>\n",
       "      <td>2017-07-18</td>\n",
       "      <td>1</td>\n",
       "      <td>27.0</td>\n",
       "      <td>4</td>\n",
       "      <td>22.0</td>\n",
       "      <td>2</td>\n",
       "      <td>True</td>\n",
       "      <td>...</td>\n",
       "      <td>10.0</td>\n",
       "      <td>1</td>\n",
       "      <td>Санкт-Петербург</td>\n",
       "      <td>18975</td>\n",
       "      <td>3246</td>\n",
       "      <td>0</td>\n",
       "      <td>3127</td>\n",
       "      <td>3</td>\n",
       "      <td>449</td>\n",
       "      <td>429</td>\n",
       "    </tr>\n",
       "    <tr>\n",
       "      <th>20507</th>\n",
       "      <td>12</td>\n",
       "      <td>5950000</td>\n",
       "      <td>60.0</td>\n",
       "      <td>2018-02-19</td>\n",
       "      <td>2</td>\n",
       "      <td>22.6</td>\n",
       "      <td>14</td>\n",
       "      <td>35.0</td>\n",
       "      <td>11</td>\n",
       "      <td>True</td>\n",
       "      <td>...</td>\n",
       "      <td>13.0</td>\n",
       "      <td>1</td>\n",
       "      <td>Санкт-Петербург</td>\n",
       "      <td>27028</td>\n",
       "      <td>12570</td>\n",
       "      <td>0</td>\n",
       "      <td>3127</td>\n",
       "      <td>0</td>\n",
       "      <td>549</td>\n",
       "      <td>40</td>\n",
       "    </tr>\n",
       "    <tr>\n",
       "      <th>21377</th>\n",
       "      <td>19</td>\n",
       "      <td>4900000</td>\n",
       "      <td>42.0</td>\n",
       "      <td>2017-04-18</td>\n",
       "      <td>1</td>\n",
       "      <td>27.5</td>\n",
       "      <td>24</td>\n",
       "      <td>37.7</td>\n",
       "      <td>19</td>\n",
       "      <td>False</td>\n",
       "      <td>...</td>\n",
       "      <td>11.0</td>\n",
       "      <td>2</td>\n",
       "      <td>Санкт-Петербург</td>\n",
       "      <td>42742</td>\n",
       "      <td>9760</td>\n",
       "      <td>0</td>\n",
       "      <td>3127</td>\n",
       "      <td>0</td>\n",
       "      <td>549</td>\n",
       "      <td>61</td>\n",
       "    </tr>\n",
       "    <tr>\n",
       "      <th>21824</th>\n",
       "      <td>20</td>\n",
       "      <td>2450000</td>\n",
       "      <td>44.0</td>\n",
       "      <td>2019-02-12</td>\n",
       "      <td>2</td>\n",
       "      <td>27.0</td>\n",
       "      <td>2</td>\n",
       "      <td>38.0</td>\n",
       "      <td>2</td>\n",
       "      <td>False</td>\n",
       "      <td>...</td>\n",
       "      <td>8.6</td>\n",
       "      <td>2</td>\n",
       "      <td>Большая Ижора</td>\n",
       "      <td>26757</td>\n",
       "      <td>13073</td>\n",
       "      <td>0</td>\n",
       "      <td>3127</td>\n",
       "      <td>0</td>\n",
       "      <td>549</td>\n",
       "      <td>80</td>\n",
       "    </tr>\n",
       "    <tr>\n",
       "      <th>22309</th>\n",
       "      <td>20</td>\n",
       "      <td>5300000</td>\n",
       "      <td>45.0</td>\n",
       "      <td>2017-09-30</td>\n",
       "      <td>1</td>\n",
       "      <td>10.3</td>\n",
       "      <td>16</td>\n",
       "      <td>15.5</td>\n",
       "      <td>15</td>\n",
       "      <td>True</td>\n",
       "      <td>...</td>\n",
       "      <td>9.0</td>\n",
       "      <td>0</td>\n",
       "      <td>Санкт-Петербург</td>\n",
       "      <td>36353</td>\n",
       "      <td>11936</td>\n",
       "      <td>2</td>\n",
       "      <td>440</td>\n",
       "      <td>2</td>\n",
       "      <td>450</td>\n",
       "      <td>136</td>\n",
       "    </tr>\n",
       "    <tr>\n",
       "      <th>22336</th>\n",
       "      <td>19</td>\n",
       "      <td>9999000</td>\n",
       "      <td>92.4</td>\n",
       "      <td>2019-04-05</td>\n",
       "      <td>2</td>\n",
       "      <td>32.0</td>\n",
       "      <td>6</td>\n",
       "      <td>55.5</td>\n",
       "      <td>5</td>\n",
       "      <td>False</td>\n",
       "      <td>...</td>\n",
       "      <td>16.5</td>\n",
       "      <td>4</td>\n",
       "      <td>Санкт-Петербург</td>\n",
       "      <td>18838</td>\n",
       "      <td>3506</td>\n",
       "      <td>0</td>\n",
       "      <td>3127</td>\n",
       "      <td>3</td>\n",
       "      <td>511</td>\n",
       "      <td>28</td>\n",
       "    </tr>\n",
       "    <tr>\n",
       "      <th>22869</th>\n",
       "      <td>0</td>\n",
       "      <td>15000000</td>\n",
       "      <td>25.0</td>\n",
       "      <td>2018-07-25</td>\n",
       "      <td>1</td>\n",
       "      <td>100.0</td>\n",
       "      <td>5</td>\n",
       "      <td>14.0</td>\n",
       "      <td>5</td>\n",
       "      <td>True</td>\n",
       "      <td>...</td>\n",
       "      <td>11.0</td>\n",
       "      <td>5</td>\n",
       "      <td>Санкт-Петербург</td>\n",
       "      <td>34963</td>\n",
       "      <td>8283</td>\n",
       "      <td>1</td>\n",
       "      <td>223</td>\n",
       "      <td>3</td>\n",
       "      <td>30</td>\n",
       "      <td>19</td>\n",
       "    </tr>\n",
       "    <tr>\n",
       "      <th>22938</th>\n",
       "      <td>14</td>\n",
       "      <td>4000000</td>\n",
       "      <td>98.0</td>\n",
       "      <td>2018-03-15</td>\n",
       "      <td>4</td>\n",
       "      <td>27.0</td>\n",
       "      <td>2</td>\n",
       "      <td>73.0</td>\n",
       "      <td>2</td>\n",
       "      <td>True</td>\n",
       "      <td>...</td>\n",
       "      <td>9.0</td>\n",
       "      <td>1</td>\n",
       "      <td>Нижняя</td>\n",
       "      <td>26757</td>\n",
       "      <td>13073</td>\n",
       "      <td>0</td>\n",
       "      <td>3127</td>\n",
       "      <td>0</td>\n",
       "      <td>549</td>\n",
       "      <td>27</td>\n",
       "    </tr>\n",
       "  </tbody>\n",
       "</table>\n",
       "<p>25 rows × 22 columns</p>\n",
       "</div>"
      ],
      "text/plain": [
       "       total_images  last_price  total_area first_day_exposition  rooms  \\\n",
       "355              17     3600000        55.2           2018-07-12      2   \n",
       "3148             14     2900000        75.0           2018-11-12      3   \n",
       "4643              0     4300000        45.0           2018-02-01      2   \n",
       "4876              7     3000000        25.0           2017-09-27      0   \n",
       "5076              0     3850000        30.5           2018-10-03      1   \n",
       "5246              0     2500000        54.0           2017-10-13      2   \n",
       "5669              4     4400000        50.0           2017-08-08      2   \n",
       "5807             17     8150000        80.0           2019-01-09      2   \n",
       "6246              6     3300000        44.4           2019-03-25      2   \n",
       "9379              5     3950000        42.0           2017-03-26      3   \n",
       "10773             8     3800000        58.0           2017-10-13      2   \n",
       "11285             0     1950000        37.0           2019-03-20      1   \n",
       "14382             9     1700000        35.0           2015-12-04      1   \n",
       "15061            19     5600000        56.4           2018-05-11      2   \n",
       "17496            15     6700000        92.9           2019-02-19      3   \n",
       "17857             1     3900000        56.0           2017-12-22      3   \n",
       "18545             6     3750000        43.0           2019-03-18      2   \n",
       "20478            11     8000000        45.0           2017-07-18      1   \n",
       "20507            12     5950000        60.0           2018-02-19      2   \n",
       "21377            19     4900000        42.0           2017-04-18      1   \n",
       "21824            20     2450000        44.0           2019-02-12      2   \n",
       "22309            20     5300000        45.0           2017-09-30      1   \n",
       "22336            19     9999000        92.4           2019-04-05      2   \n",
       "22869             0    15000000        25.0           2018-07-25      1   \n",
       "22938            14     4000000        98.0           2018-03-15      4   \n",
       "\n",
       "       ceiling_height  floors_total  living_area  floor  is_apartment  ...  \\\n",
       "355              25.0             5         32.0      2         False  ...   \n",
       "3148             32.0             3         53.0      2          True  ...   \n",
       "4643             25.0             9         30.0      2          True  ...   \n",
       "4876             27.0            25         17.0     17          True  ...   \n",
       "5076             24.0             5         19.5      1          True  ...   \n",
       "5246             27.0             5         30.0      3          True  ...   \n",
       "5669             26.0             9         21.3      3          True  ...   \n",
       "5807             27.0            36         41.0     13          True  ...   \n",
       "6246             25.0             5         31.3      5          True  ...   \n",
       "9379             25.0             5         30.0      2          True  ...   \n",
       "10773            27.0            10         30.1      3         False  ...   \n",
       "11285            25.0             5         17.0      4         False  ...   \n",
       "14382            25.0             5         20.0      2         False  ...   \n",
       "15061            14.0            14         32.4      5          True  ...   \n",
       "17496            20.0            17         53.2     14          True  ...   \n",
       "17857            27.0             5         33.0      4         False  ...   \n",
       "18545            25.0             5         29.0      3         False  ...   \n",
       "20478            27.0             4         22.0      2          True  ...   \n",
       "20507            22.6            14         35.0     11          True  ...   \n",
       "21377            27.5            24         37.7     19         False  ...   \n",
       "21824            27.0             2         38.0      2         False  ...   \n",
       "22309            10.3            16         15.5     15          True  ...   \n",
       "22336            32.0             6         55.5      5         False  ...   \n",
       "22869           100.0             5         14.0      5          True  ...   \n",
       "22938            27.0             2         73.0      2          True  ...   \n",
       "\n",
       "       kitchen_area  balcony    locality_name  airports_nearest  \\\n",
       "355             8.7        2          Гатчина             26757   \n",
       "3148            8.0        0           Волхов             26757   \n",
       "4643            7.0        1  Санкт-Петербург             12016   \n",
       "4876            9.0        2           Мурино             26757   \n",
       "5076            5.5        0  Санкт-Петербург             29686   \n",
       "5246            9.0        2             Мины             26757   \n",
       "5669            7.0        2  Санкт-Петербург             28981   \n",
       "5807           12.0        5  Санкт-Петербург             18732   \n",
       "6246            5.7        0        Кронштадт             68923   \n",
       "9379            5.2        0  Санкт-Петербург             11647   \n",
       "10773           8.1        2           Мурино             26757   \n",
       "11285           9.0        2             Луга             26757   \n",
       "14382           8.0        1       Новый Свет             26757   \n",
       "15061           9.1        2  Санкт-Петербург             14814   \n",
       "17496          12.0        5  Санкт-Петербург             16295   \n",
       "17857           9.5        0  Санкт-Петербург             41030   \n",
       "18545           8.7        0  Санкт-Петербург             27054   \n",
       "20478          10.0        1  Санкт-Петербург             18975   \n",
       "20507          13.0        1  Санкт-Петербург             27028   \n",
       "21377          11.0        2  Санкт-Петербург             42742   \n",
       "21824           8.6        2    Большая Ижора             26757   \n",
       "22309           9.0        0  Санкт-Петербург             36353   \n",
       "22336          16.5        4  Санкт-Петербург             18838   \n",
       "22869          11.0        5  Санкт-Петербург             34963   \n",
       "22938           9.0        1           Нижняя             26757   \n",
       "\n",
       "      city_centers_nearest  parks_around_3000  parks_nearest  \\\n",
       "355                  13073                  0           3127   \n",
       "3148                 13073                  0           3127   \n",
       "4643                 13256                  1            658   \n",
       "4876                 13073                  0           3127   \n",
       "5076                  8389                  3            397   \n",
       "5246                 13073                  0           3127   \n",
       "5669                 10912                  1            305   \n",
       "5807                 20444                  0           3127   \n",
       "6246                 50649                  1            417   \n",
       "9379                 13581                  0           3127   \n",
       "10773                13073                  0           3127   \n",
       "11285                13073                  0           3127   \n",
       "14382                13073                  0           3127   \n",
       "15061                13610                  0           3127   \n",
       "17496                15092                  1            967   \n",
       "17857                15543                  0           3127   \n",
       "18545                 8033                  1            540   \n",
       "20478                 3246                  0           3127   \n",
       "20507                12570                  0           3127   \n",
       "21377                 9760                  0           3127   \n",
       "21824                13073                  0           3127   \n",
       "22309                11936                  2            440   \n",
       "22336                 3506                  0           3127   \n",
       "22869                 8283                  1            223   \n",
       "22938                13073                  0           3127   \n",
       "\n",
       "       ponds_around_3000  ponds_nearest  days_exposition  \n",
       "355                    0            549              259  \n",
       "3148                   0            549              172  \n",
       "4643                   1            331              181  \n",
       "4876                   0            549               28  \n",
       "5076                   1            578                7  \n",
       "5246                   0            549              540  \n",
       "5669                   0            498              267  \n",
       "5807                   3             80               38  \n",
       "6246                   2             73               39  \n",
       "9379                   0            549              768  \n",
       "10773                  0            549               71  \n",
       "11285                  0            549               18  \n",
       "14382                  0            549              206  \n",
       "15061                  0            549              315  \n",
       "17496                  0            498               73  \n",
       "17857                  0            549               73  \n",
       "18545                  0            498               12  \n",
       "20478                  3            449              429  \n",
       "20507                  0            549               40  \n",
       "21377                  0            549               61  \n",
       "21824                  0            549               80  \n",
       "22309                  2            450              136  \n",
       "22336                  3            511               28  \n",
       "22869                  3             30               19  \n",
       "22938                  0            549               27  \n",
       "\n",
       "[25 rows x 22 columns]"
      ]
     },
     "execution_count": 64,
     "metadata": {},
     "output_type": "execute_result"
    }
   ],
   "source": [
    "data.query('ceiling_height >= 10')"
   ]
  },
  {
   "cell_type": "markdown",
   "metadata": {},
   "source": [
    "Количество значений явялется вбросами"
   ]
  },
  {
   "cell_type": "code",
   "execution_count": 65,
   "metadata": {},
   "outputs": [
    {
     "data": {
      "text/plain": [
       "0"
      ]
     },
     "execution_count": 65,
     "metadata": {},
     "output_type": "execute_result"
    }
   ],
   "source": [
    "data['ceiling_height'].isna().sum()"
   ]
  },
  {
   "cell_type": "markdown",
   "metadata": {},
   "source": [
    "Проверка на пустые значения"
   ]
  },
  {
   "cell_type": "code",
   "execution_count": 66,
   "metadata": {},
   "outputs": [],
   "source": [
    "list = []\n",
    "for elem in data['ceiling_height']:\n",
    "    if 0 <= elem < 2: # 1 условие\n",
    "        list.append(None)\n",
    "    elif 5 <= elem < 100: # условие\n",
    "        list.append(elem/10)\n",
    "    else: list.append(elem)\n",
    "data['ceiling_height'] = list\n",
    "data['ceiling_height'] = data['ceiling_height'].fillna(data['ceiling_height'].median())\n"
   ]
  },
  {
   "cell_type": "markdown",
   "metadata": {},
   "source": [
    "- С помощью условий значения от 10 до 60 делятся на 10\n",
    "- А начения от 0 до 2 заменяются медианой по столбцу"
   ]
  },
  {
   "cell_type": "code",
   "execution_count": 67,
   "metadata": {},
   "outputs": [
    {
     "data": {
      "image/png": "[encoded data removed]",
      "text/plain": [
       "<Figure size 432x288 with 1 Axes>"
      ]
     },
     "metadata": {
      "needs_background": "light"
     },
     "output_type": "display_data"
    }
   ],
   "source": [
    "data.boxplot(['ceiling_height']);"
   ]
  },
  {
   "cell_type": "markdown",
   "metadata": {},
   "source": [
    "В процессе предобработки данных пропуски значений были заполнены:\n",
    "\n",
    "- медианой по группам значений либо общей медианой по всем значениям,\n",
    "- False или 0\n",
    "- пропуски значений столбца days_exposition заполнены разностью между значением first_day_exposition и максимальной датой в днях поля first_day_exposition (скорее всего объявления с пропусками имеют статус незакрытых)\n",
    "- В случаях , когда заполнение невозможно, строки были удалены (отсутствие наименования населенного пункта в locality_name, количество этажей в доме , floors_total)\n",
    "\n",
    "- Значения столбца locality_name категоризированы по наименованиям населенных пунктов (различные стили написания систематизированы и приведены в единообразию)\n",
    "\n",
    "Возможные причины пропусков:\n",
    "- Разные источники\n",
    "- Сбой\n",
    "- Некомпетентность заполняющего"
   ]
  },
  {
   "cell_type": "markdown",
   "metadata": {},
   "source": [
    "### Расчеты и добавление данных в таблицу"
   ]
  },
  {
   "cell_type": "markdown",
   "metadata": {},
   "source": [
    "Добавляю цену одного квадратного метра"
   ]
  },
  {
   "cell_type": "code",
   "execution_count": 68,
   "metadata": {},
   "outputs": [],
   "source": [
    "data['square_meter'] = data['last_price'] / data['total_area']\n",
    "data['square_meter'] = data['square_meter'].astype('int')"
   ]
  },
  {
   "cell_type": "markdown",
   "metadata": {},
   "source": [
    "Добавляю день, месяц и год публикации"
   ]
  },
  {
   "cell_type": "code",
   "execution_count": 69,
   "metadata": {},
   "outputs": [],
   "source": [
    "# Столбец с днем\n",
    "data['weekday_publication'] = data['first_day_exposition'].dt.weekday\n",
    "# Столбец с месяцем\n",
    "data['month_publication'] = data['first_day_exposition'].dt.month\n",
    "# Столбец с годом\n",
    "data['year_publication'] = data['first_day_exposition'].dt.year"
   ]
  },
  {
   "cell_type": "markdown",
   "metadata": {},
   "source": [
    "<div class=\"alert alert-info\"><b>Комментарий студента:</b> <b>Спасибо, прочитал. В следующий раз буду пользоваться предложенным вариантом!</b>"
   ]
  },
  {
   "cell_type": "markdown",
   "metadata": {},
   "source": [
    "с помощью функции поменяю цифры на наименование дня недели"
   ]
  },
  {
   "cell_type": "code",
   "execution_count": 70,
   "metadata": {},
   "outputs": [],
   "source": [
    "def weekday(row):\n",
    "    if row['weekday_publication'] == 1:\n",
    "        return 'понедельник'\n",
    "    elif row['weekday_publication'] == 2:\n",
    "        return 'вторник'\n",
    "    elif row['weekday_publication'] == 3:\n",
    "        return 'среда'\n",
    "    elif row['weekday_publication'] == 4:\n",
    "        return 'четверг'\n",
    "    elif row['weekday_publication'] == 5:\n",
    "        return 'пятница'\n",
    "    elif row['weekday_publication'] == 6:\n",
    "        return 'суббота'\n",
    "    elif row['weekday_publication'] == 7:\n",
    "        return 'воскресенье'\n",
    "data['weekday_publication'] = data.apply(weekday, axis=1) "
   ]
  },
  {
   "cell_type": "code",
   "execution_count": 71,
   "metadata": {},
   "outputs": [
    {
     "data": {
      "text/plain": [
       "0          среда\n",
       "1    понедельник\n",
       "2          среда\n",
       "3        четверг\n",
       "4    понедельник\n",
       "Name: weekday_publication, dtype: object"
      ]
     },
     "execution_count": 71,
     "metadata": {},
     "output_type": "execute_result"
    }
   ],
   "source": [
    "data['weekday_publication'].head()"
   ]
  },
  {
   "cell_type": "code",
   "execution_count": 72,
   "metadata": {},
   "outputs": [],
   "source": [
    "#функция, определяющая категорию этажа:\n",
    "def floors_category(row):\n",
    "    if row['floor'] == 1:\n",
    "        return 'первый'\n",
    "    elif row['floor'] == row['floors_total']:\n",
    "        return 'последний'\n",
    "    else:\n",
    "        return 'другой'\n",
    "\n",
    "#применяем метод apply и функцию floors_category к созданному столбцу floor_group:\n",
    "data['floor_group'] = data.apply(floors_category, axis=1)  "
   ]
  },
  {
   "cell_type": "code",
   "execution_count": 73,
   "metadata": {},
   "outputs": [
    {
     "data": {
      "text/plain": [
       "0    другой\n",
       "1    первый\n",
       "2    другой\n",
       "3    другой\n",
       "4    другой\n",
       "Name: floor_group, dtype: object"
      ]
     },
     "execution_count": 73,
     "metadata": {},
     "output_type": "execute_result"
    }
   ],
   "source": [
    "data['floor_group'].head()"
   ]
  },
  {
   "cell_type": "code",
   "execution_count": 74,
   "metadata": {},
   "outputs": [],
   "source": [
    "# Делим значение в столбце на 1000 и округляем\n",
    "data['center_distance_km'] = round(data['city_centers_nearest']/1000)\n",
    "data['center_distance_km'] = data['center_distance_km'].astype('int')"
   ]
  },
  {
   "cell_type": "markdown",
   "metadata": {},
   "source": [
    "Вывод: Для дальнейшего анализа рассчитаны и добавлены отдельными столбцами значения цены 1 кв.м., дня недели, месяца и года объявления, категории этажа, расстояние до центра в км."
   ]
  },
  {
   "cell_type": "markdown",
   "metadata": {},
   "source": [
    "### Изучение и описание параметров"
   ]
  },
  {
   "cell_type": "markdown",
   "metadata": {},
   "source": [
    "Необходимо изучить параметры с помощью гистограм и сделать определенные выводы\n",
    "1. Общая и жилая площадь"
   ]
  },
  {
   "cell_type": "code",
   "execution_count": 75,
   "metadata": {},
   "outputs": [
    {
     "data": {
      "image/png": "[encoded data removed]",
      "text/plain": [
       "<Figure size 432x288 with 1 Axes>"
      ]
     },
     "metadata": {
      "needs_background": "light"
     },
     "output_type": "display_data"
    }
   ],
   "source": [
    "data['total_area'].plot(kind='hist', y='total_area', \n",
    "    histtype='step',bins=30, grid=True, legend=True, alpha=1,\n",
    "    title='Общая площадь квартир, кв.м.',linewidth=2, range = (0, 200)\n",
    "    ).set(xlabel='площадь в кв.м.', ylabel='количество объектов');"
   ]
  },
  {
   "cell_type": "code",
   "execution_count": 76,
   "metadata": {},
   "outputs": [
    {
     "data": {
      "image/png": "[encoded data removed]",
      "text/plain": [
       "<Figure size 432x288 with 1 Axes>"
      ]
     },
     "metadata": {
      "needs_background": "light"
     },
     "output_type": "display_data"
    }
   ],
   "source": [
    "data['living_area'].plot(kind='hist', y='total_area', \n",
    "    histtype='step', bins=10, grid=True, legend=True, alpha=1,\n",
    "    linewidth=2, range= (0, 200)                         \n",
    "    );"
   ]
  },
  {
   "cell_type": "markdown",
   "metadata": {},
   "source": [
    "- В общей площади пик находится от 30 до 40 кв. м. После 50 начинается снижние количества квартир\n",
    "- В Жилой площади пик находится в начении 25 - 30 кв. метров. После 50 также начинается снижение количества квартир"
   ]
  },
  {
   "cell_type": "markdown",
   "metadata": {},
   "source": [
    "2. Площадь кухни и цена объекта"
   ]
  },
  {
   "cell_type": "code",
   "execution_count": 77,
   "metadata": {},
   "outputs": [
    {
     "data": {
      "image/png": "[encoded data removed]",
      "text/plain": [
       "<Figure size 432x288 with 1 Axes>"
      ]
     },
     "metadata": {
      "needs_background": "light"
     },
     "output_type": "display_data"
    }
   ],
   "source": [
    "data['kitchen_area'].hist(bins=50, range=(0, 40)).set(title='Площадь кухни', \n",
    "    xlabel='площадь в кв.м.', ylabel='количество объектов');\n",
    "plt.show()"
   ]
  },
  {
   "cell_type": "code",
   "execution_count": 78,
   "metadata": {},
   "outputs": [
    {
     "data": {
      "image/png": "[encoded data removed]",
      "text/plain": [
       "<Figure size 432x288 with 1 Axes>"
      ]
     },
     "metadata": {
      "needs_background": "light"
     },
     "output_type": "display_data"
    }
   ],
   "source": [
    "data['last_price'].hist(bins=30,  range=(0, 25000000)).set(title='Цены на жилье', \n",
    "    xlabel='цена', ylabel='количество объектов');"
   ]
  },
  {
   "cell_type": "markdown",
   "metadata": {},
   "source": [
    "- диапазон площади кухни-в основном от 5 до 15 кв.м., с пиком 9 кв.м. Это стандартные небольшие квартиры, которые распространены в наших городах и являются типичными для среднестатистической квартиры эконом-класса\n",
    "- Цены на квартиры в основном находятся в диапазоне 2.5-15 млн.руб. с пиком в области 3-5 млн.руб.(небольшие квартиры эконом-класса)"
   ]
  },
  {
   "cell_type": "markdown",
   "metadata": {},
   "source": [
    "3. Количество комнат и высота потолков"
   ]
  },
  {
   "cell_type": "code",
   "execution_count": 79,
   "metadata": {},
   "outputs": [
    {
     "data": {
      "image/png": "[encoded data removed]",
      "text/plain": [
       "<Figure size 432x288 with 1 Axes>"
      ]
     },
     "metadata": {
      "needs_background": "light"
     },
     "output_type": "display_data"
    }
   ],
   "source": [
    "data['rooms'].hist(bins=10,  range=(0, 10)).set(title='Количество комнат', \n",
    "    xlabel='комнаты', ylabel='количество объектов');"
   ]
  },
  {
   "cell_type": "code",
   "execution_count": 80,
   "metadata": {},
   "outputs": [
    {
     "data": {
      "image/png": "[encoded data removed]",
      "text/plain": [
       "<Figure size 432x288 with 1 Axes>"
      ]
     },
     "metadata": {
      "needs_background": "light"
     },
     "output_type": "display_data"
    }
   ],
   "source": [
    "data['ceiling_height'].hist(bins = 20,  range=(0, 6)).set(title='Высота потолков', \n",
    "    xlabel='Высота в м.', ylabel='количество объектов');"
   ]
  },
  {
   "cell_type": "markdown",
   "metadata": {},
   "source": [
    "- Пик комнат от 2 до 3\n",
    "- Как и ожидалось потолки пик потолков 2,5 метра, дальше все меньше"
   ]
  },
  {
   "cell_type": "markdown",
   "metadata": {},
   "source": [
    "4. Этаж и тип этажа"
   ]
  },
  {
   "cell_type": "code",
   "execution_count": 81,
   "metadata": {},
   "outputs": [
    {
     "data": {
      "image/png": "[encoded data removed]",
      "text/plain": [
       "<Figure size 432x288 with 1 Axes>"
      ]
     },
     "metadata": {
      "needs_background": "light"
     },
     "output_type": "display_data"
    }
   ],
   "source": [
    "data['floor'].hist(bins = 15,  range=(0, 25)).set(title='Этажи', \n",
    "    xlabel='Этаж', ylabel='количество объектов');"
   ]
  },
  {
   "cell_type": "code",
   "execution_count": 82,
   "metadata": {},
   "outputs": [
    {
     "data": {
      "image/png": "[encoded data removed]",
      "text/plain": [
       "<Figure size 432x288 with 1 Axes>"
      ]
     },
     "metadata": {
      "needs_background": "light"
     },
     "output_type": "display_data"
    }
   ],
   "source": [
    "data['floor_group'].hist(bins = 20,  range=(0, 3)).set(title='Этажи', \n",
    "    xlabel='Этаж', ylabel='количество объектов');"
   ]
  },
  {
   "cell_type": "markdown",
   "metadata": {},
   "source": [
    "- Больше всего квартир находится с 1 по 6 этаж\n",
    "- Квартир которые находятся на последнем этаже, больше чем на первом"
   ]
  },
  {
   "cell_type": "markdown",
   "metadata": {},
   "source": [
    "5. Общее количество этажей в доме"
   ]
  },
  {
   "cell_type": "code",
   "execution_count": 83,
   "metadata": {},
   "outputs": [
    {
     "data": {
      "image/png": "[encoded data removed]",
      "text/plain": [
       "<Figure size 432x288 with 1 Axes>"
      ]
     },
     "metadata": {
      "needs_background": "light"
     },
     "output_type": "display_data"
    }
   ],
   "source": [
    "data['floors_total'].hist(bins = 18,  range=(0, 25)).set(title='Этажей в доме', \n",
    "    xlabel='Кол-во этажей', ylabel='количество объектов');"
   ]
  },
  {
   "cell_type": "markdown",
   "metadata": {},
   "source": [
    "- Больше всего домов где до 10 этажей. То есть классические девятиэтажки. Можно предположить, что большинство квартир относятня ковторичному рынку. Так как в новых домах большое кол-во этажей"
   ]
  },
  {
   "cell_type": "markdown",
   "metadata": {},
   "source": [
    "6. расстояние до центра города в метрах,\n",
    " расстояние до ближайшего аэропорта,\n",
    " расстояние до ближайшего парка"
   ]
  },
  {
   "cell_type": "code",
   "execution_count": 84,
   "metadata": {},
   "outputs": [
    {
     "data": {
      "image/png": "[encoded data removed]",
      "text/plain": [
       "<Figure size 432x288 with 1 Axes>"
      ]
     },
     "metadata": {
      "needs_background": "light"
     },
     "output_type": "display_data"
    }
   ],
   "source": [
    "data['city_centers_nearest'].hist(bins = 20,  range=(0, 20000)).set(title='Расстояние до центра', \n",
    "    xlabel='расстояние в м.', ylabel='количество объектов');"
   ]
  },
  {
   "cell_type": "code",
   "execution_count": 85,
   "metadata": {},
   "outputs": [
    {
     "data": {
      "image/png": "[encoded data removed]",
      "text/plain": [
       "<Figure size 432x288 with 1 Axes>"
      ]
     },
     "metadata": {
      "needs_background": "light"
     },
     "output_type": "display_data"
    }
   ],
   "source": [
    "data['airports_nearest'].hist(bins = 20,  range=(0, 40000)).set(title='Расстояние до аэропорта', \n",
    "    xlabel='расстояние в м.', ylabel='количество объектов');"
   ]
  },
  {
   "cell_type": "code",
   "execution_count": 86,
   "metadata": {},
   "outputs": [
    {
     "data": {
      "image/png": "[encoded data removed]",
      "text/plain": [
       "<Figure size 432x288 with 1 Axes>"
      ]
     },
     "metadata": {
      "needs_background": "light"
     },
     "output_type": "display_data"
    }
   ],
   "source": [
    "data['parks_nearest'].hist(bins = 20,  range=(0, 3500)).set(title='Расстояние до парка', \n",
    "    xlabel='расстояние в м.', ylabel='количество объектов');"
   ]
  },
  {
   "cell_type": "markdown",
   "metadata": {},
   "source": [
    "- Расстояние до центра города в пике имеет значение 13 км\n",
    "- Расстояние до аэропорта в пике 26-28 км\n",
    "- Расстояние до парка в основном от 3 км. Но есть значение из ЛО до 1 км"
   ]
  },
  {
   "cell_type": "markdown",
   "metadata": {},
   "source": [
    "7. Продажи дни и месяцы"
   ]
  },
  {
   "cell_type": "code",
   "execution_count": 87,
   "metadata": {},
   "outputs": [
    {
     "data": {
      "image/png": "[encoded data removed]",
      "text/plain": [
       "<Figure size 432x288 with 1 Axes>"
      ]
     },
     "metadata": {
      "needs_background": "light"
     },
     "output_type": "display_data"
    }
   ],
   "source": [
    "data['weekday_publication'].hist(bins=30).set(title='День публикации', \n",
    "    xlabel='дни недели', ylabel='количество объектов');\n",
    "plt.show()"
   ]
  },
  {
   "cell_type": "code",
   "execution_count": 88,
   "metadata": {},
   "outputs": [
    {
     "data": {
      "image/png": "[encoded data removed]",
      "text/plain": [
       "<Figure size 432x288 with 1 Axes>"
      ]
     },
     "metadata": {
      "needs_background": "light"
     },
     "output_type": "display_data"
    }
   ],
   "source": [
    "data['month_publication'].hist(bins=30).set(title='месяц публикации', \n",
    "    xlabel='месяца', ylabel='количество объектов');\n",
    "plt.show()"
   ]
  },
  {
   "cell_type": "markdown",
   "metadata": {},
   "source": [
    "- больше всего публикуется картир с понеднльника по четверг включительно\n",
    "- больше всего публикуется картир зимой и в конце лета ближе к осени"
   ]
  },
  {
   "cell_type": "markdown",
   "metadata": {},
   "source": [
    "### Как быстро продавались квартиры"
   ]
  },
  {
   "cell_type": "code",
   "execution_count": 89,
   "metadata": {},
   "outputs": [
    {
     "data": {
      "text/plain": [
       "count    23565.000000\n",
       "mean       185.759728\n",
       "std        233.492930\n",
       "min          0.000000\n",
       "25%         43.000000\n",
       "50%         94.000000\n",
       "75%        237.000000\n",
       "max       1618.000000\n",
       "Name: days_exposition, dtype: float64"
      ]
     },
     "execution_count": 89,
     "metadata": {},
     "output_type": "execute_result"
    }
   ],
   "source": [
    "data['days_exposition'].describe()"
   ]
  },
  {
   "cell_type": "code",
   "execution_count": 90,
   "metadata": {},
   "outputs": [
    {
     "data": {
      "image/png": "[encoded data removed]",
      "text/plain": [
       "<Figure size 432x288 with 1 Axes>"
      ]
     },
     "metadata": {
      "needs_background": "light"
     },
     "output_type": "display_data"
    }
   ],
   "source": [
    "data['days_exposition'].hist(bins=30).set(title='Время продажи квартиры', \n",
    "    xlabel='кол-во дней продажи', ylabel='количество объектов');\n",
    "plt.show()\n"
   ]
  },
  {
   "cell_type": "code",
   "execution_count": 91,
   "metadata": {},
   "outputs": [
    {
     "data": {
      "image/png": "[encoded data removed]",
      "text/plain": [
       "<Figure size 432x288 with 1 Axes>"
      ]
     },
     "metadata": {
      "needs_background": "light"
     },
     "output_type": "display_data"
    }
   ],
   "source": [
    "data['days_exposition'].hist(bins=30, range=(0, 100)).set(title='Время продажи квартиры', \n",
    "    xlabel='кол-во дней продажи', ylabel='количество объектов');\n",
    "plt.show()"
   ]
  },
  {
   "cell_type": "markdown",
   "metadata": {},
   "source": [
    "- Общее время продажи жилой недвижимости до 1600 дней. Медиана времени продажи находится на уровне 94 дней, а среднее значение 185 дней. При этом можно увидеть, что большинство квартир продается в первые 60 дней с момента публикации. Vожно сказать, что продажи прошли очень быстро, если сделки были оформлены в период до 16 дней и слишком долго, если до оформления сделки свыше 1134 дней."
   ]
  },
  {
   "cell_type": "markdown",
   "metadata": {},
   "source": [
    "Вывод: В основном это жилье общей площадью от 30 до 100 кв.м. с пиком в сегменте 30-75 кв.м. В жилой площади квартиры преобладает диапазон 15-35 кв.м., и с несколько меньшим, но ожидаемым ожидаемым пиком в диапазоне 40-50 кв.м. Размер площади кухни-в основном от 5 до 15 кв.м., с пиком 9 кв.м. Это стандартные небольшие квартиры, которые очень распространены в нашем городе и являются типичными для среднестатистической квартиры эконом-класса.\n",
    "\n",
    "Цены на квартиры в основном находятся в диапазоне 2.5-15 млн.руб. с пиком в области 3-5 млн.руб.(небольшие квартиры эконом-класса), но есть и уникальные объекты стоимостью до 763 млн.руб. Стоимость квадратного метра недвижимости варьируется от 50 до 140 тыс.руб. с пиком в области 90-100 тыс.руб.\n",
    "\n",
    "Общее время продажи жилой недвижимости до 1600 дней. Половина квартир продается за период до 94 дней, а среднее значение по всему массиву данных -185 дней. При этом можно увидеть, что пик продаж приходится на 60 день с момента публикации. Исходя из расчета выбросов можно сказать, что продажи прошли аномально быстро, если сделки были оформлены в период до 400 дней и слишком долго, если до оформления сделки свыше 1200 дней."
   ]
  },
  {
   "cell_type": "markdown",
   "metadata": {},
   "source": []
  },
  {
   "cell_type": "markdown",
   "metadata": {},
   "source": [
    "### Какие факторы влияют на цену"
   ]
  },
  {
   "cell_type": "markdown",
   "metadata": {},
   "source": [
    "Для начала найду построю корреляционную матрицу для общей площади, жилой площади, кухни и комнат"
   ]
  },
  {
   "cell_type": "code",
   "execution_count": 92,
   "metadata": {},
   "outputs": [
    {
     "data": {
      "text/html": [
       "<div>\n",
       "<style scoped>\n",
       "    .dataframe tbody tr th:only-of-type {\n",
       "        vertical-align: middle;\n",
       "    }\n",
       "\n",
       "    .dataframe tbody tr th {\n",
       "        vertical-align: top;\n",
       "    }\n",
       "\n",
       "    .dataframe thead th {\n",
       "        text-align: right;\n",
       "    }\n",
       "</style>\n",
       "<table border=\"1\" class=\"dataframe\">\n",
       "  <thead>\n",
       "    <tr style=\"text-align: right;\">\n",
       "      <th></th>\n",
       "      <th>last_price</th>\n",
       "      <th>total_area</th>\n",
       "      <th>living_area</th>\n",
       "      <th>kitchen_area</th>\n",
       "      <th>rooms</th>\n",
       "    </tr>\n",
       "  </thead>\n",
       "  <tbody>\n",
       "    <tr>\n",
       "      <th>last_price</th>\n",
       "      <td>1.000000</td>\n",
       "      <td>0.653687</td>\n",
       "      <td>0.556548</td>\n",
       "      <td>0.454382</td>\n",
       "      <td>0.363108</td>\n",
       "    </tr>\n",
       "    <tr>\n",
       "      <th>total_area</th>\n",
       "      <td>0.653687</td>\n",
       "      <td>1.000000</td>\n",
       "      <td>0.910618</td>\n",
       "      <td>0.585814</td>\n",
       "      <td>0.758657</td>\n",
       "    </tr>\n",
       "    <tr>\n",
       "      <th>living_area</th>\n",
       "      <td>0.556548</td>\n",
       "      <td>0.910618</td>\n",
       "      <td>1.000000</td>\n",
       "      <td>0.423906</td>\n",
       "      <td>0.852312</td>\n",
       "    </tr>\n",
       "    <tr>\n",
       "      <th>kitchen_area</th>\n",
       "      <td>0.454382</td>\n",
       "      <td>0.585814</td>\n",
       "      <td>0.423906</td>\n",
       "      <td>1.000000</td>\n",
       "      <td>0.274319</td>\n",
       "    </tr>\n",
       "    <tr>\n",
       "      <th>rooms</th>\n",
       "      <td>0.363108</td>\n",
       "      <td>0.758657</td>\n",
       "      <td>0.852312</td>\n",
       "      <td>0.274319</td>\n",
       "      <td>1.000000</td>\n",
       "    </tr>\n",
       "  </tbody>\n",
       "</table>\n",
       "</div>"
      ],
      "text/plain": [
       "              last_price  total_area  living_area  kitchen_area     rooms\n",
       "last_price      1.000000    0.653687     0.556548      0.454382  0.363108\n",
       "total_area      0.653687    1.000000     0.910618      0.585814  0.758657\n",
       "living_area     0.556548    0.910618     1.000000      0.423906  0.852312\n",
       "kitchen_area    0.454382    0.585814     0.423906      1.000000  0.274319\n",
       "rooms           0.363108    0.758657     0.852312      0.274319  1.000000"
      ]
     },
     "execution_count": 92,
     "metadata": {},
     "output_type": "execute_result"
    }
   ],
   "source": [
    "data[['last_price', 'total_area', 'living_area', 'kitchen_area', 'rooms']].corr()"
   ]
  },
  {
   "cell_type": "markdown",
   "metadata": {},
   "source": [
    "Пока что корреляционые показатели не совсем понятны, буду визуализировать"
   ]
  },
  {
   "cell_type": "code",
   "execution_count": 93,
   "metadata": {},
   "outputs": [
    {
     "data": {
      "image/png": "[encoded data removed]",
      "text/plain": [
       "<Figure size 432x288 with 1 Axes>"
      ]
     },
     "metadata": {
      "needs_background": "light"
     },
     "output_type": "display_data"
    }
   ],
   "source": [
    "#диаграмма рессеяния (цена и общая площадь квартиры)\n",
    "data.plot(x = 'total_area', y = 'last_price', kind='scatter', alpha=0.2,\n",
    "                       title='Зависимость цены от площади квартиры').set(\n",
    "                       xlabel='общая площадь', ylabel='цена');"
   ]
  },
  {
   "cell_type": "markdown",
   "metadata": {},
   "source": [
    "Прослеживается корреляция в квартирах метражом до 200 кв. м. Корреляция равна 0,65"
   ]
  },
  {
   "cell_type": "code",
   "execution_count": 94,
   "metadata": {},
   "outputs": [
    {
     "data": {
      "image/png": "[encoded data removed]",
      "text/plain": [
       "<Figure size 432x288 with 1 Axes>"
      ]
     },
     "metadata": {
      "needs_background": "light"
     },
     "output_type": "display_data"
    }
   ],
   "source": [
    "#диаграмма рассеяния (цена и жилая площадь)\n",
    "data.plot(x='living_area', y='last_price', kind='scatter', alpha=0.2,\n",
    "                       title='Зависимость цены от жилой площади').set(\n",
    "                       xlabel='жилая площадь', ylabel='цена');"
   ]
  },
  {
   "cell_type": "markdown",
   "metadata": {},
   "source": [
    "Прослеживается корреляция где жилая площадь до 100 кв. м. Корреляция равна 0,55"
   ]
  },
  {
   "cell_type": "code",
   "execution_count": 95,
   "metadata": {},
   "outputs": [
    {
     "data": {
      "image/png": "[encoded data removed]",
      "text/plain": [
       "<Figure size 432x288 with 1 Axes>"
      ]
     },
     "metadata": {
      "needs_background": "light"
     },
     "output_type": "display_data"
    }
   ],
   "source": [
    "#диаграмма рассеяния (цена и площадь кухни)\n",
    "data.plot(x='kitchen_area', y='last_price', kind='scatter', alpha=0.2,\n",
    "                       title='Зависимость цены от площади кухни').set(\n",
    "                       xlabel='площадь кухни', ylabel='цена');"
   ]
  },
  {
   "cell_type": "markdown",
   "metadata": {},
   "source": [
    "Заметна корреляция с кухнями до 20 кв. м. Корреляция равна 0,45"
   ]
  },
  {
   "cell_type": "code",
   "execution_count": 96,
   "metadata": {},
   "outputs": [
    {
     "data": {
      "image/png": "[encoded data removed]",
      "text/plain": [
       "<Figure size 432x288 with 1 Axes>"
      ]
     },
     "metadata": {
      "needs_background": "light"
     },
     "output_type": "display_data"
    }
   ],
   "source": [
    "data.plot(x='kitchen_area', y='last_price', kind='scatter', alpha=0.2,\n",
    "                       title='Зависимость цены от площади кухни').set(\n",
    "                       xlabel='площадь кухни', ylabel='цена');"
   ]
  },
  {
   "cell_type": "markdown",
   "metadata": {},
   "source": [
    "Присутствует зависимость с метражом до 20 кв.м. Корреляция равна 0,45"
   ]
  },
  {
   "cell_type": "code",
   "execution_count": 97,
   "metadata": {},
   "outputs": [
    {
     "data": {
      "image/png": "[encoded data removed]",
      "text/plain": [
       "<Figure size 432x288 with 1 Axes>"
      ]
     },
     "metadata": {
      "needs_background": "light"
     },
     "output_type": "display_data"
    }
   ],
   "source": [
    "data.plot(x='rooms', y='last_price', kind='scatter', alpha=0.2,\n",
    "                       title='Зависимость цены от колличества комнат').set(\n",
    "                       xlabel='комнаты', ylabel='цена');"
   ]
  },
  {
   "cell_type": "markdown",
   "metadata": {},
   "source": [
    "Видно, что чем больше комнат, тем больше цена. Хотя корреляция приблизительно 0,35"
   ]
  },
  {
   "cell_type": "code",
   "execution_count": 98,
   "metadata": {},
   "outputs": [
    {
     "data": {
      "image/png": "[encoded data removed]",
      "text/plain": [
       "<Figure size 432x288 with 1 Axes>"
      ]
     },
     "metadata": {
      "needs_background": "light"
     },
     "output_type": "display_data"
    }
   ],
   "source": [
    "data.pivot_table(index='floor_group', values='last_price', aggfunc='median').reset_index().plot(\n",
    "                      x='floor_group', y='last_price', grid=True, style='o-').set(\n",
    "                      title='Зависимость цены  от этажа', \n",
    "                      xlabel='этаж', ylabel='цена');"
   ]
  },
  {
   "cell_type": "markdown",
   "metadata": {},
   "source": [
    "На первом этаже квартиры дешевле, затем на последнем, а самые дорогие промежуточные"
   ]
  },
  {
   "cell_type": "code",
   "execution_count": 99,
   "metadata": {},
   "outputs": [
    {
     "data": {
      "image/png": "[encoded data removed]",
      "text/plain": [
       "<Figure size 432x288 with 1 Axes>"
      ]
     },
     "metadata": {
      "needs_background": "light"
     },
     "output_type": "display_data"
    }
   ],
   "source": [
    "data.pivot_table(index='weekday_publication', values='last_price').reset_index().plot(\n",
    "                      x='weekday_publication', y='last_price', grid=True, style='o-').set(\n",
    "                      title='Зависимость цены  от дня недели', \n",
    "                      xlabel='день недели', ylabel='цена');"
   ]
  },
  {
   "cell_type": "markdown",
   "metadata": {},
   "source": [
    "Больше сделок было закрыто в пятницу и среду. Меньше всего в субботу и понедельник"
   ]
  },
  {
   "cell_type": "code",
   "execution_count": 100,
   "metadata": {},
   "outputs": [
    {
     "data": {
      "image/png": "[encoded data removed]",
      "text/plain": [
       "<Figure size 432x288 with 1 Axes>"
      ]
     },
     "metadata": {
      "needs_background": "light"
     },
     "output_type": "display_data"
    }
   ],
   "source": [
    "data.pivot_table(index='month_publication', values='last_price').reset_index().plot(\n",
    "                      x='month_publication', y='last_price', grid=True, style='o-').set(\n",
    "                      title='Зависимость цены  от месяца', \n",
    "                      xlabel='месяц', ylabel='цена');"
   ]
  },
  {
   "cell_type": "markdown",
   "metadata": {},
   "source": [
    "Больше всего сделок закрыто перед новым годом, а за 2 месяца видна сильная просадка. Остальные значения меняются поочередно"
   ]
  },
  {
   "cell_type": "code",
   "execution_count": 101,
   "metadata": {},
   "outputs": [
    {
     "data": {
      "image/png": "[encoded data removed]",
      "text/plain": [
       "<Figure size 432x288 with 1 Axes>"
      ]
     },
     "metadata": {
      "needs_background": "light"
     },
     "output_type": "display_data"
    }
   ],
   "source": [
    "data.pivot_table(index='year_publication', values='last_price').reset_index().plot(\n",
    "                      x='year_publication', y='last_price', grid=True, style='o-').set(\n",
    "                      title='Зависимость цены  от года', \n",
    "                      xlabel='год', ylabel='цена');"
   ]
  },
  {
   "cell_type": "markdown",
   "metadata": {},
   "source": [
    "Наблюдается падение продаж начиная с 2014 года, но в 2019 наблюдается небольшой прирост"
   ]
  },
  {
   "cell_type": "code",
   "execution_count": 102,
   "metadata": {},
   "outputs": [
    {
     "data": {
      "image/png": "[encoded data removed]",
      "text/plain": [
       "<Figure size 432x288 with 1 Axes>"
      ]
     },
     "metadata": {
      "needs_background": "light"
     },
     "output_type": "display_data"
    }
   ],
   "source": [
    "data.pivot_table(index='total_area', values='last_price').reset_index().plot(\n",
    "                      x='total_area', y='last_price', grid=True, style='o-').set(\n",
    "                      title='Зависимость цены  от площади', \n",
    "                      xlabel='площадь квартиры', ylabel='цена');"
   ]
  },
  {
   "cell_type": "markdown",
   "metadata": {},
   "source": [
    "По данному графику можно сказать, что цена меняется вместе с увеличением площади квартир"
   ]
  },
  {
   "cell_type": "code",
   "execution_count": 104,
   "metadata": {},
   "outputs": [
    {
     "data": {
      "image/png": "[encoded data removed]",
      "text/plain": [
       "<Figure size 432x288 with 1 Axes>"
      ]
     },
     "metadata": {
      "needs_background": "light"
     },
     "output_type": "display_data"
    }
   ],
   "source": [
    "data.pivot_table(index='year_publication', values='total_area').reset_index().plot(\n",
    "                      x='year_publication', y='total_area', grid=True, style='o-').set(\n",
    "                      title='Зависимость площади  от года', \n",
    "                      xlabel='год', ylabel='цена');"
   ]
  },
  {
   "cell_type": "markdown",
   "metadata": {},
   "source": [
    "Цена меняется в течение 5 лет. Так, в представленных данных наглядно видно как повлиял кризис рынка недвижимости на стоимость жилья. Ожидаемо, что цена увеличивается относительно площади квартир. Но на цену влияют и другие факторы которые были проанализированы выше.\n",
    "\n",
    "Тем не менее, можно отметить сезонность продаж: пик спроса и рост цены  приходится на апрель и август и декабрь. Вероятнее всего влияние оказывает рост спроса на недвижимость после завершения года и после отпусков. В мае -июне спрос на жилье падает, возможно из-за массовых отпусков."
   ]
  },
  {
   "cell_type": "markdown",
   "metadata": {},
   "source": [
    "### Средняя цена в 10 населенных пунктах"
   ]
  },
  {
   "cell_type": "code",
   "execution_count": 105,
   "metadata": {},
   "outputs": [
    {
     "data": {
      "text/html": [
       "<div>\n",
       "<style scoped>\n",
       "    .dataframe tbody tr th:only-of-type {\n",
       "        vertical-align: middle;\n",
       "    }\n",
       "\n",
       "    .dataframe tbody tr th {\n",
       "        vertical-align: top;\n",
       "    }\n",
       "\n",
       "    .dataframe thead th {\n",
       "        text-align: right;\n",
       "    }\n",
       "</style>\n",
       "<table border=\"1\" class=\"dataframe\">\n",
       "  <thead>\n",
       "    <tr style=\"text-align: right;\">\n",
       "      <th></th>\n",
       "      <th>count</th>\n",
       "      <th>mean</th>\n",
       "    </tr>\n",
       "    <tr>\n",
       "      <th>locality_name</th>\n",
       "      <th></th>\n",
       "      <th></th>\n",
       "    </tr>\n",
       "  </thead>\n",
       "  <tbody>\n",
       "    <tr>\n",
       "      <th>Санкт-Петербург</th>\n",
       "      <td>15651.0</td>\n",
       "      <td>114875.572296</td>\n",
       "    </tr>\n",
       "    <tr>\n",
       "      <th>Мурино</th>\n",
       "      <td>586.0</td>\n",
       "      <td>86040.658703</td>\n",
       "    </tr>\n",
       "    <tr>\n",
       "      <th>Кудрово</th>\n",
       "      <td>470.0</td>\n",
       "      <td>95260.393617</td>\n",
       "    </tr>\n",
       "    <tr>\n",
       "      <th>Шушары</th>\n",
       "      <td>439.0</td>\n",
       "      <td>78550.883827</td>\n",
       "    </tr>\n",
       "    <tr>\n",
       "      <th>Всеволожск</th>\n",
       "      <td>398.0</td>\n",
       "      <td>68654.007538</td>\n",
       "    </tr>\n",
       "    <tr>\n",
       "      <th>Пушкин</th>\n",
       "      <td>369.0</td>\n",
       "      <td>103125.373984</td>\n",
       "    </tr>\n",
       "    <tr>\n",
       "      <th>Колпино</th>\n",
       "      <td>338.0</td>\n",
       "      <td>75424.150888</td>\n",
       "    </tr>\n",
       "    <tr>\n",
       "      <th>Парголово</th>\n",
       "      <td>327.0</td>\n",
       "      <td>90175.489297</td>\n",
       "    </tr>\n",
       "    <tr>\n",
       "      <th>Гатчина</th>\n",
       "      <td>307.0</td>\n",
       "      <td>68745.693811</td>\n",
       "    </tr>\n",
       "    <tr>\n",
       "      <th>Выборг</th>\n",
       "      <td>237.0</td>\n",
       "      <td>58141.489451</td>\n",
       "    </tr>\n",
       "  </tbody>\n",
       "</table>\n",
       "</div>"
      ],
      "text/plain": [
       "                   count           mean\n",
       "locality_name                          \n",
       "Санкт-Петербург  15651.0  114875.572296\n",
       "Мурино             586.0   86040.658703\n",
       "Кудрово            470.0   95260.393617\n",
       "Шушары             439.0   78550.883827\n",
       "Всеволожск         398.0   68654.007538\n",
       "Пушкин             369.0  103125.373984\n",
       "Колпино            338.0   75424.150888\n",
       "Парголово          327.0   90175.489297\n",
       "Гатчина            307.0   68745.693811\n",
       "Выборг             237.0   58141.489451"
      ]
     },
     "execution_count": 105,
     "metadata": {},
     "output_type": "execute_result"
    }
   ],
   "source": [
    "top_10 = pd.pivot_table(data, index='locality_name', values='square_meter', aggfunc={'mean', 'count'})\n",
    "top_10 = top_10.sort_values(by='count', ascending=False)\n",
    "top_10.head(10)"
   ]
  },
  {
   "cell_type": "code",
   "execution_count": 106,
   "metadata": {},
   "outputs": [
    {
     "data": {
      "text/html": [
       "<div>\n",
       "<style scoped>\n",
       "    .dataframe tbody tr th:only-of-type {\n",
       "        vertical-align: middle;\n",
       "    }\n",
       "\n",
       "    .dataframe tbody tr th {\n",
       "        vertical-align: top;\n",
       "    }\n",
       "\n",
       "    .dataframe thead th {\n",
       "        text-align: right;\n",
       "    }\n",
       "</style>\n",
       "<table border=\"1\" class=\"dataframe\">\n",
       "  <thead>\n",
       "    <tr style=\"text-align: right;\">\n",
       "      <th></th>\n",
       "      <th>count</th>\n",
       "      <th>mean</th>\n",
       "    </tr>\n",
       "    <tr>\n",
       "      <th>locality_name</th>\n",
       "      <th></th>\n",
       "      <th></th>\n",
       "    </tr>\n",
       "  </thead>\n",
       "  <tbody>\n",
       "    <tr>\n",
       "      <th>Зеленогорск</th>\n",
       "      <td>24.0</td>\n",
       "      <td>115122.5</td>\n",
       "    </tr>\n",
       "    <tr>\n",
       "      <th>Старополье</th>\n",
       "      <td>3.0</td>\n",
       "      <td>11206.0</td>\n",
       "    </tr>\n",
       "  </tbody>\n",
       "</table>\n",
       "</div>"
      ],
      "text/plain": [
       "               count      mean\n",
       "locality_name                 \n",
       "Зеленогорск     24.0  115122.5\n",
       "Старополье       3.0   11206.0"
      ]
     },
     "execution_count": 106,
     "metadata": {},
     "output_type": "execute_result"
    }
   ],
   "source": [
    "# Города с максимальной и минимальной стоимостью\n",
    "top_10.query('mean == mean.min() or mean == mean.max()')"
   ]
  },
  {
   "cell_type": "markdown",
   "metadata": {},
   "source": [
    "Город с максимальной средней стоимостью квадратного метра жилья - Зеленогорск (115 тыс.за кв.м.), с минимальной - Старополье (11 тыс.за кв.м.)"
   ]
  },
  {
   "cell_type": "markdown",
   "metadata": {},
   "source": [
    "### Цена и расстояние до центра"
   ]
  },
  {
   "cell_type": "code",
   "execution_count": 107,
   "metadata": {},
   "outputs": [
    {
     "data": {
      "text/html": [
       "<div>\n",
       "<style scoped>\n",
       "    .dataframe tbody tr th:only-of-type {\n",
       "        vertical-align: middle;\n",
       "    }\n",
       "\n",
       "    .dataframe tbody tr th {\n",
       "        vertical-align: top;\n",
       "    }\n",
       "\n",
       "    .dataframe thead th {\n",
       "        text-align: right;\n",
       "    }\n",
       "</style>\n",
       "<table border=\"1\" class=\"dataframe\">\n",
       "  <thead>\n",
       "    <tr style=\"text-align: right;\">\n",
       "      <th></th>\n",
       "      <th>center_distance_km</th>\n",
       "      <th>square_meter</th>\n",
       "    </tr>\n",
       "  </thead>\n",
       "  <tbody>\n",
       "    <tr>\n",
       "      <th>0</th>\n",
       "      <td>0</td>\n",
       "      <td>245833.111111</td>\n",
       "    </tr>\n",
       "    <tr>\n",
       "      <th>1</th>\n",
       "      <td>1</td>\n",
       "      <td>177004.963542</td>\n",
       "    </tr>\n",
       "    <tr>\n",
       "      <th>2</th>\n",
       "      <td>2</td>\n",
       "      <td>157848.564516</td>\n",
       "    </tr>\n",
       "    <tr>\n",
       "      <th>3</th>\n",
       "      <td>3</td>\n",
       "      <td>121507.367816</td>\n",
       "    </tr>\n",
       "    <tr>\n",
       "      <th>4</th>\n",
       "      <td>4</td>\n",
       "      <td>133282.422965</td>\n",
       "    </tr>\n",
       "    <tr>\n",
       "      <th>5</th>\n",
       "      <td>5</td>\n",
       "      <td>140453.507104</td>\n",
       "    </tr>\n",
       "    <tr>\n",
       "      <th>6</th>\n",
       "      <td>6</td>\n",
       "      <td>151011.750809</td>\n",
       "    </tr>\n",
       "    <tr>\n",
       "      <th>7</th>\n",
       "      <td>7</td>\n",
       "      <td>156176.445238</td>\n",
       "    </tr>\n",
       "    <tr>\n",
       "      <th>8</th>\n",
       "      <td>8</td>\n",
       "      <td>125649.319865</td>\n",
       "    </tr>\n",
       "    <tr>\n",
       "      <th>9</th>\n",
       "      <td>9</td>\n",
       "      <td>113347.967851</td>\n",
       "    </tr>\n",
       "    <tr>\n",
       "      <th>10</th>\n",
       "      <td>10</td>\n",
       "      <td>112607.030641</td>\n",
       "    </tr>\n",
       "    <tr>\n",
       "      <th>11</th>\n",
       "      <td>11</td>\n",
       "      <td>108381.317094</td>\n",
       "    </tr>\n",
       "    <tr>\n",
       "      <th>12</th>\n",
       "      <td>12</td>\n",
       "      <td>109254.439083</td>\n",
       "    </tr>\n",
       "    <tr>\n",
       "      <th>13</th>\n",
       "      <td>13</td>\n",
       "      <td>108098.659545</td>\n",
       "    </tr>\n",
       "    <tr>\n",
       "      <th>14</th>\n",
       "      <td>14</td>\n",
       "      <td>104200.775862</td>\n",
       "    </tr>\n",
       "    <tr>\n",
       "      <th>15</th>\n",
       "      <td>15</td>\n",
       "      <td>104230.097373</td>\n",
       "    </tr>\n",
       "    <tr>\n",
       "      <th>16</th>\n",
       "      <td>16</td>\n",
       "      <td>100542.168379</td>\n",
       "    </tr>\n",
       "    <tr>\n",
       "      <th>17</th>\n",
       "      <td>17</td>\n",
       "      <td>96969.791715</td>\n",
       "    </tr>\n",
       "    <tr>\n",
       "      <th>18</th>\n",
       "      <td>18</td>\n",
       "      <td>96361.839080</td>\n",
       "    </tr>\n",
       "    <tr>\n",
       "      <th>19</th>\n",
       "      <td>19</td>\n",
       "      <td>98657.955128</td>\n",
       "    </tr>\n",
       "    <tr>\n",
       "      <th>20</th>\n",
       "      <td>20</td>\n",
       "      <td>103044.775510</td>\n",
       "    </tr>\n",
       "    <tr>\n",
       "      <th>21</th>\n",
       "      <td>21</td>\n",
       "      <td>94469.136752</td>\n",
       "    </tr>\n",
       "    <tr>\n",
       "      <th>22</th>\n",
       "      <td>22</td>\n",
       "      <td>91329.965347</td>\n",
       "    </tr>\n",
       "    <tr>\n",
       "      <th>23</th>\n",
       "      <td>23</td>\n",
       "      <td>91828.070588</td>\n",
       "    </tr>\n",
       "    <tr>\n",
       "      <th>24</th>\n",
       "      <td>24</td>\n",
       "      <td>85736.461538</td>\n",
       "    </tr>\n",
       "    <tr>\n",
       "      <th>25</th>\n",
       "      <td>25</td>\n",
       "      <td>91531.038462</td>\n",
       "    </tr>\n",
       "    <tr>\n",
       "      <th>26</th>\n",
       "      <td>26</td>\n",
       "      <td>87798.441860</td>\n",
       "    </tr>\n",
       "    <tr>\n",
       "      <th>27</th>\n",
       "      <td>27</td>\n",
       "      <td>132115.000000</td>\n",
       "    </tr>\n",
       "    <tr>\n",
       "      <th>28</th>\n",
       "      <td>28</td>\n",
       "      <td>81161.571429</td>\n",
       "    </tr>\n",
       "    <tr>\n",
       "      <th>29</th>\n",
       "      <td>29</td>\n",
       "      <td>72952.666667</td>\n",
       "    </tr>\n",
       "  </tbody>\n",
       "</table>\n",
       "</div>"
      ],
      "text/plain": [
       "    center_distance_km   square_meter\n",
       "0                    0  245833.111111\n",
       "1                    1  177004.963542\n",
       "2                    2  157848.564516\n",
       "3                    3  121507.367816\n",
       "4                    4  133282.422965\n",
       "5                    5  140453.507104\n",
       "6                    6  151011.750809\n",
       "7                    7  156176.445238\n",
       "8                    8  125649.319865\n",
       "9                    9  113347.967851\n",
       "10                  10  112607.030641\n",
       "11                  11  108381.317094\n",
       "12                  12  109254.439083\n",
       "13                  13  108098.659545\n",
       "14                  14  104200.775862\n",
       "15                  15  104230.097373\n",
       "16                  16  100542.168379\n",
       "17                  17   96969.791715\n",
       "18                  18   96361.839080\n",
       "19                  19   98657.955128\n",
       "20                  20  103044.775510\n",
       "21                  21   94469.136752\n",
       "22                  22   91329.965347\n",
       "23                  23   91828.070588\n",
       "24                  24   85736.461538\n",
       "25                  25   91531.038462\n",
       "26                  26   87798.441860\n",
       "27                  27  132115.000000\n",
       "28                  28   81161.571429\n",
       "29                  29   72952.666667"
      ]
     },
     "execution_count": 107,
     "metadata": {},
     "output_type": "execute_result"
    }
   ],
   "source": [
    "spb_centr = data.query('locality_name == \"Санкт-Петербург\"') #срез где только спб\n",
    "spb_centr_pivot = spb_centr.pivot_table(index='center_distance_km', # сводная таблица \n",
    "                  values='square_meter', aggfunc='mean').reset_index()\n",
    "spb_centr_pivot"
   ]
  },
  {
   "cell_type": "code",
   "execution_count": 108,
   "metadata": {},
   "outputs": [
    {
     "data": {
      "image/png": "[encoded data removed]",
      "text/plain": [
       "<Figure size 432x288 with 1 Axes>"
      ]
     },
     "metadata": {
      "needs_background": "light"
     },
     "output_type": "display_data"
    }
   ],
   "source": [
    "spb_centr_pivot.plot(x='center_distance_km', y='square_meter', kind= 'bar', \n",
    "                     grid=True,\n",
    "                     title='Зависимость цены 1 кв.м. от удаленности от центра').set(\n",
    "                     xlabel='км', ylabel='цена 1 кв.м.');\n"
   ]
  },
  {
   "cell_type": "markdown",
   "metadata": {},
   "source": [
    "Видно, что чем ближе к центру города, тем выше цена"
   ]
  },
  {
   "cell_type": "markdown",
   "metadata": {},
   "source": [
    "Вывод: Центральная зона Санкт-Петербурга находится в радиусе 8 км от центра. Средняя цена за 1 кв.м. зависит от удаленности от центра Санкт-Петербурга. В центре ее размер составляет в среднем 150 тыс.руб., и далее уменьшается до 75 тыс.руб."
   ]
  },
  {
   "cell_type": "markdown",
   "metadata": {},
   "source": [
    "### Общий вывод"
   ]
  },
  {
   "cell_type": "markdown",
   "metadata": {},
   "source": [
    "Данные которые были предоставлены содержали нужную информацию для анализа гепотез. В процессе предварительной обработки данных были выявлены явные и неявные пропуски, ошибки представления значений (значения, не соответствующие действительности). Скорее всего, данные взяты из разных источников, что является результатом пропусков значений в некоторых столбцах, а также предположительны ошибки при выгрузке и из-за некорректного заполнения первоисточников клиентом. Указанные проблемы были устранены.\n",
    "\n",
    "Для дальнейшего анализа рассчитаны и добавлены отдельными столбцами значения цены 1 кв.м., дня недели, месяца и года объявления, категории этажа.\n",
    "\n",
    "Исследование показало, что квартиры в основном продаются зимой и осенью. Чаще всего в рабочие дни. Это как обычные квартиры так и жилье бизнес-класса. Это помогает лучше понять ценообразование на рынке. И возможность узнать падение продаж с 2014 года.\n",
    "\n",
    "Максимальная стоимость жилья - в Санкт-Петербурге, минимальная в Выборге. Предложения рынка недвижимости в центре Санкт-Петербурга характеризуется несколько большей площадью и ценой, чем прочие районы, но в целом предложений по квартирам с минимальной площадью также достаточно."
   ]
  },
  {
   "cell_type": "code",
   "execution_count": null,
   "metadata": {},
   "outputs": [],
   "source": []
  }
 ],
 "metadata": {
  "ExecuteTimeLog": [
   {
    "duration": 606,
    "start_time": "2023-01-29T20:34:27.417Z"
   },
   {
    "duration": 694,
    "start_time": "2023-01-29T20:35:39.012Z"
   },
   {
    "duration": 125,
    "start_time": "2023-01-29T20:35:57.450Z"
   },
   {
    "duration": 107,
    "start_time": "2023-01-29T20:36:11.877Z"
   },
   {
    "duration": 102,
    "start_time": "2023-01-29T20:36:28.370Z"
   },
   {
    "duration": 105,
    "start_time": "2023-01-29T20:36:32.054Z"
   },
   {
    "duration": 91,
    "start_time": "2023-01-29T20:37:00.678Z"
   },
   {
    "duration": 143,
    "start_time": "2023-01-29T20:37:17.970Z"
   },
   {
    "duration": 113,
    "start_time": "2023-01-29T20:37:27.808Z"
   },
   {
    "duration": 2278,
    "start_time": "2023-01-29T20:38:02.615Z"
   },
   {
    "duration": 2288,
    "start_time": "2023-01-29T20:39:22.761Z"
   },
   {
    "duration": 113,
    "start_time": "2023-01-29T20:39:50.661Z"
   },
   {
    "duration": 2378,
    "start_time": "2023-01-29T20:40:38.208Z"
   },
   {
    "duration": 15,
    "start_time": "2023-01-29T20:40:47.960Z"
   },
   {
    "duration": 547,
    "start_time": "2023-01-30T17:43:27.544Z"
   },
   {
    "duration": 15,
    "start_time": "2023-01-30T17:43:29.915Z"
   },
   {
    "duration": 124,
    "start_time": "2023-01-30T17:53:50.162Z"
   },
   {
    "duration": 14,
    "start_time": "2023-01-30T17:53:51.637Z"
   },
   {
    "duration": 2342,
    "start_time": "2023-01-30T17:58:56.757Z"
   },
   {
    "duration": 92,
    "start_time": "2023-01-30T18:05:36.257Z"
   },
   {
    "duration": 7,
    "start_time": "2023-01-30T18:05:51.153Z"
   },
   {
    "duration": 156,
    "start_time": "2023-01-30T18:09:29.174Z"
   },
   {
    "duration": 177,
    "start_time": "2023-01-30T18:10:03.244Z"
   },
   {
    "duration": 154,
    "start_time": "2023-01-30T18:10:09.783Z"
   },
   {
    "duration": 220,
    "start_time": "2023-01-30T18:10:15.348Z"
   },
   {
    "duration": 183,
    "start_time": "2023-01-30T18:10:24.804Z"
   },
   {
    "duration": 246,
    "start_time": "2023-01-30T18:10:30.558Z"
   },
   {
    "duration": 43,
    "start_time": "2023-01-30T18:11:08.127Z"
   },
   {
    "duration": 45,
    "start_time": "2023-01-30T18:12:26.068Z"
   },
   {
    "duration": 175,
    "start_time": "2023-01-30T18:12:33.636Z"
   },
   {
    "duration": 195,
    "start_time": "2023-01-30T18:14:23.481Z"
   },
   {
    "duration": 196,
    "start_time": "2023-01-30T18:14:55.266Z"
   },
   {
    "duration": 199,
    "start_time": "2023-01-30T18:15:05.610Z"
   },
   {
    "duration": 178,
    "start_time": "2023-01-30T18:15:14.481Z"
   },
   {
    "duration": 185,
    "start_time": "2023-01-30T18:15:33.719Z"
   },
   {
    "duration": 217,
    "start_time": "2023-01-30T18:18:13.902Z"
   },
   {
    "duration": 242,
    "start_time": "2023-01-30T18:18:24.610Z"
   },
   {
    "duration": 194,
    "start_time": "2023-01-30T18:18:57.577Z"
   },
   {
    "duration": 7,
    "start_time": "2023-01-30T18:22:25.980Z"
   },
   {
    "duration": 19,
    "start_time": "2023-01-30T18:22:43.596Z"
   },
   {
    "duration": 40,
    "start_time": "2023-01-30T18:22:54.178Z"
   },
   {
    "duration": 6,
    "start_time": "2023-01-30T18:29:30.770Z"
   },
   {
    "duration": 6,
    "start_time": "2023-01-30T18:30:13.648Z"
   },
   {
    "duration": 9,
    "start_time": "2023-01-30T18:31:55.077Z"
   },
   {
    "duration": 8,
    "start_time": "2023-01-30T18:32:24.841Z"
   },
   {
    "duration": 18,
    "start_time": "2023-01-30T18:32:36.822Z"
   },
   {
    "duration": 792,
    "start_time": "2023-01-30T18:35:37.619Z"
   },
   {
    "duration": 8,
    "start_time": "2023-01-30T18:36:06.957Z"
   },
   {
    "duration": 10,
    "start_time": "2023-01-30T18:36:25.393Z"
   },
   {
    "duration": 14,
    "start_time": "2023-01-30T18:38:09.540Z"
   },
   {
    "duration": 5,
    "start_time": "2023-01-30T18:38:29.392Z"
   },
   {
    "duration": 9,
    "start_time": "2023-01-30T18:39:49.953Z"
   },
   {
    "duration": 9,
    "start_time": "2023-01-30T18:39:59.083Z"
   },
   {
    "duration": 9,
    "start_time": "2023-01-30T18:40:23.310Z"
   },
   {
    "duration": 37,
    "start_time": "2023-01-30T18:41:49.539Z"
   },
   {
    "duration": 7,
    "start_time": "2023-01-30T18:44:26.799Z"
   },
   {
    "duration": 5,
    "start_time": "2023-01-30T18:44:39.162Z"
   },
   {
    "duration": 6,
    "start_time": "2023-01-30T18:44:47.431Z"
   },
   {
    "duration": 12,
    "start_time": "2023-01-30T18:47:31.703Z"
   },
   {
    "duration": 9,
    "start_time": "2023-01-30T18:47:47.082Z"
   },
   {
    "duration": 12,
    "start_time": "2023-01-30T18:47:54.298Z"
   },
   {
    "duration": 41,
    "start_time": "2023-01-30T18:48:40.625Z"
   },
   {
    "duration": 47,
    "start_time": "2023-01-30T18:48:55.605Z"
   },
   {
    "duration": 5,
    "start_time": "2023-01-30T18:49:03.996Z"
   },
   {
    "duration": 6,
    "start_time": "2023-01-30T18:49:08.387Z"
   },
   {
    "duration": 50,
    "start_time": "2023-01-30T18:51:05.079Z"
   },
   {
    "duration": 208,
    "start_time": "2023-01-30T18:51:58.574Z"
   },
   {
    "duration": 40,
    "start_time": "2023-01-30T18:52:11.439Z"
   },
   {
    "duration": 40,
    "start_time": "2023-01-30T18:53:17.808Z"
   },
   {
    "duration": 69,
    "start_time": "2023-01-30T18:54:04.209Z"
   },
   {
    "duration": 39,
    "start_time": "2023-01-30T18:54:51.968Z"
   },
   {
    "duration": 39,
    "start_time": "2023-01-30T18:55:03.081Z"
   },
   {
    "duration": 12,
    "start_time": "2023-01-30T18:58:04.388Z"
   },
   {
    "duration": 876,
    "start_time": "2023-01-30T18:58:15.914Z"
   },
   {
    "duration": 16,
    "start_time": "2023-01-30T19:00:28.989Z"
   },
   {
    "duration": 15,
    "start_time": "2023-01-30T19:01:47.049Z"
   },
   {
    "duration": 9,
    "start_time": "2023-01-30T19:04:02.722Z"
   },
   {
    "duration": 205,
    "start_time": "2023-01-30T19:04:05.304Z"
   },
   {
    "duration": 137,
    "start_time": "2023-01-30T19:04:40.604Z"
   },
   {
    "duration": 206,
    "start_time": "2023-01-30T19:04:42.694Z"
   },
   {
    "duration": 11,
    "start_time": "2023-01-30T19:04:46.594Z"
   },
   {
    "duration": 183,
    "start_time": "2023-01-30T19:04:48.320Z"
   },
   {
    "duration": 7,
    "start_time": "2023-01-30T19:07:21.916Z"
   },
   {
    "duration": 5,
    "start_time": "2023-01-30T19:09:31.031Z"
   },
   {
    "duration": 8,
    "start_time": "2023-01-30T19:09:51.353Z"
   },
   {
    "duration": 7,
    "start_time": "2023-01-30T19:10:02.882Z"
   },
   {
    "duration": 8,
    "start_time": "2023-01-30T19:10:32.052Z"
   },
   {
    "duration": 7,
    "start_time": "2023-01-30T19:12:32.150Z"
   },
   {
    "duration": 172,
    "start_time": "2023-01-30T19:15:31.022Z"
   },
   {
    "duration": 190,
    "start_time": "2023-01-30T19:16:14.178Z"
   },
   {
    "duration": 4,
    "start_time": "2023-01-30T19:18:17.323Z"
   },
   {
    "duration": 190,
    "start_time": "2023-01-30T19:19:00.889Z"
   },
   {
    "duration": 3,
    "start_time": "2023-01-30T19:19:09.549Z"
   },
   {
    "duration": 189,
    "start_time": "2023-01-30T19:19:12.010Z"
   },
   {
    "duration": 178,
    "start_time": "2023-01-30T19:20:41.456Z"
   },
   {
    "duration": 174,
    "start_time": "2023-01-30T19:21:47.081Z"
   },
   {
    "duration": 172,
    "start_time": "2023-01-30T19:22:39.198Z"
   },
   {
    "duration": 179,
    "start_time": "2023-01-30T19:22:53.028Z"
   },
   {
    "duration": 40,
    "start_time": "2023-01-30T19:23:45.691Z"
   },
   {
    "duration": 5,
    "start_time": "2023-01-30T19:24:21.570Z"
   },
   {
    "duration": 5,
    "start_time": "2023-01-30T19:24:45.405Z"
   },
   {
    "duration": 36,
    "start_time": "2023-01-30T19:25:51.341Z"
   },
   {
    "duration": 6,
    "start_time": "2023-01-30T19:26:25.745Z"
   },
   {
    "duration": 10,
    "start_time": "2023-01-30T19:26:52.172Z"
   },
   {
    "duration": 8,
    "start_time": "2023-01-30T19:27:09.458Z"
   },
   {
    "duration": 7,
    "start_time": "2023-01-30T19:27:14.988Z"
   },
   {
    "duration": 9,
    "start_time": "2023-01-30T19:28:30.669Z"
   },
   {
    "duration": 6,
    "start_time": "2023-01-30T19:28:47.235Z"
   },
   {
    "duration": 6,
    "start_time": "2023-01-30T19:29:59.179Z"
   },
   {
    "duration": 11,
    "start_time": "2023-01-30T19:30:18.341Z"
   },
   {
    "duration": 16,
    "start_time": "2023-01-30T19:30:36.293Z"
   },
   {
    "duration": 10,
    "start_time": "2023-01-30T19:33:58.685Z"
   },
   {
    "duration": 6,
    "start_time": "2023-01-30T19:34:06.567Z"
   },
   {
    "duration": 20,
    "start_time": "2023-01-30T19:35:58.824Z"
   },
   {
    "duration": 72,
    "start_time": "2023-01-30T19:37:07.696Z"
   },
   {
    "duration": 44,
    "start_time": "2023-01-30T19:37:37.767Z"
   },
   {
    "duration": 49,
    "start_time": "2023-01-30T19:38:54.723Z"
   },
   {
    "duration": 376,
    "start_time": "2023-01-30T19:38:58.573Z"
   },
   {
    "duration": 2198,
    "start_time": "2023-01-30T19:40:03.299Z"
   },
   {
    "duration": 8,
    "start_time": "2023-01-30T19:41:48.022Z"
   },
   {
    "duration": 7,
    "start_time": "2023-01-30T19:42:34.321Z"
   },
   {
    "duration": 6,
    "start_time": "2023-01-30T19:45:09.780Z"
   },
   {
    "duration": 10,
    "start_time": "2023-01-30T19:45:30.055Z"
   },
   {
    "duration": 10,
    "start_time": "2023-01-30T19:45:35.350Z"
   },
   {
    "duration": 11,
    "start_time": "2023-01-30T19:45:39.016Z"
   },
   {
    "duration": 13,
    "start_time": "2023-01-30T19:45:50.454Z"
   },
   {
    "duration": 2618,
    "start_time": "2023-01-30T19:47:00.654Z"
   },
   {
    "duration": 18,
    "start_time": "2023-01-30T19:47:11.348Z"
   },
   {
    "duration": 8,
    "start_time": "2023-01-30T19:47:11.966Z"
   },
   {
    "duration": 8,
    "start_time": "2023-01-30T19:47:12.670Z"
   },
   {
    "duration": 6,
    "start_time": "2023-01-30T19:47:13.919Z"
   },
   {
    "duration": 4,
    "start_time": "2023-01-30T19:47:14.603Z"
   },
   {
    "duration": 1134,
    "start_time": "2023-01-30T19:47:15.319Z"
   },
   {
    "duration": 0,
    "start_time": "2023-01-30T19:47:16.455Z"
   },
   {
    "duration": 0,
    "start_time": "2023-01-30T19:47:16.456Z"
   },
   {
    "duration": 5,
    "start_time": "2023-01-30T19:47:16.816Z"
   },
   {
    "duration": 8,
    "start_time": "2023-01-30T19:47:20.893Z"
   },
   {
    "duration": 10,
    "start_time": "2023-01-30T19:47:21.568Z"
   },
   {
    "duration": 11,
    "start_time": "2023-01-30T19:47:22.381Z"
   },
   {
    "duration": 17,
    "start_time": "2023-01-30T19:47:23.065Z"
   },
   {
    "duration": 5,
    "start_time": "2023-01-30T19:47:23.718Z"
   },
   {
    "duration": 8,
    "start_time": "2023-01-30T19:47:24.268Z"
   },
   {
    "duration": 11,
    "start_time": "2023-01-30T19:47:24.998Z"
   },
   {
    "duration": 11,
    "start_time": "2023-01-30T19:48:51.647Z"
   },
   {
    "duration": 19,
    "start_time": "2023-01-30T19:49:51.086Z"
   },
   {
    "duration": 9,
    "start_time": "2023-01-30T19:50:06.953Z"
   },
   {
    "duration": 31,
    "start_time": "2023-01-30T19:51:00.222Z"
   },
   {
    "duration": 16,
    "start_time": "2023-01-30T19:51:08.577Z"
   },
   {
    "duration": 17,
    "start_time": "2023-01-30T19:52:29.704Z"
   },
   {
    "duration": 81,
    "start_time": "2023-01-30T19:57:13.627Z"
   },
   {
    "duration": 42,
    "start_time": "2023-01-30T19:57:36.572Z"
   },
   {
    "duration": 61,
    "start_time": "2023-01-30T19:57:46.448Z"
   },
   {
    "duration": 37,
    "start_time": "2023-01-30T19:57:58.456Z"
   },
   {
    "duration": 26,
    "start_time": "2023-01-30T19:59:37.646Z"
   },
   {
    "duration": 35,
    "start_time": "2023-01-30T20:00:24.921Z"
   },
   {
    "duration": 34,
    "start_time": "2023-01-30T20:00:32.012Z"
   },
   {
    "duration": 33,
    "start_time": "2023-01-30T20:01:43.124Z"
   },
   {
    "duration": 20,
    "start_time": "2023-01-30T20:01:51.398Z"
   },
   {
    "duration": 44,
    "start_time": "2023-01-30T20:03:27.964Z"
   },
   {
    "duration": 71,
    "start_time": "2023-01-30T20:04:04.109Z"
   },
   {
    "duration": 31,
    "start_time": "2023-01-30T20:04:50.646Z"
   },
   {
    "duration": 72,
    "start_time": "2023-01-30T20:10:35.897Z"
   },
   {
    "duration": 4,
    "start_time": "2023-01-30T20:10:47.270Z"
   },
   {
    "duration": 51,
    "start_time": "2023-01-30T20:12:19.919Z"
   },
   {
    "duration": 51,
    "start_time": "2023-01-30T20:13:02.152Z"
   },
   {
    "duration": 57,
    "start_time": "2023-01-30T20:14:27.848Z"
   },
   {
    "duration": 48,
    "start_time": "2023-01-30T20:14:34.999Z"
   },
   {
    "duration": 39,
    "start_time": "2023-01-30T20:14:52.060Z"
   },
   {
    "duration": 47,
    "start_time": "2023-01-30T20:15:17.352Z"
   },
   {
    "duration": 87,
    "start_time": "2023-01-30T20:15:50.610Z"
   },
   {
    "duration": 76,
    "start_time": "2023-01-30T20:18:18.408Z"
   },
   {
    "duration": 66,
    "start_time": "2023-01-30T20:18:26.523Z"
   },
   {
    "duration": 39,
    "start_time": "2023-01-30T20:20:59.360Z"
   },
   {
    "duration": 52,
    "start_time": "2023-01-30T20:22:55.290Z"
   },
   {
    "duration": 53,
    "start_time": "2023-01-30T20:23:27.115Z"
   },
   {
    "duration": 50,
    "start_time": "2023-01-30T20:25:25.927Z"
   },
   {
    "duration": 45,
    "start_time": "2023-01-30T20:25:39.964Z"
   },
   {
    "duration": 39,
    "start_time": "2023-01-30T20:26:36.260Z"
   },
   {
    "duration": 63,
    "start_time": "2023-01-30T20:26:57.193Z"
   },
   {
    "duration": 64,
    "start_time": "2023-01-30T20:27:07.438Z"
   },
   {
    "duration": 49,
    "start_time": "2023-01-30T20:30:04.651Z"
   },
   {
    "duration": 56,
    "start_time": "2023-01-30T20:30:18.654Z"
   },
   {
    "duration": 42,
    "start_time": "2023-01-30T20:30:33.955Z"
   },
   {
    "duration": 59,
    "start_time": "2023-01-30T20:30:41.401Z"
   },
   {
    "duration": 51,
    "start_time": "2023-01-30T20:31:01.702Z"
   },
   {
    "duration": 65,
    "start_time": "2023-01-30T20:31:08.745Z"
   },
   {
    "duration": 41,
    "start_time": "2023-01-30T20:32:10.946Z"
   },
   {
    "duration": 71,
    "start_time": "2023-01-30T20:32:40.644Z"
   },
   {
    "duration": 51,
    "start_time": "2023-01-30T20:33:16.408Z"
   },
   {
    "duration": 42,
    "start_time": "2023-01-30T20:33:34.955Z"
   },
   {
    "duration": 16,
    "start_time": "2023-01-30T20:33:53.551Z"
   },
   {
    "duration": 15,
    "start_time": "2023-01-30T20:34:02.448Z"
   },
   {
    "duration": 13,
    "start_time": "2023-01-30T20:34:11.147Z"
   },
   {
    "duration": 12,
    "start_time": "2023-01-30T20:34:19.845Z"
   },
   {
    "duration": 18,
    "start_time": "2023-01-30T20:34:26.524Z"
   },
   {
    "duration": 14,
    "start_time": "2023-01-30T20:34:36.047Z"
   },
   {
    "duration": 18,
    "start_time": "2023-01-30T20:34:47.654Z"
   },
   {
    "duration": 20,
    "start_time": "2023-01-30T20:34:52.912Z"
   },
   {
    "duration": 17,
    "start_time": "2023-01-30T20:34:56.698Z"
   },
   {
    "duration": 48,
    "start_time": "2023-01-30T20:35:20.982Z"
   },
   {
    "duration": 16,
    "start_time": "2023-01-30T20:35:25.178Z"
   },
   {
    "duration": 52,
    "start_time": "2023-01-30T20:35:41.953Z"
   },
   {
    "duration": 34,
    "start_time": "2023-01-30T20:35:45.690Z"
   },
   {
    "duration": 67,
    "start_time": "2023-01-30T20:35:56.622Z"
   },
   {
    "duration": 44,
    "start_time": "2023-01-30T20:36:02.181Z"
   },
   {
    "duration": 67,
    "start_time": "2023-01-30T20:36:14.814Z"
   },
   {
    "duration": 68,
    "start_time": "2023-01-30T20:36:30.153Z"
   },
   {
    "duration": 60,
    "start_time": "2023-01-30T20:36:32.717Z"
   },
   {
    "duration": 59,
    "start_time": "2023-01-30T20:36:44.819Z"
   },
   {
    "duration": 51,
    "start_time": "2023-01-30T20:37:28.093Z"
   },
   {
    "duration": 51,
    "start_time": "2023-01-30T20:37:33.495Z"
   },
   {
    "duration": 18,
    "start_time": "2023-01-30T20:41:13.419Z"
   },
   {
    "duration": 37,
    "start_time": "2023-01-30T20:41:18.470Z"
   },
   {
    "duration": 44,
    "start_time": "2023-01-30T20:41:33.421Z"
   },
   {
    "duration": 13,
    "start_time": "2023-01-30T20:41:38.019Z"
   },
   {
    "duration": 55,
    "start_time": "2023-01-30T20:41:43.501Z"
   },
   {
    "duration": 665,
    "start_time": "2023-01-30T20:42:38.725Z"
   },
   {
    "duration": 996,
    "start_time": "2023-01-30T20:47:41.505Z"
   },
   {
    "duration": 8,
    "start_time": "2023-01-30T20:48:43.370Z"
   },
   {
    "duration": 18,
    "start_time": "2023-01-30T20:49:15.953Z"
   },
   {
    "duration": 19,
    "start_time": "2023-01-30T20:49:19.946Z"
   },
   {
    "duration": 9,
    "start_time": "2023-01-30T20:49:48.246Z"
   },
   {
    "duration": 8,
    "start_time": "2023-01-30T20:49:56.501Z"
   },
   {
    "duration": 18,
    "start_time": "2023-01-30T20:50:06.427Z"
   },
   {
    "duration": 17,
    "start_time": "2023-01-30T20:50:21.619Z"
   },
   {
    "duration": 48,
    "start_time": "2023-01-31T17:39:28.876Z"
   },
   {
    "duration": 6,
    "start_time": "2023-01-31T17:39:47.651Z"
   },
   {
    "duration": 757,
    "start_time": "2023-01-31T17:40:16.121Z"
   },
   {
    "duration": 27,
    "start_time": "2023-01-31T17:40:53.252Z"
   },
   {
    "duration": 878,
    "start_time": "2023-01-31T17:41:32.923Z"
   },
   {
    "duration": 107,
    "start_time": "2023-01-31T17:42:03.749Z"
   },
   {
    "duration": 106,
    "start_time": "2023-01-31T17:42:11.209Z"
   },
   {
    "duration": 103,
    "start_time": "2023-01-31T17:42:13.977Z"
   },
   {
    "duration": 66,
    "start_time": "2023-01-31T17:42:37.631Z"
   },
   {
    "duration": 13,
    "start_time": "2023-01-31T17:42:54.749Z"
   },
   {
    "duration": 735,
    "start_time": "2023-01-31T17:47:32.181Z"
   },
   {
    "duration": 569,
    "start_time": "2023-01-31T17:47:45.471Z"
   },
   {
    "duration": 7,
    "start_time": "2023-01-31T17:47:49.836Z"
   },
   {
    "duration": 19,
    "start_time": "2023-01-31T17:48:06.252Z"
   },
   {
    "duration": 13,
    "start_time": "2023-01-31T17:48:17.273Z"
   },
   {
    "duration": 235,
    "start_time": "2023-01-31T17:53:02.956Z"
   },
   {
    "duration": 8,
    "start_time": "2023-01-31T17:54:46.122Z"
   },
   {
    "duration": 6,
    "start_time": "2023-01-31T17:54:54.276Z"
   },
   {
    "duration": 14,
    "start_time": "2023-01-31T18:01:13.122Z"
   },
   {
    "duration": 15,
    "start_time": "2023-01-31T18:01:22.425Z"
   },
   {
    "duration": 12,
    "start_time": "2023-01-31T18:01:47.747Z"
   },
   {
    "duration": 13,
    "start_time": "2023-01-31T18:01:58.740Z"
   },
   {
    "duration": 13,
    "start_time": "2023-01-31T18:02:04.518Z"
   },
   {
    "duration": 11,
    "start_time": "2023-01-31T18:03:50.232Z"
   },
   {
    "duration": 14,
    "start_time": "2023-01-31T18:03:57.528Z"
   },
   {
    "duration": 13,
    "start_time": "2023-01-31T18:04:31.996Z"
   },
   {
    "duration": 26,
    "start_time": "2023-01-31T18:07:25.363Z"
   },
   {
    "duration": 28,
    "start_time": "2023-01-31T18:07:45.411Z"
   },
   {
    "duration": 16,
    "start_time": "2023-01-31T18:07:55.455Z"
   },
   {
    "duration": 3,
    "start_time": "2023-01-31T18:08:41.912Z"
   },
   {
    "duration": 8,
    "start_time": "2023-01-31T18:08:56.406Z"
   },
   {
    "duration": 78,
    "start_time": "2023-01-31T18:09:06.572Z"
   },
   {
    "duration": 142,
    "start_time": "2023-01-31T18:09:35.723Z"
   },
   {
    "duration": 14,
    "start_time": "2023-01-31T18:10:24.867Z"
   },
   {
    "duration": 689,
    "start_time": "2023-01-31T18:10:33.644Z"
   },
   {
    "duration": 9,
    "start_time": "2023-01-31T18:15:05.296Z"
   },
   {
    "duration": 11,
    "start_time": "2023-01-31T18:15:35.345Z"
   },
   {
    "duration": 9,
    "start_time": "2023-01-31T18:15:59.998Z"
   },
   {
    "duration": 261,
    "start_time": "2023-01-31T18:17:11.827Z"
   },
   {
    "duration": 259,
    "start_time": "2023-01-31T18:17:41.111Z"
   },
   {
    "duration": 327,
    "start_time": "2023-01-31T18:17:49.441Z"
   },
   {
    "duration": 295,
    "start_time": "2023-01-31T18:24:53.041Z"
   },
   {
    "duration": 335,
    "start_time": "2023-01-31T18:25:15.760Z"
   },
   {
    "duration": 287,
    "start_time": "2023-01-31T18:25:34.448Z"
   },
   {
    "duration": 340,
    "start_time": "2023-01-31T18:25:52.964Z"
   },
   {
    "duration": 291,
    "start_time": "2023-01-31T18:26:02.840Z"
   },
   {
    "duration": 252,
    "start_time": "2023-01-31T18:26:28.133Z"
   },
   {
    "duration": 6,
    "start_time": "2023-01-31T18:29:33.425Z"
   },
   {
    "duration": 174,
    "start_time": "2023-01-31T18:34:41.589Z"
   },
   {
    "duration": 166,
    "start_time": "2023-01-31T18:35:06.272Z"
   },
   {
    "duration": 88,
    "start_time": "2023-01-31T18:37:01.010Z"
   },
   {
    "duration": 75,
    "start_time": "2023-01-31T18:37:13.045Z"
   },
   {
    "duration": 171,
    "start_time": "2023-01-31T18:37:27.772Z"
   },
   {
    "duration": 73,
    "start_time": "2023-01-31T18:37:32.044Z"
   },
   {
    "duration": 87,
    "start_time": "2023-01-31T18:37:39.928Z"
   },
   {
    "duration": 78,
    "start_time": "2023-01-31T18:38:07.775Z"
   },
   {
    "duration": 71,
    "start_time": "2023-01-31T18:38:59.005Z"
   },
   {
    "duration": 5,
    "start_time": "2023-01-31T18:39:23.615Z"
   },
   {
    "duration": 5,
    "start_time": "2023-01-31T18:39:35.887Z"
   },
   {
    "duration": 5,
    "start_time": "2023-01-31T18:39:41.843Z"
   },
   {
    "duration": 88,
    "start_time": "2023-01-31T18:41:48.630Z"
   },
   {
    "duration": 8,
    "start_time": "2023-01-31T18:42:27.775Z"
   },
   {
    "duration": 217,
    "start_time": "2023-01-31T18:45:38.950Z"
   },
   {
    "duration": 65,
    "start_time": "2023-01-31T18:46:13.416Z"
   },
   {
    "duration": 5,
    "start_time": "2023-01-31T18:46:20.480Z"
   },
   {
    "duration": 8,
    "start_time": "2023-01-31T18:47:09.646Z"
   },
   {
    "duration": 25,
    "start_time": "2023-01-31T18:48:59.728Z"
   },
   {
    "duration": 6,
    "start_time": "2023-01-31T18:50:17.179Z"
   },
   {
    "duration": 7,
    "start_time": "2023-01-31T18:50:45.115Z"
   },
   {
    "duration": 6,
    "start_time": "2023-01-31T18:51:05.590Z"
   },
   {
    "duration": 22,
    "start_time": "2023-01-31T18:53:01.150Z"
   },
   {
    "duration": 13,
    "start_time": "2023-01-31T18:56:20.770Z"
   },
   {
    "duration": 20,
    "start_time": "2023-01-31T18:57:03.507Z"
   },
   {
    "duration": 292,
    "start_time": "2023-01-31T18:59:29.877Z"
   },
   {
    "duration": 284,
    "start_time": "2023-01-31T19:00:04.852Z"
   },
   {
    "duration": 13,
    "start_time": "2023-01-31T19:00:23.005Z"
   },
   {
    "duration": 39,
    "start_time": "2023-01-31T19:03:32.135Z"
   },
   {
    "duration": 23,
    "start_time": "2023-01-31T19:03:41.320Z"
   },
   {
    "duration": 24,
    "start_time": "2023-01-31T19:05:51.159Z"
   },
   {
    "duration": 12,
    "start_time": "2023-01-31T19:07:02.885Z"
   },
   {
    "duration": 5,
    "start_time": "2023-01-31T19:07:22.145Z"
   },
   {
    "duration": 9,
    "start_time": "2023-01-31T19:07:28.849Z"
   },
   {
    "duration": 5,
    "start_time": "2023-01-31T19:10:20.952Z"
   },
   {
    "duration": 12,
    "start_time": "2023-01-31T19:10:42.179Z"
   },
   {
    "duration": 6,
    "start_time": "2023-01-31T19:10:44.865Z"
   },
   {
    "duration": 1118,
    "start_time": "2023-01-31T19:12:10.020Z"
   },
   {
    "duration": 24,
    "start_time": "2023-01-31T19:12:14.299Z"
   },
   {
    "duration": 1142,
    "start_time": "2023-01-31T19:12:21.791Z"
   },
   {
    "duration": 7,
    "start_time": "2023-01-31T19:12:38.981Z"
   },
   {
    "duration": 16,
    "start_time": "2023-01-31T19:12:43.319Z"
   },
   {
    "duration": 14,
    "start_time": "2023-01-31T19:13:26.496Z"
   },
   {
    "duration": 1108,
    "start_time": "2023-01-31T19:13:35.465Z"
   },
   {
    "duration": 6,
    "start_time": "2023-01-31T19:13:52.366Z"
   },
   {
    "duration": 122,
    "start_time": "2023-01-31T19:13:57.824Z"
   },
   {
    "duration": 13,
    "start_time": "2023-01-31T19:13:58.262Z"
   },
   {
    "duration": 9,
    "start_time": "2023-01-31T19:14:01.953Z"
   },
   {
    "duration": 226,
    "start_time": "2023-01-31T19:14:03.052Z"
   },
   {
    "duration": 7,
    "start_time": "2023-01-31T19:14:03.884Z"
   },
   {
    "duration": 12,
    "start_time": "2023-01-31T19:14:04.749Z"
   },
   {
    "duration": 14,
    "start_time": "2023-01-31T19:14:05.050Z"
   },
   {
    "duration": 361,
    "start_time": "2023-01-31T19:14:05.442Z"
   },
   {
    "duration": 7,
    "start_time": "2023-01-31T19:14:06.365Z"
   },
   {
    "duration": 169,
    "start_time": "2023-01-31T19:14:08.195Z"
   },
   {
    "duration": 5,
    "start_time": "2023-01-31T19:14:08.726Z"
   },
   {
    "duration": 8,
    "start_time": "2023-01-31T19:14:09.449Z"
   },
   {
    "duration": 156,
    "start_time": "2023-01-31T19:14:10.442Z"
   },
   {
    "duration": 5,
    "start_time": "2023-01-31T19:14:10.854Z"
   },
   {
    "duration": 8,
    "start_time": "2023-01-31T19:14:11.306Z"
   },
   {
    "duration": 27,
    "start_time": "2023-01-31T19:14:11.702Z"
   },
   {
    "duration": 5,
    "start_time": "2023-01-31T19:14:12.693Z"
   },
   {
    "duration": 18,
    "start_time": "2023-01-31T19:14:13.803Z"
   },
   {
    "duration": 25,
    "start_time": "2023-01-31T19:14:15.364Z"
   },
   {
    "duration": 302,
    "start_time": "2023-01-31T19:14:15.893Z"
   },
   {
    "duration": 12,
    "start_time": "2023-01-31T19:14:16.696Z"
   },
   {
    "duration": 5,
    "start_time": "2023-01-31T19:14:57.593Z"
   },
   {
    "duration": 11,
    "start_time": "2023-01-31T19:15:49.418Z"
   },
   {
    "duration": 7,
    "start_time": "2023-01-31T19:15:51.942Z"
   },
   {
    "duration": 13,
    "start_time": "2023-01-31T19:16:09.344Z"
   },
   {
    "duration": 5,
    "start_time": "2023-01-31T19:16:10.930Z"
   },
   {
    "duration": 5,
    "start_time": "2023-01-31T19:17:38.960Z"
   },
   {
    "duration": 15,
    "start_time": "2023-01-31T19:18:57.823Z"
   },
   {
    "duration": 14,
    "start_time": "2023-01-31T19:20:03.197Z"
   },
   {
    "duration": 5,
    "start_time": "2023-01-31T19:21:00.619Z"
   },
   {
    "duration": 10,
    "start_time": "2023-01-31T19:21:49.765Z"
   },
   {
    "duration": 12,
    "start_time": "2023-01-31T19:22:46.560Z"
   },
   {
    "duration": 10,
    "start_time": "2023-01-31T19:22:52.659Z"
   },
   {
    "duration": 156,
    "start_time": "2023-01-31T19:25:02.064Z"
   },
   {
    "duration": 38,
    "start_time": "2023-01-31T19:25:09.042Z"
   },
   {
    "duration": 5,
    "start_time": "2023-01-31T19:25:48.595Z"
   },
   {
    "duration": 12,
    "start_time": "2023-01-31T19:26:16.589Z"
   },
   {
    "duration": 55,
    "start_time": "2023-01-31T19:27:15.297Z"
   },
   {
    "duration": 5,
    "start_time": "2023-01-31T19:27:43.546Z"
   },
   {
    "duration": 5,
    "start_time": "2023-01-31T19:27:51.003Z"
   },
   {
    "duration": 13,
    "start_time": "2023-01-31T19:29:40.530Z"
   },
   {
    "duration": 44,
    "start_time": "2023-01-31T19:29:55.515Z"
   },
   {
    "duration": 6,
    "start_time": "2023-01-31T19:30:13.461Z"
   },
   {
    "duration": 39,
    "start_time": "2023-01-31T19:30:34.553Z"
   },
   {
    "duration": 13,
    "start_time": "2023-01-31T19:31:29.754Z"
   },
   {
    "duration": 8,
    "start_time": "2023-01-31T19:34:44.351Z"
   },
   {
    "duration": 5,
    "start_time": "2023-01-31T19:35:40.694Z"
   },
   {
    "duration": 41,
    "start_time": "2023-01-31T19:36:52.294Z"
   },
   {
    "duration": 40,
    "start_time": "2023-01-31T19:37:04.104Z"
   },
   {
    "duration": 10,
    "start_time": "2023-01-31T19:38:03.343Z"
   },
   {
    "duration": 9,
    "start_time": "2023-01-31T19:39:40.693Z"
   },
   {
    "duration": 43,
    "start_time": "2023-01-31T19:39:46.354Z"
   },
   {
    "duration": 3,
    "start_time": "2023-01-31T19:40:21.492Z"
   },
   {
    "duration": 39,
    "start_time": "2023-01-31T19:40:25.746Z"
   },
   {
    "duration": 15,
    "start_time": "2023-01-31T19:40:54.440Z"
   },
   {
    "duration": 40,
    "start_time": "2023-01-31T19:41:07.313Z"
   },
   {
    "duration": 15,
    "start_time": "2023-01-31T19:41:22.414Z"
   },
   {
    "duration": 16,
    "start_time": "2023-01-31T19:41:49.856Z"
   },
   {
    "duration": 10,
    "start_time": "2023-01-31T19:42:02.729Z"
   },
   {
    "duration": 34,
    "start_time": "2023-01-31T19:42:31.079Z"
   },
   {
    "duration": 541,
    "start_time": "2023-01-31T19:43:36.350Z"
   },
   {
    "duration": 588,
    "start_time": "2023-01-31T19:44:01.068Z"
   },
   {
    "duration": 33,
    "start_time": "2023-01-31T19:44:17.063Z"
   },
   {
    "duration": 14,
    "start_time": "2023-01-31T19:45:36.731Z"
   },
   {
    "duration": 5,
    "start_time": "2023-01-31T19:46:01.060Z"
   },
   {
    "duration": 33,
    "start_time": "2023-01-31T19:46:07.709Z"
   },
   {
    "duration": 15,
    "start_time": "2023-01-31T19:48:04.547Z"
   },
   {
    "duration": 17,
    "start_time": "2023-01-31T19:48:14.505Z"
   },
   {
    "duration": 4,
    "start_time": "2023-01-31T19:48:21.185Z"
   },
   {
    "duration": 17,
    "start_time": "2023-01-31T19:48:37.802Z"
   },
   {
    "duration": 12,
    "start_time": "2023-01-31T19:49:26.216Z"
   },
   {
    "duration": 5,
    "start_time": "2023-01-31T19:49:42.695Z"
   },
   {
    "duration": 6,
    "start_time": "2023-01-31T19:49:54.104Z"
   },
   {
    "duration": 12,
    "start_time": "2023-01-31T19:51:18.359Z"
   },
   {
    "duration": 10,
    "start_time": "2023-01-31T19:53:30.435Z"
   },
   {
    "duration": 7,
    "start_time": "2023-01-31T19:53:58.729Z"
   },
   {
    "duration": 3,
    "start_time": "2023-01-31T19:55:05.150Z"
   },
   {
    "duration": 6,
    "start_time": "2023-01-31T19:56:07.786Z"
   },
   {
    "duration": 7,
    "start_time": "2023-01-31T19:58:29.767Z"
   },
   {
    "duration": 6,
    "start_time": "2023-01-31T19:58:39.899Z"
   },
   {
    "duration": 4,
    "start_time": "2023-01-31T19:58:43.858Z"
   },
   {
    "duration": 4,
    "start_time": "2023-01-31T19:58:47.779Z"
   },
   {
    "duration": 304,
    "start_time": "2023-01-31T19:59:52.448Z"
   },
   {
    "duration": 36,
    "start_time": "2023-01-31T19:59:57.654Z"
   },
   {
    "duration": 6,
    "start_time": "2023-01-31T20:06:02.218Z"
   },
   {
    "duration": 6,
    "start_time": "2023-01-31T20:08:10.896Z"
   },
   {
    "duration": 593,
    "start_time": "2023-01-31T20:08:31.169Z"
   },
   {
    "duration": 6,
    "start_time": "2023-01-31T20:08:39.748Z"
   },
   {
    "duration": 4,
    "start_time": "2023-01-31T20:09:10.100Z"
   },
   {
    "duration": 824,
    "start_time": "2023-01-31T20:09:39.125Z"
   },
   {
    "duration": 5,
    "start_time": "2023-01-31T20:09:58.882Z"
   },
   {
    "duration": 5,
    "start_time": "2023-01-31T20:10:06.892Z"
   },
   {
    "duration": 799,
    "start_time": "2023-01-31T20:10:13.712Z"
   },
   {
    "duration": 111,
    "start_time": "2023-01-31T20:10:50.413Z"
   },
   {
    "duration": 19,
    "start_time": "2023-01-31T20:10:50.847Z"
   },
   {
    "duration": 10,
    "start_time": "2023-01-31T20:10:52.557Z"
   },
   {
    "duration": 229,
    "start_time": "2023-01-31T20:10:53.303Z"
   },
   {
    "duration": 6,
    "start_time": "2023-01-31T20:10:53.722Z"
   },
   {
    "duration": 14,
    "start_time": "2023-01-31T20:10:54.857Z"
   },
   {
    "duration": 19,
    "start_time": "2023-01-31T20:10:55.351Z"
   },
   {
    "duration": 270,
    "start_time": "2023-01-31T20:10:55.961Z"
   },
   {
    "duration": 7,
    "start_time": "2023-01-31T20:10:57.256Z"
   },
   {
    "duration": 243,
    "start_time": "2023-01-31T20:10:58.179Z"
   },
   {
    "duration": 6,
    "start_time": "2023-01-31T20:10:58.556Z"
   },
   {
    "duration": 8,
    "start_time": "2023-01-31T20:10:59.053Z"
   },
   {
    "duration": 166,
    "start_time": "2023-01-31T20:10:59.879Z"
   },
   {
    "duration": 5,
    "start_time": "2023-01-31T20:11:00.235Z"
   },
   {
    "duration": 8,
    "start_time": "2023-01-31T20:11:00.655Z"
   },
   {
    "duration": 25,
    "start_time": "2023-01-31T20:11:01.066Z"
   },
   {
    "duration": 7,
    "start_time": "2023-01-31T20:11:01.905Z"
   },
   {
    "duration": 20,
    "start_time": "2023-01-31T20:11:02.854Z"
   },
   {
    "duration": 21,
    "start_time": "2023-01-31T20:11:03.823Z"
   },
   {
    "duration": 286,
    "start_time": "2023-01-31T20:11:04.195Z"
   },
   {
    "duration": 13,
    "start_time": "2023-01-31T20:11:04.713Z"
   },
   {
    "duration": 6,
    "start_time": "2023-01-31T20:11:10.534Z"
   },
   {
    "duration": 6,
    "start_time": "2023-01-31T20:11:21.257Z"
   },
   {
    "duration": 5,
    "start_time": "2023-01-31T20:12:08.251Z"
   },
   {
    "duration": 4,
    "start_time": "2023-01-31T20:12:34.489Z"
   },
   {
    "duration": 39,
    "start_time": "2023-01-31T20:17:39.224Z"
   },
   {
    "duration": 6,
    "start_time": "2023-01-31T20:18:58.554Z"
   },
   {
    "duration": 6,
    "start_time": "2023-01-31T20:19:14.499Z"
   },
   {
    "duration": 6,
    "start_time": "2023-01-31T20:19:45.396Z"
   },
   {
    "duration": 14,
    "start_time": "2023-01-31T20:20:19.097Z"
   },
   {
    "duration": 3,
    "start_time": "2023-01-31T20:20:24.681Z"
   },
   {
    "duration": 34,
    "start_time": "2023-01-31T20:20:27.380Z"
   },
   {
    "duration": 7,
    "start_time": "2023-01-31T20:21:20.925Z"
   },
   {
    "duration": 8,
    "start_time": "2023-01-31T20:22:12.855Z"
   },
   {
    "duration": 7,
    "start_time": "2023-01-31T20:22:21.368Z"
   },
   {
    "duration": 40,
    "start_time": "2023-01-31T20:22:52.484Z"
   },
   {
    "duration": 8,
    "start_time": "2023-01-31T20:23:07.166Z"
   },
   {
    "duration": 36,
    "start_time": "2023-01-31T20:23:42.965Z"
   },
   {
    "duration": 35,
    "start_time": "2023-01-31T20:24:30.168Z"
   },
   {
    "duration": 10,
    "start_time": "2023-01-31T20:24:53.931Z"
   },
   {
    "duration": 9,
    "start_time": "2023-01-31T20:27:34.351Z"
   },
   {
    "duration": 9,
    "start_time": "2023-01-31T20:28:07.323Z"
   },
   {
    "duration": 6,
    "start_time": "2023-01-31T20:28:16.600Z"
   },
   {
    "duration": 5,
    "start_time": "2023-01-31T20:28:24.655Z"
   },
   {
    "duration": 7,
    "start_time": "2023-01-31T20:28:31.266Z"
   },
   {
    "duration": 9,
    "start_time": "2023-01-31T20:29:00.422Z"
   },
   {
    "duration": 5,
    "start_time": "2023-01-31T20:29:06.358Z"
   },
   {
    "duration": 42,
    "start_time": "2023-01-31T20:29:09.897Z"
   },
   {
    "duration": 9,
    "start_time": "2023-01-31T20:29:14.314Z"
   },
   {
    "duration": 36,
    "start_time": "2023-01-31T20:29:24.672Z"
   },
   {
    "duration": 9,
    "start_time": "2023-01-31T20:32:01.916Z"
   },
   {
    "duration": 7,
    "start_time": "2023-01-31T20:56:26.505Z"
   },
   {
    "duration": 24,
    "start_time": "2023-01-31T20:56:44.301Z"
   },
   {
    "duration": 9,
    "start_time": "2023-01-31T20:57:14.579Z"
   },
   {
    "duration": 30,
    "start_time": "2023-01-31T20:57:34.478Z"
   },
   {
    "duration": 7,
    "start_time": "2023-01-31T21:00:15.165Z"
   },
   {
    "duration": 8,
    "start_time": "2023-01-31T21:00:23.690Z"
   },
   {
    "duration": 8,
    "start_time": "2023-01-31T21:00:28.707Z"
   },
   {
    "duration": 12,
    "start_time": "2023-01-31T21:01:26.862Z"
   },
   {
    "duration": 3,
    "start_time": "2023-01-31T21:04:11.902Z"
   },
   {
    "duration": 122,
    "start_time": "2023-01-31T21:06:23.864Z"
   },
   {
    "duration": 38,
    "start_time": "2023-01-31T21:08:09.891Z"
   },
   {
    "duration": 6,
    "start_time": "2023-01-31T21:13:36.803Z"
   },
   {
    "duration": 7,
    "start_time": "2023-01-31T21:14:00.784Z"
   },
   {
    "duration": 6,
    "start_time": "2023-01-31T21:14:27.027Z"
   },
   {
    "duration": 6,
    "start_time": "2023-01-31T21:14:49.521Z"
   },
   {
    "duration": 7,
    "start_time": "2023-01-31T21:15:25.379Z"
   },
   {
    "duration": 6,
    "start_time": "2023-01-31T21:15:30.143Z"
   },
   {
    "duration": 9,
    "start_time": "2023-01-31T21:15:45.324Z"
   },
   {
    "duration": 6,
    "start_time": "2023-01-31T21:16:09.666Z"
   },
   {
    "duration": 6,
    "start_time": "2023-01-31T21:16:25.794Z"
   },
   {
    "duration": 5,
    "start_time": "2023-01-31T21:16:40.286Z"
   },
   {
    "duration": 9,
    "start_time": "2023-01-31T21:16:57.881Z"
   },
   {
    "duration": 6,
    "start_time": "2023-01-31T21:17:05.894Z"
   },
   {
    "duration": 5,
    "start_time": "2023-01-31T21:17:23.230Z"
   },
   {
    "duration": 6,
    "start_time": "2023-01-31T21:17:55.159Z"
   },
   {
    "duration": 4,
    "start_time": "2023-01-31T21:18:21.467Z"
   },
   {
    "duration": 5,
    "start_time": "2023-01-31T21:18:30.107Z"
   },
   {
    "duration": 4,
    "start_time": "2023-01-31T21:18:38.239Z"
   },
   {
    "duration": 4,
    "start_time": "2023-01-31T21:18:43.804Z"
   },
   {
    "duration": 5,
    "start_time": "2023-01-31T21:18:49.627Z"
   },
   {
    "duration": 4,
    "start_time": "2023-01-31T21:18:54.975Z"
   },
   {
    "duration": 5,
    "start_time": "2023-01-31T21:19:03.685Z"
   },
   {
    "duration": 55,
    "start_time": "2023-01-31T21:19:58.678Z"
   },
   {
    "duration": 25,
    "start_time": "2023-01-31T21:20:06.284Z"
   },
   {
    "duration": 11,
    "start_time": "2023-01-31T21:31:31.332Z"
   },
   {
    "duration": 8,
    "start_time": "2023-01-31T21:31:36.874Z"
   },
   {
    "duration": 44,
    "start_time": "2023-02-01T18:15:50.277Z"
   },
   {
    "duration": 1283,
    "start_time": "2023-02-01T18:15:57.432Z"
   },
   {
    "duration": 166,
    "start_time": "2023-02-01T18:15:58.716Z"
   },
   {
    "duration": 40,
    "start_time": "2023-02-01T18:15:58.884Z"
   },
   {
    "duration": 5,
    "start_time": "2023-02-01T18:15:59.221Z"
   },
   {
    "duration": 6,
    "start_time": "2023-02-01T18:15:59.594Z"
   },
   {
    "duration": 5,
    "start_time": "2023-02-01T18:15:59.917Z"
   },
   {
    "duration": 5,
    "start_time": "2023-02-01T18:16:00.290Z"
   },
   {
    "duration": 5,
    "start_time": "2023-02-01T18:16:00.656Z"
   },
   {
    "duration": 6,
    "start_time": "2023-02-01T18:16:01.017Z"
   },
   {
    "duration": 4,
    "start_time": "2023-02-01T18:16:01.379Z"
   },
   {
    "duration": 6,
    "start_time": "2023-02-01T18:16:01.754Z"
   },
   {
    "duration": 6,
    "start_time": "2023-02-01T18:16:02.046Z"
   },
   {
    "duration": 6,
    "start_time": "2023-02-01T18:16:02.388Z"
   },
   {
    "duration": 5,
    "start_time": "2023-02-01T18:16:02.748Z"
   },
   {
    "duration": 7,
    "start_time": "2023-02-01T18:16:03.030Z"
   },
   {
    "duration": 40,
    "start_time": "2023-02-01T18:16:03.336Z"
   },
   {
    "duration": 13,
    "start_time": "2023-02-01T18:16:07.334Z"
   },
   {
    "duration": 89,
    "start_time": "2023-02-01T18:16:08.139Z"
   },
   {
    "duration": 19,
    "start_time": "2023-02-01T18:16:15.486Z"
   },
   {
    "duration": 46,
    "start_time": "2023-02-01T18:16:22.869Z"
   },
   {
    "duration": 18,
    "start_time": "2023-02-01T18:16:42.494Z"
   },
   {
    "duration": 7,
    "start_time": "2023-02-01T18:16:48.389Z"
   },
   {
    "duration": 10,
    "start_time": "2023-02-01T18:16:55.540Z"
   },
   {
    "duration": 10,
    "start_time": "2023-02-01T18:17:00.788Z"
   },
   {
    "duration": 18,
    "start_time": "2023-02-01T18:17:06.351Z"
   },
   {
    "duration": 10,
    "start_time": "2023-02-01T18:20:46.790Z"
   },
   {
    "duration": 23,
    "start_time": "2023-02-01T18:21:17.547Z"
   },
   {
    "duration": 3,
    "start_time": "2023-02-01T18:24:12.799Z"
   },
   {
    "duration": 9,
    "start_time": "2023-02-01T18:24:29.935Z"
   },
   {
    "duration": 5,
    "start_time": "2023-02-01T18:24:58.590Z"
   },
   {
    "duration": 4,
    "start_time": "2023-02-01T18:25:12.792Z"
   },
   {
    "duration": 5,
    "start_time": "2023-02-01T18:25:23.532Z"
   },
   {
    "duration": 4,
    "start_time": "2023-02-01T18:25:33.683Z"
   },
   {
    "duration": 7,
    "start_time": "2023-02-01T18:25:36.536Z"
   },
   {
    "duration": 4,
    "start_time": "2023-02-01T18:25:46.918Z"
   },
   {
    "duration": 4,
    "start_time": "2023-02-01T18:25:53.004Z"
   },
   {
    "duration": 10,
    "start_time": "2023-02-01T18:25:55.708Z"
   },
   {
    "duration": 4,
    "start_time": "2023-02-01T18:26:02.621Z"
   },
   {
    "duration": 3,
    "start_time": "2023-02-01T18:26:11.738Z"
   },
   {
    "duration": 4,
    "start_time": "2023-02-01T18:26:16.634Z"
   },
   {
    "duration": 4,
    "start_time": "2023-02-01T18:26:18.790Z"
   },
   {
    "duration": 5,
    "start_time": "2023-02-01T18:26:28.503Z"
   },
   {
    "duration": 40,
    "start_time": "2023-02-01T18:28:40.919Z"
   },
   {
    "duration": 13,
    "start_time": "2023-02-01T18:29:14.024Z"
   },
   {
    "duration": 8,
    "start_time": "2023-02-01T18:32:11.487Z"
   },
   {
    "duration": 36,
    "start_time": "2023-02-01T18:32:17.366Z"
   },
   {
    "duration": 12,
    "start_time": "2023-02-01T18:32:34.567Z"
   },
   {
    "duration": 11,
    "start_time": "2023-02-01T18:32:44.915Z"
   },
   {
    "duration": 9,
    "start_time": "2023-02-01T18:32:52.719Z"
   },
   {
    "duration": 25,
    "start_time": "2023-02-01T18:33:04.153Z"
   },
   {
    "duration": 23,
    "start_time": "2023-02-01T18:34:34.351Z"
   },
   {
    "duration": 36,
    "start_time": "2023-02-01T18:36:01.925Z"
   },
   {
    "duration": 7,
    "start_time": "2023-02-01T18:38:01.879Z"
   },
   {
    "duration": 9,
    "start_time": "2023-02-01T18:38:57.027Z"
   },
   {
    "duration": 18,
    "start_time": "2023-02-01T18:39:08.930Z"
   },
   {
    "duration": 10,
    "start_time": "2023-02-01T18:39:14.352Z"
   },
   {
    "duration": 3,
    "start_time": "2023-02-01T18:43:24.485Z"
   },
   {
    "duration": 8,
    "start_time": "2023-02-01T18:43:28.061Z"
   },
   {
    "duration": 1115,
    "start_time": "2023-02-01T18:47:06.884Z"
   },
   {
    "duration": 1142,
    "start_time": "2023-02-01T18:47:22.970Z"
   },
   {
    "duration": 6,
    "start_time": "2023-02-01T18:50:29.063Z"
   },
   {
    "duration": 4,
    "start_time": "2023-02-01T18:50:36.927Z"
   },
   {
    "duration": 46,
    "start_time": "2023-02-01T18:51:02.888Z"
   },
   {
    "duration": 41,
    "start_time": "2023-02-01T18:51:25.626Z"
   },
   {
    "duration": 39,
    "start_time": "2023-02-01T18:52:02.749Z"
   },
   {
    "duration": 21,
    "start_time": "2023-02-01T18:53:38.832Z"
   },
   {
    "duration": 38,
    "start_time": "2023-02-01T18:53:50.683Z"
   },
   {
    "duration": 31,
    "start_time": "2023-02-01T18:53:56.928Z"
   },
   {
    "duration": 1113,
    "start_time": "2023-02-01T18:59:50.583Z"
   },
   {
    "duration": 1177,
    "start_time": "2023-02-01T19:00:09.526Z"
   },
   {
    "duration": 1131,
    "start_time": "2023-02-01T19:00:20.101Z"
   },
   {
    "duration": 6,
    "start_time": "2023-02-01T19:01:43.762Z"
   },
   {
    "duration": 1167,
    "start_time": "2023-02-01T19:05:17.444Z"
   },
   {
    "duration": 1117,
    "start_time": "2023-02-01T19:06:08.156Z"
   },
   {
    "duration": 6,
    "start_time": "2023-02-01T19:07:02.791Z"
   },
   {
    "duration": 5,
    "start_time": "2023-02-01T19:07:14.263Z"
   },
   {
    "duration": 28,
    "start_time": "2023-02-01T19:11:01.036Z"
   },
   {
    "duration": 13,
    "start_time": "2023-02-01T19:14:57.347Z"
   },
   {
    "duration": 5,
    "start_time": "2023-02-01T19:18:28.093Z"
   },
   {
    "duration": 6,
    "start_time": "2023-02-01T19:18:44.610Z"
   },
   {
    "duration": 77,
    "start_time": "2023-02-01T19:29:55.366Z"
   },
   {
    "duration": 15,
    "start_time": "2023-02-01T19:31:19.528Z"
   },
   {
    "duration": 24,
    "start_time": "2023-02-01T19:31:42.862Z"
   },
   {
    "duration": 1870,
    "start_time": "2023-02-01T19:35:43.310Z"
   },
   {
    "duration": 6,
    "start_time": "2023-02-01T19:39:45.329Z"
   },
   {
    "duration": 17,
    "start_time": "2023-02-01T19:44:43.861Z"
   },
   {
    "duration": 5,
    "start_time": "2023-02-01T19:44:53.005Z"
   },
   {
    "duration": 3,
    "start_time": "2023-02-01T19:46:26.097Z"
   },
   {
    "duration": 74,
    "start_time": "2023-02-01T19:48:01.860Z"
   },
   {
    "duration": 3,
    "start_time": "2023-02-01T19:49:07.973Z"
   },
   {
    "duration": 4,
    "start_time": "2023-02-01T19:49:51.015Z"
   },
   {
    "duration": 3,
    "start_time": "2023-02-01T19:50:35.010Z"
   },
   {
    "duration": 11,
    "start_time": "2023-02-01T19:52:14.104Z"
   },
   {
    "duration": 12,
    "start_time": "2023-02-01T19:52:31.505Z"
   },
   {
    "duration": 14,
    "start_time": "2023-02-01T19:52:45.011Z"
   },
   {
    "duration": 12,
    "start_time": "2023-02-01T19:52:50.411Z"
   },
   {
    "duration": 6,
    "start_time": "2023-02-01T19:52:59.163Z"
   },
   {
    "duration": 11,
    "start_time": "2023-02-01T19:54:25.911Z"
   },
   {
    "duration": 5,
    "start_time": "2023-02-01T19:54:44.358Z"
   },
   {
    "duration": 47,
    "start_time": "2023-02-01T19:54:48.172Z"
   },
   {
    "duration": 4,
    "start_time": "2023-02-01T19:54:59.191Z"
   },
   {
    "duration": 22,
    "start_time": "2023-02-01T19:55:02.862Z"
   },
   {
    "duration": 5,
    "start_time": "2023-02-01T19:55:57.606Z"
   },
   {
    "duration": 6,
    "start_time": "2023-02-01T19:55:58.811Z"
   },
   {
    "duration": 6,
    "start_time": "2023-02-01T19:55:59.805Z"
   },
   {
    "duration": 4,
    "start_time": "2023-02-01T19:56:00.269Z"
   },
   {
    "duration": 12,
    "start_time": "2023-02-01T19:56:02.105Z"
   },
   {
    "duration": 84,
    "start_time": "2023-02-01T19:56:18.935Z"
   },
   {
    "duration": 9,
    "start_time": "2023-02-01T19:56:23.561Z"
   },
   {
    "duration": 53,
    "start_time": "2023-02-01T19:57:39.003Z"
   },
   {
    "duration": 46,
    "start_time": "2023-02-01T19:57:48.368Z"
   },
   {
    "duration": 3,
    "start_time": "2023-02-01T19:57:55.812Z"
   },
   {
    "duration": 83,
    "start_time": "2023-02-01T19:58:12.208Z"
   },
   {
    "duration": 3,
    "start_time": "2023-02-01T19:58:32.028Z"
   },
   {
    "duration": 29,
    "start_time": "2023-02-01T19:58:35.707Z"
   },
   {
    "duration": 10,
    "start_time": "2023-02-01T19:59:40.912Z"
   },
   {
    "duration": 27,
    "start_time": "2023-02-01T19:59:49.622Z"
   },
   {
    "duration": 15,
    "start_time": "2023-02-01T20:01:45.997Z"
   },
   {
    "duration": 1096,
    "start_time": "2023-02-01T20:04:01.295Z"
   },
   {
    "duration": 9,
    "start_time": "2023-02-01T20:04:10.121Z"
   },
   {
    "duration": 9,
    "start_time": "2023-02-01T20:05:03.193Z"
   },
   {
    "duration": 8,
    "start_time": "2023-02-01T20:05:04.903Z"
   },
   {
    "duration": 17,
    "start_time": "2023-02-01T20:05:12.579Z"
   },
   {
    "duration": 17,
    "start_time": "2023-02-01T20:05:14.494Z"
   },
   {
    "duration": 148,
    "start_time": "2023-02-01T20:05:23.963Z"
   },
   {
    "duration": 13,
    "start_time": "2023-02-01T20:05:28.296Z"
   },
   {
    "duration": 71,
    "start_time": "2023-02-01T20:06:00.726Z"
   },
   {
    "duration": 11,
    "start_time": "2023-02-01T20:06:58.671Z"
   },
   {
    "duration": 6,
    "start_time": "2023-02-01T20:08:07.397Z"
   },
   {
    "duration": 36,
    "start_time": "2023-02-01T20:09:39.786Z"
   },
   {
    "duration": 10,
    "start_time": "2023-02-01T20:10:55.620Z"
   },
   {
    "duration": 8,
    "start_time": "2023-02-01T20:12:15.727Z"
   },
   {
    "duration": 13,
    "start_time": "2023-02-01T20:12:30.368Z"
   },
   {
    "duration": 13,
    "start_time": "2023-02-01T20:14:46.589Z"
   },
   {
    "duration": 11,
    "start_time": "2023-02-01T20:15:42.712Z"
   },
   {
    "duration": 4,
    "start_time": "2023-02-01T20:16:18.411Z"
   },
   {
    "duration": 3,
    "start_time": "2023-02-01T20:16:19.155Z"
   },
   {
    "duration": 30,
    "start_time": "2023-02-01T20:16:26.492Z"
   },
   {
    "duration": 3,
    "start_time": "2023-02-01T20:16:50.011Z"
   },
   {
    "duration": 30,
    "start_time": "2023-02-01T20:16:55.827Z"
   },
   {
    "duration": 4,
    "start_time": "2023-02-01T20:17:08.454Z"
   },
   {
    "duration": 4,
    "start_time": "2023-02-01T20:17:13.477Z"
   },
   {
    "duration": 27,
    "start_time": "2023-02-01T20:17:18.107Z"
   },
   {
    "duration": 9,
    "start_time": "2023-02-01T20:17:51.844Z"
   },
   {
    "duration": 23,
    "start_time": "2023-02-01T20:17:55.739Z"
   },
   {
    "duration": 44,
    "start_time": "2023-02-01T20:18:48.290Z"
   },
   {
    "duration": 9,
    "start_time": "2023-02-01T20:19:23.290Z"
   },
   {
    "duration": 6,
    "start_time": "2023-02-01T20:19:27.699Z"
   },
   {
    "duration": 49,
    "start_time": "2023-02-01T20:20:11.546Z"
   },
   {
    "duration": 7,
    "start_time": "2023-02-01T20:20:40.443Z"
   },
   {
    "duration": 9,
    "start_time": "2023-02-01T20:21:52.224Z"
   },
   {
    "duration": 14,
    "start_time": "2023-02-01T20:23:09.268Z"
   },
   {
    "duration": 54,
    "start_time": "2023-02-01T20:23:35.671Z"
   },
   {
    "duration": 41,
    "start_time": "2023-02-01T20:23:54.928Z"
   },
   {
    "duration": 27,
    "start_time": "2023-02-01T20:23:58.086Z"
   },
   {
    "duration": 10,
    "start_time": "2023-02-01T20:24:52.589Z"
   },
   {
    "duration": 7,
    "start_time": "2023-02-01T20:25:14.599Z"
   },
   {
    "duration": 9,
    "start_time": "2023-02-01T20:26:16.540Z"
   },
   {
    "duration": 15,
    "start_time": "2023-02-01T20:27:33.847Z"
   },
   {
    "duration": 12,
    "start_time": "2023-02-01T20:28:27.147Z"
   },
   {
    "duration": 7,
    "start_time": "2023-02-01T20:28:34.634Z"
   },
   {
    "duration": 12,
    "start_time": "2023-02-01T20:29:49.248Z"
   },
   {
    "duration": 29,
    "start_time": "2023-02-01T20:30:50.659Z"
   },
   {
    "duration": 8,
    "start_time": "2023-02-01T20:31:47.413Z"
   },
   {
    "duration": 12,
    "start_time": "2023-02-01T20:32:04.777Z"
   },
   {
    "duration": 42,
    "start_time": "2023-02-01T20:32:37.522Z"
   },
   {
    "duration": 29,
    "start_time": "2023-02-01T20:32:52.953Z"
   },
   {
    "duration": 4,
    "start_time": "2023-02-01T20:33:36.529Z"
   },
   {
    "duration": 27,
    "start_time": "2023-02-01T20:33:47.642Z"
   },
   {
    "duration": 3,
    "start_time": "2023-02-01T20:35:22.982Z"
   },
   {
    "duration": 38,
    "start_time": "2023-02-01T20:35:32.425Z"
   },
   {
    "duration": 4,
    "start_time": "2023-02-01T20:36:49.892Z"
   },
   {
    "duration": 28,
    "start_time": "2023-02-01T20:37:19.262Z"
   },
   {
    "duration": 4,
    "start_time": "2023-02-01T20:40:24.091Z"
   },
   {
    "duration": 4,
    "start_time": "2023-02-01T20:40:42.156Z"
   },
   {
    "duration": 3,
    "start_time": "2023-02-01T20:40:45.156Z"
   },
   {
    "duration": 13,
    "start_time": "2023-02-01T20:40:56.649Z"
   },
   {
    "duration": 3,
    "start_time": "2023-02-01T20:42:20.395Z"
   },
   {
    "duration": 27,
    "start_time": "2023-02-01T20:42:31.053Z"
   },
   {
    "duration": 6,
    "start_time": "2023-02-01T20:44:21.985Z"
   },
   {
    "duration": 6,
    "start_time": "2023-02-01T20:45:03.789Z"
   },
   {
    "duration": 19,
    "start_time": "2023-02-01T20:45:25.089Z"
   },
   {
    "duration": 46,
    "start_time": "2023-02-01T20:46:26.251Z"
   },
   {
    "duration": 4,
    "start_time": "2023-02-01T20:46:39.960Z"
   },
   {
    "duration": 44,
    "start_time": "2023-02-01T20:47:33.530Z"
   },
   {
    "duration": 5,
    "start_time": "2023-02-01T20:47:36.941Z"
   },
   {
    "duration": 5,
    "start_time": "2023-02-01T20:47:41.390Z"
   },
   {
    "duration": 6,
    "start_time": "2023-02-01T20:47:44.807Z"
   },
   {
    "duration": 12,
    "start_time": "2023-02-01T20:56:57.384Z"
   },
   {
    "duration": 6,
    "start_time": "2023-02-01T20:57:59.231Z"
   },
   {
    "duration": 13,
    "start_time": "2023-02-01T20:58:48.219Z"
   },
   {
    "duration": 14,
    "start_time": "2023-02-01T21:21:07.478Z"
   },
   {
    "duration": 11,
    "start_time": "2023-02-01T21:21:16.911Z"
   },
   {
    "duration": 78,
    "start_time": "2023-02-01T21:21:27.590Z"
   },
   {
    "duration": 13,
    "start_time": "2023-02-01T21:21:28.558Z"
   },
   {
    "duration": 27,
    "start_time": "2023-02-01T21:21:28.963Z"
   },
   {
    "duration": 1740,
    "start_time": "2023-02-01T21:21:29.809Z"
   },
   {
    "duration": 6,
    "start_time": "2023-02-01T21:21:31.551Z"
   },
   {
    "duration": 6,
    "start_time": "2023-02-01T21:21:31.854Z"
   },
   {
    "duration": 4,
    "start_time": "2023-02-01T21:21:32.282Z"
   },
   {
    "duration": 4,
    "start_time": "2023-02-01T21:21:36.606Z"
   },
   {
    "duration": 13,
    "start_time": "2023-02-01T21:21:39.136Z"
   },
   {
    "duration": 8,
    "start_time": "2023-02-01T21:21:40.045Z"
   },
   {
    "duration": 15,
    "start_time": "2023-02-01T21:21:44.968Z"
   },
   {
    "duration": 9,
    "start_time": "2023-02-01T21:21:49.034Z"
   },
   {
    "duration": 12,
    "start_time": "2023-02-01T21:21:51.207Z"
   },
   {
    "duration": 75,
    "start_time": "2023-02-01T21:22:00.353Z"
   },
   {
    "duration": 12,
    "start_time": "2023-02-01T21:22:02.948Z"
   },
   {
    "duration": 113,
    "start_time": "2023-02-01T21:22:05.870Z"
   },
   {
    "duration": 1643,
    "start_time": "2023-02-01T21:22:08.605Z"
   },
   {
    "duration": 6,
    "start_time": "2023-02-01T21:22:11.474Z"
   },
   {
    "duration": 5,
    "start_time": "2023-02-01T21:22:19.882Z"
   },
   {
    "duration": 4,
    "start_time": "2023-02-01T21:22:20.607Z"
   },
   {
    "duration": 3,
    "start_time": "2023-02-01T21:22:28.117Z"
   },
   {
    "duration": 4,
    "start_time": "2023-02-01T21:22:30.921Z"
   },
   {
    "duration": 13,
    "start_time": "2023-02-01T21:22:33.027Z"
   },
   {
    "duration": 74,
    "start_time": "2023-02-01T21:22:45.387Z"
   },
   {
    "duration": 29,
    "start_time": "2023-02-01T21:22:54.309Z"
   },
   {
    "duration": 75,
    "start_time": "2023-02-01T21:23:53.565Z"
   },
   {
    "duration": 14,
    "start_time": "2023-02-01T21:23:54.361Z"
   },
   {
    "duration": 29,
    "start_time": "2023-02-01T21:23:54.723Z"
   },
   {
    "duration": 1746,
    "start_time": "2023-02-01T21:23:55.652Z"
   },
   {
    "duration": 5,
    "start_time": "2023-02-01T21:23:57.400Z"
   },
   {
    "duration": 16,
    "start_time": "2023-02-01T21:23:59.204Z"
   },
   {
    "duration": 11,
    "start_time": "2023-02-01T21:24:26.135Z"
   },
   {
    "duration": 11,
    "start_time": "2023-02-01T21:24:30.708Z"
   },
   {
    "duration": 4,
    "start_time": "2023-02-01T21:24:46.463Z"
   },
   {
    "duration": 4,
    "start_time": "2023-02-01T21:24:49.148Z"
   },
   {
    "duration": 4,
    "start_time": "2023-02-01T21:24:49.992Z"
   },
   {
    "duration": 26,
    "start_time": "2023-02-01T21:24:51.060Z"
   },
   {
    "duration": 20,
    "start_time": "2023-02-01T21:24:52.468Z"
   },
   {
    "duration": 12,
    "start_time": "2023-02-01T21:24:54.767Z"
   },
   {
    "duration": 74,
    "start_time": "2023-02-01T21:24:59.282Z"
   },
   {
    "duration": 14,
    "start_time": "2023-02-01T21:24:59.985Z"
   },
   {
    "duration": 30,
    "start_time": "2023-02-01T21:25:00.331Z"
   },
   {
    "duration": 1782,
    "start_time": "2023-02-01T21:25:01.115Z"
   },
   {
    "duration": 5,
    "start_time": "2023-02-01T21:25:03.112Z"
   },
   {
    "duration": 5,
    "start_time": "2023-02-01T21:25:04.101Z"
   },
   {
    "duration": 3,
    "start_time": "2023-02-01T21:25:04.581Z"
   },
   {
    "duration": 4,
    "start_time": "2023-02-01T21:25:05.379Z"
   },
   {
    "duration": 28,
    "start_time": "2023-02-01T21:25:06.328Z"
   },
   {
    "duration": 16,
    "start_time": "2023-02-01T21:25:08.207Z"
   },
   {
    "duration": 13,
    "start_time": "2023-02-01T21:25:09.660Z"
   },
   {
    "duration": 9,
    "start_time": "2023-02-01T21:25:10.888Z"
   },
   {
    "duration": 10,
    "start_time": "2023-02-01T21:25:11.214Z"
   },
   {
    "duration": 11,
    "start_time": "2023-02-01T21:25:12.341Z"
   },
   {
    "duration": 7,
    "start_time": "2023-02-01T21:25:13.357Z"
   },
   {
    "duration": 34,
    "start_time": "2023-02-01T21:25:14.095Z"
   },
   {
    "duration": 10,
    "start_time": "2023-02-01T21:25:14.801Z"
   },
   {
    "duration": 10,
    "start_time": "2023-02-01T21:25:15.593Z"
   },
   {
    "duration": 13,
    "start_time": "2023-02-01T21:25:16.533Z"
   },
   {
    "duration": 30,
    "start_time": "2023-02-01T21:25:17.253Z"
   },
   {
    "duration": 24,
    "start_time": "2023-02-01T21:25:17.636Z"
   },
   {
    "duration": 6,
    "start_time": "2023-02-01T21:25:18.366Z"
   },
   {
    "duration": 9,
    "start_time": "2023-02-01T21:25:19.355Z"
   },
   {
    "duration": 11,
    "start_time": "2023-02-01T21:25:19.999Z"
   },
   {
    "duration": 12,
    "start_time": "2023-02-01T21:25:20.877Z"
   },
   {
    "duration": 28,
    "start_time": "2023-02-01T21:25:21.490Z"
   },
   {
    "duration": 7,
    "start_time": "2023-02-01T21:25:22.129Z"
   },
   {
    "duration": 9,
    "start_time": "2023-02-01T21:25:22.703Z"
   },
   {
    "duration": 11,
    "start_time": "2023-02-01T21:25:23.551Z"
   },
   {
    "duration": 8,
    "start_time": "2023-02-01T21:25:24.165Z"
   },
   {
    "duration": 13,
    "start_time": "2023-02-01T21:25:25.085Z"
   },
   {
    "duration": 29,
    "start_time": "2023-02-01T21:25:25.736Z"
   },
   {
    "duration": 12,
    "start_time": "2023-02-01T21:25:26.459Z"
   },
   {
    "duration": 5,
    "start_time": "2023-02-01T21:25:27.096Z"
   },
   {
    "duration": 14,
    "start_time": "2023-02-01T21:25:28.027Z"
   },
   {
    "duration": 8,
    "start_time": "2023-02-01T21:25:28.699Z"
   },
   {
    "duration": 15,
    "start_time": "2023-02-01T21:25:29.362Z"
   },
   {
    "duration": 11,
    "start_time": "2023-02-01T21:25:29.988Z"
   },
   {
    "duration": 6,
    "start_time": "2023-02-01T21:26:33.923Z"
   },
   {
    "duration": 25,
    "start_time": "2023-02-01T21:27:42.127Z"
   },
   {
    "duration": 108,
    "start_time": "2023-02-01T21:27:58.168Z"
   },
   {
    "duration": 8,
    "start_time": "2023-02-01T21:28:22.899Z"
   },
   {
    "duration": 7,
    "start_time": "2023-02-01T21:28:31.721Z"
   },
   {
    "duration": 13,
    "start_time": "2023-02-01T21:30:00.465Z"
   },
   {
    "duration": 50,
    "start_time": "2023-02-01T21:30:30.926Z"
   },
   {
    "duration": 5,
    "start_time": "2023-02-01T21:31:17.996Z"
   },
   {
    "duration": 4,
    "start_time": "2023-02-01T21:32:14.504Z"
   },
   {
    "duration": 13,
    "start_time": "2023-02-01T21:33:35.415Z"
   },
   {
    "duration": 14,
    "start_time": "2023-02-01T21:33:55.461Z"
   },
   {
    "duration": 1149,
    "start_time": "2023-02-01T21:34:28.757Z"
   },
   {
    "duration": 1039,
    "start_time": "2023-02-01T21:35:49.778Z"
   },
   {
    "duration": 106,
    "start_time": "2023-02-01T21:36:52.738Z"
   },
   {
    "duration": 13,
    "start_time": "2023-02-01T21:36:55.151Z"
   },
   {
    "duration": 27,
    "start_time": "2023-02-01T21:36:56.320Z"
   },
   {
    "duration": 1824,
    "start_time": "2023-02-01T21:36:57.958Z"
   },
   {
    "duration": 6,
    "start_time": "2023-02-01T21:36:59.783Z"
   },
   {
    "duration": 5,
    "start_time": "2023-02-01T21:37:01.145Z"
   },
   {
    "duration": 3,
    "start_time": "2023-02-01T21:37:01.834Z"
   },
   {
    "duration": 4,
    "start_time": "2023-02-01T21:37:02.896Z"
   },
   {
    "duration": 29,
    "start_time": "2023-02-01T21:37:04.099Z"
   },
   {
    "duration": 17,
    "start_time": "2023-02-01T21:37:05.232Z"
   },
   {
    "duration": 13,
    "start_time": "2023-02-01T21:37:06.598Z"
   },
   {
    "duration": 9,
    "start_time": "2023-02-01T21:37:07.324Z"
   },
   {
    "duration": 11,
    "start_time": "2023-02-01T21:37:07.497Z"
   },
   {
    "duration": 11,
    "start_time": "2023-02-01T21:37:08.011Z"
   },
   {
    "duration": 6,
    "start_time": "2023-02-01T21:37:08.543Z"
   },
   {
    "duration": 37,
    "start_time": "2023-02-01T21:37:08.899Z"
   },
   {
    "duration": 12,
    "start_time": "2023-02-01T21:37:09.298Z"
   },
   {
    "duration": 10,
    "start_time": "2023-02-01T21:37:09.959Z"
   },
   {
    "duration": 15,
    "start_time": "2023-02-01T21:37:10.943Z"
   },
   {
    "duration": 28,
    "start_time": "2023-02-01T21:37:11.415Z"
   },
   {
    "duration": 23,
    "start_time": "2023-02-01T21:37:11.944Z"
   },
   {
    "duration": 6,
    "start_time": "2023-02-01T21:37:12.343Z"
   },
   {
    "duration": 7,
    "start_time": "2023-02-01T21:37:12.898Z"
   },
   {
    "duration": 8,
    "start_time": "2023-02-01T21:37:13.264Z"
   },
   {
    "duration": 13,
    "start_time": "2023-02-01T21:37:13.859Z"
   },
   {
    "duration": 28,
    "start_time": "2023-02-01T21:37:14.246Z"
   },
   {
    "duration": 6,
    "start_time": "2023-02-01T21:37:14.665Z"
   },
   {
    "duration": 8,
    "start_time": "2023-02-01T21:37:15.043Z"
   },
   {
    "duration": 15,
    "start_time": "2023-02-01T21:37:15.657Z"
   },
   {
    "duration": 8,
    "start_time": "2023-02-01T21:37:16.418Z"
   },
   {
    "duration": 14,
    "start_time": "2023-02-01T21:37:16.796Z"
   },
   {
    "duration": 33,
    "start_time": "2023-02-01T21:37:17.200Z"
   },
   {
    "duration": 13,
    "start_time": "2023-02-01T21:37:17.794Z"
   },
   {
    "duration": 5,
    "start_time": "2023-02-01T21:37:18.234Z"
   },
   {
    "duration": 13,
    "start_time": "2023-02-01T21:37:18.851Z"
   },
   {
    "duration": 6,
    "start_time": "2023-02-01T21:37:19.295Z"
   },
   {
    "duration": 13,
    "start_time": "2023-02-01T21:37:19.743Z"
   },
   {
    "duration": 11,
    "start_time": "2023-02-01T21:37:20.221Z"
   },
   {
    "duration": 7,
    "start_time": "2023-02-01T21:37:20.700Z"
   },
   {
    "duration": 116,
    "start_time": "2023-02-01T21:37:21.452Z"
   },
   {
    "duration": 8,
    "start_time": "2023-02-01T21:37:21.786Z"
   },
   {
    "duration": 15,
    "start_time": "2023-02-01T21:37:22.851Z"
   },
   {
    "duration": 5,
    "start_time": "2023-02-01T21:37:23.821Z"
   },
   {
    "duration": 4,
    "start_time": "2023-02-01T21:37:24.227Z"
   },
   {
    "duration": 16,
    "start_time": "2023-02-01T21:37:25.744Z"
   },
   {
    "duration": 968,
    "start_time": "2023-02-01T21:37:27.753Z"
   },
   {
    "duration": 5,
    "start_time": "2023-02-01T21:38:47.016Z"
   },
   {
    "duration": 4,
    "start_time": "2023-02-01T21:39:50.015Z"
   },
   {
    "duration": 4,
    "start_time": "2023-02-01T21:39:52.016Z"
   },
   {
    "duration": 13,
    "start_time": "2023-02-01T21:41:21.497Z"
   },
   {
    "duration": 11,
    "start_time": "2023-02-01T21:42:40.544Z"
   },
   {
    "duration": 5,
    "start_time": "2023-02-01T21:42:47.725Z"
   },
   {
    "duration": 16,
    "start_time": "2023-02-01T21:43:52.288Z"
   },
   {
    "duration": 11,
    "start_time": "2023-02-01T21:44:41.323Z"
   },
   {
    "duration": 12,
    "start_time": "2023-02-01T21:45:49.542Z"
   },
   {
    "duration": 6,
    "start_time": "2023-02-01T21:47:01.436Z"
   },
   {
    "duration": 13,
    "start_time": "2023-02-01T21:48:24.942Z"
   },
   {
    "duration": 14,
    "start_time": "2023-02-01T21:48:46.093Z"
   },
   {
    "duration": 14,
    "start_time": "2023-02-01T21:49:58.371Z"
   },
   {
    "duration": 43,
    "start_time": "2023-02-01T21:51:18.281Z"
   },
   {
    "duration": 274,
    "start_time": "2023-02-01T21:51:22.931Z"
   },
   {
    "duration": 11,
    "start_time": "2023-02-01T21:54:08.289Z"
   },
   {
    "duration": 15,
    "start_time": "2023-02-01T21:54:17.836Z"
   },
   {
    "duration": 13,
    "start_time": "2023-02-01T21:54:28.213Z"
   },
   {
    "duration": 11,
    "start_time": "2023-02-01T21:55:05.656Z"
   },
   {
    "duration": 8,
    "start_time": "2023-02-01T21:55:34.101Z"
   },
   {
    "duration": 9,
    "start_time": "2023-02-01T21:57:25.584Z"
   },
   {
    "duration": 4,
    "start_time": "2023-02-01T21:57:41.792Z"
   },
   {
    "duration": 13,
    "start_time": "2023-02-01T21:57:57.466Z"
   },
   {
    "duration": 16,
    "start_time": "2023-02-01T21:59:04.883Z"
   },
   {
    "duration": 691,
    "start_time": "2023-02-02T17:57:13.356Z"
   },
   {
    "duration": 15,
    "start_time": "2023-02-02T17:57:14.049Z"
   },
   {
    "duration": 30,
    "start_time": "2023-02-02T17:57:14.271Z"
   },
   {
    "duration": 2404,
    "start_time": "2023-02-02T17:57:14.869Z"
   },
   {
    "duration": 8,
    "start_time": "2023-02-02T17:57:17.275Z"
   },
   {
    "duration": 8,
    "start_time": "2023-02-02T17:57:17.284Z"
   },
   {
    "duration": 15,
    "start_time": "2023-02-02T17:57:17.294Z"
   },
   {
    "duration": 7,
    "start_time": "2023-02-02T17:57:17.310Z"
   },
   {
    "duration": 28,
    "start_time": "2023-02-02T17:57:18.415Z"
   },
   {
    "duration": 17,
    "start_time": "2023-02-02T17:57:19.567Z"
   },
   {
    "duration": 14,
    "start_time": "2023-02-02T17:57:20.700Z"
   },
   {
    "duration": 10,
    "start_time": "2023-02-02T17:57:21.762Z"
   },
   {
    "duration": 11,
    "start_time": "2023-02-02T17:57:22.230Z"
   },
   {
    "duration": 11,
    "start_time": "2023-02-02T17:57:23.317Z"
   },
   {
    "duration": 6,
    "start_time": "2023-02-02T17:57:24.329Z"
   },
   {
    "duration": 41,
    "start_time": "2023-02-02T17:57:24.969Z"
   },
   {
    "duration": 11,
    "start_time": "2023-02-02T17:57:25.659Z"
   },
   {
    "duration": 9,
    "start_time": "2023-02-02T17:57:26.371Z"
   },
   {
    "duration": 15,
    "start_time": "2023-02-02T17:57:27.484Z"
   },
   {
    "duration": 29,
    "start_time": "2023-02-02T17:57:28.194Z"
   },
   {
    "duration": 23,
    "start_time": "2023-02-02T17:57:28.531Z"
   },
   {
    "duration": 7,
    "start_time": "2023-02-02T17:57:29.180Z"
   },
   {
    "duration": 9,
    "start_time": "2023-02-02T17:57:30.066Z"
   },
   {
    "duration": 11,
    "start_time": "2023-02-02T17:57:30.726Z"
   },
   {
    "duration": 14,
    "start_time": "2023-02-02T17:57:31.663Z"
   },
   {
    "duration": 28,
    "start_time": "2023-02-02T17:57:32.303Z"
   },
   {
    "duration": 7,
    "start_time": "2023-02-02T17:57:32.972Z"
   },
   {
    "duration": 10,
    "start_time": "2023-02-02T17:57:33.570Z"
   },
   {
    "duration": 14,
    "start_time": "2023-02-02T17:57:34.594Z"
   },
   {
    "duration": 7,
    "start_time": "2023-02-02T17:57:35.315Z"
   },
   {
    "duration": 18,
    "start_time": "2023-02-02T17:57:36.419Z"
   },
   {
    "duration": 30,
    "start_time": "2023-02-02T17:57:37.142Z"
   },
   {
    "duration": 12,
    "start_time": "2023-02-02T17:57:37.832Z"
   },
   {
    "duration": 6,
    "start_time": "2023-02-02T17:57:38.505Z"
   },
   {
    "duration": 13,
    "start_time": "2023-02-02T17:57:39.507Z"
   },
   {
    "duration": 6,
    "start_time": "2023-02-02T17:57:40.175Z"
   },
   {
    "duration": 14,
    "start_time": "2023-02-02T17:57:40.873Z"
   },
   {
    "duration": 11,
    "start_time": "2023-02-02T17:57:41.516Z"
   },
   {
    "duration": 9,
    "start_time": "2023-02-02T17:57:41.811Z"
   },
   {
    "duration": 138,
    "start_time": "2023-02-02T17:57:42.448Z"
   },
   {
    "duration": 6,
    "start_time": "2023-02-02T17:57:42.738Z"
   },
   {
    "duration": 15,
    "start_time": "2023-02-02T17:57:44.201Z"
   },
   {
    "duration": 4,
    "start_time": "2023-02-02T17:57:45.513Z"
   },
   {
    "duration": 4,
    "start_time": "2023-02-02T17:57:45.936Z"
   },
   {
    "duration": 15,
    "start_time": "2023-02-02T17:57:47.347Z"
   },
   {
    "duration": 1066,
    "start_time": "2023-02-02T17:57:48.198Z"
   },
   {
    "duration": 4,
    "start_time": "2023-02-02T17:57:49.266Z"
   },
   {
    "duration": 4,
    "start_time": "2023-02-02T17:57:49.443Z"
   },
   {
    "duration": 16,
    "start_time": "2023-02-02T17:57:50.845Z"
   },
   {
    "duration": 6,
    "start_time": "2023-02-02T17:57:51.680Z"
   },
   {
    "duration": 14,
    "start_time": "2023-02-02T17:57:52.908Z"
   },
   {
    "duration": 12,
    "start_time": "2023-02-02T17:57:53.757Z"
   },
   {
    "duration": 13,
    "start_time": "2023-02-02T17:57:54.995Z"
   },
   {
    "duration": 6,
    "start_time": "2023-02-02T17:57:55.783Z"
   },
   {
    "duration": 16,
    "start_time": "2023-02-02T17:57:56.798Z"
   },
   {
    "duration": 11,
    "start_time": "2023-02-02T17:57:57.144Z"
   },
   {
    "duration": 14,
    "start_time": "2023-02-02T17:57:58.216Z"
   },
   {
    "duration": 315,
    "start_time": "2023-02-02T17:57:59.003Z"
   },
   {
    "duration": 9,
    "start_time": "2023-02-02T17:58:01.951Z"
   },
   {
    "duration": 13,
    "start_time": "2023-02-02T17:58:03.627Z"
   },
   {
    "duration": 4,
    "start_time": "2023-02-02T17:58:04.148Z"
   },
   {
    "duration": 17,
    "start_time": "2023-02-02T17:58:04.757Z"
   },
   {
    "duration": 18,
    "start_time": "2023-02-02T17:58:06.938Z"
   },
   {
    "duration": 5,
    "start_time": "2023-02-02T18:02:45.526Z"
   },
   {
    "duration": 7,
    "start_time": "2023-02-02T18:02:57.696Z"
   },
   {
    "duration": 12,
    "start_time": "2023-02-02T18:06:44.789Z"
   },
   {
    "duration": 14,
    "start_time": "2023-02-02T18:07:05.161Z"
   },
   {
    "duration": 12,
    "start_time": "2023-02-02T18:07:26.379Z"
   },
   {
    "duration": 438,
    "start_time": "2023-02-02T18:12:39.471Z"
   },
   {
    "duration": 5,
    "start_time": "2023-02-02T18:12:59.818Z"
   },
   {
    "duration": 298,
    "start_time": "2023-02-02T18:20:55.549Z"
   },
   {
    "duration": 1250,
    "start_time": "2023-02-02T18:21:15.985Z"
   },
   {
    "duration": 1135,
    "start_time": "2023-02-02T18:21:28.400Z"
   },
   {
    "duration": 1115,
    "start_time": "2023-02-02T18:21:32.608Z"
   },
   {
    "duration": 5,
    "start_time": "2023-02-02T18:21:46.049Z"
   },
   {
    "duration": 1092,
    "start_time": "2023-02-02T18:23:38.713Z"
   },
   {
    "duration": 1054,
    "start_time": "2023-02-02T18:23:48.182Z"
   },
   {
    "duration": 4,
    "start_time": "2023-02-02T18:24:55.809Z"
   },
   {
    "duration": 6,
    "start_time": "2023-02-02T18:25:11.272Z"
   },
   {
    "duration": 7,
    "start_time": "2023-02-02T18:25:41.170Z"
   },
   {
    "duration": 6,
    "start_time": "2023-02-02T18:25:49.248Z"
   },
   {
    "duration": 9,
    "start_time": "2023-02-02T18:34:18.933Z"
   },
   {
    "duration": 12,
    "start_time": "2023-02-02T18:34:38.557Z"
   },
   {
    "duration": 186,
    "start_time": "2023-02-02T18:35:00.522Z"
   },
   {
    "duration": 147,
    "start_time": "2023-02-02T18:35:35.748Z"
   },
   {
    "duration": 161,
    "start_time": "2023-02-02T18:35:42.302Z"
   },
   {
    "duration": 219,
    "start_time": "2023-02-02T18:35:56.682Z"
   },
   {
    "duration": 173,
    "start_time": "2023-02-02T18:36:01.348Z"
   },
   {
    "duration": 153,
    "start_time": "2023-02-02T18:37:38.358Z"
   },
   {
    "duration": 136,
    "start_time": "2023-02-02T18:37:49.930Z"
   },
   {
    "duration": 214,
    "start_time": "2023-02-02T18:37:57.808Z"
   },
   {
    "duration": 140,
    "start_time": "2023-02-02T18:42:17.805Z"
   },
   {
    "duration": 146,
    "start_time": "2023-02-02T18:42:27.352Z"
   },
   {
    "duration": 8,
    "start_time": "2023-02-02T18:46:59.368Z"
   },
   {
    "duration": 147,
    "start_time": "2023-02-02T18:47:04.030Z"
   },
   {
    "duration": 207,
    "start_time": "2023-02-02T18:48:12.580Z"
   },
   {
    "duration": 140,
    "start_time": "2023-02-02T18:48:21.357Z"
   },
   {
    "duration": 135,
    "start_time": "2023-02-02T18:48:31.624Z"
   },
   {
    "duration": 144,
    "start_time": "2023-02-02T18:48:39.582Z"
   },
   {
    "duration": 213,
    "start_time": "2023-02-02T18:48:45.438Z"
   },
   {
    "duration": 176,
    "start_time": "2023-02-02T18:50:33.900Z"
   },
   {
    "duration": 156,
    "start_time": "2023-02-02T18:50:41.533Z"
   },
   {
    "duration": 131,
    "start_time": "2023-02-02T18:50:46.157Z"
   },
   {
    "duration": 9,
    "start_time": "2023-02-02T18:51:28.418Z"
   },
   {
    "duration": 252,
    "start_time": "2023-02-02T18:52:08.540Z"
   },
   {
    "duration": 141,
    "start_time": "2023-02-02T18:52:28.265Z"
   },
   {
    "duration": 157,
    "start_time": "2023-02-02T18:54:18.798Z"
   },
   {
    "duration": 141,
    "start_time": "2023-02-02T18:55:07.274Z"
   },
   {
    "duration": 121,
    "start_time": "2023-02-02T18:55:40.221Z"
   },
   {
    "duration": 129,
    "start_time": "2023-02-02T18:55:53.454Z"
   },
   {
    "duration": 6,
    "start_time": "2023-02-02T18:56:13.870Z"
   },
   {
    "duration": 84,
    "start_time": "2023-02-02T18:56:33.250Z"
   },
   {
    "duration": 13,
    "start_time": "2023-02-02T18:56:34.267Z"
   },
   {
    "duration": 27,
    "start_time": "2023-02-02T18:56:34.689Z"
   },
   {
    "duration": 1936,
    "start_time": "2023-02-02T18:56:35.989Z"
   },
   {
    "duration": 5,
    "start_time": "2023-02-02T18:56:37.927Z"
   },
   {
    "duration": 4,
    "start_time": "2023-02-02T18:56:38.835Z"
   },
   {
    "duration": 3,
    "start_time": "2023-02-02T18:56:39.328Z"
   },
   {
    "duration": 4,
    "start_time": "2023-02-02T18:56:40.405Z"
   },
   {
    "duration": 26,
    "start_time": "2023-02-02T18:56:41.448Z"
   },
   {
    "duration": 20,
    "start_time": "2023-02-02T18:56:43.451Z"
   },
   {
    "duration": 15,
    "start_time": "2023-02-02T18:56:45.316Z"
   },
   {
    "duration": 9,
    "start_time": "2023-02-02T18:56:46.821Z"
   },
   {
    "duration": 11,
    "start_time": "2023-02-02T18:56:47.246Z"
   },
   {
    "duration": 10,
    "start_time": "2023-02-02T18:56:48.802Z"
   },
   {
    "duration": 7,
    "start_time": "2023-02-02T18:56:50.396Z"
   },
   {
    "duration": 38,
    "start_time": "2023-02-02T18:56:51.419Z"
   },
   {
    "duration": 10,
    "start_time": "2023-02-02T18:56:52.303Z"
   },
   {
    "duration": 10,
    "start_time": "2023-02-02T18:56:53.245Z"
   },
   {
    "duration": 15,
    "start_time": "2023-02-02T18:56:54.588Z"
   },
   {
    "duration": 29,
    "start_time": "2023-02-02T18:56:55.613Z"
   },
   {
    "duration": 31,
    "start_time": "2023-02-02T18:56:56.120Z"
   },
   {
    "duration": 6,
    "start_time": "2023-02-02T18:56:57.048Z"
   },
   {
    "duration": 8,
    "start_time": "2023-02-02T18:56:58.440Z"
   },
   {
    "duration": 9,
    "start_time": "2023-02-02T18:56:59.480Z"
   },
   {
    "duration": 13,
    "start_time": "2023-02-02T18:57:00.802Z"
   },
   {
    "duration": 29,
    "start_time": "2023-02-02T18:57:02.152Z"
   },
   {
    "duration": 7,
    "start_time": "2023-02-02T18:57:03.058Z"
   },
   {
    "duration": 9,
    "start_time": "2023-02-02T18:57:03.968Z"
   },
   {
    "duration": 20,
    "start_time": "2023-02-02T18:57:06.137Z"
   },
   {
    "duration": 8,
    "start_time": "2023-02-02T18:57:07.048Z"
   },
   {
    "duration": 14,
    "start_time": "2023-02-02T18:57:08.854Z"
   },
   {
    "duration": 29,
    "start_time": "2023-02-02T18:57:09.736Z"
   },
   {
    "duration": 12,
    "start_time": "2023-02-02T18:57:10.630Z"
   },
   {
    "duration": 6,
    "start_time": "2023-02-02T18:57:11.577Z"
   },
   {
    "duration": 13,
    "start_time": "2023-02-02T18:57:12.732Z"
   },
   {
    "duration": 6,
    "start_time": "2023-02-02T18:57:13.699Z"
   },
   {
    "duration": 13,
    "start_time": "2023-02-02T18:57:14.543Z"
   },
   {
    "duration": 10,
    "start_time": "2023-02-02T18:57:15.433Z"
   },
   {
    "duration": 7,
    "start_time": "2023-02-02T18:57:15.880Z"
   },
   {
    "duration": 111,
    "start_time": "2023-02-02T18:57:17.059Z"
   },
   {
    "duration": 7,
    "start_time": "2023-02-02T18:57:17.695Z"
   },
   {
    "duration": 15,
    "start_time": "2023-02-02T18:57:19.597Z"
   },
   {
    "duration": 4,
    "start_time": "2023-02-02T18:57:20.931Z"
   },
   {
    "duration": 3,
    "start_time": "2023-02-02T18:57:21.299Z"
   },
   {
    "duration": 13,
    "start_time": "2023-02-02T18:57:22.661Z"
   },
   {
    "duration": 1044,
    "start_time": "2023-02-02T18:57:23.839Z"
   },
   {
    "duration": 5,
    "start_time": "2023-02-02T18:57:25.011Z"
   },
   {
    "duration": 4,
    "start_time": "2023-02-02T18:57:25.484Z"
   },
   {
    "duration": 13,
    "start_time": "2023-02-02T18:57:27.363Z"
   },
   {
    "duration": 7,
    "start_time": "2023-02-02T18:57:29.039Z"
   },
   {
    "duration": 12,
    "start_time": "2023-02-02T18:57:30.327Z"
   },
   {
    "duration": 12,
    "start_time": "2023-02-02T18:57:31.244Z"
   },
   {
    "duration": 13,
    "start_time": "2023-02-02T18:57:32.640Z"
   },
   {
    "duration": 6,
    "start_time": "2023-02-02T18:57:33.782Z"
   },
   {
    "duration": 15,
    "start_time": "2023-02-02T18:57:35.177Z"
   },
   {
    "duration": 12,
    "start_time": "2023-02-02T18:57:35.818Z"
   },
   {
    "duration": 13,
    "start_time": "2023-02-02T18:57:39.024Z"
   },
   {
    "duration": 224,
    "start_time": "2023-02-02T18:57:39.869Z"
   },
   {
    "duration": 9,
    "start_time": "2023-02-02T18:57:43.757Z"
   },
   {
    "duration": 11,
    "start_time": "2023-02-02T18:57:47.219Z"
   },
   {
    "duration": 4,
    "start_time": "2023-02-02T18:57:52.890Z"
   },
   {
    "duration": 14,
    "start_time": "2023-02-02T18:57:59.006Z"
   },
   {
    "duration": 17,
    "start_time": "2023-02-02T18:58:01.094Z"
   },
   {
    "duration": 8,
    "start_time": "2023-02-02T18:58:04.311Z"
   },
   {
    "duration": 6,
    "start_time": "2023-02-02T18:58:29.265Z"
   },
   {
    "duration": 15,
    "start_time": "2023-02-02T18:58:36.756Z"
   },
   {
    "duration": 372,
    "start_time": "2023-02-02T18:58:38.139Z"
   },
   {
    "duration": 10,
    "start_time": "2023-02-02T18:58:39.234Z"
   },
   {
    "duration": 396,
    "start_time": "2023-02-02T18:58:40.459Z"
   },
   {
    "duration": 5,
    "start_time": "2023-02-02T18:58:41.901Z"
   },
   {
    "duration": 7,
    "start_time": "2023-02-02T18:58:44.173Z"
   },
   {
    "duration": 162,
    "start_time": "2023-02-02T18:58:50.703Z"
   },
   {
    "duration": 139,
    "start_time": "2023-02-02T18:58:51.442Z"
   },
   {
    "duration": 196,
    "start_time": "2023-02-02T18:58:54.510Z"
   },
   {
    "duration": 188,
    "start_time": "2023-02-02T18:59:09.842Z"
   },
   {
    "duration": 5,
    "start_time": "2023-02-02T18:59:13.313Z"
   },
   {
    "duration": 164,
    "start_time": "2023-02-02T19:00:14.454Z"
   },
   {
    "duration": 179,
    "start_time": "2023-02-02T19:04:01.674Z"
   },
   {
    "duration": 163,
    "start_time": "2023-02-02T19:04:34.230Z"
   },
   {
    "duration": 184,
    "start_time": "2023-02-02T19:05:04.499Z"
   },
   {
    "duration": 266,
    "start_time": "2023-02-02T19:05:15.488Z"
   },
   {
    "duration": 158,
    "start_time": "2023-02-02T19:05:21.520Z"
   },
   {
    "duration": 128,
    "start_time": "2023-02-02T19:05:29.504Z"
   },
   {
    "duration": 142,
    "start_time": "2023-02-02T19:06:02.875Z"
   },
   {
    "duration": 126,
    "start_time": "2023-02-02T19:06:09.470Z"
   },
   {
    "duration": 8,
    "start_time": "2023-02-02T19:06:17.080Z"
   },
   {
    "duration": 161,
    "start_time": "2023-02-02T19:06:21.123Z"
   },
   {
    "duration": 141,
    "start_time": "2023-02-02T19:08:06.188Z"
   },
   {
    "duration": 162,
    "start_time": "2023-02-02T19:08:43.995Z"
   },
   {
    "duration": 151,
    "start_time": "2023-02-02T19:10:20.128Z"
   },
   {
    "duration": 152,
    "start_time": "2023-02-02T19:10:27.532Z"
   },
   {
    "duration": 147,
    "start_time": "2023-02-02T19:10:45.258Z"
   },
   {
    "duration": 1115,
    "start_time": "2023-02-02T19:11:09.540Z"
   },
   {
    "duration": 226,
    "start_time": "2023-02-02T19:12:15.483Z"
   },
   {
    "duration": 137,
    "start_time": "2023-02-02T19:12:50.623Z"
   },
   {
    "duration": 154,
    "start_time": "2023-02-02T19:12:55.654Z"
   },
   {
    "duration": 132,
    "start_time": "2023-02-02T19:13:02.288Z"
   },
   {
    "duration": 134,
    "start_time": "2023-02-02T19:13:07.683Z"
   },
   {
    "duration": 131,
    "start_time": "2023-02-02T19:15:07.714Z"
   },
   {
    "duration": 157,
    "start_time": "2023-02-02T19:17:33.759Z"
   },
   {
    "duration": 152,
    "start_time": "2023-02-02T19:17:39.267Z"
   },
   {
    "duration": 143,
    "start_time": "2023-02-02T19:17:46.227Z"
   },
   {
    "duration": 154,
    "start_time": "2023-02-02T19:18:10.071Z"
   },
   {
    "duration": 1428,
    "start_time": "2023-02-02T19:22:29.910Z"
   },
   {
    "duration": 137,
    "start_time": "2023-02-02T19:24:13.762Z"
   },
   {
    "duration": 149,
    "start_time": "2023-02-02T19:24:44.841Z"
   },
   {
    "duration": 137,
    "start_time": "2023-02-02T19:24:50.739Z"
   },
   {
    "duration": 169,
    "start_time": "2023-02-02T19:25:17.108Z"
   },
   {
    "duration": 159,
    "start_time": "2023-02-02T19:25:48.545Z"
   },
   {
    "duration": 1176,
    "start_time": "2023-02-02T19:27:57.789Z"
   },
   {
    "duration": 1147,
    "start_time": "2023-02-02T19:28:06.068Z"
   },
   {
    "duration": 158,
    "start_time": "2023-02-02T19:29:13.745Z"
   },
   {
    "duration": 1262,
    "start_time": "2023-02-02T19:29:55.394Z"
   },
   {
    "duration": 34,
    "start_time": "2023-02-02T19:32:51.650Z"
   },
   {
    "duration": 11,
    "start_time": "2023-02-02T19:34:05.557Z"
   },
   {
    "duration": 152,
    "start_time": "2023-02-02T19:34:19.282Z"
   },
   {
    "duration": 155,
    "start_time": "2023-02-02T19:34:23.599Z"
   },
   {
    "duration": 258,
    "start_time": "2023-02-02T19:34:26.600Z"
   },
   {
    "duration": 157,
    "start_time": "2023-02-02T19:35:22.014Z"
   },
   {
    "duration": 155,
    "start_time": "2023-02-02T19:35:31.430Z"
   },
   {
    "duration": 152,
    "start_time": "2023-02-02T19:35:40.036Z"
   },
   {
    "duration": 158,
    "start_time": "2023-02-02T19:35:47.511Z"
   },
   {
    "duration": 154,
    "start_time": "2023-02-02T19:35:57.828Z"
   },
   {
    "duration": 170,
    "start_time": "2023-02-02T19:37:15.058Z"
   },
   {
    "duration": 157,
    "start_time": "2023-02-02T19:37:31.757Z"
   },
   {
    "duration": 76,
    "start_time": "2023-02-02T19:40:34.275Z"
   },
   {
    "duration": 153,
    "start_time": "2023-02-02T19:42:27.029Z"
   },
   {
    "duration": 168,
    "start_time": "2023-02-02T19:42:31.560Z"
   },
   {
    "duration": 159,
    "start_time": "2023-02-02T19:43:02.387Z"
   },
   {
    "duration": 274,
    "start_time": "2023-02-02T19:43:07.225Z"
   },
   {
    "duration": 14,
    "start_time": "2023-02-02T19:44:09.303Z"
   },
   {
    "duration": 13,
    "start_time": "2023-02-02T19:44:24.117Z"
   },
   {
    "duration": 10,
    "start_time": "2023-02-02T19:46:26.094Z"
   },
   {
    "duration": 1099,
    "start_time": "2023-02-02T19:46:31.486Z"
   },
   {
    "duration": 164,
    "start_time": "2023-02-02T19:46:44.321Z"
   },
   {
    "duration": 156,
    "start_time": "2023-02-02T19:47:18.540Z"
   },
   {
    "duration": 1237,
    "start_time": "2023-02-02T19:47:43.737Z"
   },
   {
    "duration": 159,
    "start_time": "2023-02-02T19:47:48.953Z"
   },
   {
    "duration": 167,
    "start_time": "2023-02-02T19:48:29.836Z"
   },
   {
    "duration": 9,
    "start_time": "2023-02-02T19:51:22.921Z"
   },
   {
    "duration": 8,
    "start_time": "2023-02-02T19:51:42.923Z"
   },
   {
    "duration": 8,
    "start_time": "2023-02-02T19:51:45.805Z"
   },
   {
    "duration": 13,
    "start_time": "2023-02-02T19:51:51.514Z"
   },
   {
    "duration": 6,
    "start_time": "2023-02-02T19:52:45.166Z"
   },
   {
    "duration": 7,
    "start_time": "2023-02-02T19:52:49.694Z"
   },
   {
    "duration": 15,
    "start_time": "2023-02-02T19:52:55.630Z"
   },
   {
    "duration": 6,
    "start_time": "2023-02-02T19:53:30.073Z"
   },
   {
    "duration": 4,
    "start_time": "2023-02-02T19:53:47.430Z"
   },
   {
    "duration": 14,
    "start_time": "2023-02-02T19:53:55.391Z"
   },
   {
    "duration": 9,
    "start_time": "2023-02-02T19:54:50.100Z"
   },
   {
    "duration": 174,
    "start_time": "2023-02-02T19:55:51.422Z"
   },
   {
    "duration": 168,
    "start_time": "2023-02-02T19:55:56.943Z"
   },
   {
    "duration": 158,
    "start_time": "2023-02-02T19:57:42.779Z"
   },
   {
    "duration": 15,
    "start_time": "2023-02-02T20:04:04.792Z"
   },
   {
    "duration": 13,
    "start_time": "2023-02-02T20:04:37.286Z"
   },
   {
    "duration": 9,
    "start_time": "2023-02-02T20:05:37.236Z"
   },
   {
    "duration": 1223,
    "start_time": "2023-02-02T20:05:48.920Z"
   },
   {
    "duration": 180,
    "start_time": "2023-02-02T20:06:03.547Z"
   },
   {
    "duration": 178,
    "start_time": "2023-02-02T20:06:08.981Z"
   },
   {
    "duration": 287,
    "start_time": "2023-02-02T20:06:13.125Z"
   },
   {
    "duration": 175,
    "start_time": "2023-02-02T20:06:21.452Z"
   },
   {
    "duration": 178,
    "start_time": "2023-02-02T20:06:26.188Z"
   },
   {
    "duration": 180,
    "start_time": "2023-02-02T20:06:30.053Z"
   },
   {
    "duration": 174,
    "start_time": "2023-02-02T20:06:33.711Z"
   },
   {
    "duration": 173,
    "start_time": "2023-02-02T20:06:37.804Z"
   },
   {
    "duration": 69,
    "start_time": "2023-02-02T20:07:48.596Z"
   },
   {
    "duration": 120,
    "start_time": "2023-02-02T20:07:55.747Z"
   },
   {
    "duration": 185,
    "start_time": "2023-02-02T20:08:10.373Z"
   },
   {
    "duration": 4,
    "start_time": "2023-02-02T20:09:27.711Z"
   },
   {
    "duration": 177,
    "start_time": "2023-02-02T20:09:35.500Z"
   },
   {
    "duration": 223,
    "start_time": "2023-02-02T20:12:03.743Z"
   },
   {
    "duration": 8,
    "start_time": "2023-02-02T20:12:23.939Z"
   },
   {
    "duration": 5,
    "start_time": "2023-02-02T20:12:35.798Z"
   },
   {
    "duration": 7,
    "start_time": "2023-02-02T20:12:39.478Z"
   },
   {
    "duration": 129,
    "start_time": "2023-02-02T20:13:24.631Z"
   },
   {
    "duration": 184,
    "start_time": "2023-02-02T20:13:32.509Z"
   },
   {
    "duration": 187,
    "start_time": "2023-02-02T20:18:19.811Z"
   },
   {
    "duration": 1324,
    "start_time": "2023-02-02T20:19:41.371Z"
   },
   {
    "duration": 171,
    "start_time": "2023-02-02T20:20:56.211Z"
   },
   {
    "duration": 162,
    "start_time": "2023-02-02T20:21:00.765Z"
   },
   {
    "duration": 170,
    "start_time": "2023-02-02T20:21:04.928Z"
   },
   {
    "duration": 165,
    "start_time": "2023-02-02T20:21:08.032Z"
   },
   {
    "duration": 1251,
    "start_time": "2023-02-02T20:21:46.311Z"
   },
   {
    "duration": 114,
    "start_time": "2023-02-02T20:22:19.329Z"
   },
   {
    "duration": 150,
    "start_time": "2023-02-02T20:22:36.645Z"
   },
   {
    "duration": 156,
    "start_time": "2023-02-02T20:22:48.091Z"
   },
   {
    "duration": 121,
    "start_time": "2023-02-02T20:22:57.608Z"
   },
   {
    "duration": 192,
    "start_time": "2023-02-02T20:23:08.232Z"
   },
   {
    "duration": 12,
    "start_time": "2023-02-02T20:24:04.915Z"
   },
   {
    "duration": 8,
    "start_time": "2023-02-02T20:24:26.765Z"
   },
   {
    "duration": 79,
    "start_time": "2023-02-02T20:25:10.848Z"
   },
   {
    "duration": 86,
    "start_time": "2023-02-02T20:25:22.810Z"
   },
   {
    "duration": 181,
    "start_time": "2023-02-02T20:25:38.011Z"
   },
   {
    "duration": 1197,
    "start_time": "2023-02-02T20:27:42.739Z"
   },
   {
    "duration": 181,
    "start_time": "2023-02-02T20:27:55.299Z"
   },
   {
    "duration": 1324,
    "start_time": "2023-02-02T20:35:20.235Z"
   },
   {
    "duration": 174,
    "start_time": "2023-02-02T20:35:31.010Z"
   },
   {
    "duration": 36,
    "start_time": "2023-02-02T20:38:04.503Z"
   },
   {
    "duration": 9,
    "start_time": "2023-02-02T20:39:06.559Z"
   },
   {
    "duration": 21,
    "start_time": "2023-02-02T20:39:23.980Z"
   },
   {
    "duration": 7,
    "start_time": "2023-02-02T20:40:11.993Z"
   },
   {
    "duration": 31,
    "start_time": "2023-02-02T20:40:56.904Z"
   },
   {
    "duration": 38,
    "start_time": "2023-02-02T20:41:05.950Z"
   },
   {
    "duration": 37,
    "start_time": "2023-02-02T20:41:15.406Z"
   },
   {
    "duration": 8,
    "start_time": "2023-02-02T20:41:31.483Z"
   },
   {
    "duration": 7,
    "start_time": "2023-02-02T20:41:38.175Z"
   },
   {
    "duration": 8,
    "start_time": "2023-02-02T20:42:05.922Z"
   },
   {
    "duration": 7,
    "start_time": "2023-02-02T20:42:10.726Z"
   },
   {
    "duration": 6,
    "start_time": "2023-02-02T20:46:16.359Z"
   },
   {
    "duration": 8,
    "start_time": "2023-02-02T20:46:26.759Z"
   },
   {
    "duration": 74,
    "start_time": "2023-02-02T20:46:55.493Z"
   },
   {
    "duration": 84,
    "start_time": "2023-02-02T20:47:02.481Z"
   },
   {
    "duration": 19,
    "start_time": "2023-02-02T20:47:49.604Z"
   },
   {
    "duration": 10,
    "start_time": "2023-02-02T20:48:04.326Z"
   },
   {
    "duration": 37,
    "start_time": "2023-02-02T20:48:13.804Z"
   },
   {
    "duration": 179,
    "start_time": "2023-02-02T20:49:40.411Z"
   },
   {
    "duration": 14,
    "start_time": "2023-02-02T20:49:41.653Z"
   },
   {
    "duration": 24,
    "start_time": "2023-02-02T20:49:42.065Z"
   },
   {
    "duration": 2220,
    "start_time": "2023-02-02T20:49:42.955Z"
   },
   {
    "duration": 5,
    "start_time": "2023-02-02T20:49:45.177Z"
   },
   {
    "duration": 5,
    "start_time": "2023-02-02T20:49:45.851Z"
   },
   {
    "duration": 4,
    "start_time": "2023-02-02T20:49:46.304Z"
   },
   {
    "duration": 4,
    "start_time": "2023-02-02T20:49:47.166Z"
   },
   {
    "duration": 27,
    "start_time": "2023-02-02T20:49:47.918Z"
   },
   {
    "duration": 22,
    "start_time": "2023-02-02T20:49:48.693Z"
   },
   {
    "duration": 16,
    "start_time": "2023-02-02T20:49:49.767Z"
   },
   {
    "duration": 7,
    "start_time": "2023-02-02T20:49:50.808Z"
   },
   {
    "duration": 11,
    "start_time": "2023-02-02T20:49:51.042Z"
   },
   {
    "duration": 9,
    "start_time": "2023-02-02T20:49:51.726Z"
   },
   {
    "duration": 6,
    "start_time": "2023-02-02T20:49:52.369Z"
   },
   {
    "duration": 40,
    "start_time": "2023-02-02T20:49:52.811Z"
   },
   {
    "duration": 12,
    "start_time": "2023-02-02T20:49:53.268Z"
   },
   {
    "duration": 11,
    "start_time": "2023-02-02T20:49:53.762Z"
   },
   {
    "duration": 15,
    "start_time": "2023-02-02T20:49:54.433Z"
   },
   {
    "duration": 31,
    "start_time": "2023-02-02T20:49:54.907Z"
   },
   {
    "duration": 24,
    "start_time": "2023-02-02T20:49:55.125Z"
   },
   {
    "duration": 6,
    "start_time": "2023-02-02T20:49:55.557Z"
   },
   {
    "duration": 10,
    "start_time": "2023-02-02T20:49:56.199Z"
   },
   {
    "duration": 9,
    "start_time": "2023-02-02T20:49:56.622Z"
   },
   {
    "duration": 13,
    "start_time": "2023-02-02T20:49:57.275Z"
   },
   {
    "duration": 31,
    "start_time": "2023-02-02T20:49:57.669Z"
   },
   {
    "duration": 8,
    "start_time": "2023-02-02T20:49:58.078Z"
   },
   {
    "duration": 9,
    "start_time": "2023-02-02T20:49:58.505Z"
   },
   {
    "duration": 13,
    "start_time": "2023-02-02T20:49:59.154Z"
   },
   {
    "duration": 8,
    "start_time": "2023-02-02T20:49:59.582Z"
   },
   {
    "duration": 17,
    "start_time": "2023-02-02T20:50:00.178Z"
   },
   {
    "duration": 30,
    "start_time": "2023-02-02T20:50:00.539Z"
   },
   {
    "duration": 15,
    "start_time": "2023-02-02T20:50:00.923Z"
   },
   {
    "duration": 6,
    "start_time": "2023-02-02T20:50:01.304Z"
   },
   {
    "duration": 14,
    "start_time": "2023-02-02T20:50:01.866Z"
   },
   {
    "duration": 6,
    "start_time": "2023-02-02T20:50:02.255Z"
   },
   {
    "duration": 14,
    "start_time": "2023-02-02T20:50:02.616Z"
   },
   {
    "duration": 11,
    "start_time": "2023-02-02T20:50:03.016Z"
   },
   {
    "duration": 7,
    "start_time": "2023-02-02T20:50:03.173Z"
   },
   {
    "duration": 125,
    "start_time": "2023-02-02T20:50:03.605Z"
   },
   {
    "duration": 7,
    "start_time": "2023-02-02T20:50:04.329Z"
   },
   {
    "duration": 14,
    "start_time": "2023-02-02T20:50:04.462Z"
   },
   {
    "duration": 5,
    "start_time": "2023-02-02T20:50:04.859Z"
   },
   {
    "duration": 3,
    "start_time": "2023-02-02T20:50:05.074Z"
   },
   {
    "duration": 15,
    "start_time": "2023-02-02T20:50:05.675Z"
   },
   {
    "duration": 1098,
    "start_time": "2023-02-02T20:50:06.083Z"
   },
   {
    "duration": 9,
    "start_time": "2023-02-02T20:50:07.183Z"
   },
   {
    "duration": 21,
    "start_time": "2023-02-02T20:50:07.201Z"
   },
   {
    "duration": 14,
    "start_time": "2023-02-02T20:50:07.265Z"
   },
   {
    "duration": 6,
    "start_time": "2023-02-02T20:50:07.710Z"
   },
   {
    "duration": 21,
    "start_time": "2023-02-02T20:50:08.277Z"
   },
   {
    "duration": 18,
    "start_time": "2023-02-02T20:50:08.689Z"
   },
   {
    "duration": 15,
    "start_time": "2023-02-02T20:50:09.281Z"
   },
   {
    "duration": 6,
    "start_time": "2023-02-02T20:50:09.720Z"
   },
   {
    "duration": 16,
    "start_time": "2023-02-02T20:50:10.341Z"
   },
   {
    "duration": 11,
    "start_time": "2023-02-02T20:50:10.546Z"
   },
   {
    "duration": 15,
    "start_time": "2023-02-02T20:50:11.125Z"
   },
   {
    "duration": 238,
    "start_time": "2023-02-02T20:50:11.566Z"
   },
   {
    "duration": 8,
    "start_time": "2023-02-02T20:50:12.082Z"
   },
   {
    "duration": 16,
    "start_time": "2023-02-02T20:50:13.065Z"
   },
   {
    "duration": 5,
    "start_time": "2023-02-02T20:50:13.518Z"
   },
   {
    "duration": 21,
    "start_time": "2023-02-02T20:50:13.785Z"
   },
   {
    "duration": 19,
    "start_time": "2023-02-02T20:50:14.430Z"
   },
   {
    "duration": 5,
    "start_time": "2023-02-02T20:50:15.804Z"
   },
   {
    "duration": 12,
    "start_time": "2023-02-02T20:50:16.878Z"
   },
   {
    "duration": 383,
    "start_time": "2023-02-02T20:50:17.442Z"
   },
   {
    "duration": 5,
    "start_time": "2023-02-02T20:50:17.826Z"
   },
   {
    "duration": 320,
    "start_time": "2023-02-02T20:50:17.912Z"
   },
   {
    "duration": 4,
    "start_time": "2023-02-02T20:50:18.234Z"
   },
   {
    "duration": 6,
    "start_time": "2023-02-02T20:50:18.404Z"
   },
   {
    "duration": 165,
    "start_time": "2023-02-02T20:50:19.343Z"
   },
   {
    "duration": 144,
    "start_time": "2023-02-02T20:50:19.563Z"
   },
   {
    "duration": 192,
    "start_time": "2023-02-02T20:50:20.536Z"
   },
   {
    "duration": 159,
    "start_time": "2023-02-02T20:50:22.319Z"
   },
   {
    "duration": 148,
    "start_time": "2023-02-02T20:50:23.909Z"
   },
   {
    "duration": 174,
    "start_time": "2023-02-02T20:50:24.780Z"
   },
   {
    "duration": 171,
    "start_time": "2023-02-02T20:50:25.886Z"
   },
   {
    "duration": 172,
    "start_time": "2023-02-02T20:50:26.173Z"
   },
   {
    "duration": 160,
    "start_time": "2023-02-02T20:50:26.847Z"
   },
   {
    "duration": 182,
    "start_time": "2023-02-02T20:50:27.835Z"
   },
   {
    "duration": 525,
    "start_time": "2023-02-02T20:50:28.105Z"
   },
   {
    "duration": 186,
    "start_time": "2023-02-02T20:50:28.632Z"
   },
   {
    "duration": 170,
    "start_time": "2023-02-02T20:50:29.417Z"
   },
   {
    "duration": 159,
    "start_time": "2023-02-02T20:50:29.829Z"
   },
   {
    "duration": 9,
    "start_time": "2023-02-02T20:50:31.823Z"
   },
   {
    "duration": 190,
    "start_time": "2023-02-02T20:50:33.611Z"
   },
   {
    "duration": 152,
    "start_time": "2023-02-02T20:50:34.217Z"
   },
   {
    "duration": 15,
    "start_time": "2023-02-02T20:51:36.928Z"
   },
   {
    "duration": 182,
    "start_time": "2023-02-02T20:52:47.938Z"
   },
   {
    "duration": 185,
    "start_time": "2023-02-02T20:52:59.032Z"
   },
   {
    "duration": 1311,
    "start_time": "2023-02-02T20:53:10.233Z"
   },
   {
    "duration": 174,
    "start_time": "2023-02-02T20:53:22.677Z"
   },
   {
    "duration": 187,
    "start_time": "2023-02-02T20:54:30.512Z"
   },
   {
    "duration": 237,
    "start_time": "2023-02-02T20:56:36.058Z"
   },
   {
    "duration": 180,
    "start_time": "2023-02-02T20:56:40.659Z"
   },
   {
    "duration": 6,
    "start_time": "2023-02-02T20:57:03.574Z"
   },
   {
    "duration": 181,
    "start_time": "2023-02-02T20:58:31.993Z"
   },
   {
    "duration": 178,
    "start_time": "2023-02-02T20:58:52.640Z"
   },
   {
    "duration": 197,
    "start_time": "2023-02-02T21:00:11.196Z"
   },
   {
    "duration": 211,
    "start_time": "2023-02-02T21:00:39.104Z"
   },
   {
    "duration": 7,
    "start_time": "2023-02-02T21:01:04.740Z"
   },
   {
    "duration": 189,
    "start_time": "2023-02-02T21:01:27.272Z"
   },
   {
    "duration": 190,
    "start_time": "2023-02-02T21:02:43.375Z"
   },
   {
    "duration": 18,
    "start_time": "2023-02-02T21:05:09.810Z"
   },
   {
    "duration": 246,
    "start_time": "2023-02-02T21:05:13.504Z"
   },
   {
    "duration": 272,
    "start_time": "2023-02-02T21:06:08.875Z"
   },
   {
    "duration": 186,
    "start_time": "2023-02-02T21:09:08.910Z"
   },
   {
    "duration": 6,
    "start_time": "2023-02-02T21:09:41.115Z"
   },
   {
    "duration": 12,
    "start_time": "2023-02-02T21:13:22.240Z"
   },
   {
    "duration": 8,
    "start_time": "2023-02-02T21:13:26.614Z"
   },
   {
    "duration": 182,
    "start_time": "2023-02-02T21:13:33.292Z"
   },
   {
    "duration": 110,
    "start_time": "2023-02-02T21:15:21.461Z"
   },
   {
    "duration": 101,
    "start_time": "2023-02-02T21:15:42.140Z"
   },
   {
    "duration": 141,
    "start_time": "2023-02-02T21:15:52.320Z"
   },
   {
    "duration": 104,
    "start_time": "2023-02-02T21:16:05.858Z"
   },
   {
    "duration": 183,
    "start_time": "2023-02-02T21:16:14.035Z"
   },
   {
    "duration": 186,
    "start_time": "2023-02-02T21:17:26.699Z"
   },
   {
    "duration": 146,
    "start_time": "2023-02-02T21:20:31.395Z"
   },
   {
    "duration": 153,
    "start_time": "2023-02-02T21:24:03.021Z"
   },
   {
    "duration": 169,
    "start_time": "2023-02-02T21:24:52.846Z"
   },
   {
    "duration": 1190,
    "start_time": "2023-02-02T21:26:22.844Z"
   },
   {
    "duration": 187,
    "start_time": "2023-02-02T21:26:35.948Z"
   },
   {
    "duration": 1133,
    "start_time": "2023-02-02T21:27:52.670Z"
   },
   {
    "duration": 150,
    "start_time": "2023-02-02T21:27:59.675Z"
   },
   {
    "duration": 113,
    "start_time": "2023-02-02T21:28:33.102Z"
   },
   {
    "duration": 12,
    "start_time": "2023-02-02T21:33:04.507Z"
   },
   {
    "duration": 8,
    "start_time": "2023-02-02T21:35:10.498Z"
   },
   {
    "duration": 1148,
    "start_time": "2023-02-02T21:35:19.128Z"
   },
   {
    "duration": 41,
    "start_time": "2023-02-02T21:35:34.507Z"
   },
   {
    "duration": 9,
    "start_time": "2023-02-02T21:36:49.430Z"
   },
   {
    "duration": 8,
    "start_time": "2023-02-02T21:40:15.665Z"
   },
   {
    "duration": 15,
    "start_time": "2023-02-02T21:45:16.497Z"
   },
   {
    "duration": 13,
    "start_time": "2023-02-02T21:45:43.436Z"
   },
   {
    "duration": 15,
    "start_time": "2023-02-02T21:45:54.156Z"
   },
   {
    "duration": 19,
    "start_time": "2023-02-02T21:46:01.907Z"
   },
   {
    "duration": 267,
    "start_time": "2023-02-02T21:47:36.743Z"
   },
   {
    "duration": 922,
    "start_time": "2023-02-02T22:11:04.686Z"
   },
   {
    "duration": 32,
    "start_time": "2023-02-02T22:11:05.613Z"
   },
   {
    "duration": 54,
    "start_time": "2023-02-02T22:11:05.646Z"
   },
   {
    "duration": 2311,
    "start_time": "2023-02-02T22:11:05.702Z"
   },
   {
    "duration": 7,
    "start_time": "2023-02-02T22:11:08.016Z"
   },
   {
    "duration": 5,
    "start_time": "2023-02-02T22:11:08.024Z"
   },
   {
    "duration": 12,
    "start_time": "2023-02-02T22:11:08.030Z"
   },
   {
    "duration": 16,
    "start_time": "2023-02-02T22:11:08.044Z"
   },
   {
    "duration": 43,
    "start_time": "2023-02-02T22:11:08.061Z"
   },
   {
    "duration": 15,
    "start_time": "2023-02-02T22:11:08.105Z"
   },
   {
    "duration": 15,
    "start_time": "2023-02-02T22:11:08.121Z"
   },
   {
    "duration": 9,
    "start_time": "2023-02-02T22:11:08.137Z"
   },
   {
    "duration": 38,
    "start_time": "2023-02-02T22:11:08.147Z"
   },
   {
    "duration": 20,
    "start_time": "2023-02-02T22:11:08.190Z"
   },
   {
    "duration": 6,
    "start_time": "2023-02-02T22:11:08.211Z"
   },
   {
    "duration": 33,
    "start_time": "2023-02-02T22:11:08.219Z"
   },
   {
    "duration": 26,
    "start_time": "2023-02-02T22:11:08.268Z"
   },
   {
    "duration": 13,
    "start_time": "2023-02-02T22:11:08.297Z"
   },
   {
    "duration": 13,
    "start_time": "2023-02-02T22:11:08.311Z"
   },
   {
    "duration": 48,
    "start_time": "2023-02-02T22:11:08.325Z"
   },
   {
    "duration": 33,
    "start_time": "2023-02-02T22:11:08.375Z"
   },
   {
    "duration": 6,
    "start_time": "2023-02-02T22:11:08.410Z"
   },
   {
    "duration": 8,
    "start_time": "2023-02-02T22:11:08.417Z"
   },
   {
    "duration": 11,
    "start_time": "2023-02-02T22:11:08.426Z"
   },
   {
    "duration": 56,
    "start_time": "2023-02-02T22:11:08.438Z"
   },
   {
    "duration": 32,
    "start_time": "2023-02-02T22:11:08.495Z"
   },
   {
    "duration": 7,
    "start_time": "2023-02-02T22:11:08.528Z"
   },
   {
    "duration": 8,
    "start_time": "2023-02-02T22:11:08.536Z"
   },
   {
    "duration": 46,
    "start_time": "2023-02-02T22:11:08.546Z"
   },
   {
    "duration": 9,
    "start_time": "2023-02-02T22:11:08.594Z"
   },
   {
    "duration": 14,
    "start_time": "2023-02-02T22:11:08.605Z"
   },
   {
    "duration": 31,
    "start_time": "2023-02-02T22:11:08.621Z"
   },
   {
    "duration": 23,
    "start_time": "2023-02-02T22:11:08.667Z"
   },
   {
    "duration": 9,
    "start_time": "2023-02-02T22:11:08.697Z"
   },
   {
    "duration": 15,
    "start_time": "2023-02-02T22:11:08.707Z"
   },
   {
    "duration": 6,
    "start_time": "2023-02-02T22:11:08.723Z"
   },
   {
    "duration": 54,
    "start_time": "2023-02-02T22:11:08.730Z"
   },
   {
    "duration": 17,
    "start_time": "2023-02-02T22:11:08.789Z"
   },
   {
    "duration": 6,
    "start_time": "2023-02-02T22:11:08.808Z"
   },
   {
    "duration": 178,
    "start_time": "2023-02-02T22:11:08.816Z"
   },
   {
    "duration": 8,
    "start_time": "2023-02-02T22:11:08.999Z"
   },
   {
    "duration": 16,
    "start_time": "2023-02-02T22:11:09.008Z"
   },
   {
    "duration": 5,
    "start_time": "2023-02-02T22:11:09.026Z"
   },
   {
    "duration": 9,
    "start_time": "2023-02-02T22:11:09.033Z"
   },
   {
    "duration": 41,
    "start_time": "2023-02-02T22:11:09.044Z"
   },
   {
    "duration": 1260,
    "start_time": "2023-02-02T22:11:09.087Z"
   },
   {
    "duration": 4,
    "start_time": "2023-02-02T22:11:10.349Z"
   },
   {
    "duration": 11,
    "start_time": "2023-02-02T22:11:10.370Z"
   },
   {
    "duration": 21,
    "start_time": "2023-02-02T22:11:10.387Z"
   },
   {
    "duration": 5,
    "start_time": "2023-02-02T22:11:10.409Z"
   },
   {
    "duration": 16,
    "start_time": "2023-02-02T22:11:10.415Z"
   },
   {
    "duration": 10,
    "start_time": "2023-02-02T22:11:10.433Z"
   },
   {
    "duration": 31,
    "start_time": "2023-02-02T22:11:10.445Z"
   },
   {
    "duration": 10,
    "start_time": "2023-02-02T22:11:10.479Z"
   },
   {
    "duration": 22,
    "start_time": "2023-02-02T22:11:10.491Z"
   },
   {
    "duration": 11,
    "start_time": "2023-02-02T22:11:10.515Z"
   },
   {
    "duration": 13,
    "start_time": "2023-02-02T22:11:10.528Z"
   },
   {
    "duration": 391,
    "start_time": "2023-02-02T22:11:10.542Z"
   },
   {
    "duration": 10,
    "start_time": "2023-02-02T22:11:10.935Z"
   },
   {
    "duration": 31,
    "start_time": "2023-02-02T22:11:10.946Z"
   },
   {
    "duration": 8,
    "start_time": "2023-02-02T22:11:10.979Z"
   },
   {
    "duration": 30,
    "start_time": "2023-02-02T22:11:10.989Z"
   },
   {
    "duration": 18,
    "start_time": "2023-02-02T22:11:11.023Z"
   },
   {
    "duration": 6,
    "start_time": "2023-02-02T22:11:11.042Z"
   },
   {
    "duration": 45,
    "start_time": "2023-02-02T22:11:11.049Z"
   },
   {
    "duration": 435,
    "start_time": "2023-02-02T22:11:11.096Z"
   },
   {
    "duration": 5,
    "start_time": "2023-02-02T22:11:11.533Z"
   },
   {
    "duration": 462,
    "start_time": "2023-02-02T22:11:11.539Z"
   },
   {
    "duration": 5,
    "start_time": "2023-02-02T22:11:12.002Z"
   },
   {
    "duration": 7,
    "start_time": "2023-02-02T22:11:12.008Z"
   },
   {
    "duration": 183,
    "start_time": "2023-02-02T22:11:12.016Z"
   },
   {
    "duration": 148,
    "start_time": "2023-02-02T22:11:12.201Z"
   },
   {
    "duration": 251,
    "start_time": "2023-02-02T22:11:12.351Z"
   },
   {
    "duration": 200,
    "start_time": "2023-02-02T22:11:12.604Z"
   },
   {
    "duration": 157,
    "start_time": "2023-02-02T22:11:12.806Z"
   },
   {
    "duration": 203,
    "start_time": "2023-02-02T22:11:12.967Z"
   },
   {
    "duration": 178,
    "start_time": "2023-02-02T22:11:13.175Z"
   },
   {
    "duration": 251,
    "start_time": "2023-02-02T22:11:13.354Z"
   },
   {
    "duration": 185,
    "start_time": "2023-02-02T22:11:13.607Z"
   },
   {
    "duration": 188,
    "start_time": "2023-02-02T22:11:13.794Z"
   },
   {
    "duration": 179,
    "start_time": "2023-02-02T22:11:13.984Z"
   },
   {
    "duration": 183,
    "start_time": "2023-02-02T22:11:14.164Z"
   },
   {
    "duration": 191,
    "start_time": "2023-02-02T22:11:14.349Z"
   },
   {
    "duration": 184,
    "start_time": "2023-02-02T22:11:14.542Z"
   },
   {
    "duration": 9,
    "start_time": "2023-02-02T22:11:14.728Z"
   },
   {
    "duration": 260,
    "start_time": "2023-02-02T22:11:14.738Z"
   },
   {
    "duration": 198,
    "start_time": "2023-02-02T22:11:15.001Z"
   },
   {
    "duration": 15,
    "start_time": "2023-02-02T22:11:15.201Z"
   },
   {
    "duration": 199,
    "start_time": "2023-02-02T22:11:15.217Z"
   },
   {
    "duration": 210,
    "start_time": "2023-02-02T22:11:15.418Z"
   },
   {
    "duration": 277,
    "start_time": "2023-02-02T22:11:15.630Z"
   },
   {
    "duration": 194,
    "start_time": "2023-02-02T22:11:15.909Z"
   },
   {
    "duration": 213,
    "start_time": "2023-02-02T22:11:16.105Z"
   },
   {
    "duration": 152,
    "start_time": "2023-02-02T22:11:16.319Z"
   },
   {
    "duration": 182,
    "start_time": "2023-02-02T22:11:16.473Z"
   },
   {
    "duration": 199,
    "start_time": "2023-02-02T22:11:16.657Z"
   },
   {
    "duration": 192,
    "start_time": "2023-02-02T22:11:16.858Z"
   },
   {
    "duration": 28,
    "start_time": "2023-02-02T22:11:17.052Z"
   },
   {
    "duration": 52,
    "start_time": "2023-02-02T22:11:17.082Z"
   },
   {
    "duration": 9,
    "start_time": "2023-02-02T22:11:17.135Z"
   },
   {
    "duration": 65,
    "start_time": "2023-02-02T22:11:17.146Z"
   },
   {
    "duration": 289,
    "start_time": "2023-02-02T22:11:17.213Z"
   },
   {
    "duration": 92,
    "start_time": "2023-02-02T22:14:44.838Z"
   },
   {
    "duration": 6,
    "start_time": "2023-02-02T22:14:56.226Z"
   },
   {
    "duration": 6,
    "start_time": "2023-02-02T22:15:02.413Z"
   },
   {
    "duration": 8,
    "start_time": "2023-02-02T22:15:14.034Z"
   },
   {
    "duration": 68,
    "start_time": "2023-02-03T18:00:54.560Z"
   },
   {
    "duration": 1203,
    "start_time": "2023-02-03T18:01:04.522Z"
   },
   {
    "duration": 17,
    "start_time": "2023-02-03T18:01:05.727Z"
   },
   {
    "duration": 50,
    "start_time": "2023-02-03T18:01:05.745Z"
   },
   {
    "duration": 2179,
    "start_time": "2023-02-03T18:01:05.797Z"
   },
   {
    "duration": 7,
    "start_time": "2023-02-03T18:01:07.978Z"
   },
   {
    "duration": 14,
    "start_time": "2023-02-03T18:01:07.987Z"
   },
   {
    "duration": 13,
    "start_time": "2023-02-03T18:01:08.004Z"
   },
   {
    "duration": 31,
    "start_time": "2023-02-03T18:01:08.019Z"
   },
   {
    "duration": 31,
    "start_time": "2023-02-03T18:01:08.510Z"
   },
   {
    "duration": 21,
    "start_time": "2023-02-03T18:01:09.797Z"
   },
   {
    "duration": 14,
    "start_time": "2023-02-03T18:01:10.574Z"
   },
   {
    "duration": 11,
    "start_time": "2023-02-03T18:01:11.311Z"
   },
   {
    "duration": 11,
    "start_time": "2023-02-03T18:01:11.570Z"
   },
   {
    "duration": 12,
    "start_time": "2023-02-03T18:01:12.883Z"
   },
   {
    "duration": 8,
    "start_time": "2023-02-03T18:01:13.047Z"
   },
   {
    "duration": 45,
    "start_time": "2023-02-03T18:01:13.496Z"
   },
   {
    "duration": 11,
    "start_time": "2023-02-03T18:01:13.995Z"
   },
   {
    "duration": 11,
    "start_time": "2023-02-03T18:01:14.965Z"
   },
   {
    "duration": 18,
    "start_time": "2023-02-03T18:01:16.229Z"
   },
   {
    "duration": 33,
    "start_time": "2023-02-03T18:01:16.666Z"
   },
   {
    "duration": 26,
    "start_time": "2023-02-03T18:01:16.888Z"
   },
   {
    "duration": 6,
    "start_time": "2023-02-03T18:01:17.359Z"
   },
   {
    "duration": 12,
    "start_time": "2023-02-03T18:01:18.047Z"
   },
   {
    "duration": 12,
    "start_time": "2023-02-03T18:01:18.505Z"
   },
   {
    "duration": 16,
    "start_time": "2023-02-03T18:01:19.263Z"
   },
   {
    "duration": 35,
    "start_time": "2023-02-03T18:01:19.694Z"
   },
   {
    "duration": 10,
    "start_time": "2023-02-03T18:01:20.150Z"
   },
   {
    "duration": 9,
    "start_time": "2023-02-03T18:01:20.748Z"
   },
   {
    "duration": 15,
    "start_time": "2023-02-03T18:01:21.304Z"
   },
   {
    "duration": 9,
    "start_time": "2023-02-03T18:01:21.807Z"
   },
   {
    "duration": 18,
    "start_time": "2023-02-03T18:01:22.802Z"
   },
   {
    "duration": 38,
    "start_time": "2023-02-03T18:01:23.759Z"
   },
   {
    "duration": 16,
    "start_time": "2023-02-03T18:01:24.544Z"
   },
   {
    "duration": 6,
    "start_time": "2023-02-03T18:01:26.392Z"
   },
   {
    "duration": 13,
    "start_time": "2023-02-03T18:01:27.535Z"
   },
   {
    "duration": 6,
    "start_time": "2023-02-03T18:01:28.700Z"
   },
   {
    "duration": 20,
    "start_time": "2023-02-03T18:01:30.360Z"
   },
   {
    "duration": 13,
    "start_time": "2023-02-03T18:01:31.544Z"
   },
   {
    "duration": 6,
    "start_time": "2023-02-03T18:01:32.933Z"
   },
   {
    "duration": 123,
    "start_time": "2023-02-03T18:01:34.172Z"
   },
   {
    "duration": 9,
    "start_time": "2023-02-03T18:01:35.282Z"
   },
   {
    "duration": 15,
    "start_time": "2023-02-03T18:01:36.652Z"
   },
   {
    "duration": 4,
    "start_time": "2023-02-03T18:01:37.826Z"
   },
   {
    "duration": 4,
    "start_time": "2023-02-03T18:01:38.252Z"
   },
   {
    "duration": 14,
    "start_time": "2023-02-03T18:01:39.768Z"
   },
   {
    "duration": 1102,
    "start_time": "2023-02-03T18:01:41.384Z"
   },
   {
    "duration": 5,
    "start_time": "2023-02-03T18:01:42.994Z"
   },
   {
    "duration": 4,
    "start_time": "2023-02-03T18:01:43.394Z"
   },
   {
    "duration": 15,
    "start_time": "2023-02-03T18:01:45.026Z"
   },
   {
    "duration": 6,
    "start_time": "2023-02-03T18:01:46.284Z"
   },
   {
    "duration": 15,
    "start_time": "2023-02-03T18:01:47.417Z"
   },
   {
    "duration": 14,
    "start_time": "2023-02-03T18:01:48.402Z"
   },
   {
    "duration": 15,
    "start_time": "2023-02-03T18:01:50.299Z"
   },
   {
    "duration": 8,
    "start_time": "2023-02-03T18:01:52.021Z"
   },
   {
    "duration": 16,
    "start_time": "2023-02-03T18:01:53.778Z"
   },
   {
    "duration": 12,
    "start_time": "2023-02-03T18:01:54.435Z"
   },
   {
    "duration": 15,
    "start_time": "2023-02-03T18:01:56.195Z"
   },
   {
    "duration": 336,
    "start_time": "2023-02-03T18:01:57.261Z"
   },
   {
    "duration": 8,
    "start_time": "2023-02-03T18:01:59.091Z"
   },
   {
    "duration": 16,
    "start_time": "2023-02-03T18:02:00.328Z"
   },
   {
    "duration": 4,
    "start_time": "2023-02-03T18:02:00.908Z"
   },
   {
    "duration": 15,
    "start_time": "2023-02-03T18:02:01.235Z"
   },
   {
    "duration": 19,
    "start_time": "2023-02-03T18:02:02.563Z"
   },
   {
    "duration": 6,
    "start_time": "2023-02-03T18:02:03.866Z"
   },
   {
    "duration": 88,
    "start_time": "2023-02-03T18:03:18.063Z"
   },
   {
    "duration": 47,
    "start_time": "2023-02-03T18:03:21.848Z"
   },
   {
    "duration": 32,
    "start_time": "2023-02-03T18:03:28.391Z"
   },
   {
    "duration": 12,
    "start_time": "2023-02-03T18:03:49.009Z"
   },
   {
    "duration": 12,
    "start_time": "2023-02-03T18:03:57.774Z"
   },
   {
    "duration": 21,
    "start_time": "2023-02-03T18:04:08.293Z"
   },
   {
    "duration": 23,
    "start_time": "2023-02-03T18:04:15.115Z"
   },
   {
    "duration": 12,
    "start_time": "2023-02-03T18:07:19.226Z"
   },
   {
    "duration": 8,
    "start_time": "2023-02-03T18:07:30.278Z"
   },
   {
    "duration": 8,
    "start_time": "2023-02-03T18:07:57.398Z"
   },
   {
    "duration": 36,
    "start_time": "2023-02-03T18:08:24.922Z"
   },
   {
    "duration": 29,
    "start_time": "2023-02-03T18:08:31.466Z"
   },
   {
    "duration": 3,
    "start_time": "2023-02-03T18:09:49.767Z"
   },
   {
    "duration": 212,
    "start_time": "2023-02-03T18:11:00.801Z"
   },
   {
    "duration": 35,
    "start_time": "2023-02-03T18:11:18.641Z"
   },
   {
    "duration": 5,
    "start_time": "2023-02-03T18:11:45.784Z"
   },
   {
    "duration": 6,
    "start_time": "2023-02-03T18:12:04.530Z"
   },
   {
    "duration": 104,
    "start_time": "2023-02-03T18:12:42.995Z"
   },
   {
    "duration": 310,
    "start_time": "2023-02-03T18:12:55.206Z"
   },
   {
    "duration": 5,
    "start_time": "2023-02-03T18:12:58.212Z"
   },
   {
    "duration": 81,
    "start_time": "2023-02-03T18:13:04.327Z"
   },
   {
    "duration": 97,
    "start_time": "2023-02-03T18:13:12.559Z"
   },
   {
    "duration": 9,
    "start_time": "2023-02-03T18:23:08.261Z"
   },
   {
    "duration": 10,
    "start_time": "2023-02-03T18:23:19.224Z"
   },
   {
    "duration": 6,
    "start_time": "2023-02-03T18:24:04.525Z"
   },
   {
    "duration": 1076,
    "start_time": "2023-02-03T18:24:41.336Z"
   },
   {
    "duration": 4,
    "start_time": "2023-02-03T18:24:45.224Z"
   },
   {
    "duration": 54,
    "start_time": "2023-02-03T18:25:37.455Z"
   },
   {
    "duration": 18,
    "start_time": "2023-02-03T18:25:43.567Z"
   },
   {
    "duration": 89,
    "start_time": "2023-02-03T18:25:53.625Z"
   },
   {
    "duration": 15,
    "start_time": "2023-02-03T18:25:54.546Z"
   },
   {
    "duration": 26,
    "start_time": "2023-02-03T18:25:55.026Z"
   },
   {
    "duration": 1833,
    "start_time": "2023-02-03T18:25:56.211Z"
   },
   {
    "duration": 6,
    "start_time": "2023-02-03T18:25:59.059Z"
   },
   {
    "duration": 4,
    "start_time": "2023-02-03T18:26:00.225Z"
   },
   {
    "duration": 4,
    "start_time": "2023-02-03T18:26:02.106Z"
   },
   {
    "duration": 4,
    "start_time": "2023-02-03T18:26:03.712Z"
   },
   {
    "duration": 30,
    "start_time": "2023-02-03T18:26:05.593Z"
   },
   {
    "duration": 16,
    "start_time": "2023-02-03T18:26:07.818Z"
   },
   {
    "duration": 15,
    "start_time": "2023-02-03T18:26:09.728Z"
   },
   {
    "duration": 12,
    "start_time": "2023-02-03T18:26:11.623Z"
   },
   {
    "duration": 11,
    "start_time": "2023-02-03T18:26:11.881Z"
   },
   {
    "duration": 12,
    "start_time": "2023-02-03T18:26:13.325Z"
   },
   {
    "duration": 6,
    "start_time": "2023-02-03T18:26:18.020Z"
   },
   {
    "duration": 38,
    "start_time": "2023-02-03T18:26:44.985Z"
   },
   {
    "duration": 14,
    "start_time": "2023-02-03T18:26:49.664Z"
   },
   {
    "duration": 11,
    "start_time": "2023-02-03T18:26:51.114Z"
   },
   {
    "duration": 14,
    "start_time": "2023-02-03T18:26:55.725Z"
   },
   {
    "duration": 30,
    "start_time": "2023-02-03T18:27:09.755Z"
   },
   {
    "duration": 26,
    "start_time": "2023-02-03T18:27:13.873Z"
   },
   {
    "duration": 6,
    "start_time": "2023-02-03T18:27:17.272Z"
   },
   {
    "duration": 8,
    "start_time": "2023-02-03T18:27:18.714Z"
   },
   {
    "duration": 10,
    "start_time": "2023-02-03T18:27:19.205Z"
   },
   {
    "duration": 16,
    "start_time": "2023-02-03T18:27:19.841Z"
   },
   {
    "duration": 32,
    "start_time": "2023-02-03T18:27:20.235Z"
   },
   {
    "duration": 8,
    "start_time": "2023-02-03T18:27:20.697Z"
   },
   {
    "duration": 9,
    "start_time": "2023-02-03T18:27:21.099Z"
   },
   {
    "duration": 18,
    "start_time": "2023-02-03T18:27:21.758Z"
   },
   {
    "duration": 9,
    "start_time": "2023-02-03T18:27:22.160Z"
   },
   {
    "duration": 14,
    "start_time": "2023-02-03T18:27:23.041Z"
   },
   {
    "duration": 30,
    "start_time": "2023-02-03T18:27:23.464Z"
   },
   {
    "duration": 14,
    "start_time": "2023-02-03T18:27:23.784Z"
   },
   {
    "duration": 7,
    "start_time": "2023-02-03T18:27:24.140Z"
   },
   {
    "duration": 15,
    "start_time": "2023-02-03T18:27:24.712Z"
   },
   {
    "duration": 7,
    "start_time": "2023-02-03T18:27:25.067Z"
   },
   {
    "duration": 17,
    "start_time": "2023-02-03T18:27:25.611Z"
   },
   {
    "duration": 13,
    "start_time": "2023-02-03T18:27:25.966Z"
   },
   {
    "duration": 8,
    "start_time": "2023-02-03T18:27:26.174Z"
   },
   {
    "duration": 130,
    "start_time": "2023-02-03T18:27:26.575Z"
   },
   {
    "duration": 7,
    "start_time": "2023-02-03T18:27:26.994Z"
   },
   {
    "duration": 15,
    "start_time": "2023-02-03T18:27:27.708Z"
   },
   {
    "duration": 5,
    "start_time": "2023-02-03T18:27:28.231Z"
   },
   {
    "duration": 4,
    "start_time": "2023-02-03T18:27:28.542Z"
   },
   {
    "duration": 15,
    "start_time": "2023-02-03T18:27:29.384Z"
   },
   {
    "duration": 1106,
    "start_time": "2023-02-03T18:27:29.877Z"
   },
   {
    "duration": 5,
    "start_time": "2023-02-03T18:27:30.985Z"
   },
   {
    "duration": 15,
    "start_time": "2023-02-03T18:27:30.991Z"
   },
   {
    "duration": 15,
    "start_time": "2023-02-03T18:27:31.931Z"
   },
   {
    "duration": 7,
    "start_time": "2023-02-03T18:27:33.013Z"
   },
   {
    "duration": 15,
    "start_time": "2023-02-03T18:27:34.274Z"
   },
   {
    "duration": 12,
    "start_time": "2023-02-03T18:27:35.272Z"
   },
   {
    "duration": 14,
    "start_time": "2023-02-03T18:27:36.382Z"
   },
   {
    "duration": 7,
    "start_time": "2023-02-03T18:27:37.201Z"
   },
   {
    "duration": 14,
    "start_time": "2023-02-03T18:27:38.408Z"
   },
   {
    "duration": 12,
    "start_time": "2023-02-03T18:27:38.824Z"
   },
   {
    "duration": 14,
    "start_time": "2023-02-03T18:27:39.976Z"
   },
   {
    "duration": 227,
    "start_time": "2023-02-03T18:27:40.722Z"
   },
   {
    "duration": 9,
    "start_time": "2023-02-03T18:27:42.946Z"
   },
   {
    "duration": 15,
    "start_time": "2023-02-03T18:27:52.178Z"
   },
   {
    "duration": 5,
    "start_time": "2023-02-03T18:27:54.189Z"
   },
   {
    "duration": 14,
    "start_time": "2023-02-03T18:27:55.212Z"
   },
   {
    "duration": 19,
    "start_time": "2023-02-03T18:28:00.354Z"
   },
   {
    "duration": 33,
    "start_time": "2023-02-03T18:28:04.497Z"
   },
   {
    "duration": 5,
    "start_time": "2023-02-03T18:28:08.703Z"
   },
   {
    "duration": 78,
    "start_time": "2023-02-03T18:28:14.287Z"
   },
   {
    "duration": 15,
    "start_time": "2023-02-03T18:28:28.193Z"
   },
   {
    "duration": 5,
    "start_time": "2023-02-03T18:28:37.611Z"
   },
   {
    "duration": 4,
    "start_time": "2023-02-03T18:28:41.540Z"
   },
   {
    "duration": 21,
    "start_time": "2023-02-03T18:29:13.189Z"
   },
   {
    "duration": 15,
    "start_time": "2023-02-03T18:29:24.527Z"
   },
   {
    "duration": 5,
    "start_time": "2023-02-03T18:29:26.194Z"
   },
   {
    "duration": 5,
    "start_time": "2023-02-03T18:29:31.371Z"
   },
   {
    "duration": 17,
    "start_time": "2023-02-03T18:33:24.666Z"
   },
   {
    "duration": 15,
    "start_time": "2023-02-03T18:33:35.332Z"
   },
   {
    "duration": 6,
    "start_time": "2023-02-03T18:33:39.571Z"
   },
   {
    "duration": 8,
    "start_time": "2023-02-03T18:34:26.530Z"
   },
   {
    "duration": 124,
    "start_time": "2023-02-03T18:34:54.242Z"
   },
   {
    "duration": 20,
    "start_time": "2023-02-03T18:35:52.525Z"
   },
   {
    "duration": 126,
    "start_time": "2023-02-03T18:35:54.666Z"
   },
   {
    "duration": 103,
    "start_time": "2023-02-03T18:36:00.510Z"
   },
   {
    "duration": 5,
    "start_time": "2023-02-03T18:40:13.302Z"
   },
   {
    "duration": 12,
    "start_time": "2023-02-03T18:40:14.208Z"
   },
   {
    "duration": 481,
    "start_time": "2023-02-03T18:40:16.076Z"
   },
   {
    "duration": 6,
    "start_time": "2023-02-03T18:40:17.737Z"
   },
   {
    "duration": 321,
    "start_time": "2023-02-03T18:40:18.294Z"
   },
   {
    "duration": 6,
    "start_time": "2023-02-03T18:40:19.359Z"
   },
   {
    "duration": 6,
    "start_time": "2023-02-03T18:40:20.125Z"
   },
   {
    "duration": 181,
    "start_time": "2023-02-03T18:40:26.303Z"
   },
   {
    "duration": 151,
    "start_time": "2023-02-03T18:40:27.885Z"
   },
   {
    "duration": 251,
    "start_time": "2023-02-03T18:40:29.708Z"
   },
   {
    "duration": 224,
    "start_time": "2023-02-03T18:40:32.480Z"
   },
   {
    "duration": 221,
    "start_time": "2023-02-03T18:40:36.496Z"
   },
   {
    "duration": 186,
    "start_time": "2023-02-03T18:40:39.728Z"
   },
   {
    "duration": 153,
    "start_time": "2023-02-03T18:40:53.766Z"
   },
   {
    "duration": 149,
    "start_time": "2023-02-03T18:40:54.241Z"
   },
   {
    "duration": 153,
    "start_time": "2023-02-03T18:40:56.848Z"
   },
   {
    "duration": 177,
    "start_time": "2023-02-03T18:40:59.321Z"
   },
   {
    "duration": 162,
    "start_time": "2023-02-03T18:40:59.892Z"
   },
   {
    "duration": 173,
    "start_time": "2023-02-03T18:41:00.349Z"
   },
   {
    "duration": 177,
    "start_time": "2023-02-03T18:41:01.738Z"
   },
   {
    "duration": 167,
    "start_time": "2023-02-03T18:41:02.850Z"
   },
   {
    "duration": 11,
    "start_time": "2023-02-03T18:41:05.041Z"
   },
   {
    "duration": 215,
    "start_time": "2023-02-03T18:41:05.818Z"
   },
   {
    "duration": 288,
    "start_time": "2023-02-03T18:41:06.421Z"
   },
   {
    "duration": 18,
    "start_time": "2023-02-03T18:43:13.357Z"
   },
   {
    "duration": 178,
    "start_time": "2023-02-03T18:43:15.127Z"
   },
   {
    "duration": 213,
    "start_time": "2023-02-03T18:43:17.350Z"
   },
   {
    "duration": 190,
    "start_time": "2023-02-03T18:43:19.249Z"
   },
   {
    "duration": 205,
    "start_time": "2023-02-03T18:43:20.679Z"
   },
   {
    "duration": 203,
    "start_time": "2023-02-03T18:43:21.853Z"
   },
   {
    "duration": 1239,
    "start_time": "2023-02-03T18:47:07.733Z"
   },
   {
    "duration": 153,
    "start_time": "2023-02-03T18:47:51.539Z"
   },
   {
    "duration": 169,
    "start_time": "2023-02-03T18:48:26.470Z"
   },
   {
    "duration": 181,
    "start_time": "2023-02-03T18:48:37.932Z"
   },
   {
    "duration": 172,
    "start_time": "2023-02-03T18:49:04.279Z"
   },
   {
    "duration": 228,
    "start_time": "2023-02-03T18:49:12.377Z"
   },
   {
    "duration": 225,
    "start_time": "2023-02-03T18:49:55.128Z"
   },
   {
    "duration": 1280,
    "start_time": "2023-02-03T18:51:11.475Z"
   },
   {
    "duration": 18,
    "start_time": "2023-02-03T18:51:29.751Z"
   },
   {
    "duration": 17,
    "start_time": "2023-02-03T18:51:34.312Z"
   },
   {
    "duration": 158,
    "start_time": "2023-02-03T18:51:45.176Z"
   },
   {
    "duration": 161,
    "start_time": "2023-02-03T18:54:29.291Z"
   },
   {
    "duration": 8,
    "start_time": "2023-02-03T19:00:57.501Z"
   },
   {
    "duration": 12,
    "start_time": "2023-02-03T19:01:01.504Z"
   },
   {
    "duration": 10,
    "start_time": "2023-02-03T19:01:04.531Z"
   },
   {
    "duration": 11,
    "start_time": "2023-02-03T19:01:42.007Z"
   },
   {
    "duration": 22,
    "start_time": "2023-02-03T19:03:14.365Z"
   },
   {
    "duration": 23,
    "start_time": "2023-02-03T19:03:27.038Z"
   },
   {
    "duration": 10,
    "start_time": "2023-02-03T19:05:54.162Z"
   },
   {
    "duration": 804,
    "start_time": "2023-02-03T23:52:58.894Z"
   },
   {
    "duration": 15,
    "start_time": "2023-02-03T23:52:59.701Z"
   },
   {
    "duration": 29,
    "start_time": "2023-02-03T23:52:59.721Z"
   },
   {
    "duration": 2050,
    "start_time": "2023-02-03T23:52:59.753Z"
   },
   {
    "duration": 16,
    "start_time": "2023-02-03T23:53:01.805Z"
   },
   {
    "duration": 12,
    "start_time": "2023-02-03T23:53:01.822Z"
   },
   {
    "duration": 26,
    "start_time": "2023-02-03T23:53:01.836Z"
   },
   {
    "duration": 13,
    "start_time": "2023-02-03T23:53:01.864Z"
   },
   {
    "duration": 35,
    "start_time": "2023-02-03T23:53:01.878Z"
   },
   {
    "duration": 16,
    "start_time": "2023-02-03T23:53:01.916Z"
   },
   {
    "duration": 14,
    "start_time": "2023-02-03T23:53:01.933Z"
   },
   {
    "duration": 9,
    "start_time": "2023-02-03T23:53:01.948Z"
   },
   {
    "duration": 11,
    "start_time": "2023-02-03T23:53:01.959Z"
   },
   {
    "duration": 14,
    "start_time": "2023-02-03T23:53:01.972Z"
   },
   {
    "duration": 36,
    "start_time": "2023-02-03T23:53:01.988Z"
   },
   {
    "duration": 43,
    "start_time": "2023-02-03T23:53:02.026Z"
   },
   {
    "duration": 24,
    "start_time": "2023-02-03T23:53:02.071Z"
   },
   {
    "duration": 27,
    "start_time": "2023-02-03T23:53:02.096Z"
   },
   {
    "duration": 15,
    "start_time": "2023-02-03T23:53:02.124Z"
   },
   {
    "duration": 34,
    "start_time": "2023-02-03T23:53:02.140Z"
   },
   {
    "duration": 56,
    "start_time": "2023-02-03T23:53:02.175Z"
   },
   {
    "duration": 6,
    "start_time": "2023-02-03T23:53:02.233Z"
   },
   {
    "duration": 16,
    "start_time": "2023-02-03T23:53:02.241Z"
   },
   {
    "duration": 13,
    "start_time": "2023-02-03T23:53:02.258Z"
   },
   {
    "duration": 15,
    "start_time": "2023-02-03T23:53:02.273Z"
   },
   {
    "duration": 61,
    "start_time": "2023-02-03T23:53:02.290Z"
   },
   {
    "duration": 8,
    "start_time": "2023-02-03T23:53:02.352Z"
   },
   {
    "duration": 9,
    "start_time": "2023-02-03T23:53:02.364Z"
   },
   {
    "duration": 13,
    "start_time": "2023-02-03T23:53:02.375Z"
   },
   {
    "duration": 40,
    "start_time": "2023-02-03T23:53:02.390Z"
   },
   {
    "duration": 21,
    "start_time": "2023-02-03T23:53:02.432Z"
   },
   {
    "duration": 31,
    "start_time": "2023-02-03T23:53:02.455Z"
   },
   {
    "duration": 43,
    "start_time": "2023-02-03T23:53:02.488Z"
   },
   {
    "duration": 6,
    "start_time": "2023-02-03T23:53:02.533Z"
   },
   {
    "duration": 17,
    "start_time": "2023-02-03T23:53:02.541Z"
   },
   {
    "duration": 9,
    "start_time": "2023-02-03T23:53:02.559Z"
   },
   {
    "duration": 52,
    "start_time": "2023-02-03T23:53:02.570Z"
   },
   {
    "duration": 14,
    "start_time": "2023-02-03T23:53:02.625Z"
   },
   {
    "duration": 11,
    "start_time": "2023-02-03T23:53:02.641Z"
   },
   {
    "duration": 167,
    "start_time": "2023-02-03T23:53:02.654Z"
   },
   {
    "duration": 7,
    "start_time": "2023-02-03T23:53:02.822Z"
   },
   {
    "duration": 18,
    "start_time": "2023-02-03T23:53:02.831Z"
   },
   {
    "duration": 4,
    "start_time": "2023-02-03T23:53:02.851Z"
   },
   {
    "duration": 5,
    "start_time": "2023-02-03T23:53:02.857Z"
   },
   {
    "duration": 19,
    "start_time": "2023-02-03T23:53:02.864Z"
   },
   {
    "duration": 1142,
    "start_time": "2023-02-03T23:53:02.920Z"
   },
   {
    "duration": 5,
    "start_time": "2023-02-03T23:53:04.063Z"
   },
   {
    "duration": 7,
    "start_time": "2023-02-03T23:53:04.070Z"
   },
   {
    "duration": 14,
    "start_time": "2023-02-03T23:53:04.079Z"
   },
   {
    "duration": 6,
    "start_time": "2023-02-03T23:53:04.095Z"
   },
   {
    "duration": 16,
    "start_time": "2023-02-03T23:53:04.121Z"
   },
   {
    "duration": 11,
    "start_time": "2023-02-03T23:53:04.139Z"
   },
   {
    "duration": 14,
    "start_time": "2023-02-03T23:53:04.151Z"
   },
   {
    "duration": 7,
    "start_time": "2023-02-03T23:53:04.167Z"
   },
   {
    "duration": 56,
    "start_time": "2023-02-03T23:53:04.175Z"
   },
   {
    "duration": 11,
    "start_time": "2023-02-03T23:53:04.232Z"
   },
   {
    "duration": 21,
    "start_time": "2023-02-03T23:53:04.245Z"
   },
   {
    "duration": 423,
    "start_time": "2023-02-03T23:53:04.268Z"
   },
   {
    "duration": 9,
    "start_time": "2023-02-03T23:53:04.692Z"
   },
   {
    "duration": 44,
    "start_time": "2023-02-03T23:53:04.703Z"
   },
   {
    "duration": 5,
    "start_time": "2023-02-03T23:53:04.749Z"
   },
   {
    "duration": 41,
    "start_time": "2023-02-03T23:53:04.756Z"
   },
   {
    "duration": 30,
    "start_time": "2023-02-03T23:53:04.799Z"
   },
   {
    "duration": 33,
    "start_time": "2023-02-03T23:53:04.830Z"
   },
   {
    "duration": 6,
    "start_time": "2023-02-03T23:53:04.865Z"
   },
   {
    "duration": 24,
    "start_time": "2023-02-03T23:53:04.873Z"
   },
   {
    "duration": 131,
    "start_time": "2023-02-03T23:53:04.898Z"
   },
   {
    "duration": 6,
    "start_time": "2023-02-03T23:53:05.030Z"
   },
   {
    "duration": 13,
    "start_time": "2023-02-03T23:53:05.037Z"
   },
   {
    "duration": 498,
    "start_time": "2023-02-03T23:53:05.052Z"
   },
   {
    "duration": 6,
    "start_time": "2023-02-03T23:53:05.551Z"
   },
   {
    "duration": 318,
    "start_time": "2023-02-03T23:53:05.559Z"
   },
   {
    "duration": 5,
    "start_time": "2023-02-03T23:53:05.879Z"
   },
   {
    "duration": 7,
    "start_time": "2023-02-03T23:53:05.886Z"
   },
   {
    "duration": 203,
    "start_time": "2023-02-03T23:53:05.894Z"
   },
   {
    "duration": 157,
    "start_time": "2023-02-03T23:53:06.099Z"
   },
   {
    "duration": 224,
    "start_time": "2023-02-03T23:53:06.257Z"
   },
   {
    "duration": 188,
    "start_time": "2023-02-03T23:53:06.483Z"
   },
   {
    "duration": 174,
    "start_time": "2023-02-03T23:53:06.673Z"
   },
   {
    "duration": 174,
    "start_time": "2023-02-03T23:53:06.849Z"
   },
   {
    "duration": 223,
    "start_time": "2023-02-03T23:53:07.024Z"
   },
   {
    "duration": 150,
    "start_time": "2023-02-03T23:53:07.253Z"
   },
   {
    "duration": 157,
    "start_time": "2023-02-03T23:53:07.404Z"
   },
   {
    "duration": 175,
    "start_time": "2023-02-03T23:53:07.563Z"
   },
   {
    "duration": 184,
    "start_time": "2023-02-03T23:53:07.739Z"
   },
   {
    "duration": 183,
    "start_time": "2023-02-03T23:53:07.924Z"
   },
   {
    "duration": 182,
    "start_time": "2023-02-03T23:53:08.108Z"
   },
   {
    "duration": 177,
    "start_time": "2023-02-03T23:53:08.292Z"
   },
   {
    "duration": 9,
    "start_time": "2023-02-03T23:53:08.470Z"
   },
   {
    "duration": 201,
    "start_time": "2023-02-03T23:53:08.481Z"
   },
   {
    "duration": 174,
    "start_time": "2023-02-03T23:53:08.684Z"
   },
   {
    "duration": 18,
    "start_time": "2023-02-03T23:53:08.861Z"
   },
   {
    "duration": 211,
    "start_time": "2023-02-03T23:53:08.880Z"
   },
   {
    "duration": 300,
    "start_time": "2023-02-03T23:53:09.093Z"
   },
   {
    "duration": 191,
    "start_time": "2023-02-03T23:53:09.395Z"
   },
   {
    "duration": 193,
    "start_time": "2023-02-03T23:53:09.588Z"
   },
   {
    "duration": 197,
    "start_time": "2023-02-03T23:53:09.783Z"
   },
   {
    "duration": 159,
    "start_time": "2023-02-03T23:53:09.982Z"
   },
   {
    "duration": 173,
    "start_time": "2023-02-03T23:53:10.143Z"
   },
   {
    "duration": 181,
    "start_time": "2023-02-03T23:53:10.320Z"
   },
   {
    "duration": 166,
    "start_time": "2023-02-03T23:53:10.503Z"
   },
   {
    "duration": 156,
    "start_time": "2023-02-03T23:53:10.671Z"
   },
   {
    "duration": 26,
    "start_time": "2023-02-03T23:53:10.829Z"
   },
   {
    "duration": 9,
    "start_time": "2023-02-03T23:53:10.857Z"
   },
   {
    "duration": 24,
    "start_time": "2023-02-03T23:53:10.867Z"
   },
   {
    "duration": 321,
    "start_time": "2023-02-03T23:53:10.893Z"
   },
   {
    "duration": 812,
    "start_time": "2023-02-03T23:55:15.531Z"
   },
   {
    "duration": 767,
    "start_time": "2023-02-03T23:55:29.867Z"
   },
   {
    "duration": 16,
    "start_time": "2023-02-03T23:55:30.635Z"
   },
   {
    "duration": 43,
    "start_time": "2023-02-03T23:55:30.652Z"
   },
   {
    "duration": 1938,
    "start_time": "2023-02-03T23:55:30.697Z"
   },
   {
    "duration": 8,
    "start_time": "2023-02-03T23:55:32.636Z"
   },
   {
    "duration": 20,
    "start_time": "2023-02-03T23:55:32.645Z"
   },
   {
    "duration": 19,
    "start_time": "2023-02-03T23:55:32.666Z"
   },
   {
    "duration": 20,
    "start_time": "2023-02-03T23:55:32.687Z"
   },
   {
    "duration": 45,
    "start_time": "2023-02-03T23:55:32.709Z"
   },
   {
    "duration": 17,
    "start_time": "2023-02-03T23:55:32.756Z"
   },
   {
    "duration": 14,
    "start_time": "2023-02-03T23:55:32.775Z"
   },
   {
    "duration": 31,
    "start_time": "2023-02-03T23:55:32.790Z"
   },
   {
    "duration": 12,
    "start_time": "2023-02-03T23:55:32.823Z"
   },
   {
    "duration": 17,
    "start_time": "2023-02-03T23:55:32.837Z"
   },
   {
    "duration": 7,
    "start_time": "2023-02-03T23:55:32.855Z"
   },
   {
    "duration": 64,
    "start_time": "2023-02-03T23:55:32.864Z"
   },
   {
    "duration": 11,
    "start_time": "2023-02-03T23:55:32.930Z"
   },
   {
    "duration": 23,
    "start_time": "2023-02-03T23:55:32.944Z"
   },
   {
    "duration": 22,
    "start_time": "2023-02-03T23:55:32.969Z"
   },
   {
    "duration": 54,
    "start_time": "2023-02-03T23:55:32.993Z"
   },
   {
    "duration": 27,
    "start_time": "2023-02-03T23:55:33.049Z"
   },
   {
    "duration": 6,
    "start_time": "2023-02-03T23:55:33.078Z"
   },
   {
    "duration": 11,
    "start_time": "2023-02-03T23:55:33.085Z"
   },
   {
    "duration": 13,
    "start_time": "2023-02-03T23:55:33.122Z"
   },
   {
    "duration": 17,
    "start_time": "2023-02-03T23:55:33.136Z"
   },
   {
    "duration": 31,
    "start_time": "2023-02-03T23:55:33.155Z"
   },
   {
    "duration": 35,
    "start_time": "2023-02-03T23:55:33.188Z"
   },
   {
    "duration": 8,
    "start_time": "2023-02-03T23:55:33.228Z"
   },
   {
    "duration": 22,
    "start_time": "2023-02-03T23:55:33.238Z"
   },
   {
    "duration": 17,
    "start_time": "2023-02-03T23:55:33.262Z"
   },
   {
    "duration": 41,
    "start_time": "2023-02-03T23:55:33.280Z"
   },
   {
    "duration": 33,
    "start_time": "2023-02-03T23:55:33.323Z"
   },
   {
    "duration": 13,
    "start_time": "2023-02-03T23:55:33.358Z"
   },
   {
    "duration": 7,
    "start_time": "2023-02-03T23:55:33.373Z"
   },
   {
    "duration": 48,
    "start_time": "2023-02-03T23:55:33.381Z"
   },
   {
    "duration": 6,
    "start_time": "2023-02-03T23:55:33.431Z"
   },
   {
    "duration": 21,
    "start_time": "2023-02-03T23:55:33.439Z"
   },
   {
    "duration": 12,
    "start_time": "2023-02-03T23:55:33.462Z"
   },
   {
    "duration": 18,
    "start_time": "2023-02-03T23:55:33.476Z"
   },
   {
    "duration": 168,
    "start_time": "2023-02-03T23:55:33.496Z"
   },
   {
    "duration": 9,
    "start_time": "2023-02-03T23:55:33.665Z"
   },
   {
    "duration": 16,
    "start_time": "2023-02-03T23:55:33.676Z"
   },
   {
    "duration": 27,
    "start_time": "2023-02-03T23:55:33.694Z"
   },
   {
    "duration": 4,
    "start_time": "2023-02-03T23:55:33.722Z"
   },
   {
    "duration": 19,
    "start_time": "2023-02-03T23:55:33.728Z"
   },
   {
    "duration": 1179,
    "start_time": "2023-02-03T23:55:33.748Z"
   },
   {
    "duration": 4,
    "start_time": "2023-02-03T23:55:34.929Z"
   },
   {
    "duration": 79,
    "start_time": "2023-02-03T23:55:34.935Z"
   },
   {
    "duration": 18,
    "start_time": "2023-02-03T23:55:35.016Z"
   },
   {
    "duration": 18,
    "start_time": "2023-02-03T23:55:35.036Z"
   },
   {
    "duration": 56,
    "start_time": "2023-02-03T23:55:35.056Z"
   },
   {
    "duration": 17,
    "start_time": "2023-02-03T23:55:35.115Z"
   },
   {
    "duration": 15,
    "start_time": "2023-02-03T23:55:35.134Z"
   },
   {
    "duration": 12,
    "start_time": "2023-02-03T23:55:35.151Z"
   },
   {
    "duration": 23,
    "start_time": "2023-02-03T23:55:35.164Z"
   },
   {
    "duration": 33,
    "start_time": "2023-02-03T23:55:35.189Z"
   },
   {
    "duration": 15,
    "start_time": "2023-02-03T23:55:35.223Z"
   },
   {
    "duration": 339,
    "start_time": "2023-02-03T23:55:35.239Z"
   },
   {
    "duration": 9,
    "start_time": "2023-02-03T23:55:35.579Z"
   },
   {
    "duration": 33,
    "start_time": "2023-02-03T23:55:35.590Z"
   },
   {
    "duration": 4,
    "start_time": "2023-02-03T23:55:35.625Z"
   },
   {
    "duration": 23,
    "start_time": "2023-02-03T23:55:35.630Z"
   },
   {
    "duration": 27,
    "start_time": "2023-02-03T23:55:35.654Z"
   },
   {
    "duration": 40,
    "start_time": "2023-02-03T23:55:35.682Z"
   },
   {
    "duration": 5,
    "start_time": "2023-02-03T23:55:35.724Z"
   },
   {
    "duration": 23,
    "start_time": "2023-02-03T23:55:35.731Z"
   },
   {
    "duration": 117,
    "start_time": "2023-02-03T23:55:35.755Z"
   },
   {
    "duration": 5,
    "start_time": "2023-02-03T23:55:35.874Z"
   },
   {
    "duration": 26,
    "start_time": "2023-02-03T23:55:35.880Z"
   },
   {
    "duration": 461,
    "start_time": "2023-02-03T23:55:35.908Z"
   },
   {
    "duration": 6,
    "start_time": "2023-02-03T23:55:36.370Z"
   },
   {
    "duration": 328,
    "start_time": "2023-02-03T23:55:36.378Z"
   },
   {
    "duration": 5,
    "start_time": "2023-02-03T23:55:36.707Z"
   },
   {
    "duration": 18,
    "start_time": "2023-02-03T23:55:36.714Z"
   },
   {
    "duration": 185,
    "start_time": "2023-02-03T23:55:36.734Z"
   },
   {
    "duration": 145,
    "start_time": "2023-02-03T23:55:36.921Z"
   },
   {
    "duration": 224,
    "start_time": "2023-02-03T23:55:37.068Z"
   },
   {
    "duration": 175,
    "start_time": "2023-02-03T23:55:37.294Z"
   },
   {
    "duration": 167,
    "start_time": "2023-02-03T23:55:37.470Z"
   },
   {
    "duration": 176,
    "start_time": "2023-02-03T23:55:37.639Z"
   },
   {
    "duration": 207,
    "start_time": "2023-02-03T23:55:37.821Z"
   },
   {
    "duration": 151,
    "start_time": "2023-02-03T23:55:38.033Z"
   },
   {
    "duration": 166,
    "start_time": "2023-02-03T23:55:38.186Z"
   },
   {
    "duration": 169,
    "start_time": "2023-02-03T23:55:38.354Z"
   },
   {
    "duration": 166,
    "start_time": "2023-02-03T23:55:38.524Z"
   },
   {
    "duration": 169,
    "start_time": "2023-02-03T23:55:38.692Z"
   },
   {
    "duration": 174,
    "start_time": "2023-02-03T23:55:38.862Z"
   },
   {
    "duration": 160,
    "start_time": "2023-02-03T23:55:39.038Z"
   },
   {
    "duration": 8,
    "start_time": "2023-02-03T23:55:39.200Z"
   },
   {
    "duration": 190,
    "start_time": "2023-02-03T23:55:39.221Z"
   },
   {
    "duration": 160,
    "start_time": "2023-02-03T23:55:39.412Z"
   },
   {
    "duration": 15,
    "start_time": "2023-02-03T23:55:39.573Z"
   },
   {
    "duration": 187,
    "start_time": "2023-02-03T23:55:39.589Z"
   },
   {
    "duration": 280,
    "start_time": "2023-02-03T23:55:39.777Z"
   },
   {
    "duration": 184,
    "start_time": "2023-02-03T23:55:40.059Z"
   },
   {
    "duration": 186,
    "start_time": "2023-02-03T23:55:40.245Z"
   },
   {
    "duration": 187,
    "start_time": "2023-02-03T23:55:40.433Z"
   },
   {
    "duration": 144,
    "start_time": "2023-02-03T23:55:40.622Z"
   },
   {
    "duration": 157,
    "start_time": "2023-02-03T23:55:40.768Z"
   },
   {
    "duration": 158,
    "start_time": "2023-02-03T23:55:40.927Z"
   },
   {
    "duration": 162,
    "start_time": "2023-02-03T23:55:41.087Z"
   },
   {
    "duration": 163,
    "start_time": "2023-02-03T23:55:41.251Z"
   },
   {
    "duration": 763,
    "start_time": "2023-02-03T23:55:41.416Z"
   },
   {
    "duration": 0,
    "start_time": "2023-02-03T23:55:42.181Z"
   },
   {
    "duration": 0,
    "start_time": "2023-02-03T23:55:42.182Z"
   },
   {
    "duration": 0,
    "start_time": "2023-02-03T23:55:42.183Z"
   },
   {
    "duration": 0,
    "start_time": "2023-02-03T23:55:42.184Z"
   },
   {
    "duration": 145,
    "start_time": "2023-02-03T23:56:03.662Z"
   },
   {
    "duration": 30,
    "start_time": "2023-02-03T23:56:16.294Z"
   },
   {
    "duration": 10,
    "start_time": "2023-02-03T23:56:16.724Z"
   },
   {
    "duration": 21,
    "start_time": "2023-02-03T23:56:17.175Z"
   },
   {
    "duration": 393,
    "start_time": "2023-02-03T23:56:17.319Z"
   }
  ],
  "kernelspec": {
   "display_name": "Python 3 (ipykernel)",
   "language": "python",
   "name": "python3"
  },
  "language_info": {
   "codemirror_mode": {
    "name": "ipython",
    "version": 3
   },
   "file_extension": ".py",
   "mimetype": "text/x-python",
   "name": "python",
   "nbconvert_exporter": "python",
   "pygments_lexer": "ipython3",
   "version": "3.9.12"
  },
  "toc": {
   "base_numbering": 1,
   "nav_menu": {
    "height": "174px",
    "width": "348px"
   },
   "number_sections": true,
   "sideBar": true,
   "skip_h1_title": true,
   "title_cell": "Содержание",
   "title_sidebar": "Contents",
   "toc_cell": true,
   "toc_position": {},
   "toc_section_display": true,
   "toc_window_display": true
  }
 },
 "nbformat": 4,
 "nbformat_minor": 2
}
