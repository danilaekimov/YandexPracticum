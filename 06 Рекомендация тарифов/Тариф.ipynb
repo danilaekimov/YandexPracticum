{
 "cells": [
  {
   "cell_type": "markdown",
   "metadata": {},
   "source": [
    "# Рекомендация тарифов"
   ]
  },
  {
   "cell_type": "markdown",
   "metadata": {},
   "source": [
    "В вашем распоряжении данные о поведении клиентов, которые уже перешли на эти тарифы (из проекта курса «Статистический анализ данных»). Нужно построить модель для задачи классификации, которая выберет подходящий тариф. Предобработка данных не понадобится — вы её уже сделали.\n",
    "\n",
    "Постройте модель с максимально большим значением *accuracy*. Чтобы сдать проект успешно, нужно довести долю правильных ответов по крайней мере до 0.75. Проверьте *accuracy* на тестовой выборке самостоятельно."
   ]
  },
  {
   "cell_type": "markdown",
   "metadata": {},
   "source": [
    "# Цели проекта"
   ]
  },
  {
   "cell_type": "markdown",
   "metadata": {},
   "source": [
    "Оператор мобильной связи «Мегалайн» выяснил: многие клиенты пользуются архивными тарифами. Они хотят построить систему, способную проанализировать поведение клиентов и предложить пользователям новый тариф: «Смарт» или «Ультра»."
   ]
  },
  {
   "cell_type": "markdown",
   "metadata": {},
   "source": [
    "Постройте модель с максимально большим значением accuracy. Чтобы сдать проект успешно, нужно довести долю правильных ответов по крайней мере до 0.75."
   ]
  },
  {
   "cell_type": "markdown",
   "metadata": {},
   "source": [
    "## Откройте и изучите файл"
   ]
  },
  {
   "cell_type": "code",
   "execution_count": 1,
   "metadata": {},
   "outputs": [
    {
     "data": {
      "text/html": [
       "<div>\n",
       "<style scoped>\n",
       "    .dataframe tbody tr th:only-of-type {\n",
       "        vertical-align: middle;\n",
       "    }\n",
       "\n",
       "    .dataframe tbody tr th {\n",
       "        vertical-align: top;\n",
       "    }\n",
       "\n",
       "    .dataframe thead th {\n",
       "        text-align: right;\n",
       "    }\n",
       "</style>\n",
       "<table border=\"1\" class=\"dataframe\">\n",
       "  <thead>\n",
       "    <tr style=\"text-align: right;\">\n",
       "      <th></th>\n",
       "      <th>calls</th>\n",
       "      <th>minutes</th>\n",
       "      <th>messages</th>\n",
       "      <th>mb_used</th>\n",
       "      <th>is_ultra</th>\n",
       "    </tr>\n",
       "  </thead>\n",
       "  <tbody>\n",
       "    <tr>\n",
       "      <th>0</th>\n",
       "      <td>40.0</td>\n",
       "      <td>311.90</td>\n",
       "      <td>83.0</td>\n",
       "      <td>19915.42</td>\n",
       "      <td>0</td>\n",
       "    </tr>\n",
       "    <tr>\n",
       "      <th>1</th>\n",
       "      <td>85.0</td>\n",
       "      <td>516.75</td>\n",
       "      <td>56.0</td>\n",
       "      <td>22696.96</td>\n",
       "      <td>0</td>\n",
       "    </tr>\n",
       "    <tr>\n",
       "      <th>2</th>\n",
       "      <td>77.0</td>\n",
       "      <td>467.66</td>\n",
       "      <td>86.0</td>\n",
       "      <td>21060.45</td>\n",
       "      <td>0</td>\n",
       "    </tr>\n",
       "    <tr>\n",
       "      <th>3</th>\n",
       "      <td>106.0</td>\n",
       "      <td>745.53</td>\n",
       "      <td>81.0</td>\n",
       "      <td>8437.39</td>\n",
       "      <td>1</td>\n",
       "    </tr>\n",
       "    <tr>\n",
       "      <th>4</th>\n",
       "      <td>66.0</td>\n",
       "      <td>418.74</td>\n",
       "      <td>1.0</td>\n",
       "      <td>14502.75</td>\n",
       "      <td>0</td>\n",
       "    </tr>\n",
       "  </tbody>\n",
       "</table>\n",
       "</div>"
      ],
      "text/plain": [
       "   calls  minutes  messages   mb_used  is_ultra\n",
       "0   40.0   311.90      83.0  19915.42         0\n",
       "1   85.0   516.75      56.0  22696.96         0\n",
       "2   77.0   467.66      86.0  21060.45         0\n",
       "3  106.0   745.53      81.0   8437.39         1\n",
       "4   66.0   418.74       1.0  14502.75         0"
      ]
     },
     "execution_count": 1,
     "metadata": {},
     "output_type": "execute_result"
    }
   ],
   "source": [
    "import pandas as pd\n",
    "from sklearn.model_selection import train_test_split\n",
    "from sklearn.metrics import accuracy_score\n",
    "from sklearn.tree import DecisionTreeClassifier\n",
    "from sklearn.ensemble import RandomForestClassifier\n",
    "from sklearn.linear_model import LogisticRegression\n",
    "from sklearn import tree\n",
    "import matplotlib.pyplot as plt\n",
    "from joblib import dump\n",
    "from sklearn.dummy import DummyClassifier\n",
    "df = pd.read_csv('/datasets/users_behavior.csv')\n",
    "df.head()"
   ]
  },
  {
   "cell_type": "markdown",
   "metadata": {},
   "source": [
    "В файле представлены:\n",
    "- сalls — количество звонков,\n",
    "- minutes — суммарная длительность звонков в минутах,\n",
    "- messages — количество sms-сообщений,\n",
    "- mb_used — израсходованный интернет-трафик в Мб,\n",
    "- is_ultra — каким тарифом пользовался в течение месяца («Ультра» — 1, «Смарт» — 0)."
   ]
  },
  {
   "cell_type": "code",
   "execution_count": 2,
   "metadata": {},
   "outputs": [
    {
     "data": {
      "text/plain": [
       "calls       0\n",
       "minutes     0\n",
       "messages    0\n",
       "mb_used     0\n",
       "is_ultra    0\n",
       "dtype: int64"
      ]
     },
     "execution_count": 2,
     "metadata": {},
     "output_type": "execute_result"
    }
   ],
   "source": [
    "df.isna().sum()"
   ]
  },
  {
   "cell_type": "markdown",
   "metadata": {},
   "source": [
    "Пропусков нет, можно идти дальше"
   ]
  },
  {
   "cell_type": "code",
   "execution_count": 3,
   "metadata": {},
   "outputs": [
    {
     "data": {
      "text/plain": [
       "0    2229\n",
       "1     985\n",
       "Name: is_ultra, dtype: int64"
      ]
     },
     "execution_count": 3,
     "metadata": {},
     "output_type": "execute_result"
    }
   ],
   "source": [
    "df['is_ultra'].value_counts()"
   ]
  },
  {
   "cell_type": "markdown",
   "metadata": {},
   "source": [
    "В выборке, значений ультра больше, чем смарт. Можно сделать вывод, что этот датасет не сбалансирован"
   ]
  },
  {
   "cell_type": "code",
   "execution_count": 4,
   "metadata": {},
   "outputs": [
    {
     "data": {
      "text/html": [
       "<div>\n",
       "<style scoped>\n",
       "    .dataframe tbody tr th:only-of-type {\n",
       "        vertical-align: middle;\n",
       "    }\n",
       "\n",
       "    .dataframe tbody tr th {\n",
       "        vertical-align: top;\n",
       "    }\n",
       "\n",
       "    .dataframe thead th {\n",
       "        text-align: right;\n",
       "    }\n",
       "</style>\n",
       "<table border=\"1\" class=\"dataframe\">\n",
       "  <thead>\n",
       "    <tr style=\"text-align: right;\">\n",
       "      <th></th>\n",
       "      <th>calls</th>\n",
       "      <th>minutes</th>\n",
       "      <th>messages</th>\n",
       "      <th>mb_used</th>\n",
       "      <th>is_ultra</th>\n",
       "    </tr>\n",
       "  </thead>\n",
       "  <tbody>\n",
       "    <tr>\n",
       "      <th>calls</th>\n",
       "      <td>1.000000</td>\n",
       "      <td>0.982083</td>\n",
       "      <td>0.177385</td>\n",
       "      <td>0.286442</td>\n",
       "      <td>0.207122</td>\n",
       "    </tr>\n",
       "    <tr>\n",
       "      <th>minutes</th>\n",
       "      <td>0.982083</td>\n",
       "      <td>1.000000</td>\n",
       "      <td>0.173110</td>\n",
       "      <td>0.280967</td>\n",
       "      <td>0.206955</td>\n",
       "    </tr>\n",
       "    <tr>\n",
       "      <th>messages</th>\n",
       "      <td>0.177385</td>\n",
       "      <td>0.173110</td>\n",
       "      <td>1.000000</td>\n",
       "      <td>0.195721</td>\n",
       "      <td>0.203830</td>\n",
       "    </tr>\n",
       "    <tr>\n",
       "      <th>mb_used</th>\n",
       "      <td>0.286442</td>\n",
       "      <td>0.280967</td>\n",
       "      <td>0.195721</td>\n",
       "      <td>1.000000</td>\n",
       "      <td>0.198568</td>\n",
       "    </tr>\n",
       "    <tr>\n",
       "      <th>is_ultra</th>\n",
       "      <td>0.207122</td>\n",
       "      <td>0.206955</td>\n",
       "      <td>0.203830</td>\n",
       "      <td>0.198568</td>\n",
       "      <td>1.000000</td>\n",
       "    </tr>\n",
       "  </tbody>\n",
       "</table>\n",
       "</div>"
      ],
      "text/plain": [
       "             calls   minutes  messages   mb_used  is_ultra\n",
       "calls     1.000000  0.982083  0.177385  0.286442  0.207122\n",
       "minutes   0.982083  1.000000  0.173110  0.280967  0.206955\n",
       "messages  0.177385  0.173110  1.000000  0.195721  0.203830\n",
       "mb_used   0.286442  0.280967  0.195721  1.000000  0.198568\n",
       "is_ultra  0.207122  0.206955  0.203830  0.198568  1.000000"
      ]
     },
     "execution_count": 4,
     "metadata": {},
     "output_type": "execute_result"
    }
   ],
   "source": [
    "df.corr()"
   ]
  },
  {
   "cell_type": "markdown",
   "metadata": {},
   "source": [
    "Наблюдается слишком высокое значение корреляции между calls и minutes, поэтому удалим столбец minutes."
   ]
  },
  {
   "cell_type": "code",
   "execution_count": 5,
   "metadata": {},
   "outputs": [
    {
     "data": {
      "text/html": [
       "<div>\n",
       "<style scoped>\n",
       "    .dataframe tbody tr th:only-of-type {\n",
       "        vertical-align: middle;\n",
       "    }\n",
       "\n",
       "    .dataframe tbody tr th {\n",
       "        vertical-align: top;\n",
       "    }\n",
       "\n",
       "    .dataframe thead th {\n",
       "        text-align: right;\n",
       "    }\n",
       "</style>\n",
       "<table border=\"1\" class=\"dataframe\">\n",
       "  <thead>\n",
       "    <tr style=\"text-align: right;\">\n",
       "      <th></th>\n",
       "      <th>calls</th>\n",
       "      <th>messages</th>\n",
       "      <th>mb_used</th>\n",
       "      <th>is_ultra</th>\n",
       "    </tr>\n",
       "  </thead>\n",
       "  <tbody>\n",
       "    <tr>\n",
       "      <th>0</th>\n",
       "      <td>40.0</td>\n",
       "      <td>83.0</td>\n",
       "      <td>19915.42</td>\n",
       "      <td>0</td>\n",
       "    </tr>\n",
       "    <tr>\n",
       "      <th>1</th>\n",
       "      <td>85.0</td>\n",
       "      <td>56.0</td>\n",
       "      <td>22696.96</td>\n",
       "      <td>0</td>\n",
       "    </tr>\n",
       "    <tr>\n",
       "      <th>2</th>\n",
       "      <td>77.0</td>\n",
       "      <td>86.0</td>\n",
       "      <td>21060.45</td>\n",
       "      <td>0</td>\n",
       "    </tr>\n",
       "    <tr>\n",
       "      <th>3</th>\n",
       "      <td>106.0</td>\n",
       "      <td>81.0</td>\n",
       "      <td>8437.39</td>\n",
       "      <td>1</td>\n",
       "    </tr>\n",
       "    <tr>\n",
       "      <th>4</th>\n",
       "      <td>66.0</td>\n",
       "      <td>1.0</td>\n",
       "      <td>14502.75</td>\n",
       "      <td>0</td>\n",
       "    </tr>\n",
       "  </tbody>\n",
       "</table>\n",
       "</div>"
      ],
      "text/plain": [
       "   calls  messages   mb_used  is_ultra\n",
       "0   40.0      83.0  19915.42         0\n",
       "1   85.0      56.0  22696.96         0\n",
       "2   77.0      86.0  21060.45         0\n",
       "3  106.0      81.0   8437.39         1\n",
       "4   66.0       1.0  14502.75         0"
      ]
     },
     "execution_count": 5,
     "metadata": {},
     "output_type": "execute_result"
    }
   ],
   "source": [
    "df = df.drop('minutes', axis=1)\n",
    "df.head()"
   ]
  },
  {
   "cell_type": "markdown",
   "metadata": {},
   "source": [
    "Вывод: открыл и изучил файл, проверил пропуски, кол-во предложенных тарифов, удалил столбец minutes"
   ]
  },
  {
   "cell_type": "markdown",
   "metadata": {},
   "source": [
    "## Разбейте данные на выборки"
   ]
  },
  {
   "cell_type": "code",
   "execution_count": 7,
   "metadata": {},
   "outputs": [],
   "source": [
    "# Отделим тестовую и валидационную выборки\n",
    "df_train_valid, df_test = train_test_split(df, test_size=0.15, random_state=12345)"
   ]
  },
  {
   "cell_type": "code",
   "execution_count": 8,
   "metadata": {},
   "outputs": [],
   "source": [
    "df_train, df_valid = train_test_split(df_train_valid, test_size=0.15, random_state=12345)"
   ]
  },
  {
   "cell_type": "code",
   "execution_count": 9,
   "metadata": {},
   "outputs": [],
   "source": [
    "# сохраняем признаки и предскзания\n",
    "features_test = df_test.drop('is_ultra', axis=1) \n",
    "target_test = df_test['is_ultra']\n",
    "\n",
    "features_train = df_train.drop('is_ultra', axis=1)\n",
    "target_train = df_train['is_ultra']\n",
    "\n",
    "features_valid = df_valid.drop('is_ultra', axis=1)\n",
    "target_valid = df_valid['is_ultra']"
   ]
  },
  {
   "cell_type": "code",
   "execution_count": 10,
   "metadata": {},
   "outputs": [
    {
     "name": "stdout",
     "output_type": "stream",
     "text": [
      "Тестовая выборка составляет: 15.028002489110143 % от исходного датасета df\n",
      "Валидационная выборка составляет: 12.756689483509644 % от исходного датасета df\n",
      "Обучающая выборка составляет: 72.2153080273802 % от исходного датасета\n"
     ]
    }
   ],
   "source": [
    "# значения в процентах\n",
    "print(f'Тестовая выборка составляет: {df_test.shape[0]/df.shape[0]*100} % от исходного датасета df')\n",
    "print(f'Валидационная выборка составляет: {df_valid.shape[0]/df.shape[0]*100} % от исходного датасета df')\n",
    "print(f'Обучающая выборка составляет: {df_train.shape[0]/df.shape[0]*100} % от исходного датасета')"
   ]
  },
  {
   "cell_type": "markdown",
   "metadata": {},
   "source": [
    "Вывод:\n",
    "- разбил данные на выборки 3:1:1\n",
    "- импортировал необходимые библиотеки"
   ]
  },
  {
   "cell_type": "markdown",
   "metadata": {},
   "source": [
    "## Исследуйте модели"
   ]
  },
  {
   "cell_type": "markdown",
   "metadata": {},
   "source": [
    "Решающее дерево"
   ]
  },
  {
   "cell_type": "code",
   "execution_count": 11,
   "metadata": {},
   "outputs": [
    {
     "name": "stdout",
     "output_type": "stream",
     "text": [
      "Accuracy лучшей модели: 0.8219512195121951\n",
      "Глубина лучшей модели: 6\n"
     ]
    }
   ],
   "source": [
    "best_model = None\n",
    "best_result = 0\n",
    "best_depth = 0\n",
    "for depth in range(1, 11):\n",
    "    model_dt = DecisionTreeClassifier(random_state=12345, max_depth=depth, criterion='gini') #Обучение с заданной глубиной дерева\n",
    "    model_dt.fit(features_train, target_train) #Обучение модели\n",
    "    result_valid = model_dt.score(features_valid, target_valid) #Качество модели\n",
    "    if result_valid > best_result:\n",
    "        best_model = model_dt\n",
    "        best_result = result_valid\n",
    "        best_depth = depth\n",
    "print('Accuracy лучшей модели:', best_result)\n",
    "print('Глубина лучшей модели:', best_depth)"
   ]
  },
  {
   "cell_type": "markdown",
   "metadata": {},
   "source": [
    "Случайный лес"
   ]
  },
  {
   "cell_type": "code",
   "execution_count": 12,
   "metadata": {},
   "outputs": [
    {
     "name": "stdout",
     "output_type": "stream",
     "text": [
      "Accuracy лучшей модели: 0.824390243902439\n",
      "Глубина лучшей модели: 6\n"
     ]
    }
   ],
   "source": [
    "best_model = None\n",
    "best_result = 0\n",
    "for est in range(1, 11):\n",
    "    for depth in range (1, 11):\n",
    "        model_rf= RandomForestClassifier(random_state=12345, n_estimators=est, max_depth=depth, criterion='gini') # обучение модели с заданным количеством деревьев\n",
    "        model_rf.fit(features_train, target_train) # обучение модели на тренирововчной выборке\n",
    "        result_valid = model_rf.score(features_valid, target_valid) # посчитайте качество модели на валидационной выборке\n",
    "        if result_valid > best_result:\n",
    "            best_model = model_rf # сохраните наилучшую модель\n",
    "            best_result = result_valid #  сохраните наилучшее значение метрики accuracy на валидационных данных\n",
    "print('Accuracy лучшей модели:', best_result)\n",
    "print('Глубина лучшей модели:', best_depth)"
   ]
  },
  {
   "cell_type": "code",
   "execution_count": 13,
   "metadata": {
    "scrolled": true
   },
   "outputs": [
    {
     "name": "stdout",
     "output_type": "stream",
     "text": [
      "Accuracy логистической регрессии: 0.6853658536585366\n"
     ]
    }
   ],
   "source": [
    "model_lr = LogisticRegression(random_state=12345, solver='lbfgs', max_iter=1000)\n",
    "model_lr.fit(features_train, target_train)\n",
    "result = model_lr.score(features_valid, target_valid)\n",
    "print('Accuracy логистической регрессии:', result)"
   ]
  },
  {
   "cell_type": "markdown",
   "metadata": {},
   "source": [
    "Таким образом, лучший показатель у модели Случайного дерева."
   ]
  },
  {
   "cell_type": "markdown",
   "metadata": {},
   "source": [
    "## Проверьте модель на тестовой выборке"
   ]
  },
  {
   "cell_type": "markdown",
   "metadata": {},
   "source": [
    "Проверим модель на тестовой выборке"
   ]
  },
  {
   "cell_type": "code",
   "execution_count": 14,
   "metadata": {},
   "outputs": [
    {
     "name": "stdout",
     "output_type": "stream",
     "text": [
      "Доля правильных ответов accuracy в модели решающее дерево: 0.7681159420289855\n"
     ]
    }
   ],
   "source": [
    "predictions_test_dt = model_dt.predict(features_test) #предсказания на тестовой выборке\n",
    "accuracy_dt = accuracy_score(target_test, predictions_test_dt) #считаем долю ответов\n",
    "print('Доля правильных ответов accuracy в модели решающее дерево:', accuracy_dt)"
   ]
  },
  {
   "cell_type": "markdown",
   "metadata": {},
   "source": [
    "Навсякий случай, проверим модель случайного леса"
   ]
  },
  {
   "cell_type": "code",
   "execution_count": 15,
   "metadata": {},
   "outputs": [
    {
     "name": "stdout",
     "output_type": "stream",
     "text": [
      "Доля правильных ответов accuracy в модели решающее дерево: 0.782608695652174\n"
     ]
    }
   ],
   "source": [
    "predictions_test_rf = model_rf.predict(features_test) #предсказания на тестовой выборке\n",
    "accuracy_rf = accuracy_score(target_test, predictions_test_rf) #считаем долю ответов\n",
    "print('Доля правильных ответов accuracy в модели решающее дерево:', accuracy_rf)"
   ]
  },
  {
   "cell_type": "markdown",
   "metadata": {},
   "source": [
    "Вывод: на валидационной выборке, модель решающего дерева и случайного леса почти одинаковые. Но на тестовой выборке доля правильных ответов у случаного леса выше. И та и другая модель показали значения больше 0.72\n",
    "Валидационная выборка необходима, для того чтобы проверить переобучилась ли модель или наоборот. Тестовая выборка нужна для контрольной проверки модели. Лучшая модель определется на этапе исследования. В зависимости от количества выборок."
   ]
  },
  {
   "cell_type": "markdown",
   "metadata": {},
   "source": [
    "## (бонус) Проверьте модели на адекватность"
   ]
  },
  {
   "cell_type": "markdown",
   "metadata": {},
   "source": [
    "Благодоря интернету, можно попробовать проверить модель на адекватность"
   ]
  },
  {
   "cell_type": "code",
   "execution_count": 16,
   "metadata": {},
   "outputs": [
    {
     "name": "stdout",
     "output_type": "stream",
     "text": [
      "Наивный прогноз самого частого класса (\"0\"): 69.77%\n"
     ]
    }
   ],
   "source": [
    "model_dummy = DummyClassifier(strategy='most_frequent', random_state=12345) # создадим модель model_dummy\n",
    "model_dummy.fit(features_train, target_train) # обучим модель model_dummy на обучающей выборке\n",
    "model_dummy.predict(features_test)\n",
    "accuracy_dummy = model_dummy.score(features_test, target_test) # посчитаем качество модели на тестовой выборке\n",
    "print(f'Наивный прогноз самого частого класса (\"0\"): {accuracy_dummy:.2%}')"
   ]
  },
  {
   "cell_type": "markdown",
   "metadata": {},
   "source": [
    "Наивный прогноз самого частого класса (\"0\") составляет 69,77%, что гораздо ниже полученных значений метрик качества моделей (accuracy). Поэтому модели можно считать вменяемыми."
   ]
  },
  {
   "cell_type": "markdown",
   "metadata": {},
   "source": [
    "Общий вывод: построил модели для классификации тарифов по пользователям. Наилучшие покзатели у Случайного леса. Удалось достичь, значения accuracy больше 0.75"
   ]
  }
 ],
 "metadata": {
  "ExecuteTimeLog": [
   {
    "duration": 488,
    "start_time": "2023-03-14T20:50:53.248Z"
   },
   {
    "duration": 8,
    "start_time": "2023-03-14T20:52:39.744Z"
   },
   {
    "duration": 9,
    "start_time": "2023-03-14T20:56:37.427Z"
   },
   {
    "duration": 664,
    "start_time": "2023-03-14T21:01:52.997Z"
   },
   {
    "duration": 468,
    "start_time": "2023-03-14T21:04:07.697Z"
   },
   {
    "duration": 3,
    "start_time": "2023-03-14T21:04:32.991Z"
   },
   {
    "duration": 8,
    "start_time": "2023-03-14T21:06:09.141Z"
   },
   {
    "duration": 18,
    "start_time": "2023-03-14T21:12:21.602Z"
   },
   {
    "duration": 47,
    "start_time": "2023-03-14T21:13:36.936Z"
   },
   {
    "duration": 18,
    "start_time": "2023-03-14T21:14:37.201Z"
   },
   {
    "duration": 118,
    "start_time": "2023-03-14T21:14:44.608Z"
   },
   {
    "duration": 14,
    "start_time": "2023-03-14T21:14:54.249Z"
   },
   {
    "duration": 16,
    "start_time": "2023-03-14T21:14:58.869Z"
   },
   {
    "duration": 38,
    "start_time": "2023-03-14T21:15:05.829Z"
   },
   {
    "duration": 10,
    "start_time": "2023-03-14T21:15:13.062Z"
   },
   {
    "duration": 15,
    "start_time": "2023-03-14T21:15:17.893Z"
   },
   {
    "duration": 36,
    "start_time": "2023-03-14T21:15:49.521Z"
   },
   {
    "duration": 11,
    "start_time": "2023-03-14T21:15:53.797Z"
   },
   {
    "duration": 61,
    "start_time": "2023-03-15T18:44:20.606Z"
   },
   {
    "duration": 1317,
    "start_time": "2023-03-15T18:44:24.619Z"
   },
   {
    "duration": 300,
    "start_time": "2023-03-15T18:44:30.217Z"
   },
   {
    "duration": 8,
    "start_time": "2023-03-15T18:44:31.616Z"
   },
   {
    "duration": 7,
    "start_time": "2023-03-15T18:44:32.670Z"
   },
   {
    "duration": 14,
    "start_time": "2023-03-15T18:44:34.862Z"
   },
   {
    "duration": 10,
    "start_time": "2023-03-15T18:44:36.388Z"
   },
   {
    "duration": 4,
    "start_time": "2023-03-15T18:44:38.272Z"
   },
   {
    "duration": 89,
    "start_time": "2023-03-15T18:44:39.432Z"
   },
   {
    "duration": 10,
    "start_time": "2023-03-15T18:46:58.662Z"
   },
   {
    "duration": 6,
    "start_time": "2023-03-15T18:47:59.120Z"
   },
   {
    "duration": 9,
    "start_time": "2023-03-15T18:49:03.882Z"
   },
   {
    "duration": 5,
    "start_time": "2023-03-15T18:49:14.263Z"
   },
   {
    "duration": 5,
    "start_time": "2023-03-15T18:49:37.958Z"
   },
   {
    "duration": 5,
    "start_time": "2023-03-15T18:50:26.301Z"
   },
   {
    "duration": 5,
    "start_time": "2023-03-15T18:50:27.235Z"
   },
   {
    "duration": 10,
    "start_time": "2023-03-15T18:50:57.649Z"
   },
   {
    "duration": 4,
    "start_time": "2023-03-15T18:51:37.681Z"
   },
   {
    "duration": 6,
    "start_time": "2023-03-15T18:51:54.642Z"
   },
   {
    "duration": 5,
    "start_time": "2023-03-15T18:51:58.305Z"
   },
   {
    "duration": 5,
    "start_time": "2023-03-15T18:52:19.524Z"
   },
   {
    "duration": 9,
    "start_time": "2023-03-15T18:52:21.076Z"
   },
   {
    "duration": 10,
    "start_time": "2023-03-15T18:52:25.350Z"
   },
   {
    "duration": 37,
    "start_time": "2023-03-15T18:52:35.343Z"
   },
   {
    "duration": 7,
    "start_time": "2023-03-15T18:52:36.611Z"
   },
   {
    "duration": 5,
    "start_time": "2023-03-15T18:52:37.627Z"
   },
   {
    "duration": 17,
    "start_time": "2023-03-15T18:52:39.240Z"
   },
   {
    "duration": 9,
    "start_time": "2023-03-15T18:52:41.170Z"
   },
   {
    "duration": 11,
    "start_time": "2023-03-15T18:52:42.861Z"
   },
   {
    "duration": 5,
    "start_time": "2023-03-15T18:52:43.363Z"
   },
   {
    "duration": 5,
    "start_time": "2023-03-15T18:52:44.361Z"
   },
   {
    "duration": 5,
    "start_time": "2023-03-15T18:52:46.763Z"
   },
   {
    "duration": 9,
    "start_time": "2023-03-15T18:52:47.585Z"
   },
   {
    "duration": 8,
    "start_time": "2023-03-15T18:53:06.460Z"
   },
   {
    "duration": 41,
    "start_time": "2023-03-15T18:53:13.522Z"
   },
   {
    "duration": 6,
    "start_time": "2023-03-15T18:53:17.489Z"
   },
   {
    "duration": 5,
    "start_time": "2023-03-15T18:53:20.530Z"
   },
   {
    "duration": 13,
    "start_time": "2023-03-15T18:53:21.634Z"
   },
   {
    "duration": 9,
    "start_time": "2023-03-15T18:53:24.371Z"
   },
   {
    "duration": 6,
    "start_time": "2023-03-15T18:53:27.838Z"
   },
   {
    "duration": 5,
    "start_time": "2023-03-15T18:53:57.685Z"
   },
   {
    "duration": 5,
    "start_time": "2023-03-15T18:53:58.756Z"
   },
   {
    "duration": 5,
    "start_time": "2023-03-15T18:54:02.983Z"
   },
   {
    "duration": 6,
    "start_time": "2023-03-15T18:55:17.973Z"
   },
   {
    "duration": 14,
    "start_time": "2023-03-15T18:55:19.292Z"
   },
   {
    "duration": 13,
    "start_time": "2023-03-15T18:55:59.938Z"
   },
   {
    "duration": 11,
    "start_time": "2023-03-15T18:56:28.854Z"
   },
   {
    "duration": 17,
    "start_time": "2023-03-15T18:56:35.734Z"
   },
   {
    "duration": 12,
    "start_time": "2023-03-15T18:57:03.503Z"
   },
   {
    "duration": 7,
    "start_time": "2023-03-15T18:58:02.837Z"
   },
   {
    "duration": 5,
    "start_time": "2023-03-15T18:58:40.476Z"
   },
   {
    "duration": 51,
    "start_time": "2023-03-15T18:58:45.167Z"
   },
   {
    "duration": 44,
    "start_time": "2023-03-15T18:58:53.168Z"
   },
   {
    "duration": 17,
    "start_time": "2023-03-15T18:59:03.988Z"
   },
   {
    "duration": 5,
    "start_time": "2023-03-15T18:59:34.314Z"
   },
   {
    "duration": 4,
    "start_time": "2023-03-15T19:00:55.661Z"
   },
   {
    "duration": 15,
    "start_time": "2023-03-15T19:01:01.648Z"
   },
   {
    "duration": 14,
    "start_time": "2023-03-15T19:01:13.557Z"
   },
   {
    "duration": 5,
    "start_time": "2023-03-15T19:01:40.496Z"
   },
   {
    "duration": 12,
    "start_time": "2023-03-15T19:01:42.103Z"
   },
   {
    "duration": 5,
    "start_time": "2023-03-15T19:03:19.987Z"
   },
   {
    "duration": 10,
    "start_time": "2023-03-15T19:03:38.934Z"
   },
   {
    "duration": 4,
    "start_time": "2023-03-15T19:03:41.065Z"
   },
   {
    "duration": 5,
    "start_time": "2023-03-15T19:04:23.870Z"
   },
   {
    "duration": 4,
    "start_time": "2023-03-15T19:04:43.601Z"
   },
   {
    "duration": 21,
    "start_time": "2023-03-15T19:21:44.362Z"
   },
   {
    "duration": 23,
    "start_time": "2023-03-15T19:29:12.135Z"
   },
   {
    "duration": 27,
    "start_time": "2023-03-15T19:29:34.338Z"
   },
   {
    "duration": 79,
    "start_time": "2023-03-15T19:29:52.399Z"
   },
   {
    "duration": 78,
    "start_time": "2023-03-15T19:33:06.603Z"
   },
   {
    "duration": 54,
    "start_time": "2023-03-15T19:35:51.672Z"
   },
   {
    "duration": 73,
    "start_time": "2023-03-15T19:35:57.254Z"
   },
   {
    "duration": 282,
    "start_time": "2023-03-15T19:37:02.972Z"
   },
   {
    "duration": 213,
    "start_time": "2023-03-15T19:37:27.521Z"
   },
   {
    "duration": 58,
    "start_time": "2023-03-15T19:37:31.567Z"
   },
   {
    "duration": 68,
    "start_time": "2023-03-15T19:38:14.264Z"
   },
   {
    "duration": 209,
    "start_time": "2023-03-15T19:38:17.407Z"
   },
   {
    "duration": 3,
    "start_time": "2023-03-15T19:41:37.198Z"
   },
   {
    "duration": 40,
    "start_time": "2023-03-15T19:41:45.648Z"
   },
   {
    "duration": 12,
    "start_time": "2023-03-15T19:41:46.864Z"
   },
   {
    "duration": 5,
    "start_time": "2023-03-15T19:41:47.685Z"
   },
   {
    "duration": 13,
    "start_time": "2023-03-15T19:41:48.557Z"
   },
   {
    "duration": 15,
    "start_time": "2023-03-15T19:41:49.458Z"
   },
   {
    "duration": 3,
    "start_time": "2023-03-15T19:41:50.995Z"
   },
   {
    "duration": 5,
    "start_time": "2023-03-15T19:41:51.911Z"
   },
   {
    "duration": 7,
    "start_time": "2023-03-15T19:41:52.741Z"
   },
   {
    "duration": 8,
    "start_time": "2023-03-15T19:41:53.372Z"
   },
   {
    "duration": 4,
    "start_time": "2023-03-15T19:41:55.000Z"
   },
   {
    "duration": 57,
    "start_time": "2023-03-15T19:41:59.068Z"
   },
   {
    "duration": 211,
    "start_time": "2023-03-15T19:42:00.474Z"
   },
   {
    "duration": 20,
    "start_time": "2023-03-15T19:46:34.512Z"
   },
   {
    "duration": 33,
    "start_time": "2023-03-15T19:46:49.268Z"
   },
   {
    "duration": 279,
    "start_time": "2023-03-15T19:47:02.816Z"
   },
   {
    "duration": 132,
    "start_time": "2023-03-15T19:47:30.683Z"
   },
   {
    "duration": 25,
    "start_time": "2023-03-15T19:48:01.467Z"
   },
   {
    "duration": 77,
    "start_time": "2023-03-15T19:54:03.120Z"
   },
   {
    "duration": 16,
    "start_time": "2023-03-15T19:54:25.881Z"
   },
   {
    "duration": 5,
    "start_time": "2023-03-15T19:56:18.374Z"
   },
   {
    "duration": 9,
    "start_time": "2023-03-15T20:02:42.560Z"
   },
   {
    "duration": 10,
    "start_time": "2023-03-15T20:02:53.690Z"
   },
   {
    "duration": 16,
    "start_time": "2023-03-15T20:03:04.261Z"
   },
   {
    "duration": 580,
    "start_time": "2023-03-16T17:34:11.465Z"
   },
   {
    "duration": 7,
    "start_time": "2023-03-16T17:34:13.726Z"
   },
   {
    "duration": 7,
    "start_time": "2023-03-16T17:34:14.881Z"
   },
   {
    "duration": 12,
    "start_time": "2023-03-16T17:34:16.600Z"
   },
   {
    "duration": 11,
    "start_time": "2023-03-16T17:34:19.368Z"
   },
   {
    "duration": 1227,
    "start_time": "2023-03-16T17:34:22.291Z"
   },
   {
    "duration": 6,
    "start_time": "2023-03-16T17:34:24.468Z"
   },
   {
    "duration": 5,
    "start_time": "2023-03-16T17:34:25.203Z"
   },
   {
    "duration": 6,
    "start_time": "2023-03-16T17:34:25.808Z"
   },
   {
    "duration": 4,
    "start_time": "2023-03-16T17:34:26.700Z"
   },
   {
    "duration": 76,
    "start_time": "2023-03-16T17:34:30.697Z"
   },
   {
    "duration": 131,
    "start_time": "2023-03-16T17:34:32.368Z"
   },
   {
    "duration": 21,
    "start_time": "2023-03-16T17:34:54.368Z"
   },
   {
    "duration": 226,
    "start_time": "2023-03-16T17:35:18.299Z"
   },
   {
    "duration": 22,
    "start_time": "2023-03-16T17:35:21.379Z"
   },
   {
    "duration": 10,
    "start_time": "2023-03-16T17:35:26.001Z"
   },
   {
    "duration": 4,
    "start_time": "2023-03-16T17:36:41.576Z"
   },
   {
    "duration": 7,
    "start_time": "2023-03-16T17:39:19.196Z"
   },
   {
    "duration": 15,
    "start_time": "2023-03-16T17:39:50.654Z"
   },
   {
    "duration": 80,
    "start_time": "2023-03-16T17:47:19.560Z"
   },
   {
    "duration": 1608,
    "start_time": "2023-03-16T17:52:35.062Z"
   },
   {
    "duration": 22,
    "start_time": "2023-03-16T17:52:41.452Z"
   },
   {
    "duration": 7,
    "start_time": "2023-03-16T17:52:47.787Z"
   },
   {
    "duration": 9,
    "start_time": "2023-03-16T17:52:49.511Z"
   },
   {
    "duration": 3,
    "start_time": "2023-03-16T18:02:18.611Z"
   },
   {
    "duration": 7,
    "start_time": "2023-03-16T18:02:48.941Z"
   },
   {
    "duration": 68,
    "start_time": "2023-03-16T18:06:25.677Z"
   },
   {
    "duration": 1683,
    "start_time": "2023-03-16T18:06:31.897Z"
   },
   {
    "duration": 1745,
    "start_time": "2023-03-16T18:07:17.714Z"
   },
   {
    "duration": 6,
    "start_time": "2023-03-16T18:07:53.419Z"
   },
   {
    "duration": 12,
    "start_time": "2023-03-16T18:07:56.103Z"
   },
   {
    "duration": 541,
    "start_time": "2023-03-17T02:42:04.119Z"
   },
   {
    "duration": 7,
    "start_time": "2023-03-17T02:42:04.662Z"
   },
   {
    "duration": 27,
    "start_time": "2023-03-17T02:42:04.670Z"
   },
   {
    "duration": 10,
    "start_time": "2023-03-17T02:42:04.698Z"
   },
   {
    "duration": 9,
    "start_time": "2023-03-17T02:42:04.709Z"
   },
   {
    "duration": 1777,
    "start_time": "2023-03-17T02:42:04.719Z"
   },
   {
    "duration": 4,
    "start_time": "2023-03-17T02:42:06.498Z"
   },
   {
    "duration": 8,
    "start_time": "2023-03-17T02:42:06.503Z"
   },
   {
    "duration": 8,
    "start_time": "2023-03-17T02:42:06.512Z"
   },
   {
    "duration": 12,
    "start_time": "2023-03-17T02:42:06.521Z"
   },
   {
    "duration": 76,
    "start_time": "2023-03-17T02:42:06.534Z"
   },
   {
    "duration": 1497,
    "start_time": "2023-03-17T02:42:06.612Z"
   },
   {
    "duration": 17,
    "start_time": "2023-03-17T02:42:08.111Z"
   },
   {
    "duration": 5,
    "start_time": "2023-03-17T02:42:08.130Z"
   },
   {
    "duration": 13,
    "start_time": "2023-03-17T02:42:08.136Z"
   },
   {
    "duration": 5,
    "start_time": "2023-03-17T02:42:08.150Z"
   },
   {
    "duration": 123,
    "start_time": "2023-03-17T18:32:06.694Z"
   },
   {
    "duration": 99,
    "start_time": "2023-03-17T18:32:37.818Z"
   },
   {
    "duration": 247,
    "start_time": "2023-03-17T18:35:05.444Z"
   },
   {
    "duration": 97,
    "start_time": "2023-03-17T18:36:15.827Z"
   }
  ],
  "kernelspec": {
   "display_name": "Python 3 (ipykernel)",
   "language": "python",
   "name": "python3"
  },
  "language_info": {
   "codemirror_mode": {
    "name": "ipython",
    "version": 3
   },
   "file_extension": ".py",
   "mimetype": "text/x-python",
   "name": "python",
   "nbconvert_exporter": "python",
   "pygments_lexer": "ipython3",
   "version": "3.9.12"
  },
  "toc": {
   "base_numbering": 1,
   "nav_menu": {},
   "number_sections": true,
   "sideBar": true,
   "skip_h1_title": true,
   "title_cell": "Table of Contents",
   "title_sidebar": "Contents",
   "toc_cell": false,
   "toc_position": {},
   "toc_section_display": true,
   "toc_window_display": true
  }
 },
 "nbformat": 4,
 "nbformat_minor": 2
}
