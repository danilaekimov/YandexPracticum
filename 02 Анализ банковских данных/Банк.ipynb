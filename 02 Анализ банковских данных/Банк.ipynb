{
 "cells": [
  {
   "cell_type": "markdown",
   "id": "37f97972",
   "metadata": {
    "deletable": false,
    "editable": false,
    "id": "c81daeeb"
   },
   "source": [
    "# Исследование надежности заемщиков\n"
   ]
  },
  {
   "cell_type": "markdown",
   "id": "711f7b53",
   "metadata": {
    "deletable": false,
    "editable": false,
    "id": "827c20bf"
   },
   "source": [
    "Во второй части проекта вы выполните шаги 3 и 4. Их вручную проверит ревьюер.\n",
    "Чтобы вам не пришлось писать код заново для шагов 1 и 2, мы добавили авторские решения в ячейки с кодом. \n",
    "\n"
   ]
  },
  {
   "cell_type": "markdown",
   "id": "1620963d",
   "metadata": {
    "deletable": false,
    "editable": false,
    "id": "744d7639"
   },
   "source": [
    "## Откройте таблицу и изучите общую информацию о данных"
   ]
  },
  {
   "cell_type": "markdown",
   "id": "70d1b6f5",
   "metadata": {
    "deletable": false,
    "editable": false,
    "id": "e7a14c31"
   },
   "source": [
    "**Задание 1. Импортируйте библиотеку pandas. Считайте данные из csv-файла в датафрейм и сохраните в переменную `data`. Путь к файлу:**\n",
    "\n",
    "`/datasets/data.csv`"
   ]
  },
  {
   "cell_type": "code",
   "execution_count": 5,
   "id": "89c60619",
   "metadata": {
    "deletable": false,
    "id": "7bcf75c9"
   },
   "outputs": [],
   "source": [
    "import pandas as pd\n",
    "\n",
    "try:\n",
    "    data = pd.read_csv('/datasets/data.csv')\n",
    "except:\n",
    "    data = pd.read_csv('https://code.s3.yandex.net/datasets/data.csv')"
   ]
  },
  {
   "cell_type": "markdown",
   "id": "261be0b4",
   "metadata": {
    "deletable": false,
    "editable": false,
    "id": "b8038fe3"
   },
   "source": [
    "**Задание 2. Выведите первые 20 строчек датафрейма `data` на экран.**"
   ]
  },
  {
   "cell_type": "code",
   "execution_count": 6,
   "id": "45d3cd0e",
   "metadata": {
    "deletable": false,
    "id": "2a7cab99",
    "outputId": "1a8f3ef2-d323-4ec2-ddf7-89670b5944c4"
   },
   "outputs": [
    {
     "data": {
      "text/html": [
       "<div>\n",
       "<style scoped>\n",
       "    .dataframe tbody tr th:only-of-type {\n",
       "        vertical-align: middle;\n",
       "    }\n",
       "\n",
       "    .dataframe tbody tr th {\n",
       "        vertical-align: top;\n",
       "    }\n",
       "\n",
       "    .dataframe thead th {\n",
       "        text-align: right;\n",
       "    }\n",
       "</style>\n",
       "<table border=\"1\" class=\"dataframe\">\n",
       "  <thead>\n",
       "    <tr style=\"text-align: right;\">\n",
       "      <th></th>\n",
       "      <th>children</th>\n",
       "      <th>days_employed</th>\n",
       "      <th>dob_years</th>\n",
       "      <th>education</th>\n",
       "      <th>education_id</th>\n",
       "      <th>family_status</th>\n",
       "      <th>family_status_id</th>\n",
       "      <th>gender</th>\n",
       "      <th>income_type</th>\n",
       "      <th>debt</th>\n",
       "      <th>total_income</th>\n",
       "      <th>purpose</th>\n",
       "    </tr>\n",
       "  </thead>\n",
       "  <tbody>\n",
       "    <tr>\n",
       "      <th>0</th>\n",
       "      <td>1</td>\n",
       "      <td>-8437.673028</td>\n",
       "      <td>42</td>\n",
       "      <td>высшее</td>\n",
       "      <td>0</td>\n",
       "      <td>женат / замужем</td>\n",
       "      <td>0</td>\n",
       "      <td>F</td>\n",
       "      <td>сотрудник</td>\n",
       "      <td>0</td>\n",
       "      <td>253875.639453</td>\n",
       "      <td>покупка жилья</td>\n",
       "    </tr>\n",
       "    <tr>\n",
       "      <th>1</th>\n",
       "      <td>1</td>\n",
       "      <td>-4024.803754</td>\n",
       "      <td>36</td>\n",
       "      <td>среднее</td>\n",
       "      <td>1</td>\n",
       "      <td>женат / замужем</td>\n",
       "      <td>0</td>\n",
       "      <td>F</td>\n",
       "      <td>сотрудник</td>\n",
       "      <td>0</td>\n",
       "      <td>112080.014102</td>\n",
       "      <td>приобретение автомобиля</td>\n",
       "    </tr>\n",
       "    <tr>\n",
       "      <th>2</th>\n",
       "      <td>0</td>\n",
       "      <td>-5623.422610</td>\n",
       "      <td>33</td>\n",
       "      <td>Среднее</td>\n",
       "      <td>1</td>\n",
       "      <td>женат / замужем</td>\n",
       "      <td>0</td>\n",
       "      <td>M</td>\n",
       "      <td>сотрудник</td>\n",
       "      <td>0</td>\n",
       "      <td>145885.952297</td>\n",
       "      <td>покупка жилья</td>\n",
       "    </tr>\n",
       "    <tr>\n",
       "      <th>3</th>\n",
       "      <td>3</td>\n",
       "      <td>-4124.747207</td>\n",
       "      <td>32</td>\n",
       "      <td>среднее</td>\n",
       "      <td>1</td>\n",
       "      <td>женат / замужем</td>\n",
       "      <td>0</td>\n",
       "      <td>M</td>\n",
       "      <td>сотрудник</td>\n",
       "      <td>0</td>\n",
       "      <td>267628.550329</td>\n",
       "      <td>дополнительное образование</td>\n",
       "    </tr>\n",
       "    <tr>\n",
       "      <th>4</th>\n",
       "      <td>0</td>\n",
       "      <td>340266.072047</td>\n",
       "      <td>53</td>\n",
       "      <td>среднее</td>\n",
       "      <td>1</td>\n",
       "      <td>гражданский брак</td>\n",
       "      <td>1</td>\n",
       "      <td>F</td>\n",
       "      <td>пенсионер</td>\n",
       "      <td>0</td>\n",
       "      <td>158616.077870</td>\n",
       "      <td>сыграть свадьбу</td>\n",
       "    </tr>\n",
       "    <tr>\n",
       "      <th>5</th>\n",
       "      <td>0</td>\n",
       "      <td>-926.185831</td>\n",
       "      <td>27</td>\n",
       "      <td>высшее</td>\n",
       "      <td>0</td>\n",
       "      <td>гражданский брак</td>\n",
       "      <td>1</td>\n",
       "      <td>M</td>\n",
       "      <td>компаньон</td>\n",
       "      <td>0</td>\n",
       "      <td>255763.565419</td>\n",
       "      <td>покупка жилья</td>\n",
       "    </tr>\n",
       "    <tr>\n",
       "      <th>6</th>\n",
       "      <td>0</td>\n",
       "      <td>-2879.202052</td>\n",
       "      <td>43</td>\n",
       "      <td>высшее</td>\n",
       "      <td>0</td>\n",
       "      <td>женат / замужем</td>\n",
       "      <td>0</td>\n",
       "      <td>F</td>\n",
       "      <td>компаньон</td>\n",
       "      <td>0</td>\n",
       "      <td>240525.971920</td>\n",
       "      <td>операции с жильем</td>\n",
       "    </tr>\n",
       "    <tr>\n",
       "      <th>7</th>\n",
       "      <td>0</td>\n",
       "      <td>-152.779569</td>\n",
       "      <td>50</td>\n",
       "      <td>СРЕДНЕЕ</td>\n",
       "      <td>1</td>\n",
       "      <td>женат / замужем</td>\n",
       "      <td>0</td>\n",
       "      <td>M</td>\n",
       "      <td>сотрудник</td>\n",
       "      <td>0</td>\n",
       "      <td>135823.934197</td>\n",
       "      <td>образование</td>\n",
       "    </tr>\n",
       "    <tr>\n",
       "      <th>8</th>\n",
       "      <td>2</td>\n",
       "      <td>-6929.865299</td>\n",
       "      <td>35</td>\n",
       "      <td>ВЫСШЕЕ</td>\n",
       "      <td>0</td>\n",
       "      <td>гражданский брак</td>\n",
       "      <td>1</td>\n",
       "      <td>F</td>\n",
       "      <td>сотрудник</td>\n",
       "      <td>0</td>\n",
       "      <td>95856.832424</td>\n",
       "      <td>на проведение свадьбы</td>\n",
       "    </tr>\n",
       "    <tr>\n",
       "      <th>9</th>\n",
       "      <td>0</td>\n",
       "      <td>-2188.756445</td>\n",
       "      <td>41</td>\n",
       "      <td>среднее</td>\n",
       "      <td>1</td>\n",
       "      <td>женат / замужем</td>\n",
       "      <td>0</td>\n",
       "      <td>M</td>\n",
       "      <td>сотрудник</td>\n",
       "      <td>0</td>\n",
       "      <td>144425.938277</td>\n",
       "      <td>покупка жилья для семьи</td>\n",
       "    </tr>\n",
       "    <tr>\n",
       "      <th>10</th>\n",
       "      <td>2</td>\n",
       "      <td>-4171.483647</td>\n",
       "      <td>36</td>\n",
       "      <td>высшее</td>\n",
       "      <td>0</td>\n",
       "      <td>женат / замужем</td>\n",
       "      <td>0</td>\n",
       "      <td>M</td>\n",
       "      <td>компаньон</td>\n",
       "      <td>0</td>\n",
       "      <td>113943.491460</td>\n",
       "      <td>покупка недвижимости</td>\n",
       "    </tr>\n",
       "    <tr>\n",
       "      <th>11</th>\n",
       "      <td>0</td>\n",
       "      <td>-792.701887</td>\n",
       "      <td>40</td>\n",
       "      <td>среднее</td>\n",
       "      <td>1</td>\n",
       "      <td>женат / замужем</td>\n",
       "      <td>0</td>\n",
       "      <td>F</td>\n",
       "      <td>сотрудник</td>\n",
       "      <td>0</td>\n",
       "      <td>77069.234271</td>\n",
       "      <td>покупка коммерческой недвижимости</td>\n",
       "    </tr>\n",
       "    <tr>\n",
       "      <th>12</th>\n",
       "      <td>0</td>\n",
       "      <td>NaN</td>\n",
       "      <td>65</td>\n",
       "      <td>среднее</td>\n",
       "      <td>1</td>\n",
       "      <td>гражданский брак</td>\n",
       "      <td>1</td>\n",
       "      <td>M</td>\n",
       "      <td>пенсионер</td>\n",
       "      <td>0</td>\n",
       "      <td>NaN</td>\n",
       "      <td>сыграть свадьбу</td>\n",
       "    </tr>\n",
       "    <tr>\n",
       "      <th>13</th>\n",
       "      <td>0</td>\n",
       "      <td>-1846.641941</td>\n",
       "      <td>54</td>\n",
       "      <td>неоконченное высшее</td>\n",
       "      <td>2</td>\n",
       "      <td>женат / замужем</td>\n",
       "      <td>0</td>\n",
       "      <td>F</td>\n",
       "      <td>сотрудник</td>\n",
       "      <td>0</td>\n",
       "      <td>130458.228857</td>\n",
       "      <td>приобретение автомобиля</td>\n",
       "    </tr>\n",
       "    <tr>\n",
       "      <th>14</th>\n",
       "      <td>0</td>\n",
       "      <td>-1844.956182</td>\n",
       "      <td>56</td>\n",
       "      <td>высшее</td>\n",
       "      <td>0</td>\n",
       "      <td>гражданский брак</td>\n",
       "      <td>1</td>\n",
       "      <td>F</td>\n",
       "      <td>компаньон</td>\n",
       "      <td>1</td>\n",
       "      <td>165127.911772</td>\n",
       "      <td>покупка жилой недвижимости</td>\n",
       "    </tr>\n",
       "    <tr>\n",
       "      <th>15</th>\n",
       "      <td>1</td>\n",
       "      <td>-972.364419</td>\n",
       "      <td>26</td>\n",
       "      <td>среднее</td>\n",
       "      <td>1</td>\n",
       "      <td>женат / замужем</td>\n",
       "      <td>0</td>\n",
       "      <td>F</td>\n",
       "      <td>сотрудник</td>\n",
       "      <td>0</td>\n",
       "      <td>116820.904450</td>\n",
       "      <td>строительство собственной недвижимости</td>\n",
       "    </tr>\n",
       "    <tr>\n",
       "      <th>16</th>\n",
       "      <td>0</td>\n",
       "      <td>-1719.934226</td>\n",
       "      <td>35</td>\n",
       "      <td>среднее</td>\n",
       "      <td>1</td>\n",
       "      <td>женат / замужем</td>\n",
       "      <td>0</td>\n",
       "      <td>F</td>\n",
       "      <td>сотрудник</td>\n",
       "      <td>0</td>\n",
       "      <td>289202.704229</td>\n",
       "      <td>недвижимость</td>\n",
       "    </tr>\n",
       "    <tr>\n",
       "      <th>17</th>\n",
       "      <td>0</td>\n",
       "      <td>-2369.999720</td>\n",
       "      <td>33</td>\n",
       "      <td>высшее</td>\n",
       "      <td>0</td>\n",
       "      <td>гражданский брак</td>\n",
       "      <td>1</td>\n",
       "      <td>M</td>\n",
       "      <td>сотрудник</td>\n",
       "      <td>0</td>\n",
       "      <td>90410.586745</td>\n",
       "      <td>строительство недвижимости</td>\n",
       "    </tr>\n",
       "    <tr>\n",
       "      <th>18</th>\n",
       "      <td>0</td>\n",
       "      <td>400281.136913</td>\n",
       "      <td>53</td>\n",
       "      <td>среднее</td>\n",
       "      <td>1</td>\n",
       "      <td>вдовец / вдова</td>\n",
       "      <td>2</td>\n",
       "      <td>F</td>\n",
       "      <td>пенсионер</td>\n",
       "      <td>0</td>\n",
       "      <td>56823.777243</td>\n",
       "      <td>на покупку подержанного автомобиля</td>\n",
       "    </tr>\n",
       "    <tr>\n",
       "      <th>19</th>\n",
       "      <td>0</td>\n",
       "      <td>-10038.818549</td>\n",
       "      <td>48</td>\n",
       "      <td>СРЕДНЕЕ</td>\n",
       "      <td>1</td>\n",
       "      <td>в разводе</td>\n",
       "      <td>3</td>\n",
       "      <td>F</td>\n",
       "      <td>сотрудник</td>\n",
       "      <td>0</td>\n",
       "      <td>242831.107982</td>\n",
       "      <td>на покупку своего автомобиля</td>\n",
       "    </tr>\n",
       "  </tbody>\n",
       "</table>\n",
       "</div>"
      ],
      "text/plain": [
       "    children  days_employed  dob_years            education  education_id  \\\n",
       "0          1   -8437.673028         42               высшее             0   \n",
       "1          1   -4024.803754         36              среднее             1   \n",
       "2          0   -5623.422610         33              Среднее             1   \n",
       "3          3   -4124.747207         32              среднее             1   \n",
       "4          0  340266.072047         53              среднее             1   \n",
       "5          0    -926.185831         27               высшее             0   \n",
       "6          0   -2879.202052         43               высшее             0   \n",
       "7          0    -152.779569         50              СРЕДНЕЕ             1   \n",
       "8          2   -6929.865299         35               ВЫСШЕЕ             0   \n",
       "9          0   -2188.756445         41              среднее             1   \n",
       "10         2   -4171.483647         36               высшее             0   \n",
       "11         0    -792.701887         40              среднее             1   \n",
       "12         0            NaN         65              среднее             1   \n",
       "13         0   -1846.641941         54  неоконченное высшее             2   \n",
       "14         0   -1844.956182         56               высшее             0   \n",
       "15         1    -972.364419         26              среднее             1   \n",
       "16         0   -1719.934226         35              среднее             1   \n",
       "17         0   -2369.999720         33               высшее             0   \n",
       "18         0  400281.136913         53              среднее             1   \n",
       "19         0  -10038.818549         48              СРЕДНЕЕ             1   \n",
       "\n",
       "       family_status  family_status_id gender income_type  debt  \\\n",
       "0    женат / замужем                 0      F   сотрудник     0   \n",
       "1    женат / замужем                 0      F   сотрудник     0   \n",
       "2    женат / замужем                 0      M   сотрудник     0   \n",
       "3    женат / замужем                 0      M   сотрудник     0   \n",
       "4   гражданский брак                 1      F   пенсионер     0   \n",
       "5   гражданский брак                 1      M   компаньон     0   \n",
       "6    женат / замужем                 0      F   компаньон     0   \n",
       "7    женат / замужем                 0      M   сотрудник     0   \n",
       "8   гражданский брак                 1      F   сотрудник     0   \n",
       "9    женат / замужем                 0      M   сотрудник     0   \n",
       "10   женат / замужем                 0      M   компаньон     0   \n",
       "11   женат / замужем                 0      F   сотрудник     0   \n",
       "12  гражданский брак                 1      M   пенсионер     0   \n",
       "13   женат / замужем                 0      F   сотрудник     0   \n",
       "14  гражданский брак                 1      F   компаньон     1   \n",
       "15   женат / замужем                 0      F   сотрудник     0   \n",
       "16   женат / замужем                 0      F   сотрудник     0   \n",
       "17  гражданский брак                 1      M   сотрудник     0   \n",
       "18    вдовец / вдова                 2      F   пенсионер     0   \n",
       "19         в разводе                 3      F   сотрудник     0   \n",
       "\n",
       "     total_income                                 purpose  \n",
       "0   253875.639453                           покупка жилья  \n",
       "1   112080.014102                 приобретение автомобиля  \n",
       "2   145885.952297                           покупка жилья  \n",
       "3   267628.550329              дополнительное образование  \n",
       "4   158616.077870                         сыграть свадьбу  \n",
       "5   255763.565419                           покупка жилья  \n",
       "6   240525.971920                       операции с жильем  \n",
       "7   135823.934197                             образование  \n",
       "8    95856.832424                   на проведение свадьбы  \n",
       "9   144425.938277                 покупка жилья для семьи  \n",
       "10  113943.491460                    покупка недвижимости  \n",
       "11   77069.234271       покупка коммерческой недвижимости  \n",
       "12            NaN                         сыграть свадьбу  \n",
       "13  130458.228857                 приобретение автомобиля  \n",
       "14  165127.911772              покупка жилой недвижимости  \n",
       "15  116820.904450  строительство собственной недвижимости  \n",
       "16  289202.704229                            недвижимость  \n",
       "17   90410.586745              строительство недвижимости  \n",
       "18   56823.777243      на покупку подержанного автомобиля  \n",
       "19  242831.107982            на покупку своего автомобиля  "
      ]
     },
     "execution_count": 6,
     "metadata": {},
     "output_type": "execute_result"
    }
   ],
   "source": [
    "data.head(20)"
   ]
  },
  {
   "cell_type": "markdown",
   "id": "d57527f2",
   "metadata": {
    "deletable": false,
    "editable": false,
    "id": "1c12e233"
   },
   "source": [
    "**Задание 3. Выведите основную информацию о датафрейме с помощью метода `info()`.**"
   ]
  },
  {
   "cell_type": "code",
   "execution_count": 7,
   "id": "5791f5c5",
   "metadata": {
    "deletable": false,
    "id": "2b757bca",
    "outputId": "15376089-8dad-46c9-b520-c05248d43158"
   },
   "outputs": [
    {
     "name": "stdout",
     "output_type": "stream",
     "text": [
      "<class 'pandas.core.frame.DataFrame'>\n",
      "RangeIndex: 21525 entries, 0 to 21524\n",
      "Data columns (total 12 columns):\n",
      " #   Column            Non-Null Count  Dtype  \n",
      "---  ------            --------------  -----  \n",
      " 0   children          21525 non-null  int64  \n",
      " 1   days_employed     19351 non-null  float64\n",
      " 2   dob_years         21525 non-null  int64  \n",
      " 3   education         21525 non-null  object \n",
      " 4   education_id      21525 non-null  int64  \n",
      " 5   family_status     21525 non-null  object \n",
      " 6   family_status_id  21525 non-null  int64  \n",
      " 7   gender            21525 non-null  object \n",
      " 8   income_type       21525 non-null  object \n",
      " 9   debt              21525 non-null  int64  \n",
      " 10  total_income      19351 non-null  float64\n",
      " 11  purpose           21525 non-null  object \n",
      "dtypes: float64(2), int64(5), object(5)\n",
      "memory usage: 2.0+ MB\n"
     ]
    }
   ],
   "source": [
    "data.info()"
   ]
  },
  {
   "cell_type": "markdown",
   "id": "a38ca020",
   "metadata": {
    "deletable": false,
    "editable": false,
    "id": "333ec665"
   },
   "source": [
    "## Предобработка данных"
   ]
  },
  {
   "cell_type": "markdown",
   "id": "1ac456a0",
   "metadata": {
    "deletable": false,
    "editable": false,
    "id": "02d92d53"
   },
   "source": [
    "### Удаление пропусков"
   ]
  },
  {
   "cell_type": "markdown",
   "id": "63a47141",
   "metadata": {
    "deletable": false,
    "editable": false,
    "id": "cd84967c"
   },
   "source": [
    "**Задание 4. Выведите количество пропущенных значений для каждого столбца. Используйте комбинацию двух методов.**"
   ]
  },
  {
   "cell_type": "code",
   "execution_count": 8,
   "id": "2441fb44",
   "metadata": {
    "deletable": false,
    "id": "7f9b2309",
    "outputId": "81f4d817-781c-465c-ed15-91ce4446810d"
   },
   "outputs": [
    {
     "data": {
      "text/plain": [
       "children               0\n",
       "days_employed       2174\n",
       "dob_years              0\n",
       "education              0\n",
       "education_id           0\n",
       "family_status          0\n",
       "family_status_id       0\n",
       "gender                 0\n",
       "income_type            0\n",
       "debt                   0\n",
       "total_income        2174\n",
       "purpose                0\n",
       "dtype: int64"
      ]
     },
     "execution_count": 8,
     "metadata": {},
     "output_type": "execute_result"
    }
   ],
   "source": [
    "data.isna().sum()"
   ]
  },
  {
   "cell_type": "markdown",
   "id": "cf34b951",
   "metadata": {
    "deletable": false,
    "editable": false,
    "id": "db86e27b"
   },
   "source": [
    "**Задание 5. В двух столбцах есть пропущенные значения. Один из них — `days_employed`. Пропуски в этом столбце вы обработаете на следующем этапе. Другой столбец с пропущенными значениями — `total_income` — хранит данные о доходах. На сумму дохода сильнее всего влияет тип занятости, поэтому заполнить пропуски в этом столбце нужно медианным значением по каждому типу из столбца `income_type`. Например, у человека с типом занятости `сотрудник` пропуск в столбце `total_income` должен быть заполнен медианным доходом среди всех записей с тем же типом.**"
   ]
  },
  {
   "cell_type": "code",
   "execution_count": 9,
   "id": "e3c1c57a",
   "metadata": {
    "deletable": false,
    "id": "42006a93"
   },
   "outputs": [],
   "source": [
    "for t in data['income_type'].unique():\n",
    "    data.loc[(data['income_type'] == t) & (data['total_income'].isna()), 'total_income'] = \\\n",
    "    data.loc[(data['income_type'] == t), 'total_income'].median()"
   ]
  },
  {
   "cell_type": "markdown",
   "id": "c17fb5e7",
   "metadata": {
    "deletable": false,
    "editable": false,
    "id": "89da5ece"
   },
   "source": [
    "### Обработка аномальных значений"
   ]
  },
  {
   "cell_type": "markdown",
   "id": "bc038a07",
   "metadata": {
    "deletable": false,
    "editable": false,
    "id": "57964554"
   },
   "source": [
    "**Задание 6. В данных могут встречаться артефакты (аномалии) — значения, которые не отражают действительность и появились по какой-то ошибке. таким артефактом будет отрицательное количество дней трудового стажа в столбце `days_employed`. Для реальных данных это нормально. Обработайте значения в этом столбце: замените все отрицательные значения положительными с помощью метода `abs()`.**"
   ]
  },
  {
   "cell_type": "code",
   "execution_count": 10,
   "id": "1853179b",
   "metadata": {
    "deletable": false,
    "id": "f6f055bf"
   },
   "outputs": [],
   "source": [
    "data['days_employed'] = data['days_employed'].abs()"
   ]
  },
  {
   "cell_type": "markdown",
   "id": "f2511c29",
   "metadata": {
    "deletable": false,
    "editable": false,
    "id": "6107dd2f"
   },
   "source": [
    "**Задание 7. Для каждого типа занятости выведите медианное значение трудового стажа `days_employed` в днях.**"
   ]
  },
  {
   "cell_type": "code",
   "execution_count": 11,
   "id": "2a36dc40",
   "metadata": {
    "deletable": false,
    "id": "85a5faf6",
    "outputId": "801ef80e-522b-4668-f34e-565af7432bcf"
   },
   "outputs": [
    {
     "data": {
      "text/plain": [
       "income_type\n",
       "безработный        366413.652744\n",
       "в декрете            3296.759962\n",
       "госслужащий          2689.368353\n",
       "компаньон            1547.382223\n",
       "пенсионер          365213.306266\n",
       "предприниматель       520.848083\n",
       "сотрудник            1574.202821\n",
       "студент               578.751554\n",
       "Name: days_employed, dtype: float64"
      ]
     },
     "execution_count": 11,
     "metadata": {},
     "output_type": "execute_result"
    }
   ],
   "source": [
    "data.groupby('income_type')['days_employed'].agg('median')"
   ]
  },
  {
   "cell_type": "markdown",
   "id": "30f37404",
   "metadata": {
    "deletable": false,
    "editable": false,
    "id": "38d1a030"
   },
   "source": [
    "У двух типов (безработные и пенсионеры) получатся аномально большие значения. Исправить такие значения сложно, поэтому оставьте их как есть. Тем более этот столбец не понадобится вам для исследования."
   ]
  },
  {
   "cell_type": "markdown",
   "id": "bd3140ce",
   "metadata": {
    "deletable": false,
    "editable": false,
    "id": "d8a9f147"
   },
   "source": [
    "**Задание 8. Выведите перечень уникальных значений столбца `children`.**"
   ]
  },
  {
   "cell_type": "code",
   "execution_count": 12,
   "id": "c323921d",
   "metadata": {
    "deletable": false,
    "id": "ef5056eb",
    "outputId": "6975b15c-7f95-4697-d16d-a0c79b657b03"
   },
   "outputs": [
    {
     "data": {
      "text/plain": [
       "array([ 1,  0,  3,  2, -1,  4, 20,  5])"
      ]
     },
     "execution_count": 12,
     "metadata": {},
     "output_type": "execute_result"
    }
   ],
   "source": [
    "data['children'].unique()"
   ]
  },
  {
   "cell_type": "markdown",
   "id": "6ccf81ab",
   "metadata": {
    "deletable": false,
    "editable": false,
    "id": "40b9ebf2"
   },
   "source": [
    "**Задание 9. В столбце `children` есть два аномальных значения. Удалите строки, в которых встречаются такие аномальные значения из датафрейма `data`.**"
   ]
  },
  {
   "cell_type": "code",
   "execution_count": 13,
   "id": "2c1e0c82",
   "metadata": {
    "deletable": false,
    "id": "3ff9801d"
   },
   "outputs": [],
   "source": [
    "data = data[(data['children'] != -1) & (data['children'] != 20)]"
   ]
  },
  {
   "cell_type": "markdown",
   "id": "8b4c38ba",
   "metadata": {
    "deletable": false,
    "editable": false,
    "id": "bbc4d0ce"
   },
   "source": [
    "**Задание 10. Ещё раз выведите перечень уникальных значений столбца `children`, чтобы убедиться, что артефакты удалены.**"
   ]
  },
  {
   "cell_type": "code",
   "execution_count": 14,
   "id": "f86f1c99",
   "metadata": {
    "deletable": false,
    "id": "ad4fa8b7",
    "outputId": "b2097101-d49d-44d9-901b-32a65c9463d1"
   },
   "outputs": [
    {
     "data": {
      "text/plain": [
       "array([1, 0, 3, 2, 4, 5])"
      ]
     },
     "execution_count": 14,
     "metadata": {},
     "output_type": "execute_result"
    }
   ],
   "source": [
    "data['children'].unique()"
   ]
  },
  {
   "cell_type": "markdown",
   "id": "d8bdf914",
   "metadata": {
    "deletable": false,
    "editable": false,
    "id": "75440b63"
   },
   "source": [
    "### Удаление пропусков (продолжение)"
   ]
  },
  {
   "cell_type": "markdown",
   "id": "e791237c",
   "metadata": {
    "deletable": false,
    "editable": false,
    "id": "f4ea573f"
   },
   "source": [
    "**Задание 11. Заполните пропуски в столбце `days_employed` медианными значениями по каждого типа занятости `income_type`.**"
   ]
  },
  {
   "cell_type": "code",
   "execution_count": 15,
   "id": "dc090410",
   "metadata": {
    "deletable": false,
    "id": "af6b1a7e"
   },
   "outputs": [],
   "source": [
    "for t in data['income_type'].unique():\n",
    "    data.loc[(data['income_type'] == t) & (data['days_employed'].isna()), 'days_employed'] = \\\n",
    "    data.loc[(data['income_type'] == t), 'days_employed'].median()"
   ]
  },
  {
   "cell_type": "markdown",
   "id": "3409189d",
   "metadata": {
    "deletable": false,
    "editable": false,
    "id": "2753f40d"
   },
   "source": [
    "**Задание 12. Убедитесь, что все пропуски заполнены. Проверьте себя и ещё раз выведите количество пропущенных значений для каждого столбца с помощью двух методов.**"
   ]
  },
  {
   "cell_type": "code",
   "execution_count": 16,
   "id": "2ecbc4ce",
   "metadata": {
    "deletable": false,
    "id": "55f78bc2",
    "outputId": "8da1e4e1-358e-4e87-98c9-f261bce0a7b2"
   },
   "outputs": [
    {
     "data": {
      "text/plain": [
       "children            0\n",
       "days_employed       0\n",
       "dob_years           0\n",
       "education           0\n",
       "education_id        0\n",
       "family_status       0\n",
       "family_status_id    0\n",
       "gender              0\n",
       "income_type         0\n",
       "debt                0\n",
       "total_income        0\n",
       "purpose             0\n",
       "dtype: int64"
      ]
     },
     "execution_count": 16,
     "metadata": {},
     "output_type": "execute_result"
    }
   ],
   "source": [
    "data.isna().sum()"
   ]
  },
  {
   "cell_type": "markdown",
   "id": "0f85c676",
   "metadata": {
    "deletable": false,
    "editable": false,
    "id": "ddc81e43"
   },
   "source": [
    "### Изменение типов данных"
   ]
  },
  {
   "cell_type": "markdown",
   "id": "ca962240",
   "metadata": {
    "deletable": false,
    "editable": false,
    "id": "42d19d24"
   },
   "source": [
    "**Задание 13. Замените вещественный тип данных в столбце `total_income` на целочисленный с помощью метода `astype()`.**"
   ]
  },
  {
   "cell_type": "code",
   "execution_count": 17,
   "id": "4407646e",
   "metadata": {
    "deletable": false,
    "id": "920b65ad"
   },
   "outputs": [],
   "source": [
    "data['total_income'] = data['total_income'].astype(int)"
   ]
  },
  {
   "cell_type": "markdown",
   "id": "4fe688eb",
   "metadata": {
    "deletable": false,
    "editable": false,
    "id": "80c420ba"
   },
   "source": [
    "### Обработка дубликатов"
   ]
  },
  {
   "cell_type": "markdown",
   "id": "79ffcc03",
   "metadata": {
    "deletable": false,
    "editable": false
   },
   "source": [
    "**Задание 14. Обработайте неявные дубликаты в столбце `education`. В этом столбце есть одни и те же значения, но записанные по-разному: с использованием заглавных и строчных букв. Приведите их к нижнему регистру. Проверьте остальные столбцы.**"
   ]
  },
  {
   "cell_type": "code",
   "execution_count": 18,
   "id": "d6e7c579",
   "metadata": {
    "deletable": false
   },
   "outputs": [],
   "source": [
    "data['education'] = data['education'].str.lower()"
   ]
  },
  {
   "cell_type": "markdown",
   "id": "09c1cf4e",
   "metadata": {
    "deletable": false,
    "editable": false,
    "id": "dc587695"
   },
   "source": [
    "**Задание 15. Выведите на экран количество строк-дубликатов в данных. Если такие строки присутствуют, удалите их.**"
   ]
  },
  {
   "cell_type": "code",
   "execution_count": 19,
   "id": "c6b47a8f",
   "metadata": {
    "deletable": false,
    "id": "3ee445e4",
    "outputId": "9684deba-1934-42d1-99e1-cda61740f822"
   },
   "outputs": [
    {
     "data": {
      "text/plain": [
       "71"
      ]
     },
     "execution_count": 19,
     "metadata": {},
     "output_type": "execute_result"
    }
   ],
   "source": [
    "data.duplicated().sum()"
   ]
  },
  {
   "cell_type": "code",
   "execution_count": 20,
   "id": "66dca30f",
   "metadata": {
    "deletable": false,
    "id": "8575fe05"
   },
   "outputs": [],
   "source": [
    "data = data.drop_duplicates()"
   ]
  },
  {
   "cell_type": "markdown",
   "id": "ae73002b",
   "metadata": {
    "deletable": false,
    "editable": false,
    "id": "9904cf55"
   },
   "source": [
    "### Категоризация данных"
   ]
  },
  {
   "cell_type": "markdown",
   "id": "c16f27ed",
   "metadata": {
    "deletable": false,
    "editable": false,
    "id": "72fcc8a2"
   },
   "source": [
    "**Задание 16. На основании диапазонов, указанных ниже, создайте в датафрейме `data` столбец `total_income_category` с категориями:**\n",
    "\n",
    "- 0–30000 — `'E'`;\n",
    "- 30001–50000 — `'D'`;\n",
    "- 50001–200000 — `'C'`;\n",
    "- 200001–1000000 — `'B'`;\n",
    "- 1000001 и выше — `'A'`.\n",
    "\n",
    "\n",
    "**Например, кредитополучателю с доходом 25000 нужно назначить категорию `'E'`, а клиенту, получающему 235000, — `'B'`. Используйте собственную функцию с именем `categorize_income()` и метод `apply()`.**"
   ]
  },
  {
   "cell_type": "code",
   "execution_count": 21,
   "id": "59419dec",
   "metadata": {
    "deletable": false,
    "id": "e1771346"
   },
   "outputs": [],
   "source": [
    "def categorize_income(income):\n",
    "    try:\n",
    "        if 0 <= income <= 30000:\n",
    "            return 'E'\n",
    "        elif 30001 <= income <= 50000:\n",
    "            return 'D'\n",
    "        elif 50001 <= income <= 200000:\n",
    "            return 'C'\n",
    "        elif 200001 <= income <= 1000000:\n",
    "            return 'B'\n",
    "        elif income >= 1000001:\n",
    "            return 'A'\n",
    "    except:\n",
    "        pass"
   ]
  },
  {
   "cell_type": "code",
   "execution_count": 22,
   "id": "02582a0e",
   "metadata": {
    "deletable": false,
    "id": "d5f3586d"
   },
   "outputs": [],
   "source": [
    "data['total_income_category'] = data['total_income'].apply(categorize_income)"
   ]
  },
  {
   "cell_type": "markdown",
   "id": "cd0bcc8f",
   "metadata": {
    "deletable": false,
    "editable": false,
    "id": "dde49b5c"
   },
   "source": [
    "**Задание 17. Выведите на экран перечень уникальных целей взятия кредита из столбца `purpose`.**"
   ]
  },
  {
   "cell_type": "code",
   "execution_count": 23,
   "id": "ee7be477",
   "metadata": {
    "deletable": false,
    "id": "f67ce9b3",
    "outputId": "673c12d9-7d7e-4ae0-9812-c622c89dd244"
   },
   "outputs": [
    {
     "data": {
      "text/plain": [
       "array(['покупка жилья', 'приобретение автомобиля',\n",
       "       'дополнительное образование', 'сыграть свадьбу',\n",
       "       'операции с жильем', 'образование', 'на проведение свадьбы',\n",
       "       'покупка жилья для семьи', 'покупка недвижимости',\n",
       "       'покупка коммерческой недвижимости', 'покупка жилой недвижимости',\n",
       "       'строительство собственной недвижимости', 'недвижимость',\n",
       "       'строительство недвижимости', 'на покупку подержанного автомобиля',\n",
       "       'на покупку своего автомобиля',\n",
       "       'операции с коммерческой недвижимостью',\n",
       "       'строительство жилой недвижимости', 'жилье',\n",
       "       'операции со своей недвижимостью', 'автомобили',\n",
       "       'заняться образованием', 'сделка с подержанным автомобилем',\n",
       "       'получение образования', 'автомобиль', 'свадьба',\n",
       "       'получение дополнительного образования', 'покупка своего жилья',\n",
       "       'операции с недвижимостью', 'получение высшего образования',\n",
       "       'свой автомобиль', 'сделка с автомобилем',\n",
       "       'профильное образование', 'высшее образование',\n",
       "       'покупка жилья для сдачи', 'на покупку автомобиля', 'ремонт жилью',\n",
       "       'заняться высшим образованием'], dtype=object)"
      ]
     },
     "execution_count": 23,
     "metadata": {},
     "output_type": "execute_result"
    }
   ],
   "source": [
    "data['purpose'].unique()"
   ]
  },
  {
   "cell_type": "markdown",
   "id": "75d41e68",
   "metadata": {
    "deletable": false,
    "editable": false,
    "id": "85d0aef0"
   },
   "source": [
    "**Задание 18. Создайте функцию, которая на основании данных из столбца `purpose` сформирует новый столбец `purpose_category`, в который войдут следующие категории:**\n",
    "\n",
    "- `'операции с автомобилем'`,\n",
    "- `'операции с недвижимостью'`,\n",
    "- `'проведение свадьбы'`,\n",
    "- `'получение образования'`.\n",
    "\n",
    "**Например, если в столбце `purpose` находится подстрока `'на покупку автомобиля'`, то в столбце `purpose_category` должна появиться строка `'операции с автомобилем'`.**\n",
    "\n",
    "**Используйте собственную функцию с именем `categorize_purpose()` и метод `apply()`. Изучите данные в столбце `purpose` и определите, какие подстроки помогут вам правильно определить категорию.**"
   ]
  },
  {
   "cell_type": "code",
   "execution_count": 24,
   "id": "29bea852",
   "metadata": {
    "deletable": false,
    "id": "e149fab4"
   },
   "outputs": [],
   "source": [
    "def categorize_purpose(row):\n",
    "    try:\n",
    "        if 'автом' in row:\n",
    "            return 'операции с автомобилем'\n",
    "        elif 'жил' in row or 'недвиж' in row:\n",
    "            return 'операции с недвижимостью'\n",
    "        elif 'свад' in row:\n",
    "            return 'проведение свадьбы'\n",
    "        elif 'образов' in row:\n",
    "            return 'получение образования'\n",
    "    except:\n",
    "        return 'нет категории'"
   ]
  },
  {
   "cell_type": "code",
   "execution_count": 25,
   "id": "77b97307",
   "metadata": {
    "deletable": false,
    "id": "bf36e69b"
   },
   "outputs": [],
   "source": [
    "data['purpose_category'] = data['purpose'].apply(categorize_purpose)"
   ]
  },
  {
   "cell_type": "markdown",
   "id": "b118bd8d",
   "metadata": {
    "deletable": false,
    "editable": false,
    "id": "09b242bf"
   },
   "source": [
    "### Шаг 3. Исследуйте данные и ответьте на вопросы"
   ]
  },
  {
   "cell_type": "markdown",
   "id": "724b6a37",
   "metadata": {
    "deletable": false,
    "editable": false,
    "id": "c5d66278"
   },
   "source": [
    "#### 3.1 Есть ли зависимость между количеством детей и возвратом кредита в срок?"
   ]
  },
  {
   "cell_type": "code",
   "execution_count": 26,
   "id": "362bf3b8",
   "metadata": {
    "deletable": false,
    "id": "2cacfc4a"
   },
   "outputs": [
    {
     "data": {
      "text/html": [
       "<div>\n",
       "<style scoped>\n",
       "    .dataframe tbody tr th:only-of-type {\n",
       "        vertical-align: middle;\n",
       "    }\n",
       "\n",
       "    .dataframe tbody tr th {\n",
       "        vertical-align: top;\n",
       "    }\n",
       "\n",
       "    .dataframe thead th {\n",
       "        text-align: right;\n",
       "    }\n",
       "</style>\n",
       "<table border=\"1\" class=\"dataframe\">\n",
       "  <thead>\n",
       "    <tr style=\"text-align: right;\">\n",
       "      <th></th>\n",
       "      <th>total</th>\n",
       "      <th>target</th>\n",
       "      <th>variable</th>\n",
       "    </tr>\n",
       "    <tr>\n",
       "      <th>children</th>\n",
       "      <th></th>\n",
       "      <th></th>\n",
       "      <th></th>\n",
       "    </tr>\n",
       "  </thead>\n",
       "  <tbody>\n",
       "    <tr>\n",
       "      <th>5</th>\n",
       "      <td>9</td>\n",
       "      <td>0</td>\n",
       "      <td>0.0000</td>\n",
       "    </tr>\n",
       "    <tr>\n",
       "      <th>0</th>\n",
       "      <td>14091</td>\n",
       "      <td>1063</td>\n",
       "      <td>0.0754</td>\n",
       "    </tr>\n",
       "    <tr>\n",
       "      <th>3</th>\n",
       "      <td>330</td>\n",
       "      <td>27</td>\n",
       "      <td>0.0818</td>\n",
       "    </tr>\n",
       "    <tr>\n",
       "      <th>1</th>\n",
       "      <td>4808</td>\n",
       "      <td>444</td>\n",
       "      <td>0.0923</td>\n",
       "    </tr>\n",
       "    <tr>\n",
       "      <th>2</th>\n",
       "      <td>2052</td>\n",
       "      <td>194</td>\n",
       "      <td>0.0945</td>\n",
       "    </tr>\n",
       "    <tr>\n",
       "      <th>4</th>\n",
       "      <td>41</td>\n",
       "      <td>4</td>\n",
       "      <td>0.0976</td>\n",
       "    </tr>\n",
       "  </tbody>\n",
       "</table>\n",
       "</div>"
      ],
      "text/plain": [
       "          total  target  variable\n",
       "children                         \n",
       "5             9       0    0.0000\n",
       "0         14091    1063    0.0754\n",
       "3           330      27    0.0818\n",
       "1          4808     444    0.0923\n",
       "2          2052     194    0.0945\n",
       "4            41       4    0.0976"
      ]
     },
     "execution_count": 26,
     "metadata": {},
     "output_type": "execute_result"
    }
   ],
   "source": [
    "dependence = data.pivot_table(index = ['children'], values = 'debt', aggfunc = {'count', 'sum'}) #использую сводную таблицу для удобства работы\n",
    "dependence = dependence.rename(columns = {'count' : 'total', 'sum' : 'target'}) #переименую столбцы\n",
    "dependence['variable'] = round(dependence['target'] / dependence['total'], 4) #считаю долю\n",
    "dependence = dependence.sort_values(by='variable', ascending=True) #сортирую по значение 'variable'\n",
    "dependence\n"
   ]
  },
  {
   "cell_type": "markdown",
   "id": "a14d4908",
   "metadata": {
    "deletable": false,
    "id": "3a6b99ec"
   },
   "source": [
    "**Вывод:** \n",
    "Зависиость между количеством детей и возвратом кредита в срок имеется, но не полная. Чаще всего с выплатами задерживаются семьи с 4 детьми. А меньше всего задержек у людей, которые не имеют детей. Семьи в которых 1-2 ребенка имеют почти одинаковую  просрочку. Однако, семьи с 2 детьми практически подтверждают эту гепотезу"
   ]
  },
  {
   "cell_type": "markdown",
   "id": "46c3464d",
   "metadata": {
    "deletable": false,
    "editable": false,
    "id": "97be82ca"
   },
   "source": [
    "#### 3.2 Есть ли зависимость между семейным положением и возвратом кредита в срок?"
   ]
  },
  {
   "cell_type": "code",
   "execution_count": 27,
   "id": "aeb2d5c8",
   "metadata": {
    "deletable": false,
    "id": "dc3f7ee8"
   },
   "outputs": [
    {
     "data": {
      "text/html": [
       "<div>\n",
       "<style scoped>\n",
       "    .dataframe tbody tr th:only-of-type {\n",
       "        vertical-align: middle;\n",
       "    }\n",
       "\n",
       "    .dataframe tbody tr th {\n",
       "        vertical-align: top;\n",
       "    }\n",
       "\n",
       "    .dataframe thead th {\n",
       "        text-align: right;\n",
       "    }\n",
       "</style>\n",
       "<table border=\"1\" class=\"dataframe\">\n",
       "  <thead>\n",
       "    <tr style=\"text-align: right;\">\n",
       "      <th></th>\n",
       "      <th>total</th>\n",
       "      <th>target</th>\n",
       "      <th>variable</th>\n",
       "    </tr>\n",
       "    <tr>\n",
       "      <th>family_status</th>\n",
       "      <th></th>\n",
       "      <th></th>\n",
       "      <th></th>\n",
       "    </tr>\n",
       "  </thead>\n",
       "  <tbody>\n",
       "    <tr>\n",
       "      <th>вдовец / вдова</th>\n",
       "      <td>951</td>\n",
       "      <td>63</td>\n",
       "      <td>0.0662</td>\n",
       "    </tr>\n",
       "    <tr>\n",
       "      <th>в разводе</th>\n",
       "      <td>1189</td>\n",
       "      <td>84</td>\n",
       "      <td>0.0706</td>\n",
       "    </tr>\n",
       "    <tr>\n",
       "      <th>женат / замужем</th>\n",
       "      <td>12261</td>\n",
       "      <td>927</td>\n",
       "      <td>0.0756</td>\n",
       "    </tr>\n",
       "    <tr>\n",
       "      <th>гражданский брак</th>\n",
       "      <td>4134</td>\n",
       "      <td>385</td>\n",
       "      <td>0.0931</td>\n",
       "    </tr>\n",
       "    <tr>\n",
       "      <th>Не женат / не замужем</th>\n",
       "      <td>2796</td>\n",
       "      <td>273</td>\n",
       "      <td>0.0976</td>\n",
       "    </tr>\n",
       "  </tbody>\n",
       "</table>\n",
       "</div>"
      ],
      "text/plain": [
       "                       total  target  variable\n",
       "family_status                                 \n",
       "вдовец / вдова           951      63    0.0662\n",
       "в разводе               1189      84    0.0706\n",
       "женат / замужем        12261     927    0.0756\n",
       "гражданский брак        4134     385    0.0931\n",
       "Не женат / не замужем   2796     273    0.0976"
      ]
     },
     "execution_count": 27,
     "metadata": {},
     "output_type": "execute_result"
    }
   ],
   "source": [
    "dependence = data.pivot_table(index = ['family_status'], values = 'debt', aggfunc = {'count', 'sum'}) #использую сводную таблицу для удобства работы\n",
    "dependence = dependence.rename(columns = {'count' : 'total', 'sum' : 'target'}) #переименую столбцы\n",
    "dependence['variable'] = round(dependence['target'] / dependence['total'], 4) #считаю долю\n",
    "dependence = dependence.sort_values(by='variable', ascending=True) #сортирую по значение 'variable'\n",
    "dependence"
   ]
  },
  {
   "cell_type": "markdown",
   "id": "f34dd5c6",
   "metadata": {
    "deletable": false,
    "id": "1cef7837"
   },
   "source": [
    "**Вывод:** \n",
    "Возврат кредита в срок наблюдается у людей которые ранее состояли в браке. Для этого могут быть разные причины: появление свободных средств после развода, самостоятельное распределение денежных средств и др. Люди которые состоят в браке, возвращают деньги в срок, но не всегда. Воможно финансовые трудности или иные причины. Больше всего кредитов не возвращают пары состоящие в гражданском браке и не состоящие в браке вообще. Скорее всего эти люди тратят деньги на другие цели. В данной гепотезе есть зависимость."
   ]
  },
  {
   "cell_type": "markdown",
   "id": "b6624bcf",
   "metadata": {
    "deletable": false,
    "editable": false,
    "id": "1e8b2fca"
   },
   "source": [
    "#### 3.3 Есть ли зависимость между уровнем дохода и возвратом кредита в срок?"
   ]
  },
  {
   "cell_type": "code",
   "execution_count": 30,
   "id": "10764e51",
   "metadata": {
    "deletable": false,
    "id": "cd7e3720",
    "scrolled": true
   },
   "outputs": [
    {
     "data": {
      "text/html": [
       "<div>\n",
       "<style scoped>\n",
       "    .dataframe tbody tr th:only-of-type {\n",
       "        vertical-align: middle;\n",
       "    }\n",
       "\n",
       "    .dataframe tbody tr th {\n",
       "        vertical-align: top;\n",
       "    }\n",
       "\n",
       "    .dataframe thead th {\n",
       "        text-align: right;\n",
       "    }\n",
       "</style>\n",
       "<table border=\"1\" class=\"dataframe\">\n",
       "  <thead>\n",
       "    <tr style=\"text-align: right;\">\n",
       "      <th></th>\n",
       "      <th>total</th>\n",
       "      <th>target</th>\n",
       "      <th>variable</th>\n",
       "    </tr>\n",
       "    <tr>\n",
       "      <th>total_income_category</th>\n",
       "      <th></th>\n",
       "      <th></th>\n",
       "      <th></th>\n",
       "    </tr>\n",
       "  </thead>\n",
       "  <tbody>\n",
       "    <tr>\n",
       "      <th>D</th>\n",
       "      <td>349</td>\n",
       "      <td>21</td>\n",
       "      <td>0.0602</td>\n",
       "    </tr>\n",
       "    <tr>\n",
       "      <th>B</th>\n",
       "      <td>5014</td>\n",
       "      <td>354</td>\n",
       "      <td>0.0706</td>\n",
       "    </tr>\n",
       "    <tr>\n",
       "      <th>A</th>\n",
       "      <td>25</td>\n",
       "      <td>2</td>\n",
       "      <td>0.0800</td>\n",
       "    </tr>\n",
       "    <tr>\n",
       "      <th>C</th>\n",
       "      <td>15921</td>\n",
       "      <td>1353</td>\n",
       "      <td>0.0850</td>\n",
       "    </tr>\n",
       "    <tr>\n",
       "      <th>E</th>\n",
       "      <td>22</td>\n",
       "      <td>2</td>\n",
       "      <td>0.0909</td>\n",
       "    </tr>\n",
       "  </tbody>\n",
       "</table>\n",
       "</div>"
      ],
      "text/plain": [
       "                       total  target  variable\n",
       "total_income_category                         \n",
       "D                        349      21    0.0602\n",
       "B                       5014     354    0.0706\n",
       "A                         25       2    0.0800\n",
       "C                      15921    1353    0.0850\n",
       "E                         22       2    0.0909"
      ]
     },
     "execution_count": 30,
     "metadata": {},
     "output_type": "execute_result"
    }
   ],
   "source": [
    "dependence = data.pivot_table(index = ['total_income_category'], values = 'debt', aggfunc = {'count', 'sum'}) #использую сводную таблицу для удобства работы\n",
    "dependence = dependence.rename(columns = {'count' : 'total', 'sum' : 'target'}) #переименую столбцы\n",
    "dependence['variable'] = round(dependence['target'] / dependence['total'], 4) #считаю долю\n",
    "dependence = dependence.sort_values(by='variable', ascending=True) #сортирую по значение 'variable'\n",
    "dependence\n"
   ]
  },
  {
   "cell_type": "markdown",
   "id": "9e45ad86",
   "metadata": {
    "deletable": false,
    "id": "e8593def"
   },
   "source": [
    "**Вывод:**\n",
    "Люди с доходом от 30000 до 50000 с самой большой вероятностью вернут кредит в срок. Потому что доход не высокий и они могут боятся переплачивать проценты, далее идут люди с доходом от 500 до 1 млн. Это происходит потому что у них в достатке имеются свободные средства. Затем люди с доходом более 1 млн. Странно что люди с самым высоким доходом имеют среднюю вероятность аернуть кредит. Люди с доходом от 50 до 200 имеют высокую вероятность, относительно остальных, не вернуть кредит. Но и берут они кредиты чаще других категорий, следующая группа с доходом от 200 до 1 млн. Скорее всего, это объясняется тем, что это основная масса людей, которые имею семьи и у которых это не единственный кредит или они занимаются предпренимательством. И в заключении, люди, с доходом до 30000 имеют наивысшую вероятность не вернуть кредит. В этом случае корреляция очевидна. "
   ]
  },
  {
   "cell_type": "markdown",
   "id": "0acb5556",
   "metadata": {
    "deletable": false,
    "editable": false,
    "id": "99ecbd1f"
   },
   "source": [
    "#### 3.4 Как разные цели кредита влияют на его возврат в срок?"
   ]
  },
  {
   "cell_type": "code",
   "execution_count": 31,
   "id": "52122b31",
   "metadata": {
    "deletable": false,
    "id": "2b687290"
   },
   "outputs": [
    {
     "data": {
      "text/html": [
       "<div>\n",
       "<style scoped>\n",
       "    .dataframe tbody tr th:only-of-type {\n",
       "        vertical-align: middle;\n",
       "    }\n",
       "\n",
       "    .dataframe tbody tr th {\n",
       "        vertical-align: top;\n",
       "    }\n",
       "\n",
       "    .dataframe thead th {\n",
       "        text-align: right;\n",
       "    }\n",
       "</style>\n",
       "<table border=\"1\" class=\"dataframe\">\n",
       "  <thead>\n",
       "    <tr style=\"text-align: right;\">\n",
       "      <th></th>\n",
       "      <th>total</th>\n",
       "      <th>target</th>\n",
       "      <th>variable</th>\n",
       "    </tr>\n",
       "    <tr>\n",
       "      <th>purpose_category</th>\n",
       "      <th></th>\n",
       "      <th></th>\n",
       "      <th></th>\n",
       "    </tr>\n",
       "  </thead>\n",
       "  <tbody>\n",
       "    <tr>\n",
       "      <th>операции с недвижимостью</th>\n",
       "      <td>10751</td>\n",
       "      <td>780</td>\n",
       "      <td>0.0726</td>\n",
       "    </tr>\n",
       "    <tr>\n",
       "      <th>проведение свадьбы</th>\n",
       "      <td>2313</td>\n",
       "      <td>183</td>\n",
       "      <td>0.0791</td>\n",
       "    </tr>\n",
       "    <tr>\n",
       "      <th>получение образования</th>\n",
       "      <td>3988</td>\n",
       "      <td>369</td>\n",
       "      <td>0.0925</td>\n",
       "    </tr>\n",
       "    <tr>\n",
       "      <th>операции с автомобилем</th>\n",
       "      <td>4279</td>\n",
       "      <td>400</td>\n",
       "      <td>0.0935</td>\n",
       "    </tr>\n",
       "  </tbody>\n",
       "</table>\n",
       "</div>"
      ],
      "text/plain": [
       "                          total  target  variable\n",
       "purpose_category                                 \n",
       "операции с недвижимостью  10751     780    0.0726\n",
       "проведение свадьбы         2313     183    0.0791\n",
       "получение образования      3988     369    0.0925\n",
       "операции с автомобилем     4279     400    0.0935"
      ]
     },
     "execution_count": 31,
     "metadata": {},
     "output_type": "execute_result"
    }
   ],
   "source": [
    "dependence = data.pivot_table(index = ['purpose_category'], values = 'debt', aggfunc = {'count', 'sum'}) #использую сводную таблицу для удобства работы\n",
    "dependence = dependence.rename(columns = {'count' : 'total', 'sum' : 'target'}) #переименую столбцы\n",
    "dependence['variable'] = round(dependence['target'] / dependence['total'], 4) #считаю долю\n",
    "dependence = dependence.sort_values(by='variable', ascending=True) #сортирую по значение 'variable'\n",
    "dependence"
   ]
  },
  {
   "cell_type": "markdown",
   "id": "652acae8",
   "metadata": {
    "deletable": false,
    "id": "b4bb2ce6"
   },
   "source": [
    "**Вывод:** \n",
    "Покупка собственного жилья и свадьба имеют больший шанс возврата. Относительно получения образования и покупки автомобиля. Возможно люди тратят все свободное время на учебу или после покупки машина может потребовать дополнительных вложений."
   ]
  },
  {
   "cell_type": "markdown",
   "id": "650a922f",
   "metadata": {
    "deletable": false,
    "editable": false,
    "id": "09c3ac4c"
   },
   "source": [
    "#### 3.5 Приведите возможные причины появления пропусков в исходных данных."
   ]
  },
  {
   "cell_type": "markdown",
   "id": "f17b983d",
   "metadata": {
    "deletable": false,
    "id": "9da2ceda"
   },
   "source": [
    "*Ответ:* \n",
    "Пропуски были в 2 столбцах. Скорее всего это человеческий фактор, возможно кто то не захотел отвечать. Так же ошибка может следовать из-за технического сбоя или неправильным запросом к бд. Интересно, что количество пропусков одинаковое. Можно предположить, что заплонение одного столбца влияет на другое."
   ]
  },
  {
   "cell_type": "markdown",
   "id": "f830ff74",
   "metadata": {
    "deletable": false,
    "editable": false,
    "id": "7b0487d6"
   },
   "source": [
    "#### 3.6 Объясните, почему заполнить пропуски медианным значением — лучшее решение для количественных переменных."
   ]
  },
  {
   "cell_type": "markdown",
   "id": "662d7dcf",
   "metadata": {
    "deletable": false,
    "id": "7ecf2b8e"
   },
   "source": [
    "*Ответ:* \n",
    "Медианное значение является лучшим решением, относительно среднего арифметического. Потому что 2 метод не может учесть разброс некоторых значений."
   ]
  },
  {
   "cell_type": "markdown",
   "id": "6c720a41",
   "metadata": {
    "deletable": false,
    "editable": false,
    "id": "6db5255a"
   },
   "source": [
    "### Шаг 4: общий вывод."
   ]
  },
  {
   "cell_type": "markdown",
   "id": "ff4fda85",
   "metadata": {
    "deletable": false,
    "id": "bad65432"
   },
   "source": [
    "Напишите ваш общий вывод.\n",
    "Таким образом, вероятность невернуть кредит возрастает если человек: не женат, у него есть дети, имеет низкую зарплату и цель кредита скорее всего потребительская. Из таблиц представленных вше можно собирать портреты людей, которые скорее всего не вернут кредит или напротив с большой вероятностью вернут его в скрок. Проделанная работа имеет пользу для банков и в будущем поможет отсечь безответсвенных кредиторов."
   ]
  }
 ],
 "metadata": {
  "ExecuteTimeLog": [
   {
    "duration": 67,
    "start_time": "2023-01-18T17:47:32.608Z"
   },
   {
    "duration": 799,
    "start_time": "2023-01-18T17:47:42.664Z"
   },
   {
    "duration": 27,
    "start_time": "2023-01-18T17:47:47.256Z"
   },
   {
    "duration": 17,
    "start_time": "2023-01-18T17:47:52.366Z"
   },
   {
    "duration": 15,
    "start_time": "2023-01-18T17:47:56.369Z"
   },
   {
    "duration": 40,
    "start_time": "2023-01-18T17:47:59.076Z"
   },
   {
    "duration": 5,
    "start_time": "2023-01-18T17:48:01.466Z"
   },
   {
    "duration": 11,
    "start_time": "2023-01-18T17:48:03.152Z"
   },
   {
    "duration": 6,
    "start_time": "2023-01-18T17:48:06.829Z"
   },
   {
    "duration": 10,
    "start_time": "2023-01-18T17:48:09.315Z"
   },
   {
    "duration": 7,
    "start_time": "2023-01-18T17:48:11.658Z"
   },
   {
    "duration": 44,
    "start_time": "2023-01-18T17:48:15.412Z"
   },
   {
    "duration": 16,
    "start_time": "2023-01-18T17:48:20.869Z"
   },
   {
    "duration": 7,
    "start_time": "2023-01-18T17:48:23.838Z"
   },
   {
    "duration": 13,
    "start_time": "2023-01-18T17:48:26.090Z"
   },
   {
    "duration": 21,
    "start_time": "2023-01-18T17:48:28.987Z"
   },
   {
    "duration": 19,
    "start_time": "2023-01-18T17:48:30.860Z"
   },
   {
    "duration": 3,
    "start_time": "2023-01-18T17:48:33.483Z"
   },
   {
    "duration": 10,
    "start_time": "2023-01-18T17:48:35.819Z"
   },
   {
    "duration": 12,
    "start_time": "2023-01-18T17:48:38.050Z"
   },
   {
    "duration": 4,
    "start_time": "2023-01-18T17:48:42.084Z"
   },
   {
    "duration": 9,
    "start_time": "2023-01-18T17:48:44.901Z"
   },
   {
    "duration": 30,
    "start_time": "2023-01-18T17:48:47.537Z"
   },
   {
    "duration": 56,
    "start_time": "2023-01-18T17:53:57.328Z"
   },
   {
    "duration": 14,
    "start_time": "2023-01-18T17:54:05.065Z"
   },
   {
    "duration": 23,
    "start_time": "2023-01-18T17:54:16.331Z"
   },
   {
    "duration": 16,
    "start_time": "2023-01-18T17:56:32.525Z"
   },
   {
    "duration": 18,
    "start_time": "2023-01-18T17:56:42.199Z"
   },
   {
    "duration": 21,
    "start_time": "2023-01-18T17:59:51.271Z"
   },
   {
    "duration": 1367,
    "start_time": "2023-01-18T18:01:21.302Z"
   },
   {
    "duration": 69,
    "start_time": "2023-01-18T18:03:01.169Z"
   },
   {
    "duration": 28,
    "start_time": "2023-01-18T18:03:24.283Z"
   },
   {
    "duration": 717,
    "start_time": "2023-01-18T18:03:32.830Z"
   },
   {
    "duration": 24,
    "start_time": "2023-01-18T18:03:57.957Z"
   },
   {
    "duration": 5,
    "start_time": "2023-01-18T18:06:04.702Z"
   },
   {
    "duration": 25,
    "start_time": "2023-01-18T18:06:07.819Z"
   },
   {
    "duration": 26,
    "start_time": "2023-01-18T18:06:30.113Z"
   },
   {
    "duration": 20,
    "start_time": "2023-01-18T18:06:41.858Z"
   },
   {
    "duration": 27,
    "start_time": "2023-01-18T18:07:26.499Z"
   },
   {
    "duration": 21,
    "start_time": "2023-01-18T18:08:22.775Z"
   },
   {
    "duration": 27,
    "start_time": "2023-01-18T18:08:50.827Z"
   },
   {
    "duration": 21,
    "start_time": "2023-01-18T18:09:00.539Z"
   },
   {
    "duration": 27,
    "start_time": "2023-01-18T18:16:28.016Z"
   },
   {
    "duration": 28,
    "start_time": "2023-01-18T18:17:28.475Z"
   },
   {
    "duration": 31,
    "start_time": "2023-01-18T18:17:53.163Z"
   },
   {
    "duration": 23,
    "start_time": "2023-01-18T18:18:02.631Z"
   },
   {
    "duration": 21,
    "start_time": "2023-01-18T18:18:20.208Z"
   },
   {
    "duration": 23,
    "start_time": "2023-01-18T18:18:24.729Z"
   },
   {
    "duration": 62,
    "start_time": "2023-01-18T18:41:14.760Z"
   },
   {
    "duration": 641,
    "start_time": "2023-01-18T18:41:23.521Z"
   },
   {
    "duration": 22,
    "start_time": "2023-01-18T18:41:26.918Z"
   },
   {
    "duration": 15,
    "start_time": "2023-01-18T18:41:28.572Z"
   },
   {
    "duration": 10,
    "start_time": "2023-01-18T18:41:30.061Z"
   },
   {
    "duration": 33,
    "start_time": "2023-01-18T18:41:30.505Z"
   },
   {
    "duration": 5,
    "start_time": "2023-01-18T18:41:31.107Z"
   },
   {
    "duration": 14,
    "start_time": "2023-01-18T18:41:31.527Z"
   },
   {
    "duration": 4,
    "start_time": "2023-01-18T18:41:32.148Z"
   },
   {
    "duration": 7,
    "start_time": "2023-01-18T18:41:32.569Z"
   },
   {
    "duration": 6,
    "start_time": "2023-01-18T18:41:32.985Z"
   },
   {
    "duration": 35,
    "start_time": "2023-01-18T18:41:33.603Z"
   },
   {
    "duration": 10,
    "start_time": "2023-01-18T18:41:34.029Z"
   },
   {
    "duration": 3,
    "start_time": "2023-01-18T18:41:34.727Z"
   },
   {
    "duration": 11,
    "start_time": "2023-01-18T18:41:35.428Z"
   },
   {
    "duration": 20,
    "start_time": "2023-01-18T18:41:35.907Z"
   },
   {
    "duration": 17,
    "start_time": "2023-01-18T18:41:36.134Z"
   },
   {
    "duration": 5,
    "start_time": "2023-01-18T18:41:36.822Z"
   },
   {
    "duration": 11,
    "start_time": "2023-01-18T18:41:37.082Z"
   },
   {
    "duration": 5,
    "start_time": "2023-01-18T18:41:37.722Z"
   },
   {
    "duration": 3,
    "start_time": "2023-01-18T18:41:38.714Z"
   },
   {
    "duration": 9,
    "start_time": "2023-01-18T18:41:39.118Z"
   },
   {
    "duration": 23,
    "start_time": "2023-01-18T18:41:40.423Z"
   },
   {
    "duration": 19,
    "start_time": "2023-01-18T18:41:42.344Z"
   },
   {
    "duration": 25,
    "start_time": "2023-01-18T18:41:44.948Z"
   },
   {
    "duration": 22,
    "start_time": "2023-01-18T18:50:19.222Z"
   },
   {
    "duration": 32,
    "start_time": "2023-01-18T18:50:28.116Z"
   },
   {
    "duration": 46,
    "start_time": "2023-01-19T19:04:43.410Z"
   },
   {
    "duration": 472,
    "start_time": "2023-01-19T19:04:58.047Z"
   },
   {
    "duration": 30,
    "start_time": "2023-01-19T19:05:00.128Z"
   },
   {
    "duration": 49,
    "start_time": "2023-01-19T19:05:20.372Z"
   },
   {
    "duration": 14,
    "start_time": "2023-01-19T19:05:43.725Z"
   },
   {
    "duration": 15,
    "start_time": "2023-01-19T19:06:08.301Z"
   },
   {
    "duration": 16,
    "start_time": "2023-01-19T19:06:08.749Z"
   },
   {
    "duration": 15,
    "start_time": "2023-01-19T19:06:09.668Z"
   },
   {
    "duration": 45,
    "start_time": "2023-01-19T19:06:10.154Z"
   },
   {
    "duration": 4,
    "start_time": "2023-01-19T19:06:10.810Z"
   },
   {
    "duration": 9,
    "start_time": "2023-01-19T19:06:11.303Z"
   },
   {
    "duration": 5,
    "start_time": "2023-01-19T19:06:12.106Z"
   },
   {
    "duration": 8,
    "start_time": "2023-01-19T19:06:12.701Z"
   },
   {
    "duration": 6,
    "start_time": "2023-01-19T19:06:13.322Z"
   },
   {
    "duration": 53,
    "start_time": "2023-01-19T19:06:14.282Z"
   },
   {
    "duration": 12,
    "start_time": "2023-01-19T19:06:21.818Z"
   },
   {
    "duration": 5,
    "start_time": "2023-01-19T19:06:25.185Z"
   },
   {
    "duration": 19,
    "start_time": "2023-01-19T19:06:34.206Z"
   },
   {
    "duration": 21,
    "start_time": "2023-01-19T19:06:41.313Z"
   },
   {
    "duration": 18,
    "start_time": "2023-01-19T19:06:42.648Z"
   },
   {
    "duration": 4,
    "start_time": "2023-01-19T19:06:44.487Z"
   },
   {
    "duration": 11,
    "start_time": "2023-01-19T19:06:45.025Z"
   },
   {
    "duration": 8,
    "start_time": "2023-01-19T19:06:46.459Z"
   },
   {
    "duration": 4,
    "start_time": "2023-01-19T19:06:47.576Z"
   },
   {
    "duration": 15,
    "start_time": "2023-01-19T19:06:48.037Z"
   },
   {
    "duration": 30,
    "start_time": "2023-01-19T19:06:50.120Z"
   },
   {
    "duration": 31,
    "start_time": "2023-01-19T19:06:53.548Z"
   },
   {
    "duration": 30,
    "start_time": "2023-01-19T19:06:56.425Z"
   },
   {
    "duration": 676,
    "start_time": "2023-01-19T19:10:16.413Z"
   },
   {
    "duration": 1165,
    "start_time": "2023-01-19T19:10:35.479Z"
   },
   {
    "duration": 31,
    "start_time": "2023-01-19T19:15:58.270Z"
   },
   {
    "duration": 5,
    "start_time": "2023-01-19T19:20:19.236Z"
   },
   {
    "duration": 6,
    "start_time": "2023-01-19T19:20:35.929Z"
   },
   {
    "duration": 21,
    "start_time": "2023-01-19T19:23:11.967Z"
   },
   {
    "duration": 1209,
    "start_time": "2023-01-19T19:24:14.161Z"
   },
   {
    "duration": 601,
    "start_time": "2023-01-19T19:26:00.197Z"
   },
   {
    "duration": 21,
    "start_time": "2023-01-19T19:28:00.510Z"
   },
   {
    "duration": 23,
    "start_time": "2023-01-19T19:33:03.347Z"
   },
   {
    "duration": 1134,
    "start_time": "2023-01-19T19:33:20.289Z"
   },
   {
    "duration": 1164,
    "start_time": "2023-01-19T19:33:44.593Z"
   },
   {
    "duration": 20,
    "start_time": "2023-01-19T19:33:58.062Z"
   },
   {
    "duration": 25,
    "start_time": "2023-01-19T19:35:21.098Z"
   },
   {
    "duration": 21,
    "start_time": "2023-01-19T19:38:22.947Z"
   },
   {
    "duration": 21,
    "start_time": "2023-01-19T19:38:30.410Z"
   },
   {
    "duration": 17,
    "start_time": "2023-01-19T19:38:45.239Z"
   },
   {
    "duration": 17,
    "start_time": "2023-01-19T19:39:07.044Z"
   },
   {
    "duration": 19,
    "start_time": "2023-01-19T19:39:38.174Z"
   },
   {
    "duration": 38,
    "start_time": "2023-01-19T19:39:52.857Z"
   },
   {
    "duration": 17,
    "start_time": "2023-01-19T19:45:31.025Z"
   },
   {
    "duration": 16,
    "start_time": "2023-01-19T19:45:33.557Z"
   },
   {
    "duration": 16,
    "start_time": "2023-01-19T19:45:55.781Z"
   },
   {
    "duration": 539,
    "start_time": "2023-01-19T19:46:36.188Z"
   },
   {
    "duration": 17,
    "start_time": "2023-01-19T19:47:02.567Z"
   },
   {
    "duration": 135,
    "start_time": "2023-01-19T19:47:23.624Z"
   },
   {
    "duration": 73,
    "start_time": "2023-01-19T19:48:18.873Z"
   },
   {
    "duration": 17,
    "start_time": "2023-01-19T19:48:20.176Z"
   },
   {
    "duration": 17,
    "start_time": "2023-01-19T19:48:21.696Z"
   },
   {
    "duration": 11,
    "start_time": "2023-01-19T19:48:23.241Z"
   },
   {
    "duration": 42,
    "start_time": "2023-01-19T19:48:23.865Z"
   },
   {
    "duration": 4,
    "start_time": "2023-01-19T19:48:24.816Z"
   },
   {
    "duration": 8,
    "start_time": "2023-01-19T19:48:25.474Z"
   },
   {
    "duration": 4,
    "start_time": "2023-01-19T19:48:26.390Z"
   },
   {
    "duration": 5,
    "start_time": "2023-01-19T19:48:27.003Z"
   },
   {
    "duration": 5,
    "start_time": "2023-01-19T19:48:27.658Z"
   },
   {
    "duration": 33,
    "start_time": "2023-01-19T19:48:28.573Z"
   },
   {
    "duration": 10,
    "start_time": "2023-01-19T19:48:29.645Z"
   },
   {
    "duration": 4,
    "start_time": "2023-01-19T19:48:31.417Z"
   },
   {
    "duration": 11,
    "start_time": "2023-01-19T19:48:32.874Z"
   },
   {
    "duration": 20,
    "start_time": "2023-01-19T19:48:33.757Z"
   },
   {
    "duration": 22,
    "start_time": "2023-01-19T19:48:34.235Z"
   },
   {
    "duration": 4,
    "start_time": "2023-01-19T19:48:35.690Z"
   },
   {
    "duration": 17,
    "start_time": "2023-01-19T19:48:36.544Z"
   },
   {
    "duration": 5,
    "start_time": "2023-01-19T19:48:37.476Z"
   },
   {
    "duration": 3,
    "start_time": "2023-01-19T19:48:38.447Z"
   },
   {
    "duration": 9,
    "start_time": "2023-01-19T19:48:38.897Z"
   },
   {
    "duration": 23,
    "start_time": "2023-01-19T19:48:40.276Z"
   },
   {
    "duration": 22,
    "start_time": "2023-01-19T19:48:45.566Z"
   },
   {
    "duration": 18,
    "start_time": "2023-01-19T19:48:49.341Z"
   },
   {
    "duration": 39,
    "start_time": "2023-01-19T19:49:27.436Z"
   },
   {
    "duration": 128,
    "start_time": "2023-01-19T19:49:35.734Z"
   },
   {
    "duration": 22,
    "start_time": "2023-01-19T19:50:07.971Z"
   },
   {
    "duration": 1155,
    "start_time": "2023-01-19T19:50:37.708Z"
   },
   {
    "duration": 27,
    "start_time": "2023-01-19T19:50:51.491Z"
   },
   {
    "duration": 31,
    "start_time": "2023-01-19T19:51:13.930Z"
   },
   {
    "duration": 88,
    "start_time": "2023-01-19T19:51:47.191Z"
   },
   {
    "duration": 21,
    "start_time": "2023-01-19T19:51:54.497Z"
   },
   {
    "duration": 73,
    "start_time": "2023-01-19T19:52:22.889Z"
   },
   {
    "duration": 25,
    "start_time": "2023-01-19T19:55:10.747Z"
   },
   {
    "duration": 17,
    "start_time": "2023-01-19T19:55:50.878Z"
   },
   {
    "duration": 18,
    "start_time": "2023-01-19T19:56:05.471Z"
   },
   {
    "duration": 20,
    "start_time": "2023-01-19T19:56:55.789Z"
   },
   {
    "duration": 69,
    "start_time": "2023-01-19T19:57:13.335Z"
   },
   {
    "duration": 73,
    "start_time": "2023-01-19T19:57:18.013Z"
   },
   {
    "duration": 74,
    "start_time": "2023-01-19T19:57:41.032Z"
   },
   {
    "duration": 66,
    "start_time": "2023-01-19T19:57:49.218Z"
   },
   {
    "duration": 70,
    "start_time": "2023-01-19T19:57:53.391Z"
   },
   {
    "duration": 1147,
    "start_time": "2023-01-19T19:59:35.028Z"
   },
   {
    "duration": 1306,
    "start_time": "2023-01-19T20:00:30.782Z"
   },
   {
    "duration": 1129,
    "start_time": "2023-01-19T20:00:47.175Z"
   },
   {
    "duration": 50,
    "start_time": "2023-01-20T18:14:13.615Z"
   },
   {
    "duration": 733,
    "start_time": "2023-01-20T18:14:21.221Z"
   },
   {
    "duration": 25,
    "start_time": "2023-01-20T18:14:22.195Z"
   },
   {
    "duration": 38,
    "start_time": "2023-01-20T18:14:29.190Z"
   },
   {
    "duration": 70,
    "start_time": "2023-01-20T18:14:43.387Z"
   },
   {
    "duration": 15,
    "start_time": "2023-01-20T18:14:44.008Z"
   },
   {
    "duration": 18,
    "start_time": "2023-01-20T18:14:44.792Z"
   },
   {
    "duration": 17,
    "start_time": "2023-01-20T18:14:46.482Z"
   },
   {
    "duration": 42,
    "start_time": "2023-01-20T18:14:47.338Z"
   },
   {
    "duration": 9,
    "start_time": "2023-01-20T18:14:48.388Z"
   },
   {
    "duration": 13,
    "start_time": "2023-01-20T18:14:49.183Z"
   },
   {
    "duration": 5,
    "start_time": "2023-01-20T18:14:50.536Z"
   },
   {
    "duration": 7,
    "start_time": "2023-01-20T18:14:51.451Z"
   },
   {
    "duration": 4,
    "start_time": "2023-01-20T18:14:52.292Z"
   },
   {
    "duration": 56,
    "start_time": "2023-01-20T18:14:53.377Z"
   },
   {
    "duration": 13,
    "start_time": "2023-01-20T18:14:54.091Z"
   },
   {
    "duration": 3,
    "start_time": "2023-01-20T18:14:55.231Z"
   },
   {
    "duration": 13,
    "start_time": "2023-01-20T18:14:56.395Z"
   },
   {
    "duration": 21,
    "start_time": "2023-01-20T18:14:57.842Z"
   },
   {
    "duration": 20,
    "start_time": "2023-01-20T18:14:58.206Z"
   },
   {
    "duration": 3,
    "start_time": "2023-01-20T18:14:59.340Z"
   },
   {
    "duration": 9,
    "start_time": "2023-01-20T18:14:59.746Z"
   },
   {
    "duration": 6,
    "start_time": "2023-01-20T18:15:00.691Z"
   },
   {
    "duration": 4,
    "start_time": "2023-01-20T18:15:01.730Z"
   },
   {
    "duration": 8,
    "start_time": "2023-01-20T18:15:02.140Z"
   },
   {
    "duration": 26,
    "start_time": "2023-01-20T18:15:03.519Z"
   },
   {
    "duration": 30,
    "start_time": "2023-01-20T18:15:05.776Z"
   },
   {
    "duration": 16,
    "start_time": "2023-01-20T18:15:08.794Z"
   },
   {
    "duration": 23,
    "start_time": "2023-01-20T18:15:22.287Z"
   },
   {
    "duration": 20,
    "start_time": "2023-01-20T18:15:42.713Z"
   },
   {
    "duration": 19,
    "start_time": "2023-01-20T18:15:44.634Z"
   },
   {
    "duration": 76,
    "start_time": "2023-01-20T18:19:00.048Z"
   }
  ],
  "colab": {
   "name": "dpp_template_part2.ipynb",
   "provenance": []
  },
  "kernelspec": {
   "display_name": "Python 3 (ipykernel)",
   "language": "python",
   "name": "python3"
  },
  "language_info": {
   "codemirror_mode": {
    "name": "ipython",
    "version": 3
   },
   "file_extension": ".py",
   "mimetype": "text/x-python",
   "name": "python",
   "nbconvert_exporter": "python",
   "pygments_lexer": "ipython3",
   "version": "3.9.12"
  },
  "toc": {
   "base_numbering": 1,
   "nav_menu": {},
   "number_sections": true,
   "sideBar": true,
   "skip_h1_title": true,
   "title_cell": "Table of Contents",
   "title_sidebar": "Contents",
   "toc_cell": false,
   "toc_position": {},
   "toc_section_display": true,
   "toc_window_display": false
  }
 },
 "nbformat": 4,
 "nbformat_minor": 5
}
